{
 "cells": [
  {
   "cell_type": "code",
   "execution_count": 1,
   "id": "6d9813ff-3fce-4096-ba9b-14a32eb7f008",
   "metadata": {},
   "outputs": [
    {
     "name": "stderr",
     "output_type": "stream",
     "text": [
      "2024-01-24 08:19:08.112141: I tensorflow/core/util/port.cc:110] oneDNN custom operations are on. You may see slightly different numerical results due to floating-point round-off errors from different computation orders. To turn them off, set the environment variable `TF_ENABLE_ONEDNN_OPTS=0`.\n",
      "2024-01-24 08:19:08.360462: I tensorflow/core/platform/cpu_feature_guard.cc:182] This TensorFlow binary is optimized to use available CPU instructions in performance-critical operations.\n",
      "To enable the following instructions: AVX2 AVX512F AVX512_VNNI FMA, in other operations, rebuild TensorFlow with the appropriate compiler flags.\n",
      "2024-01-24 08:19:09.183317: W tensorflow/compiler/tf2tensorrt/utils/py_utils.cc:38] TF-TRT Warning: Could not find TensorRT\n"
     ]
    }
   ],
   "source": [
    "import pandas as pd\n",
    "import numpy as np\n",
    "import os\n",
    "import json\n",
    "import itertools as it\n",
    "import time\n",
    "import subprocess\n",
    "import matplotlib.pyplot as plt\n",
    "import seaborn as sns\n",
    "from sklearn.preprocessing import OneHotEncoder\n",
    "import tensorflow as tf\n",
    "from datetime import date, datetime, timedelta\n",
    "from tensorflow import keras\n",
    "from sklearn.metrics import confusion_matrix,classification_report,ConfusionMatrixDisplay\n",
    "from sklearn.metrics import accuracy_score, precision_score, recall_score, roc_auc_score, average_precision_score\n",
    "from tensorflow.keras import layers, losses\n",
    "from tensorflow.keras.models import Model\n",
    "import warnings\n",
    "warnings.filterwarnings(\"ignore\")"
   ]
  },
  {
   "cell_type": "code",
   "execution_count": 2,
   "id": "9ba3a040-0210-4876-b2ab-2884b11f3144",
   "metadata": {},
   "outputs": [
    {
     "data": {
      "text/html": [
       "<div>\n",
       "<style scoped>\n",
       "    .dataframe tbody tr th:only-of-type {\n",
       "        vertical-align: middle;\n",
       "    }\n",
       "\n",
       "    .dataframe tbody tr th {\n",
       "        vertical-align: top;\n",
       "    }\n",
       "\n",
       "    .dataframe thead th {\n",
       "        text-align: right;\n",
       "    }\n",
       "</style>\n",
       "<table border=\"1\" class=\"dataframe\">\n",
       "  <thead>\n",
       "    <tr style=\"text-align: right;\">\n",
       "      <th></th>\n",
       "      <th>domain</th>\n",
       "      <th>label</th>\n",
       "      <th>2</th>\n",
       "      <th>3</th>\n",
       "      <th>4</th>\n",
       "      <th>5</th>\n",
       "      <th>6</th>\n",
       "      <th>7</th>\n",
       "      <th>8</th>\n",
       "      <th>9</th>\n",
       "      <th>...</th>\n",
       "      <th>62</th>\n",
       "      <th>63</th>\n",
       "      <th>64</th>\n",
       "      <th>65</th>\n",
       "      <th>66</th>\n",
       "      <th>67</th>\n",
       "      <th>68</th>\n",
       "      <th>69</th>\n",
       "      <th>70</th>\n",
       "      <th>71</th>\n",
       "    </tr>\n",
       "  </thead>\n",
       "  <tbody>\n",
       "    <tr>\n",
       "      <th>0</th>\n",
       "      <td>google.com</td>\n",
       "      <td>0</td>\n",
       "      <td>103</td>\n",
       "      <td>111</td>\n",
       "      <td>111</td>\n",
       "      <td>103</td>\n",
       "      <td>108</td>\n",
       "      <td>101</td>\n",
       "      <td>46</td>\n",
       "      <td>99</td>\n",
       "      <td>...</td>\n",
       "      <td>0</td>\n",
       "      <td>0</td>\n",
       "      <td>0</td>\n",
       "      <td>0</td>\n",
       "      <td>0</td>\n",
       "      <td>0</td>\n",
       "      <td>0</td>\n",
       "      <td>0</td>\n",
       "      <td>0</td>\n",
       "      <td>0</td>\n",
       "    </tr>\n",
       "    <tr>\n",
       "      <th>1</th>\n",
       "      <td>facebook.com</td>\n",
       "      <td>0</td>\n",
       "      <td>102</td>\n",
       "      <td>97</td>\n",
       "      <td>99</td>\n",
       "      <td>101</td>\n",
       "      <td>98</td>\n",
       "      <td>111</td>\n",
       "      <td>111</td>\n",
       "      <td>107</td>\n",
       "      <td>...</td>\n",
       "      <td>0</td>\n",
       "      <td>0</td>\n",
       "      <td>0</td>\n",
       "      <td>0</td>\n",
       "      <td>0</td>\n",
       "      <td>0</td>\n",
       "      <td>0</td>\n",
       "      <td>0</td>\n",
       "      <td>0</td>\n",
       "      <td>0</td>\n",
       "    </tr>\n",
       "    <tr>\n",
       "      <th>2</th>\n",
       "      <td>youtube.com</td>\n",
       "      <td>0</td>\n",
       "      <td>121</td>\n",
       "      <td>111</td>\n",
       "      <td>117</td>\n",
       "      <td>116</td>\n",
       "      <td>117</td>\n",
       "      <td>98</td>\n",
       "      <td>101</td>\n",
       "      <td>46</td>\n",
       "      <td>...</td>\n",
       "      <td>0</td>\n",
       "      <td>0</td>\n",
       "      <td>0</td>\n",
       "      <td>0</td>\n",
       "      <td>0</td>\n",
       "      <td>0</td>\n",
       "      <td>0</td>\n",
       "      <td>0</td>\n",
       "      <td>0</td>\n",
       "      <td>0</td>\n",
       "    </tr>\n",
       "    <tr>\n",
       "      <th>3</th>\n",
       "      <td>twitter.com</td>\n",
       "      <td>0</td>\n",
       "      <td>116</td>\n",
       "      <td>119</td>\n",
       "      <td>105</td>\n",
       "      <td>116</td>\n",
       "      <td>116</td>\n",
       "      <td>101</td>\n",
       "      <td>114</td>\n",
       "      <td>46</td>\n",
       "      <td>...</td>\n",
       "      <td>0</td>\n",
       "      <td>0</td>\n",
       "      <td>0</td>\n",
       "      <td>0</td>\n",
       "      <td>0</td>\n",
       "      <td>0</td>\n",
       "      <td>0</td>\n",
       "      <td>0</td>\n",
       "      <td>0</td>\n",
       "      <td>0</td>\n",
       "    </tr>\n",
       "    <tr>\n",
       "      <th>4</th>\n",
       "      <td>instagram.com</td>\n",
       "      <td>0</td>\n",
       "      <td>105</td>\n",
       "      <td>110</td>\n",
       "      <td>115</td>\n",
       "      <td>116</td>\n",
       "      <td>97</td>\n",
       "      <td>103</td>\n",
       "      <td>114</td>\n",
       "      <td>97</td>\n",
       "      <td>...</td>\n",
       "      <td>0</td>\n",
       "      <td>0</td>\n",
       "      <td>0</td>\n",
       "      <td>0</td>\n",
       "      <td>0</td>\n",
       "      <td>0</td>\n",
       "      <td>0</td>\n",
       "      <td>0</td>\n",
       "      <td>0</td>\n",
       "      <td>0</td>\n",
       "    </tr>\n",
       "    <tr>\n",
       "      <th>...</th>\n",
       "      <td>...</td>\n",
       "      <td>...</td>\n",
       "      <td>...</td>\n",
       "      <td>...</td>\n",
       "      <td>...</td>\n",
       "      <td>...</td>\n",
       "      <td>...</td>\n",
       "      <td>...</td>\n",
       "      <td>...</td>\n",
       "      <td>...</td>\n",
       "      <td>...</td>\n",
       "      <td>...</td>\n",
       "      <td>...</td>\n",
       "      <td>...</td>\n",
       "      <td>...</td>\n",
       "      <td>...</td>\n",
       "      <td>...</td>\n",
       "      <td>...</td>\n",
       "      <td>...</td>\n",
       "      <td>...</td>\n",
       "      <td>...</td>\n",
       "    </tr>\n",
       "    <tr>\n",
       "      <th>999995</th>\n",
       "      <td>fidgit.com</td>\n",
       "      <td>0</td>\n",
       "      <td>102</td>\n",
       "      <td>105</td>\n",
       "      <td>100</td>\n",
       "      <td>103</td>\n",
       "      <td>105</td>\n",
       "      <td>116</td>\n",
       "      <td>46</td>\n",
       "      <td>99</td>\n",
       "      <td>...</td>\n",
       "      <td>0</td>\n",
       "      <td>0</td>\n",
       "      <td>0</td>\n",
       "      <td>0</td>\n",
       "      <td>0</td>\n",
       "      <td>0</td>\n",
       "      <td>0</td>\n",
       "      <td>0</td>\n",
       "      <td>0</td>\n",
       "      <td>0</td>\n",
       "    </tr>\n",
       "    <tr>\n",
       "      <th>999996</th>\n",
       "      <td>fixwindows10connections.com</td>\n",
       "      <td>0</td>\n",
       "      <td>102</td>\n",
       "      <td>105</td>\n",
       "      <td>120</td>\n",
       "      <td>119</td>\n",
       "      <td>105</td>\n",
       "      <td>110</td>\n",
       "      <td>100</td>\n",
       "      <td>111</td>\n",
       "      <td>...</td>\n",
       "      <td>0</td>\n",
       "      <td>0</td>\n",
       "      <td>0</td>\n",
       "      <td>0</td>\n",
       "      <td>0</td>\n",
       "      <td>0</td>\n",
       "      <td>0</td>\n",
       "      <td>0</td>\n",
       "      <td>0</td>\n",
       "      <td>0</td>\n",
       "    </tr>\n",
       "    <tr>\n",
       "      <th>999997</th>\n",
       "      <td>flyerguide.com</td>\n",
       "      <td>0</td>\n",
       "      <td>102</td>\n",
       "      <td>108</td>\n",
       "      <td>121</td>\n",
       "      <td>101</td>\n",
       "      <td>114</td>\n",
       "      <td>103</td>\n",
       "      <td>117</td>\n",
       "      <td>105</td>\n",
       "      <td>...</td>\n",
       "      <td>0</td>\n",
       "      <td>0</td>\n",
       "      <td>0</td>\n",
       "      <td>0</td>\n",
       "      <td>0</td>\n",
       "      <td>0</td>\n",
       "      <td>0</td>\n",
       "      <td>0</td>\n",
       "      <td>0</td>\n",
       "      <td>0</td>\n",
       "    </tr>\n",
       "    <tr>\n",
       "      <th>999998</th>\n",
       "      <td>forwardpathway.com</td>\n",
       "      <td>0</td>\n",
       "      <td>102</td>\n",
       "      <td>111</td>\n",
       "      <td>114</td>\n",
       "      <td>119</td>\n",
       "      <td>97</td>\n",
       "      <td>114</td>\n",
       "      <td>100</td>\n",
       "      <td>112</td>\n",
       "      <td>...</td>\n",
       "      <td>0</td>\n",
       "      <td>0</td>\n",
       "      <td>0</td>\n",
       "      <td>0</td>\n",
       "      <td>0</td>\n",
       "      <td>0</td>\n",
       "      <td>0</td>\n",
       "      <td>0</td>\n",
       "      <td>0</td>\n",
       "      <td>0</td>\n",
       "    </tr>\n",
       "    <tr>\n",
       "      <th>999999</th>\n",
       "      <td>fostersmarket.com</td>\n",
       "      <td>0</td>\n",
       "      <td>102</td>\n",
       "      <td>111</td>\n",
       "      <td>115</td>\n",
       "      <td>116</td>\n",
       "      <td>101</td>\n",
       "      <td>114</td>\n",
       "      <td>115</td>\n",
       "      <td>109</td>\n",
       "      <td>...</td>\n",
       "      <td>0</td>\n",
       "      <td>0</td>\n",
       "      <td>0</td>\n",
       "      <td>0</td>\n",
       "      <td>0</td>\n",
       "      <td>0</td>\n",
       "      <td>0</td>\n",
       "      <td>0</td>\n",
       "      <td>0</td>\n",
       "      <td>0</td>\n",
       "    </tr>\n",
       "  </tbody>\n",
       "</table>\n",
       "<p>1000000 rows × 72 columns</p>\n",
       "</div>"
      ],
      "text/plain": [
       "                             domain  label    2    3    4    5    6    7    8  \\\n",
       "0                        google.com      0  103  111  111  103  108  101   46   \n",
       "1                      facebook.com      0  102   97   99  101   98  111  111   \n",
       "2                       youtube.com      0  121  111  117  116  117   98  101   \n",
       "3                       twitter.com      0  116  119  105  116  116  101  114   \n",
       "4                     instagram.com      0  105  110  115  116   97  103  114   \n",
       "...                             ...    ...  ...  ...  ...  ...  ...  ...  ...   \n",
       "999995                   fidgit.com      0  102  105  100  103  105  116   46   \n",
       "999996  fixwindows10connections.com      0  102  105  120  119  105  110  100   \n",
       "999997               flyerguide.com      0  102  108  121  101  114  103  117   \n",
       "999998           forwardpathway.com      0  102  111  114  119   97  114  100   \n",
       "999999            fostersmarket.com      0  102  111  115  116  101  114  115   \n",
       "\n",
       "          9  ...  62  63  64  65  66  67  68  69  70  71  \n",
       "0        99  ...   0   0   0   0   0   0   0   0   0   0  \n",
       "1       107  ...   0   0   0   0   0   0   0   0   0   0  \n",
       "2        46  ...   0   0   0   0   0   0   0   0   0   0  \n",
       "3        46  ...   0   0   0   0   0   0   0   0   0   0  \n",
       "4        97  ...   0   0   0   0   0   0   0   0   0   0  \n",
       "...     ...  ...  ..  ..  ..  ..  ..  ..  ..  ..  ..  ..  \n",
       "999995   99  ...   0   0   0   0   0   0   0   0   0   0  \n",
       "999996  111  ...   0   0   0   0   0   0   0   0   0   0  \n",
       "999997  105  ...   0   0   0   0   0   0   0   0   0   0  \n",
       "999998  112  ...   0   0   0   0   0   0   0   0   0   0  \n",
       "999999  109  ...   0   0   0   0   0   0   0   0   0   0  \n",
       "\n",
       "[1000000 rows x 72 columns]"
      ]
     },
     "execution_count": 2,
     "metadata": {},
     "output_type": "execute_result"
    }
   ],
   "source": [
    "majestic = pd.read_csv('./treino/majestic_ascii.csv')\n",
    "majestic['69'] = 0\n",
    "majestic['70'] = 0\n",
    "majestic['71'] = 0\n",
    "majestic"
   ]
  },
  {
   "cell_type": "code",
   "execution_count": 3,
   "id": "c781d7a2-3096-43e3-b5e9-4c4943ae4958",
   "metadata": {},
   "outputs": [
    {
     "data": {
      "text/html": [
       "<div>\n",
       "<style scoped>\n",
       "    .dataframe tbody tr th:only-of-type {\n",
       "        vertical-align: middle;\n",
       "    }\n",
       "\n",
       "    .dataframe tbody tr th {\n",
       "        vertical-align: top;\n",
       "    }\n",
       "\n",
       "    .dataframe thead th {\n",
       "        text-align: right;\n",
       "    }\n",
       "</style>\n",
       "<table border=\"1\" class=\"dataframe\">\n",
       "  <thead>\n",
       "    <tr style=\"text-align: right;\">\n",
       "      <th></th>\n",
       "      <th>domain</th>\n",
       "      <th>label</th>\n",
       "      <th>3</th>\n",
       "      <th>4</th>\n",
       "      <th>5</th>\n",
       "      <th>6</th>\n",
       "      <th>7</th>\n",
       "      <th>8</th>\n",
       "      <th>9</th>\n",
       "      <th>10</th>\n",
       "      <th>...</th>\n",
       "      <th>63</th>\n",
       "      <th>64</th>\n",
       "      <th>65</th>\n",
       "      <th>66</th>\n",
       "      <th>67</th>\n",
       "      <th>68</th>\n",
       "      <th>69</th>\n",
       "      <th>70</th>\n",
       "      <th>71</th>\n",
       "      <th>72</th>\n",
       "    </tr>\n",
       "  </thead>\n",
       "  <tbody>\n",
       "    <tr>\n",
       "      <th>0</th>\n",
       "      <td>uzwdmrlhr.tk</td>\n",
       "      <td>1</td>\n",
       "      <td>117</td>\n",
       "      <td>122</td>\n",
       "      <td>119</td>\n",
       "      <td>100</td>\n",
       "      <td>109</td>\n",
       "      <td>114</td>\n",
       "      <td>108</td>\n",
       "      <td>104</td>\n",
       "      <td>...</td>\n",
       "      <td>0</td>\n",
       "      <td>0</td>\n",
       "      <td>0</td>\n",
       "      <td>0</td>\n",
       "      <td>0</td>\n",
       "      <td>0</td>\n",
       "      <td>0</td>\n",
       "      <td>0</td>\n",
       "      <td>0</td>\n",
       "      <td>0</td>\n",
       "    </tr>\n",
       "    <tr>\n",
       "      <th>1</th>\n",
       "      <td>uzwdmrlhr.com</td>\n",
       "      <td>1</td>\n",
       "      <td>117</td>\n",
       "      <td>122</td>\n",
       "      <td>119</td>\n",
       "      <td>100</td>\n",
       "      <td>109</td>\n",
       "      <td>114</td>\n",
       "      <td>108</td>\n",
       "      <td>104</td>\n",
       "      <td>...</td>\n",
       "      <td>0</td>\n",
       "      <td>0</td>\n",
       "      <td>0</td>\n",
       "      <td>0</td>\n",
       "      <td>0</td>\n",
       "      <td>0</td>\n",
       "      <td>0</td>\n",
       "      <td>0</td>\n",
       "      <td>0</td>\n",
       "      <td>0</td>\n",
       "    </tr>\n",
       "    <tr>\n",
       "      <th>2</th>\n",
       "      <td>uzwdmrlhr.pages.dev</td>\n",
       "      <td>1</td>\n",
       "      <td>117</td>\n",
       "      <td>122</td>\n",
       "      <td>119</td>\n",
       "      <td>100</td>\n",
       "      <td>109</td>\n",
       "      <td>114</td>\n",
       "      <td>108</td>\n",
       "      <td>104</td>\n",
       "      <td>...</td>\n",
       "      <td>0</td>\n",
       "      <td>0</td>\n",
       "      <td>0</td>\n",
       "      <td>0</td>\n",
       "      <td>0</td>\n",
       "      <td>0</td>\n",
       "      <td>0</td>\n",
       "      <td>0</td>\n",
       "      <td>0</td>\n",
       "      <td>0</td>\n",
       "    </tr>\n",
       "    <tr>\n",
       "      <th>3</th>\n",
       "      <td>rhrlwdumz.tk</td>\n",
       "      <td>1</td>\n",
       "      <td>114</td>\n",
       "      <td>104</td>\n",
       "      <td>114</td>\n",
       "      <td>108</td>\n",
       "      <td>119</td>\n",
       "      <td>100</td>\n",
       "      <td>117</td>\n",
       "      <td>109</td>\n",
       "      <td>...</td>\n",
       "      <td>0</td>\n",
       "      <td>0</td>\n",
       "      <td>0</td>\n",
       "      <td>0</td>\n",
       "      <td>0</td>\n",
       "      <td>0</td>\n",
       "      <td>0</td>\n",
       "      <td>0</td>\n",
       "      <td>0</td>\n",
       "      <td>0</td>\n",
       "    </tr>\n",
       "    <tr>\n",
       "      <th>4</th>\n",
       "      <td>rhrlwdumz.com</td>\n",
       "      <td>1</td>\n",
       "      <td>114</td>\n",
       "      <td>104</td>\n",
       "      <td>114</td>\n",
       "      <td>108</td>\n",
       "      <td>119</td>\n",
       "      <td>100</td>\n",
       "      <td>117</td>\n",
       "      <td>109</td>\n",
       "      <td>...</td>\n",
       "      <td>0</td>\n",
       "      <td>0</td>\n",
       "      <td>0</td>\n",
       "      <td>0</td>\n",
       "      <td>0</td>\n",
       "      <td>0</td>\n",
       "      <td>0</td>\n",
       "      <td>0</td>\n",
       "      <td>0</td>\n",
       "      <td>0</td>\n",
       "    </tr>\n",
       "    <tr>\n",
       "      <th>...</th>\n",
       "      <td>...</td>\n",
       "      <td>...</td>\n",
       "      <td>...</td>\n",
       "      <td>...</td>\n",
       "      <td>...</td>\n",
       "      <td>...</td>\n",
       "      <td>...</td>\n",
       "      <td>...</td>\n",
       "      <td>...</td>\n",
       "      <td>...</td>\n",
       "      <td>...</td>\n",
       "      <td>...</td>\n",
       "      <td>...</td>\n",
       "      <td>...</td>\n",
       "      <td>...</td>\n",
       "      <td>...</td>\n",
       "      <td>...</td>\n",
       "      <td>...</td>\n",
       "      <td>...</td>\n",
       "      <td>...</td>\n",
       "      <td>...</td>\n",
       "    </tr>\n",
       "    <tr>\n",
       "      <th>1352254</th>\n",
       "      <td>kwgjjpbcaaanbivklyxx.com</td>\n",
       "      <td>1</td>\n",
       "      <td>107</td>\n",
       "      <td>119</td>\n",
       "      <td>103</td>\n",
       "      <td>106</td>\n",
       "      <td>106</td>\n",
       "      <td>112</td>\n",
       "      <td>98</td>\n",
       "      <td>99</td>\n",
       "      <td>...</td>\n",
       "      <td>0</td>\n",
       "      <td>0</td>\n",
       "      <td>0</td>\n",
       "      <td>0</td>\n",
       "      <td>0</td>\n",
       "      <td>0</td>\n",
       "      <td>0</td>\n",
       "      <td>0</td>\n",
       "      <td>0</td>\n",
       "      <td>0</td>\n",
       "    </tr>\n",
       "    <tr>\n",
       "      <th>1352255</th>\n",
       "      <td>vxijfvgvihjnfvofxmyc.com</td>\n",
       "      <td>1</td>\n",
       "      <td>118</td>\n",
       "      <td>120</td>\n",
       "      <td>105</td>\n",
       "      <td>106</td>\n",
       "      <td>102</td>\n",
       "      <td>118</td>\n",
       "      <td>103</td>\n",
       "      <td>118</td>\n",
       "      <td>...</td>\n",
       "      <td>0</td>\n",
       "      <td>0</td>\n",
       "      <td>0</td>\n",
       "      <td>0</td>\n",
       "      <td>0</td>\n",
       "      <td>0</td>\n",
       "      <td>0</td>\n",
       "      <td>0</td>\n",
       "      <td>0</td>\n",
       "      <td>0</td>\n",
       "    </tr>\n",
       "    <tr>\n",
       "      <th>1352256</th>\n",
       "      <td>cepswmbgtknhtkhlsecg.com</td>\n",
       "      <td>1</td>\n",
       "      <td>99</td>\n",
       "      <td>101</td>\n",
       "      <td>112</td>\n",
       "      <td>115</td>\n",
       "      <td>119</td>\n",
       "      <td>109</td>\n",
       "      <td>98</td>\n",
       "      <td>103</td>\n",
       "      <td>...</td>\n",
       "      <td>0</td>\n",
       "      <td>0</td>\n",
       "      <td>0</td>\n",
       "      <td>0</td>\n",
       "      <td>0</td>\n",
       "      <td>0</td>\n",
       "      <td>0</td>\n",
       "      <td>0</td>\n",
       "      <td>0</td>\n",
       "      <td>0</td>\n",
       "    </tr>\n",
       "    <tr>\n",
       "      <th>1352257</th>\n",
       "      <td>tifjhjtouqmdlbkfnuow.com</td>\n",
       "      <td>1</td>\n",
       "      <td>116</td>\n",
       "      <td>105</td>\n",
       "      <td>102</td>\n",
       "      <td>106</td>\n",
       "      <td>104</td>\n",
       "      <td>106</td>\n",
       "      <td>116</td>\n",
       "      <td>111</td>\n",
       "      <td>...</td>\n",
       "      <td>0</td>\n",
       "      <td>0</td>\n",
       "      <td>0</td>\n",
       "      <td>0</td>\n",
       "      <td>0</td>\n",
       "      <td>0</td>\n",
       "      <td>0</td>\n",
       "      <td>0</td>\n",
       "      <td>0</td>\n",
       "      <td>0</td>\n",
       "    </tr>\n",
       "    <tr>\n",
       "      <th>1352258</th>\n",
       "      <td>gjrykbribvusoskfnuow.com</td>\n",
       "      <td>1</td>\n",
       "      <td>103</td>\n",
       "      <td>106</td>\n",
       "      <td>114</td>\n",
       "      <td>121</td>\n",
       "      <td>107</td>\n",
       "      <td>98</td>\n",
       "      <td>114</td>\n",
       "      <td>105</td>\n",
       "      <td>...</td>\n",
       "      <td>0</td>\n",
       "      <td>0</td>\n",
       "      <td>0</td>\n",
       "      <td>0</td>\n",
       "      <td>0</td>\n",
       "      <td>0</td>\n",
       "      <td>0</td>\n",
       "      <td>0</td>\n",
       "      <td>0</td>\n",
       "      <td>0</td>\n",
       "    </tr>\n",
       "  </tbody>\n",
       "</table>\n",
       "<p>1352259 rows × 72 columns</p>\n",
       "</div>"
      ],
      "text/plain": [
       "                           domain  label    3    4    5    6    7    8    9  \\\n",
       "0                    uzwdmrlhr.tk      1  117  122  119  100  109  114  108   \n",
       "1                   uzwdmrlhr.com      1  117  122  119  100  109  114  108   \n",
       "2             uzwdmrlhr.pages.dev      1  117  122  119  100  109  114  108   \n",
       "3                    rhrlwdumz.tk      1  114  104  114  108  119  100  117   \n",
       "4                   rhrlwdumz.com      1  114  104  114  108  119  100  117   \n",
       "...                           ...    ...  ...  ...  ...  ...  ...  ...  ...   \n",
       "1352254  kwgjjpbcaaanbivklyxx.com      1  107  119  103  106  106  112   98   \n",
       "1352255  vxijfvgvihjnfvofxmyc.com      1  118  120  105  106  102  118  103   \n",
       "1352256  cepswmbgtknhtkhlsecg.com      1   99  101  112  115  119  109   98   \n",
       "1352257  tifjhjtouqmdlbkfnuow.com      1  116  105  102  106  104  106  116   \n",
       "1352258  gjrykbribvusoskfnuow.com      1  103  106  114  121  107   98  114   \n",
       "\n",
       "          10  ...  63  64  65  66  67  68  69  70  71  72  \n",
       "0        104  ...   0   0   0   0   0   0   0   0   0   0  \n",
       "1        104  ...   0   0   0   0   0   0   0   0   0   0  \n",
       "2        104  ...   0   0   0   0   0   0   0   0   0   0  \n",
       "3        109  ...   0   0   0   0   0   0   0   0   0   0  \n",
       "4        109  ...   0   0   0   0   0   0   0   0   0   0  \n",
       "...      ...  ...  ..  ..  ..  ..  ..  ..  ..  ..  ..  ..  \n",
       "1352254   99  ...   0   0   0   0   0   0   0   0   0   0  \n",
       "1352255  118  ...   0   0   0   0   0   0   0   0   0   0  \n",
       "1352256  103  ...   0   0   0   0   0   0   0   0   0   0  \n",
       "1352257  111  ...   0   0   0   0   0   0   0   0   0   0  \n",
       "1352258  105  ...   0   0   0   0   0   0   0   0   0   0  \n",
       "\n",
       "[1352259 rows x 72 columns]"
      ]
     },
     "execution_count": 3,
     "metadata": {},
     "output_type": "execute_result"
    }
   ],
   "source": [
    "dga = pd.read_csv('./treino/df_train.csv')\n",
    "dga = dga.drop('family', axis = 1)\n",
    "dga"
   ]
  },
  {
   "cell_type": "code",
   "execution_count": 4,
   "id": "5676e746-4851-453d-8369-c5e57648d0d8",
   "metadata": {},
   "outputs": [],
   "source": [
    "dga.columns = majestic.columns"
   ]
  },
  {
   "cell_type": "code",
   "execution_count": 5,
   "id": "e163dad2-01d6-4a82-8adf-4c0a32760000",
   "metadata": {},
   "outputs": [],
   "source": [
    "dga = dga.loc[~dga['domain'].isin(majestic['domain'])].reset_index(drop=True)"
   ]
  },
  {
   "cell_type": "code",
   "execution_count": 6,
   "id": "5a7034d5-83a1-4a07-845c-59afb8afcee9",
   "metadata": {},
   "outputs": [
    {
     "data": {
      "text/html": [
       "<div>\n",
       "<style scoped>\n",
       "    .dataframe tbody tr th:only-of-type {\n",
       "        vertical-align: middle;\n",
       "    }\n",
       "\n",
       "    .dataframe tbody tr th {\n",
       "        vertical-align: top;\n",
       "    }\n",
       "\n",
       "    .dataframe thead th {\n",
       "        text-align: right;\n",
       "    }\n",
       "</style>\n",
       "<table border=\"1\" class=\"dataframe\">\n",
       "  <thead>\n",
       "    <tr style=\"text-align: right;\">\n",
       "      <th></th>\n",
       "      <th>domain</th>\n",
       "      <th>label</th>\n",
       "      <th>2</th>\n",
       "      <th>3</th>\n",
       "      <th>4</th>\n",
       "      <th>5</th>\n",
       "      <th>6</th>\n",
       "      <th>7</th>\n",
       "      <th>8</th>\n",
       "      <th>9</th>\n",
       "      <th>...</th>\n",
       "      <th>62</th>\n",
       "      <th>63</th>\n",
       "      <th>64</th>\n",
       "      <th>65</th>\n",
       "      <th>66</th>\n",
       "      <th>67</th>\n",
       "      <th>68</th>\n",
       "      <th>69</th>\n",
       "      <th>70</th>\n",
       "      <th>71</th>\n",
       "    </tr>\n",
       "  </thead>\n",
       "  <tbody>\n",
       "    <tr>\n",
       "      <th>0</th>\n",
       "      <td>wwoof.fr</td>\n",
       "      <td>0</td>\n",
       "      <td>119</td>\n",
       "      <td>119</td>\n",
       "      <td>111</td>\n",
       "      <td>111</td>\n",
       "      <td>102</td>\n",
       "      <td>46</td>\n",
       "      <td>102</td>\n",
       "      <td>114</td>\n",
       "      <td>...</td>\n",
       "      <td>0</td>\n",
       "      <td>0</td>\n",
       "      <td>0</td>\n",
       "      <td>0</td>\n",
       "      <td>0</td>\n",
       "      <td>0</td>\n",
       "      <td>0</td>\n",
       "      <td>0</td>\n",
       "      <td>0</td>\n",
       "      <td>0</td>\n",
       "    </tr>\n",
       "    <tr>\n",
       "      <th>1</th>\n",
       "      <td>digimanthan.com</td>\n",
       "      <td>0</td>\n",
       "      <td>100</td>\n",
       "      <td>105</td>\n",
       "      <td>103</td>\n",
       "      <td>105</td>\n",
       "      <td>109</td>\n",
       "      <td>97</td>\n",
       "      <td>110</td>\n",
       "      <td>116</td>\n",
       "      <td>...</td>\n",
       "      <td>0</td>\n",
       "      <td>0</td>\n",
       "      <td>0</td>\n",
       "      <td>0</td>\n",
       "      <td>0</td>\n",
       "      <td>0</td>\n",
       "      <td>0</td>\n",
       "      <td>0</td>\n",
       "      <td>0</td>\n",
       "      <td>0</td>\n",
       "    </tr>\n",
       "    <tr>\n",
       "      <th>2</th>\n",
       "      <td>injo.com</td>\n",
       "      <td>0</td>\n",
       "      <td>105</td>\n",
       "      <td>110</td>\n",
       "      <td>106</td>\n",
       "      <td>111</td>\n",
       "      <td>46</td>\n",
       "      <td>99</td>\n",
       "      <td>111</td>\n",
       "      <td>109</td>\n",
       "      <td>...</td>\n",
       "      <td>0</td>\n",
       "      <td>0</td>\n",
       "      <td>0</td>\n",
       "      <td>0</td>\n",
       "      <td>0</td>\n",
       "      <td>0</td>\n",
       "      <td>0</td>\n",
       "      <td>0</td>\n",
       "      <td>0</td>\n",
       "      <td>0</td>\n",
       "    </tr>\n",
       "    <tr>\n",
       "      <th>3</th>\n",
       "      <td>aclanthology.info</td>\n",
       "      <td>0</td>\n",
       "      <td>97</td>\n",
       "      <td>99</td>\n",
       "      <td>108</td>\n",
       "      <td>97</td>\n",
       "      <td>110</td>\n",
       "      <td>116</td>\n",
       "      <td>104</td>\n",
       "      <td>111</td>\n",
       "      <td>...</td>\n",
       "      <td>0</td>\n",
       "      <td>0</td>\n",
       "      <td>0</td>\n",
       "      <td>0</td>\n",
       "      <td>0</td>\n",
       "      <td>0</td>\n",
       "      <td>0</td>\n",
       "      <td>0</td>\n",
       "      <td>0</td>\n",
       "      <td>0</td>\n",
       "    </tr>\n",
       "    <tr>\n",
       "      <th>4</th>\n",
       "      <td>aseabreeze.co.uk</td>\n",
       "      <td>0</td>\n",
       "      <td>97</td>\n",
       "      <td>115</td>\n",
       "      <td>101</td>\n",
       "      <td>97</td>\n",
       "      <td>98</td>\n",
       "      <td>114</td>\n",
       "      <td>101</td>\n",
       "      <td>101</td>\n",
       "      <td>...</td>\n",
       "      <td>0</td>\n",
       "      <td>0</td>\n",
       "      <td>0</td>\n",
       "      <td>0</td>\n",
       "      <td>0</td>\n",
       "      <td>0</td>\n",
       "      <td>0</td>\n",
       "      <td>0</td>\n",
       "      <td>0</td>\n",
       "      <td>0</td>\n",
       "    </tr>\n",
       "    <tr>\n",
       "      <th>...</th>\n",
       "      <td>...</td>\n",
       "      <td>...</td>\n",
       "      <td>...</td>\n",
       "      <td>...</td>\n",
       "      <td>...</td>\n",
       "      <td>...</td>\n",
       "      <td>...</td>\n",
       "      <td>...</td>\n",
       "      <td>...</td>\n",
       "      <td>...</td>\n",
       "      <td>...</td>\n",
       "      <td>...</td>\n",
       "      <td>...</td>\n",
       "      <td>...</td>\n",
       "      <td>...</td>\n",
       "      <td>...</td>\n",
       "      <td>...</td>\n",
       "      <td>...</td>\n",
       "      <td>...</td>\n",
       "      <td>...</td>\n",
       "      <td>...</td>\n",
       "    </tr>\n",
       "    <tr>\n",
       "      <th>1852202</th>\n",
       "      <td>kwgjjpbcaaanbivklyxx.com</td>\n",
       "      <td>1</td>\n",
       "      <td>107</td>\n",
       "      <td>119</td>\n",
       "      <td>103</td>\n",
       "      <td>106</td>\n",
       "      <td>106</td>\n",
       "      <td>112</td>\n",
       "      <td>98</td>\n",
       "      <td>99</td>\n",
       "      <td>...</td>\n",
       "      <td>0</td>\n",
       "      <td>0</td>\n",
       "      <td>0</td>\n",
       "      <td>0</td>\n",
       "      <td>0</td>\n",
       "      <td>0</td>\n",
       "      <td>0</td>\n",
       "      <td>0</td>\n",
       "      <td>0</td>\n",
       "      <td>0</td>\n",
       "    </tr>\n",
       "    <tr>\n",
       "      <th>1852203</th>\n",
       "      <td>vxijfvgvihjnfvofxmyc.com</td>\n",
       "      <td>1</td>\n",
       "      <td>118</td>\n",
       "      <td>120</td>\n",
       "      <td>105</td>\n",
       "      <td>106</td>\n",
       "      <td>102</td>\n",
       "      <td>118</td>\n",
       "      <td>103</td>\n",
       "      <td>118</td>\n",
       "      <td>...</td>\n",
       "      <td>0</td>\n",
       "      <td>0</td>\n",
       "      <td>0</td>\n",
       "      <td>0</td>\n",
       "      <td>0</td>\n",
       "      <td>0</td>\n",
       "      <td>0</td>\n",
       "      <td>0</td>\n",
       "      <td>0</td>\n",
       "      <td>0</td>\n",
       "    </tr>\n",
       "    <tr>\n",
       "      <th>1852204</th>\n",
       "      <td>cepswmbgtknhtkhlsecg.com</td>\n",
       "      <td>1</td>\n",
       "      <td>99</td>\n",
       "      <td>101</td>\n",
       "      <td>112</td>\n",
       "      <td>115</td>\n",
       "      <td>119</td>\n",
       "      <td>109</td>\n",
       "      <td>98</td>\n",
       "      <td>103</td>\n",
       "      <td>...</td>\n",
       "      <td>0</td>\n",
       "      <td>0</td>\n",
       "      <td>0</td>\n",
       "      <td>0</td>\n",
       "      <td>0</td>\n",
       "      <td>0</td>\n",
       "      <td>0</td>\n",
       "      <td>0</td>\n",
       "      <td>0</td>\n",
       "      <td>0</td>\n",
       "    </tr>\n",
       "    <tr>\n",
       "      <th>1852205</th>\n",
       "      <td>tifjhjtouqmdlbkfnuow.com</td>\n",
       "      <td>1</td>\n",
       "      <td>116</td>\n",
       "      <td>105</td>\n",
       "      <td>102</td>\n",
       "      <td>106</td>\n",
       "      <td>104</td>\n",
       "      <td>106</td>\n",
       "      <td>116</td>\n",
       "      <td>111</td>\n",
       "      <td>...</td>\n",
       "      <td>0</td>\n",
       "      <td>0</td>\n",
       "      <td>0</td>\n",
       "      <td>0</td>\n",
       "      <td>0</td>\n",
       "      <td>0</td>\n",
       "      <td>0</td>\n",
       "      <td>0</td>\n",
       "      <td>0</td>\n",
       "      <td>0</td>\n",
       "    </tr>\n",
       "    <tr>\n",
       "      <th>1852206</th>\n",
       "      <td>gjrykbribvusoskfnuow.com</td>\n",
       "      <td>1</td>\n",
       "      <td>103</td>\n",
       "      <td>106</td>\n",
       "      <td>114</td>\n",
       "      <td>121</td>\n",
       "      <td>107</td>\n",
       "      <td>98</td>\n",
       "      <td>114</td>\n",
       "      <td>105</td>\n",
       "      <td>...</td>\n",
       "      <td>0</td>\n",
       "      <td>0</td>\n",
       "      <td>0</td>\n",
       "      <td>0</td>\n",
       "      <td>0</td>\n",
       "      <td>0</td>\n",
       "      <td>0</td>\n",
       "      <td>0</td>\n",
       "      <td>0</td>\n",
       "      <td>0</td>\n",
       "    </tr>\n",
       "  </tbody>\n",
       "</table>\n",
       "<p>1852207 rows × 72 columns</p>\n",
       "</div>"
      ],
      "text/plain": [
       "                           domain  label    2    3    4    5    6    7    8  \\\n",
       "0                        wwoof.fr      0  119  119  111  111  102   46  102   \n",
       "1                 digimanthan.com      0  100  105  103  105  109   97  110   \n",
       "2                        injo.com      0  105  110  106  111   46   99  111   \n",
       "3               aclanthology.info      0   97   99  108   97  110  116  104   \n",
       "4                aseabreeze.co.uk      0   97  115  101   97   98  114  101   \n",
       "...                           ...    ...  ...  ...  ...  ...  ...  ...  ...   \n",
       "1852202  kwgjjpbcaaanbivklyxx.com      1  107  119  103  106  106  112   98   \n",
       "1852203  vxijfvgvihjnfvofxmyc.com      1  118  120  105  106  102  118  103   \n",
       "1852204  cepswmbgtknhtkhlsecg.com      1   99  101  112  115  119  109   98   \n",
       "1852205  tifjhjtouqmdlbkfnuow.com      1  116  105  102  106  104  106  116   \n",
       "1852206  gjrykbribvusoskfnuow.com      1  103  106  114  121  107   98  114   \n",
       "\n",
       "           9  ...  62  63  64  65  66  67  68  69  70  71  \n",
       "0        114  ...   0   0   0   0   0   0   0   0   0   0  \n",
       "1        116  ...   0   0   0   0   0   0   0   0   0   0  \n",
       "2        109  ...   0   0   0   0   0   0   0   0   0   0  \n",
       "3        111  ...   0   0   0   0   0   0   0   0   0   0  \n",
       "4        101  ...   0   0   0   0   0   0   0   0   0   0  \n",
       "...      ...  ...  ..  ..  ..  ..  ..  ..  ..  ..  ..  ..  \n",
       "1852202   99  ...   0   0   0   0   0   0   0   0   0   0  \n",
       "1852203  118  ...   0   0   0   0   0   0   0   0   0   0  \n",
       "1852204  103  ...   0   0   0   0   0   0   0   0   0   0  \n",
       "1852205  111  ...   0   0   0   0   0   0   0   0   0   0  \n",
       "1852206  105  ...   0   0   0   0   0   0   0   0   0   0  \n",
       "\n",
       "[1852207 rows x 72 columns]"
      ]
     },
     "execution_count": 6,
     "metadata": {},
     "output_type": "execute_result"
    }
   ],
   "source": [
    "df_treino = pd.concat([majestic.sample(500000, random_state=1),dga], axis = 0, ignore_index=True)\n",
    "df_treino"
   ]
  },
  {
   "cell_type": "code",
   "execution_count": 8,
   "id": "94f6b43c-2654-4f8a-a87f-89fa44381693",
   "metadata": {},
   "outputs": [],
   "source": [
    "X_train = df_treino.drop(['domain','label'], axis = 1)\n",
    "y_train = df_treino['label']"
   ]
  },
  {
   "cell_type": "code",
   "execution_count": 9,
   "id": "654d8a89-38de-49b0-8624-f1657e8d6e49",
   "metadata": {},
   "outputs": [],
   "source": [
    "X_train = X_train.to_numpy()\n",
    "y_train = y_train.to_numpy()"
   ]
  },
  {
   "cell_type": "code",
   "execution_count": 10,
   "id": "79c31399-2610-462f-afc6-1b9a5567765a",
   "metadata": {},
   "outputs": [
    {
     "data": {
      "text/plain": [
       "(1852207, 70)"
      ]
     },
     "execution_count": 10,
     "metadata": {},
     "output_type": "execute_result"
    }
   ],
   "source": [
    "X_train.shape"
   ]
  },
  {
   "cell_type": "code",
   "execution_count": 11,
   "id": "ea436f37-3304-4f6f-a606-7306acf8818e",
   "metadata": {},
   "outputs": [
    {
     "name": "stderr",
     "output_type": "stream",
     "text": [
      "2024-01-22 16:01:53.675400: I tensorflow/compiler/xla/stream_executor/cuda/cuda_gpu_executor.cc:995] successful NUMA node read from SysFS had negative value (-1), but there must be at least one NUMA node, so returning NUMA node zero. See more at https://github.com/torvalds/linux/blob/v6.0/Documentation/ABI/testing/sysfs-bus-pci#L344-L355\n",
      "2024-01-22 16:01:53.730169: I tensorflow/compiler/xla/stream_executor/cuda/cuda_gpu_executor.cc:995] successful NUMA node read from SysFS had negative value (-1), but there must be at least one NUMA node, so returning NUMA node zero. See more at https://github.com/torvalds/linux/blob/v6.0/Documentation/ABI/testing/sysfs-bus-pci#L344-L355\n",
      "2024-01-22 16:01:53.730319: I tensorflow/compiler/xla/stream_executor/cuda/cuda_gpu_executor.cc:995] successful NUMA node read from SysFS had negative value (-1), but there must be at least one NUMA node, so returning NUMA node zero. See more at https://github.com/torvalds/linux/blob/v6.0/Documentation/ABI/testing/sysfs-bus-pci#L344-L355\n",
      "2024-01-22 16:01:53.732021: I tensorflow/compiler/xla/stream_executor/cuda/cuda_gpu_executor.cc:995] successful NUMA node read from SysFS had negative value (-1), but there must be at least one NUMA node, so returning NUMA node zero. See more at https://github.com/torvalds/linux/blob/v6.0/Documentation/ABI/testing/sysfs-bus-pci#L344-L355\n",
      "2024-01-22 16:01:53.732155: I tensorflow/compiler/xla/stream_executor/cuda/cuda_gpu_executor.cc:995] successful NUMA node read from SysFS had negative value (-1), but there must be at least one NUMA node, so returning NUMA node zero. See more at https://github.com/torvalds/linux/blob/v6.0/Documentation/ABI/testing/sysfs-bus-pci#L344-L355\n",
      "2024-01-22 16:01:53.732228: I tensorflow/compiler/xla/stream_executor/cuda/cuda_gpu_executor.cc:995] successful NUMA node read from SysFS had negative value (-1), but there must be at least one NUMA node, so returning NUMA node zero. See more at https://github.com/torvalds/linux/blob/v6.0/Documentation/ABI/testing/sysfs-bus-pci#L344-L355\n",
      "2024-01-22 16:01:53.990220: I tensorflow/compiler/xla/stream_executor/cuda/cuda_gpu_executor.cc:995] successful NUMA node read from SysFS had negative value (-1), but there must be at least one NUMA node, so returning NUMA node zero. See more at https://github.com/torvalds/linux/blob/v6.0/Documentation/ABI/testing/sysfs-bus-pci#L344-L355\n",
      "2024-01-22 16:01:53.990350: I tensorflow/compiler/xla/stream_executor/cuda/cuda_gpu_executor.cc:995] successful NUMA node read from SysFS had negative value (-1), but there must be at least one NUMA node, so returning NUMA node zero. See more at https://github.com/torvalds/linux/blob/v6.0/Documentation/ABI/testing/sysfs-bus-pci#L344-L355\n",
      "2024-01-22 16:01:53.990429: I tensorflow/compiler/xla/stream_executor/cuda/cuda_gpu_executor.cc:995] successful NUMA node read from SysFS had negative value (-1), but there must be at least one NUMA node, so returning NUMA node zero. See more at https://github.com/torvalds/linux/blob/v6.0/Documentation/ABI/testing/sysfs-bus-pci#L344-L355\n",
      "2024-01-22 16:01:53.990501: I tensorflow/core/common_runtime/gpu/gpu_device.cc:1639] Created device /job:localhost/replica:0/task:0/device:GPU:0 with 2098 MB memory:  -> device: 0, name: NVIDIA GeForce RTX 3050 Laptop GPU, pci bus id: 0000:01:00.0, compute capability: 8.6\n"
     ]
    }
   ],
   "source": [
    "#Carregando hyperparâmetros de regularizadores, otimizador e função de ativação\n",
    "l1l2 = keras.regularizers.l1_l2(l1=0.00001, l2=0.0001)\n",
    "opt = keras.optimizers.Adam(learning_rate=0.0001)\n",
    "fx = \"relu\""
   ]
  },
  {
   "cell_type": "code",
   "execution_count": 12,
   "id": "c4159eaf-763d-4461-831d-1363f7bffcb1",
   "metadata": {},
   "outputs": [
    {
     "name": "stdout",
     "output_type": "stream",
     "text": [
      "Model: \"sequential\"\n",
      "_________________________________________________________________\n",
      " Layer (type)                Output Shape              Param #   \n",
      "=================================================================\n",
      " embedding (Embedding)       (None, 70, 60)            15360     \n",
      "                                                                 \n",
      " conv1d (Conv1D)             (None, 70, 500)           210500    \n",
      "                                                                 \n",
      " re_lu (ReLU)                (None, 70, 500)           0         \n",
      "                                                                 \n",
      " conv1d_1 (Conv1D)           (None, 70, 250)           750250    \n",
      "                                                                 \n",
      " re_lu_1 (ReLU)              (None, 70, 250)           0         \n",
      "                                                                 \n",
      " max_pooling1d (MaxPooling1  (None, 70, 250)           0         \n",
      " D)                                                              \n",
      "                                                                 \n",
      " conv1d_2 (Conv1D)           (None, 70, 120)           150120    \n",
      "                                                                 \n",
      " re_lu_2 (ReLU)              (None, 70, 120)           0         \n",
      "                                                                 \n",
      " conv1d_3 (Conv1D)           (None, 70, 60)            36060     \n",
      "                                                                 \n",
      " re_lu_3 (ReLU)              (None, 70, 60)            0         \n",
      "                                                                 \n",
      " max_pooling1d_1 (MaxPoolin  (None, 70, 60)            0         \n",
      " g1D)                                                            \n",
      "                                                                 \n",
      " conv1d_4 (Conv1D)           (None, 70, 30)            7230      \n",
      "                                                                 \n",
      " re_lu_4 (ReLU)              (None, 70, 30)            0         \n",
      "                                                                 \n",
      " conv1d_5 (Conv1D)           (None, 70, 30)            2730      \n",
      "                                                                 \n",
      " re_lu_5 (ReLU)              (None, 70, 30)            0         \n",
      "                                                                 \n",
      " max_pooling1d_2 (MaxPoolin  (None, 70, 30)            0         \n",
      " g1D)                                                            \n",
      "                                                                 \n",
      " flatten (Flatten)           (None, 2100)              0         \n",
      "                                                                 \n",
      " dense (Dense)               (None, 15)                31515     \n",
      "                                                                 \n",
      " dense_1 (Dense)             (None, 1)                 16        \n",
      "                                                                 \n",
      "=================================================================\n",
      "Total params: 1203781 (4.59 MB)\n",
      "Trainable params: 1203781 (4.59 MB)\n",
      "Non-trainable params: 0 (0.00 Byte)\n",
      "_________________________________________________________________\n"
     ]
    }
   ],
   "source": [
    "#Estrutura do modelo convolucional profundo\n",
    "model_bin = tf.keras.Sequential([\n",
    "      \n",
    "        layers.Embedding(input_dim=256,output_dim=60,input_length=70),\n",
    "    \n",
    "        layers.Conv1D(500, 7, activation=fx, activity_regularizer=l1l2, padding='same'),\n",
    "        layers.ReLU(),\n",
    "            \n",
    "        layers.Conv1D(250, 6, activation=fx, activity_regularizer=l1l2, padding='same'),\n",
    "        layers.ReLU(),\n",
    "        layers.MaxPooling1D(pool_size=6, strides=1, padding='same'),\n",
    "    \n",
    "        layers.Conv1D(120, 5, activation=fx, activity_regularizer=l1l2, padding='same'),\n",
    "        layers.ReLU(),\n",
    "    \n",
    "        layers.Conv1D(60, 5, activation=fx, activity_regularizer=l1l2, padding='same'),\n",
    "        layers.ReLU(),\n",
    "        layers.MaxPooling1D(pool_size=4, strides=1, padding='same'),\n",
    "    \n",
    "        layers.Conv1D(30, 4, activation=fx, activity_regularizer=l1l2, padding='same'),\n",
    "        layers.ReLU(),\n",
    "    \n",
    "        layers.Conv1D(30, 3, activation=fx, activity_regularizer=l1l2, padding='same'),\n",
    "        layers.ReLU(),\n",
    "        layers.MaxPooling1D(pool_size=3, strides=1, padding='same'),\n",
    "    \n",
    "        layers.Flatten(),\n",
    "        layers.Dense(15, activation=fx, activity_regularizer=l1l2),\n",
    "        layers.Dense(1, activation='sigmoid')])\n",
    "\n",
    "model_bin.compile(optimizer = opt, loss = 'binary_crossentropy', metrics='accuracy')\n",
    "model_bin.summary()"
   ]
  },
  {
   "cell_type": "code",
   "execution_count": 13,
   "id": "d9f0a8ad-d1a5-4bce-b4f8-231f9ea84a9c",
   "metadata": {},
   "outputs": [],
   "source": [
    "best = tf.keras.callbacks.ModelCheckpoint(\n",
    "    filepath='best_model_acc',\n",
    "    save_weights_only=False,\n",
    "    monitor='accuracy',\n",
    "    mode='max',\n",
    "    save_best_only=True)"
   ]
  },
  {
   "cell_type": "code",
   "execution_count": 7,
   "id": "459b7eea-c733-41de-bf90-224511faae52",
   "metadata": {},
   "outputs": [
    {
     "name": "stderr",
     "output_type": "stream",
     "text": [
      "2024-01-23 13:53:31.576393: I tensorflow/compiler/xla/stream_executor/cuda/cuda_gpu_executor.cc:995] successful NUMA node read from SysFS had negative value (-1), but there must be at least one NUMA node, so returning NUMA node zero. See more at https://github.com/torvalds/linux/blob/v6.0/Documentation/ABI/testing/sysfs-bus-pci#L344-L355\n",
      "2024-01-23 13:53:31.762714: I tensorflow/compiler/xla/stream_executor/cuda/cuda_gpu_executor.cc:995] successful NUMA node read from SysFS had negative value (-1), but there must be at least one NUMA node, so returning NUMA node zero. See more at https://github.com/torvalds/linux/blob/v6.0/Documentation/ABI/testing/sysfs-bus-pci#L344-L355\n",
      "2024-01-23 13:53:31.763041: I tensorflow/compiler/xla/stream_executor/cuda/cuda_gpu_executor.cc:995] successful NUMA node read from SysFS had negative value (-1), but there must be at least one NUMA node, so returning NUMA node zero. See more at https://github.com/torvalds/linux/blob/v6.0/Documentation/ABI/testing/sysfs-bus-pci#L344-L355\n"
     ]
    }
   ],
   "source": [
    "# Ajustando uso de memoria RAM e GPU\n",
    "physical_devices = tf.config.list_physical_devices('GPU')\n",
    "try:\n",
    "  tf.config.experimental.set_memory_growth(physical_devices[0], True)\n",
    "except:\n",
    "  pass"
   ]
  },
  {
   "cell_type": "code",
   "execution_count": 15,
   "id": "749df9b4-1f90-46f1-9dc9-541e264473e2",
   "metadata": {},
   "outputs": [
    {
     "name": "stdout",
     "output_type": "stream",
     "text": [
      "Epoch 1/10\n"
     ]
    },
    {
     "name": "stderr",
     "output_type": "stream",
     "text": [
      "2024-01-22 16:02:07.688802: I tensorflow/compiler/xla/stream_executor/cuda/cuda_dnn.cc:432] Loaded cuDNN version 8902\n",
      "2024-01-22 16:02:08.330287: I tensorflow/compiler/xla/stream_executor/cuda/cuda_blas.cc:606] TensorFloat-32 will be used for the matrix multiplication. This will only be logged once.\n",
      "2024-01-22 16:02:08.340279: I tensorflow/compiler/xla/service/service.cc:168] XLA service 0x7f2f24004a10 initialized for platform CUDA (this does not guarantee that XLA will be used). Devices:\n",
      "2024-01-22 16:02:08.340297: I tensorflow/compiler/xla/service/service.cc:176]   StreamExecutor device (0): NVIDIA GeForce RTX 3050 Laptop GPU, Compute Capability 8.6\n",
      "2024-01-22 16:02:08.344146: I tensorflow/compiler/mlir/tensorflow/utils/dump_mlir_util.cc:255] disabling MLIR crash reproducer, set env var `MLIR_CRASH_REPRODUCER_DIRECTORY` to enable.\n",
      "2024-01-22 16:02:08.423708: I ./tensorflow/compiler/jit/device_compiler.h:186] Compiled cluster using XLA!  This line is logged at most once for the lifetime of the process.\n",
      "2024-01-22 16:02:08.768709: W tensorflow/tsl/framework/bfc_allocator.cc:296] Allocator (GPU_0_bfc) ran out of memory trying to allocate 1.50GiB with freed_by_count=0. The caller indicates that this is not a failure, but this may mean that there could be performance gains if more memory were available.\n",
      "2024-01-22 16:02:09.063268: W tensorflow/tsl/framework/bfc_allocator.cc:296] Allocator (GPU_0_bfc) ran out of memory trying to allocate 2.25GiB with freed_by_count=0. The caller indicates that this is not a failure, but this may mean that there could be performance gains if more memory were available.\n",
      "2024-01-22 16:02:09.345787: W tensorflow/tsl/framework/bfc_allocator.cc:296] Allocator (GPU_0_bfc) ran out of memory trying to allocate 4.48GiB with freed_by_count=0. The caller indicates that this is not a failure, but this may mean that there could be performance gains if more memory were available.\n"
     ]
    },
    {
     "name": "stdout",
     "output_type": "stream",
     "text": [
      "7408/7409 [============================>.] - ETA: 0s - loss: 0.1030 - accuracy: 0.9635"
     ]
    },
    {
     "name": "stderr",
     "output_type": "stream",
     "text": [
      "2024-01-22 16:06:51.466106: W tensorflow/tsl/framework/bfc_allocator.cc:296] Allocator (GPU_0_bfc) ran out of memory trying to allocate 1.24GiB with freed_by_count=0. The caller indicates that this is not a failure, but this may mean that there could be performance gains if more memory were available.\n",
      "2024-01-22 16:06:51.616001: W tensorflow/tsl/framework/bfc_allocator.cc:296] Allocator (GPU_0_bfc) ran out of memory trying to allocate 1.86GiB with freed_by_count=0. The caller indicates that this is not a failure, but this may mean that there could be performance gains if more memory were available.\n",
      "2024-01-22 16:06:51.736161: W tensorflow/tsl/framework/bfc_allocator.cc:296] Allocator (GPU_0_bfc) ran out of memory trying to allocate 3.70GiB with freed_by_count=0. The caller indicates that this is not a failure, but this may mean that there could be performance gains if more memory were available.\n",
      "2024-01-22 16:06:51.882202: W tensorflow/tsl/framework/bfc_allocator.cc:296] Allocator (GPU_0_bfc) ran out of memory trying to allocate 7.59GiB with freed_by_count=0. The caller indicates that this is not a failure, but this may mean that there could be performance gains if more memory were available.\n"
     ]
    },
    {
     "name": "stdout",
     "output_type": "stream",
     "text": [
      "7409/7409 [==============================] - ETA: 0s - loss: 0.1030 - accuracy: 0.9635"
     ]
    },
    {
     "name": "stderr",
     "output_type": "stream",
     "text": [
      "2024-01-22 16:06:53.427519: W tensorflow/tsl/framework/bfc_allocator.cc:296] Allocator (GPU_0_bfc) ran out of memory trying to allocate 1.73GiB with freed_by_count=0. The caller indicates that this is not a failure, but this may mean that there could be performance gains if more memory were available.\n",
      "2024-01-22 16:06:53.433071: W tensorflow/tsl/framework/bfc_allocator.cc:296] Allocator (GPU_0_bfc) ran out of memory trying to allocate 1.73GiB with freed_by_count=0. The caller indicates that this is not a failure, but this may mean that there could be performance gains if more memory were available.\n"
     ]
    },
    {
     "name": "stdout",
     "output_type": "stream",
     "text": [
      "INFO:tensorflow:Assets written to: best_model_acc/assets\n"
     ]
    },
    {
     "name": "stderr",
     "output_type": "stream",
     "text": [
      "INFO:tensorflow:Assets written to: best_model_acc/assets\n"
     ]
    },
    {
     "name": "stdout",
     "output_type": "stream",
     "text": [
      "7409/7409 [==============================] - 309s 41ms/step - loss: 0.1030 - accuracy: 0.9635 - val_loss: 0.0805 - val_accuracy: 0.9732\n",
      "Epoch 2/10\n",
      "7409/7409 [==============================] - ETA: 0s - loss: 0.0577 - accuracy: 0.9806INFO:tensorflow:Assets written to: best_model_acc/assets\n"
     ]
    },
    {
     "name": "stderr",
     "output_type": "stream",
     "text": [
      "INFO:tensorflow:Assets written to: best_model_acc/assets\n"
     ]
    },
    {
     "name": "stdout",
     "output_type": "stream",
     "text": [
      "7409/7409 [==============================] - 300s 40ms/step - loss: 0.0577 - accuracy: 0.9806 - val_loss: 0.0874 - val_accuracy: 0.9693\n",
      "Epoch 3/10\n",
      "7409/7409 [==============================] - ETA: 0s - loss: 0.0462 - accuracy: 0.9846INFO:tensorflow:Assets written to: best_model_acc/assets\n"
     ]
    },
    {
     "name": "stderr",
     "output_type": "stream",
     "text": [
      "INFO:tensorflow:Assets written to: best_model_acc/assets\n"
     ]
    },
    {
     "name": "stdout",
     "output_type": "stream",
     "text": [
      "7409/7409 [==============================] - 301s 41ms/step - loss: 0.0462 - accuracy: 0.9846 - val_loss: 0.0871 - val_accuracy: 0.9702\n",
      "Epoch 4/10\n",
      "7409/7409 [==============================] - ETA: 0s - loss: 0.0383 - accuracy: 0.9873INFO:tensorflow:Assets written to: best_model_acc/assets\n"
     ]
    },
    {
     "name": "stderr",
     "output_type": "stream",
     "text": [
      "INFO:tensorflow:Assets written to: best_model_acc/assets\n"
     ]
    },
    {
     "name": "stdout",
     "output_type": "stream",
     "text": [
      "7409/7409 [==============================] - 301s 41ms/step - loss: 0.0383 - accuracy: 0.9873 - val_loss: 0.0986 - val_accuracy: 0.9663\n",
      "Epoch 5/10\n",
      "7408/7409 [============================>.] - ETA: 0s - loss: 0.0322 - accuracy: 0.9895INFO:tensorflow:Assets written to: best_model_acc/assets\n"
     ]
    },
    {
     "name": "stderr",
     "output_type": "stream",
     "text": [
      "INFO:tensorflow:Assets written to: best_model_acc/assets\n"
     ]
    },
    {
     "name": "stdout",
     "output_type": "stream",
     "text": [
      "7409/7409 [==============================] - 303s 41ms/step - loss: 0.0322 - accuracy: 0.9895 - val_loss: 0.0541 - val_accuracy: 0.9819\n",
      "Epoch 6/10\n",
      "7409/7409 [==============================] - ETA: 0s - loss: 0.0273 - accuracy: 0.9911INFO:tensorflow:Assets written to: best_model_acc/assets\n"
     ]
    },
    {
     "name": "stderr",
     "output_type": "stream",
     "text": [
      "INFO:tensorflow:Assets written to: best_model_acc/assets\n"
     ]
    },
    {
     "name": "stdout",
     "output_type": "stream",
     "text": [
      "7409/7409 [==============================] - 302s 41ms/step - loss: 0.0273 - accuracy: 0.9911 - val_loss: 0.0751 - val_accuracy: 0.9772\n",
      "Epoch 7/10\n",
      "7409/7409 [==============================] - ETA: 0s - loss: 0.0232 - accuracy: 0.9927INFO:tensorflow:Assets written to: best_model_acc/assets\n"
     ]
    },
    {
     "name": "stderr",
     "output_type": "stream",
     "text": [
      "INFO:tensorflow:Assets written to: best_model_acc/assets\n"
     ]
    },
    {
     "name": "stdout",
     "output_type": "stream",
     "text": [
      "7409/7409 [==============================] - 302s 41ms/step - loss: 0.0232 - accuracy: 0.9927 - val_loss: 0.1175 - val_accuracy: 0.9638\n",
      "Epoch 8/10\n",
      "7409/7409 [==============================] - ETA: 0s - loss: 0.0200 - accuracy: 0.9937INFO:tensorflow:Assets written to: best_model_acc/assets\n"
     ]
    },
    {
     "name": "stderr",
     "output_type": "stream",
     "text": [
      "INFO:tensorflow:Assets written to: best_model_acc/assets\n"
     ]
    },
    {
     "name": "stdout",
     "output_type": "stream",
     "text": [
      "7409/7409 [==============================] - 303s 41ms/step - loss: 0.0200 - accuracy: 0.9937 - val_loss: 0.0796 - val_accuracy: 0.9741\n",
      "Epoch 9/10\n",
      "7409/7409 [==============================] - ETA: 0s - loss: 0.0172 - accuracy: 0.9947INFO:tensorflow:Assets written to: best_model_acc/assets\n"
     ]
    },
    {
     "name": "stderr",
     "output_type": "stream",
     "text": [
      "INFO:tensorflow:Assets written to: best_model_acc/assets\n"
     ]
    },
    {
     "name": "stdout",
     "output_type": "stream",
     "text": [
      "7409/7409 [==============================] - 303s 41ms/step - loss: 0.0172 - accuracy: 0.9947 - val_loss: 0.1132 - val_accuracy: 0.9656\n",
      "Epoch 10/10\n",
      "7409/7409 [==============================] - ETA: 0s - loss: 0.0149 - accuracy: 0.9955INFO:tensorflow:Assets written to: best_model_acc/assets\n"
     ]
    },
    {
     "name": "stderr",
     "output_type": "stream",
     "text": [
      "INFO:tensorflow:Assets written to: best_model_acc/assets\n"
     ]
    },
    {
     "name": "stdout",
     "output_type": "stream",
     "text": [
      "7409/7409 [==============================] - 302s 41ms/step - loss: 0.0149 - accuracy: 0.9955 - val_loss: 0.1277 - val_accuracy: 0.9650\n"
     ]
    },
    {
     "data": {
      "text/plain": [
       "<keras.src.callbacks.History at 0x7f3147914c10>"
      ]
     },
     "execution_count": 15,
     "metadata": {},
     "output_type": "execute_result"
    }
   ],
   "source": [
    "model_bin.fit(X_train, y_train,\n",
    "              epochs=10,\n",
    "              callbacks = [best],\n",
    "              validation_split = 0.2,\n",
    "              batch_size=200)"
   ]
  },
  {
   "cell_type": "code",
   "execution_count": 16,
   "id": "5354dd27-3843-4374-8aca-5b5d7e859f8d",
   "metadata": {},
   "outputs": [
    {
     "name": "stderr",
     "output_type": "stream",
     "text": [
      "2024-01-22 16:52:40.854717: W tensorflow/core/util/tensor_slice_reader.cc:97] Could not open best_model_acc: FAILED_PRECONDITION: best_model_acc; É um diretório: perhaps your file is in a different file format and you need to use a different restore operator?\n"
     ]
    },
    {
     "data": {
      "text/plain": [
       "<tensorflow.python.checkpoint.checkpoint.CheckpointLoadStatus at 0x7f320c2b2920>"
      ]
     },
     "execution_count": 16,
     "metadata": {},
     "output_type": "execute_result"
    }
   ],
   "source": [
    "model_bin.load_weights('best_model_acc')"
   ]
  },
  {
   "cell_type": "code",
   "execution_count": 17,
   "id": "19bdafb8-1475-4b68-bcb3-077daaf1a938",
   "metadata": {},
   "outputs": [],
   "source": [
    "model_bin = tf.keras.models.load_model('best_model_acc')"
   ]
  },
  {
   "cell_type": "code",
   "execution_count": 18,
   "id": "60c69042-9776-4bba-a526-8bfb87795758",
   "metadata": {},
   "outputs": [],
   "source": [
    "legit = majestic.loc[~majestic['domain'].isin(df_treino['domain'])].reset_index(drop=True)"
   ]
  },
  {
   "cell_type": "markdown",
   "id": "70ee22b4-82d7-4c68-8f7a-8cab94db2e5f",
   "metadata": {},
   "source": [
    "## Testes Treinamento Inicial"
   ]
  },
  {
   "cell_type": "code",
   "execution_count": 19,
   "id": "e72a3e5f-e1e1-45bf-b796-f42c84191518",
   "metadata": {},
   "outputs": [
    {
     "name": "stdout",
     "output_type": "stream",
     "text": [
      "60669/60669 [==============================] - 782s 13ms/step\n",
      "Matriz de Confusão Teste:  0\n",
      "[[ 489859   10141]\n",
      " [  32367 1409014]]\n",
      "Relatório de Classificação\n",
      "              precision    recall  f1-score   support\n",
      "\n",
      "           0     0.9380    0.9797    0.9584    500000\n",
      "           1     0.9929    0.9775    0.9851   1441381\n",
      "\n",
      "    accuracy                         0.9781   1941381\n",
      "   macro avg     0.9654    0.9786    0.9718   1941381\n",
      "weighted avg     0.9787    0.9781    0.9783   1941381\n",
      "\n",
      "____________________\n",
      "57413/57413 [==============================] - 711s 12ms/step\n",
      "Matriz de Confusão Teste:  1\n",
      "[[ 489859   10141]\n",
      " [  33004 1304194]]\n",
      "Relatório de Classificação\n",
      "              precision    recall  f1-score   support\n",
      "\n",
      "           0     0.9369    0.9797    0.9578    500000\n",
      "           1     0.9923    0.9753    0.9837   1337198\n",
      "\n",
      "    accuracy                         0.9765   1837198\n",
      "   macro avg     0.9646    0.9775    0.9708   1837198\n",
      "weighted avg     0.9772    0.9765    0.9767   1837198\n",
      "\n",
      "____________________\n",
      "60792/60792 [==============================] - 767s 13ms/step\n",
      "Matriz de Confusão Teste:  2\n",
      "[[ 489859   10141]\n",
      " [  34963 1410351]]\n",
      "Relatório de Classificação\n",
      "              precision    recall  f1-score   support\n",
      "\n",
      "           0     0.9334    0.9797    0.9560    500000\n",
      "           1     0.9929    0.9758    0.9843   1445314\n",
      "\n",
      "    accuracy                         0.9768   1945314\n",
      "   macro avg     0.9631    0.9778    0.9701   1945314\n",
      "weighted avg     0.9776    0.9768    0.9770   1945314\n",
      "\n",
      "____________________\n",
      "56590/56590 [==============================] - 724s 13ms/step\n",
      "Matriz de Confusão Teste:  3\n",
      "[[ 489859   10141]\n",
      " [  34073 1276794]]\n",
      "Relatório de Classificação\n",
      "              precision    recall  f1-score   support\n",
      "\n",
      "           0     0.9350    0.9797    0.9568    500000\n",
      "           1     0.9921    0.9740    0.9830   1310867\n",
      "\n",
      "    accuracy                         0.9756   1810867\n",
      "   macro avg     0.9635    0.9769    0.9699   1810867\n",
      "weighted avg     0.9763    0.9756    0.9758   1810867\n",
      "\n",
      "____________________\n",
      "61423/61423 [==============================] - 747s 12ms/step\n",
      "Matriz de Confusão Teste:  4\n",
      "[[ 489859   10141]\n",
      " [  36905 1428602]]\n",
      "Relatório de Classificação\n",
      "              precision    recall  f1-score   support\n",
      "\n",
      "           0     0.9299    0.9797    0.9542    500000\n",
      "           1     0.9930    0.9748    0.9838   1465507\n",
      "\n",
      "    accuracy                         0.9761   1965507\n",
      "   macro avg     0.9614    0.9773    0.9690   1965507\n",
      "weighted avg     0.9769    0.9761    0.9763   1965507\n",
      "\n",
      "____________________\n",
      "56719/56719 [==============================] - 681s 12ms/step\n",
      "Matriz de Confusão Teste:  5\n",
      "[[ 489859   10141]\n",
      " [  31641 1283347]]\n",
      "Relatório de Classificação\n",
      "              precision    recall  f1-score   support\n",
      "\n",
      "           0     0.9393    0.9797    0.9591    500000\n",
      "           1     0.9922    0.9759    0.9840   1314988\n",
      "\n",
      "    accuracy                         0.9770   1814988\n",
      "   macro avg     0.9657    0.9778    0.9715   1814988\n",
      "weighted avg     0.9776    0.9770    0.9771   1814988\n",
      "\n",
      "____________________\n",
      "60739/60739 [==============================] - 733s 12ms/step\n",
      "Matriz de Confusão Teste:  6\n",
      "[[ 489859   10141]\n",
      " [  34408 1409225]]\n",
      "Relatório de Classificação\n",
      "              precision    recall  f1-score   support\n",
      "\n",
      "           0     0.9344    0.9797    0.9565    500000\n",
      "           1     0.9929    0.9762    0.9844   1443633\n",
      "\n",
      "    accuracy                         0.9771   1943633\n",
      "   macro avg     0.9636    0.9779    0.9705   1943633\n",
      "weighted avg     0.9778    0.9771    0.9773   1943633\n",
      "\n",
      "____________________\n",
      "56582/56582 [==============================] - 685s 12ms/step\n",
      "Matriz de Confusão Teste:  7\n",
      "[[ 489859   10141]\n",
      " [  35700 1274922]]\n",
      "Relatório de Classificação\n",
      "              precision    recall  f1-score   support\n",
      "\n",
      "           0     0.9321    0.9797    0.9553    500000\n",
      "           1     0.9921    0.9728    0.9823   1310622\n",
      "\n",
      "    accuracy                         0.9747   1810622\n",
      "   macro avg     0.9621    0.9762    0.9688   1810622\n",
      "weighted avg     0.9755    0.9747    0.9749   1810622\n",
      "\n",
      "____________________\n",
      "61418/61418 [==============================] - 745s 12ms/step\n",
      "Matriz de Confusão Teste:  8\n",
      "[[ 489859   10141]\n",
      " [  36725 1428628]]\n",
      "Relatório de Classificação\n",
      "              precision    recall  f1-score   support\n",
      "\n",
      "           0     0.9303    0.9797    0.9543    500000\n",
      "           1     0.9930    0.9749    0.9839   1465353\n",
      "\n",
      "    accuracy                         0.9762   1965353\n",
      "   macro avg     0.9616    0.9773    0.9691   1965353\n",
      "weighted avg     0.9770    0.9762    0.9764   1965353\n",
      "\n",
      "____________________\n",
      "56730/56730 [==============================] - 689s 12ms/step\n",
      "Matriz de Confusão Teste:  9\n",
      "[[ 489859   10141]\n",
      " [  35979 1279366]]\n",
      "Relatório de Classificação\n",
      "              precision    recall  f1-score   support\n",
      "\n",
      "           0     0.9316    0.9797    0.9550    500000\n",
      "           1     0.9921    0.9726    0.9823   1315345\n",
      "\n",
      "    accuracy                         0.9746   1815345\n",
      "   macro avg     0.9619    0.9762    0.9687   1815345\n",
      "weighted avg     0.9755    0.9746    0.9748   1815345\n",
      "\n",
      "____________________\n",
      "61541/61541 [==============================] - 750s 12ms/step\n",
      "Matriz de Confusão Teste:  10\n",
      "[[ 489859   10141]\n",
      " [  35970 1433315]]\n",
      "Relatório de Classificação\n",
      "              precision    recall  f1-score   support\n",
      "\n",
      "           0     0.9316    0.9797    0.9551    500000\n",
      "           1     0.9930    0.9755    0.9842   1469285\n",
      "\n",
      "    accuracy                         0.9766   1969285\n",
      "   macro avg     0.9623    0.9776    0.9696   1969285\n",
      "weighted avg     0.9774    0.9766    0.9768   1969285\n",
      "\n",
      "____________________\n",
      "57414/57414 [==============================] - 703s 12ms/step\n",
      "Matriz de Confusão Teste:  11\n",
      "[[ 489859   10141]\n",
      " [  32278 1304959]]\n",
      "Relatório de Classificação\n",
      "              precision    recall  f1-score   support\n",
      "\n",
      "           0     0.9382    0.9797    0.9585    500000\n",
      "           1     0.9923    0.9759    0.9840   1337237\n",
      "\n",
      "    accuracy                         0.9769   1837237\n",
      "   macro avg     0.9652    0.9778    0.9713   1837237\n",
      "weighted avg     0.9776    0.9769    0.9771   1837237\n",
      "\n",
      "____________________\n"
     ]
    }
   ],
   "source": [
    "model_bin = tf.keras.models.load_model('best_model_acc')\n",
    "\n",
    "for i in range (0,12):\n",
    "    dga = pd.read_csv('./teste/df_teste'+str(i)+'.csv')\n",
    "    dga = dga.drop('family', axis = 1)\n",
    "    dga = dga.loc[~dga['domain'].isin(majestic['domain'])].reset_index(drop=True)\n",
    "\n",
    "    dga.columns = legit.columns\n",
    "    df_teste = pd.concat([legit,dga], axis = 0, ignore_index=True)\n",
    "\n",
    "    X_test = df_teste.drop(['domain','label'], axis = 1)\n",
    "    y_test = df_teste['label']\n",
    "\n",
    "    X_test = X_test.to_numpy()\n",
    "    y_test = y_test.to_numpy()\n",
    "\n",
    "    with tf.device('/cpu:0'):\n",
    "        predictions = model_bin.predict(X_test)\n",
    "        predictions = np.where(predictions > 0.5, 1, 0)\n",
    "    \n",
    "    print('Matriz de Confusão Teste: ', str(i))\n",
    "    print(confusion_matrix(y_test,predictions))\n",
    "\n",
    "    print('Relatório de Classificação')\n",
    "    print(classification_report(y_test,predictions, digits=4))\n",
    "    print('____________________')"
   ]
  },
  {
   "cell_type": "markdown",
   "id": "8066481e-0abc-4ac4-9c7c-844a85610ece",
   "metadata": {},
   "source": [
    "## Teste Primeiro Treinamento Incremental"
   ]
  },
  {
   "cell_type": "code",
   "execution_count": 20,
   "id": "95d49cac-50e9-48e0-be8f-9d83344a2a99",
   "metadata": {},
   "outputs": [
    {
     "name": "stdout",
     "output_type": "stream",
     "text": [
      "Epoch 1/10\n",
      "7766/7766 [==============================] - ETA: 0s - loss: 0.0289 - accuracy: 0.9907INFO:tensorflow:Assets written to: best_model_acc_fase0/assets\n"
     ]
    },
    {
     "name": "stderr",
     "output_type": "stream",
     "text": [
      "INFO:tensorflow:Assets written to: best_model_acc_fase0/assets\n"
     ]
    },
    {
     "name": "stdout",
     "output_type": "stream",
     "text": [
      "7766/7766 [==============================] - 318s 41ms/step - loss: 0.0289 - accuracy: 0.9907 - val_loss: 0.0680 - val_accuracy: 0.9722\n",
      "Epoch 2/10\n",
      "7765/7766 [============================>.] - ETA: 0s - loss: 0.0214 - accuracy: 0.9934INFO:tensorflow:Assets written to: best_model_acc_fase0/assets\n"
     ]
    },
    {
     "name": "stderr",
     "output_type": "stream",
     "text": [
      "INFO:tensorflow:Assets written to: best_model_acc_fase0/assets\n"
     ]
    },
    {
     "name": "stdout",
     "output_type": "stream",
     "text": [
      "7766/7766 [==============================] - 314s 40ms/step - loss: 0.0214 - accuracy: 0.9934 - val_loss: 0.0521 - val_accuracy: 0.9803\n",
      "Epoch 3/10\n",
      "7765/7766 [============================>.] - ETA: 0s - loss: 0.0172 - accuracy: 0.9948INFO:tensorflow:Assets written to: best_model_acc_fase0/assets\n"
     ]
    },
    {
     "name": "stderr",
     "output_type": "stream",
     "text": [
      "INFO:tensorflow:Assets written to: best_model_acc_fase0/assets\n"
     ]
    },
    {
     "name": "stdout",
     "output_type": "stream",
     "text": [
      "7766/7766 [==============================] - 315s 41ms/step - loss: 0.0172 - accuracy: 0.9948 - val_loss: 0.0565 - val_accuracy: 0.9808\n",
      "Epoch 4/10\n",
      "7765/7766 [============================>.] - ETA: 0s - loss: 0.0146 - accuracy: 0.9957INFO:tensorflow:Assets written to: best_model_acc_fase0/assets\n"
     ]
    },
    {
     "name": "stderr",
     "output_type": "stream",
     "text": [
      "INFO:tensorflow:Assets written to: best_model_acc_fase0/assets\n"
     ]
    },
    {
     "name": "stdout",
     "output_type": "stream",
     "text": [
      "7766/7766 [==============================] - 315s 41ms/step - loss: 0.0146 - accuracy: 0.9957 - val_loss: 0.0699 - val_accuracy: 0.9776\n",
      "Epoch 5/10\n",
      "7766/7766 [==============================] - ETA: 0s - loss: 0.0124 - accuracy: 0.9965INFO:tensorflow:Assets written to: best_model_acc_fase0/assets\n"
     ]
    },
    {
     "name": "stderr",
     "output_type": "stream",
     "text": [
      "INFO:tensorflow:Assets written to: best_model_acc_fase0/assets\n"
     ]
    },
    {
     "name": "stdout",
     "output_type": "stream",
     "text": [
      "7766/7766 [==============================] - 315s 41ms/step - loss: 0.0124 - accuracy: 0.9965 - val_loss: 0.0854 - val_accuracy: 0.9745\n",
      "Epoch 6/10\n",
      "7765/7766 [============================>.] - ETA: 0s - loss: 0.0111 - accuracy: 0.9969INFO:tensorflow:Assets written to: best_model_acc_fase0/assets\n"
     ]
    },
    {
     "name": "stderr",
     "output_type": "stream",
     "text": [
      "INFO:tensorflow:Assets written to: best_model_acc_fase0/assets\n"
     ]
    },
    {
     "name": "stdout",
     "output_type": "stream",
     "text": [
      "7766/7766 [==============================] - 316s 41ms/step - loss: 0.0111 - accuracy: 0.9969 - val_loss: 0.0647 - val_accuracy: 0.9811\n",
      "Epoch 7/10\n",
      "7765/7766 [============================>.] - ETA: 0s - loss: 0.0100 - accuracy: 0.9972INFO:tensorflow:Assets written to: best_model_acc_fase0/assets\n"
     ]
    },
    {
     "name": "stderr",
     "output_type": "stream",
     "text": [
      "INFO:tensorflow:Assets written to: best_model_acc_fase0/assets\n"
     ]
    },
    {
     "name": "stdout",
     "output_type": "stream",
     "text": [
      "7766/7766 [==============================] - 316s 41ms/step - loss: 0.0100 - accuracy: 0.9972 - val_loss: 0.0706 - val_accuracy: 0.9799\n",
      "Epoch 8/10\n",
      "7765/7766 [============================>.] - ETA: 0s - loss: 0.0091 - accuracy: 0.9975INFO:tensorflow:Assets written to: best_model_acc_fase0/assets\n"
     ]
    },
    {
     "name": "stderr",
     "output_type": "stream",
     "text": [
      "INFO:tensorflow:Assets written to: best_model_acc_fase0/assets\n"
     ]
    },
    {
     "name": "stdout",
     "output_type": "stream",
     "text": [
      "7766/7766 [==============================] - 316s 41ms/step - loss: 0.0091 - accuracy: 0.9975 - val_loss: 0.0840 - val_accuracy: 0.9772\n",
      "Epoch 9/10\n",
      "7765/7766 [============================>.] - ETA: 0s - loss: 0.0082 - accuracy: 0.9978INFO:tensorflow:Assets written to: best_model_acc_fase0/assets\n"
     ]
    },
    {
     "name": "stderr",
     "output_type": "stream",
     "text": [
      "INFO:tensorflow:Assets written to: best_model_acc_fase0/assets\n"
     ]
    },
    {
     "name": "stdout",
     "output_type": "stream",
     "text": [
      "7766/7766 [==============================] - 316s 41ms/step - loss: 0.0082 - accuracy: 0.9978 - val_loss: 0.1029 - val_accuracy: 0.9738\n",
      "Epoch 10/10\n",
      "7765/7766 [============================>.] - ETA: 0s - loss: 0.0078 - accuracy: 0.9979INFO:tensorflow:Assets written to: best_model_acc_fase0/assets\n"
     ]
    },
    {
     "name": "stderr",
     "output_type": "stream",
     "text": [
      "INFO:tensorflow:Assets written to: best_model_acc_fase0/assets\n"
     ]
    },
    {
     "name": "stdout",
     "output_type": "stream",
     "text": [
      "7766/7766 [==============================] - 316s 41ms/step - loss: 0.0078 - accuracy: 0.9979 - val_loss: 0.0848 - val_accuracy: 0.9780\n"
     ]
    },
    {
     "data": {
      "text/plain": [
       "<keras.src.callbacks.History at 0x7f3094e78340>"
      ]
     },
     "execution_count": 20,
     "metadata": {},
     "output_type": "execute_result"
    }
   ],
   "source": [
    "model_bin = tf.keras.models.load_model('best_model_acc')\n",
    "\n",
    "majestic = pd.read_csv('./treino/majestic_ascii.csv')\n",
    "majestic['69'] = 0\n",
    "majestic['70'] = 0\n",
    "majestic['71'] = 0\n",
    "\n",
    "dga = pd.read_csv('./teste/df_teste0.csv')\n",
    "dga = dga.drop('family', axis = 1)\n",
    "\n",
    "dga.columns = majestic.columns\n",
    "dga = dga.loc[~dga['domain'].isin(majestic['domain'])].reset_index(drop=True)\n",
    "\n",
    "df_treino = pd.concat([majestic.sample(500000, random_state=1),dga], axis = 0, ignore_index=True)\n",
    "\n",
    "X_train = df_treino.drop(['domain','label'], axis = 1)\n",
    "y_train = df_treino['label']\n",
    "\n",
    "X_train = X_train.to_numpy()\n",
    "y_train = y_train.to_numpy()\n",
    "\n",
    "best = tf.keras.callbacks.ModelCheckpoint(\n",
    "    filepath='best_model_acc_fase0',\n",
    "    save_weights_only=False,\n",
    "    monitor='accuracy',\n",
    "    mode='max',\n",
    "    save_best_only=True)\n",
    "\n",
    "model_bin.fit(X_train, y_train,\n",
    "              epochs=10,\n",
    "              callbacks = [best],\n",
    "              validation_split = 0.2,\n",
    "              batch_size=200)"
   ]
  },
  {
   "cell_type": "code",
   "execution_count": 21,
   "id": "d97e1ffc-cbb0-48ce-bc4a-c2d6e441fd80",
   "metadata": {},
   "outputs": [
    {
     "name": "stdout",
     "output_type": "stream",
     "text": [
      "57413/57413 [==============================] - 714s 12ms/step\n",
      "Matriz de Confusão Teste:  1\n",
      "[[ 484833   15167]\n",
      " [  17296 1319902]]\n",
      "Relatório de Classificação\n",
      "              precision    recall  f1-score   support\n",
      "\n",
      "           0     0.9656    0.9697    0.9676    500000\n",
      "           1     0.9886    0.9871    0.9879   1337198\n",
      "\n",
      "    accuracy                         0.9823   1837198\n",
      "   macro avg     0.9771    0.9784    0.9777   1837198\n",
      "weighted avg     0.9824    0.9823    0.9823   1837198\n",
      "\n",
      "____________________\n",
      "60792/60792 [==============================] - 728s 12ms/step\n",
      "Matriz de Confusão Teste:  2\n",
      "[[ 484833   15167]\n",
      " [  21108 1424206]]\n",
      "Relatório de Classificação\n",
      "              precision    recall  f1-score   support\n",
      "\n",
      "           0     0.9583    0.9697    0.9639    500000\n",
      "           1     0.9895    0.9854    0.9874   1445314\n",
      "\n",
      "    accuracy                         0.9814   1945314\n",
      "   macro avg     0.9739    0.9775    0.9757   1945314\n",
      "weighted avg     0.9814    0.9814    0.9814   1945314\n",
      "\n",
      "____________________\n",
      "56590/56590 [==============================] - 677s 12ms/step\n",
      "Matriz de Confusão Teste:  3\n",
      "[[ 484833   15167]\n",
      " [  23514 1287353]]\n",
      "Relatório de Classificação\n",
      "              precision    recall  f1-score   support\n",
      "\n",
      "           0     0.9537    0.9697    0.9616    500000\n",
      "           1     0.9884    0.9821    0.9852   1310867\n",
      "\n",
      "    accuracy                         0.9786   1810867\n",
      "   macro avg     0.9710    0.9759    0.9734   1810867\n",
      "weighted avg     0.9788    0.9786    0.9787   1810867\n",
      "\n",
      "____________________\n",
      "61423/61423 [==============================] - 735s 12ms/step\n",
      "Matriz de Confusão Teste:  4\n",
      "[[ 484833   15167]\n",
      " [  24798 1440709]]\n",
      "Relatório de Classificação\n",
      "              precision    recall  f1-score   support\n",
      "\n",
      "           0     0.9513    0.9697    0.9604    500000\n",
      "           1     0.9896    0.9831    0.9863   1465507\n",
      "\n",
      "    accuracy                         0.9797   1965507\n",
      "   macro avg     0.9705    0.9764    0.9734   1965507\n",
      "weighted avg     0.9799    0.9797    0.9797   1965507\n",
      "\n",
      "____________________\n",
      "56719/56719 [==============================] - 681s 12ms/step\n",
      "Matriz de Confusão Teste:  5\n",
      "[[ 484833   15167]\n",
      " [  23061 1291927]]\n",
      "Relatório de Classificação\n",
      "              precision    recall  f1-score   support\n",
      "\n",
      "           0     0.9546    0.9697    0.9621    500000\n",
      "           1     0.9884    0.9825    0.9854   1314988\n",
      "\n",
      "    accuracy                         0.9789   1814988\n",
      "   macro avg     0.9715    0.9761    0.9737   1814988\n",
      "weighted avg     0.9791    0.9789    0.9790   1814988\n",
      "\n",
      "____________________\n",
      "60739/60739 [==============================] - 730s 12ms/step\n",
      "Matriz de Confusão Teste:  6\n",
      "[[ 484833   15167]\n",
      " [  22894 1420739]]\n",
      "Relatório de Classificação\n",
      "              precision    recall  f1-score   support\n",
      "\n",
      "           0     0.9549    0.9697    0.9622    500000\n",
      "           1     0.9894    0.9841    0.9868   1443633\n",
      "\n",
      "    accuracy                         0.9804   1943633\n",
      "   macro avg     0.9722    0.9769    0.9745   1943633\n",
      "weighted avg     0.9806    0.9804    0.9805   1943633\n",
      "\n",
      "____________________\n",
      "56582/56582 [==============================] - 682s 12ms/step\n",
      "Matriz de Confusão Teste:  7\n",
      "[[ 484833   15167]\n",
      " [  20778 1289844]]\n",
      "Relatório de Classificação\n",
      "              precision    recall  f1-score   support\n",
      "\n",
      "           0     0.9589    0.9697    0.9643    500000\n",
      "           1     0.9884    0.9841    0.9863   1310622\n",
      "\n",
      "    accuracy                         0.9801   1810622\n",
      "   macro avg     0.9736    0.9769    0.9753   1810622\n",
      "weighted avg     0.9802    0.9801    0.9802   1810622\n",
      "\n",
      "____________________\n",
      "61418/61418 [==============================] - 740s 12ms/step\n",
      "Matriz de Confusão Teste:  8\n",
      "[[ 484833   15167]\n",
      " [  24052 1441301]]\n",
      "Relatório de Classificação\n",
      "              precision    recall  f1-score   support\n",
      "\n",
      "           0     0.9527    0.9697    0.9611    500000\n",
      "           1     0.9896    0.9836    0.9866   1465353\n",
      "\n",
      "    accuracy                         0.9800   1965353\n",
      "   macro avg     0.9712    0.9766    0.9739   1965353\n",
      "weighted avg     0.9802    0.9800    0.9801   1965353\n",
      "\n",
      "____________________\n",
      "56730/56730 [==============================] - 685s 12ms/step\n",
      "Matriz de Confusão Teste:  9\n",
      "[[ 484833   15167]\n",
      " [  24279 1291066]]\n",
      "Relatório de Classificação\n",
      "              precision    recall  f1-score   support\n",
      "\n",
      "           0     0.9523    0.9697    0.9609    500000\n",
      "           1     0.9884    0.9815    0.9850   1315345\n",
      "\n",
      "    accuracy                         0.9783   1815345\n",
      "   macro avg     0.9703    0.9756    0.9729   1815345\n",
      "weighted avg     0.9785    0.9783    0.9783   1815345\n",
      "\n",
      "____________________\n",
      "61541/61541 [==============================] - 744s 12ms/step\n",
      "Matriz de Confusão Teste:  10\n",
      "[[ 484833   15167]\n",
      " [  21832 1447453]]\n",
      "Relatório de Classificação\n",
      "              precision    recall  f1-score   support\n",
      "\n",
      "           0     0.9569    0.9697    0.9632    500000\n",
      "           1     0.9896    0.9851    0.9874   1469285\n",
      "\n",
      "    accuracy                         0.9812   1969285\n",
      "   macro avg     0.9733    0.9774    0.9753   1969285\n",
      "weighted avg     0.9813    0.9812    0.9813   1969285\n",
      "\n",
      "____________________\n",
      "57414/57414 [==============================] - 697s 12ms/step\n",
      "Matriz de Confusão Teste:  11\n",
      "[[ 484833   15167]\n",
      " [  20864 1316373]]\n",
      "Relatório de Classificação\n",
      "              precision    recall  f1-score   support\n",
      "\n",
      "           0     0.9587    0.9697    0.9642    500000\n",
      "           1     0.9886    0.9844    0.9865   1337237\n",
      "\n",
      "    accuracy                         0.9804   1837237\n",
      "   macro avg     0.9737    0.9770    0.9753   1837237\n",
      "weighted avg     0.9805    0.9804    0.9804   1837237\n",
      "\n",
      "____________________\n"
     ]
    }
   ],
   "source": [
    "model_bin = tf.keras.models.load_model('best_model_acc_fase0')\n",
    "legit = majestic.loc[~majestic['domain'].isin(df_treino['domain'])].reset_index(drop=True)\n",
    "\n",
    "for i in range (1,12):\n",
    "    dga = pd.read_csv('./teste/df_teste'+str(i)+'.csv')\n",
    "    dga = dga.drop('family', axis = 1)\n",
    "    dga = dga.loc[~dga['domain'].isin(majestic['domain'])].reset_index(drop=True)\n",
    "\n",
    "    dga.columns = legit.columns\n",
    "    df_teste = pd.concat([legit,dga], axis = 0, ignore_index=True)\n",
    "\n",
    "    X_test = df_teste.drop(['domain','label'], axis = 1)\n",
    "    y_test = df_teste['label']\n",
    "\n",
    "    X_test = X_test.to_numpy()\n",
    "    y_test = y_test.to_numpy()\n",
    "\n",
    "    with tf.device('/cpu:0'):\n",
    "        predictions = model_bin.predict(X_test)\n",
    "        predictions = np.where(predictions > 0.5, 1, 0)\n",
    "    \n",
    "    print('Matriz de Confusão Teste: ', str(i))\n",
    "    print(confusion_matrix(y_test,predictions))\n",
    "\n",
    "    print('Relatório de Classificação')\n",
    "    print(classification_report(y_test,predictions, digits=4))\n",
    "    print('____________________')"
   ]
  },
  {
   "cell_type": "markdown",
   "id": "b79b9713-b7e7-435d-aa7b-239bab868952",
   "metadata": {},
   "source": [
    "## Teste Segundo Treinamento Incremental"
   ]
  },
  {
   "cell_type": "code",
   "execution_count": 22,
   "id": "7d97f7d8-a582-4dbf-b934-452b67bf8139",
   "metadata": {},
   "outputs": [
    {
     "name": "stdout",
     "output_type": "stream",
     "text": [
      "Epoch 1/10\n",
      "7347/7349 [============================>.] - ETA: 0s - loss: 0.0234 - accuracy: 0.9928"
     ]
    },
    {
     "name": "stderr",
     "output_type": "stream",
     "text": [
      "2024-01-22 22:32:05.226878: W tensorflow/tsl/framework/bfc_allocator.cc:296] Allocator (GPU_0_bfc) ran out of memory trying to allocate 1.19GiB with freed_by_count=0. The caller indicates that this is not a failure, but this may mean that there could be performance gains if more memory were available.\n"
     ]
    },
    {
     "name": "stdout",
     "output_type": "stream",
     "text": [
      "7349/7349 [==============================] - ETA: 0s - loss: 0.0234 - accuracy: 0.9928INFO:tensorflow:Assets written to: best_model_acc_fase1/assets\n"
     ]
    },
    {
     "name": "stderr",
     "output_type": "stream",
     "text": [
      "INFO:tensorflow:Assets written to: best_model_acc_fase1/assets\n"
     ]
    },
    {
     "name": "stdout",
     "output_type": "stream",
     "text": [
      "7349/7349 [==============================] - 301s 41ms/step - loss: 0.0234 - accuracy: 0.9928 - val_loss: 0.0409 - val_accuracy: 0.9840\n",
      "Epoch 2/10\n",
      "7348/7349 [============================>.] - ETA: 0s - loss: 0.0163 - accuracy: 0.9953INFO:tensorflow:Assets written to: best_model_acc_fase1/assets\n"
     ]
    },
    {
     "name": "stderr",
     "output_type": "stream",
     "text": [
      "INFO:tensorflow:Assets written to: best_model_acc_fase1/assets\n"
     ]
    },
    {
     "name": "stdout",
     "output_type": "stream",
     "text": [
      "7349/7349 [==============================] - 297s 40ms/step - loss: 0.0163 - accuracy: 0.9953 - val_loss: 0.0398 - val_accuracy: 0.9864\n",
      "Epoch 3/10\n",
      "7349/7349 [==============================] - ETA: 0s - loss: 0.0126 - accuracy: 0.9965INFO:tensorflow:Assets written to: best_model_acc_fase1/assets\n"
     ]
    },
    {
     "name": "stderr",
     "output_type": "stream",
     "text": [
      "INFO:tensorflow:Assets written to: best_model_acc_fase1/assets\n"
     ]
    },
    {
     "name": "stdout",
     "output_type": "stream",
     "text": [
      "7349/7349 [==============================] - 298s 41ms/step - loss: 0.0126 - accuracy: 0.9965 - val_loss: 0.0526 - val_accuracy: 0.9832\n",
      "Epoch 4/10\n",
      "7349/7349 [==============================] - ETA: 0s - loss: 0.0104 - accuracy: 0.9972INFO:tensorflow:Assets written to: best_model_acc_fase1/assets\n"
     ]
    },
    {
     "name": "stderr",
     "output_type": "stream",
     "text": [
      "INFO:tensorflow:Assets written to: best_model_acc_fase1/assets\n"
     ]
    },
    {
     "name": "stdout",
     "output_type": "stream",
     "text": [
      "7349/7349 [==============================] - 298s 41ms/step - loss: 0.0104 - accuracy: 0.9972 - val_loss: 0.0610 - val_accuracy: 0.9823\n",
      "Epoch 5/10\n",
      "7349/7349 [==============================] - ETA: 0s - loss: 0.0091 - accuracy: 0.9976INFO:tensorflow:Assets written to: best_model_acc_fase1/assets\n"
     ]
    },
    {
     "name": "stderr",
     "output_type": "stream",
     "text": [
      "INFO:tensorflow:Assets written to: best_model_acc_fase1/assets\n"
     ]
    },
    {
     "name": "stdout",
     "output_type": "stream",
     "text": [
      "7349/7349 [==============================] - 298s 41ms/step - loss: 0.0091 - accuracy: 0.9976 - val_loss: 0.0613 - val_accuracy: 0.9833\n",
      "Epoch 6/10\n",
      "7349/7349 [==============================] - ETA: 0s - loss: 0.0082 - accuracy: 0.9978INFO:tensorflow:Assets written to: best_model_acc_fase1/assets\n"
     ]
    },
    {
     "name": "stderr",
     "output_type": "stream",
     "text": [
      "INFO:tensorflow:Assets written to: best_model_acc_fase1/assets\n"
     ]
    },
    {
     "name": "stdout",
     "output_type": "stream",
     "text": [
      "7349/7349 [==============================] - 298s 41ms/step - loss: 0.0082 - accuracy: 0.9978 - val_loss: 0.0640 - val_accuracy: 0.9827\n",
      "Epoch 7/10\n",
      "7349/7349 [==============================] - ETA: 0s - loss: 0.0074 - accuracy: 0.9981INFO:tensorflow:Assets written to: best_model_acc_fase1/assets\n"
     ]
    },
    {
     "name": "stderr",
     "output_type": "stream",
     "text": [
      "INFO:tensorflow:Assets written to: best_model_acc_fase1/assets\n"
     ]
    },
    {
     "name": "stdout",
     "output_type": "stream",
     "text": [
      "7349/7349 [==============================] - 298s 41ms/step - loss: 0.0074 - accuracy: 0.9981 - val_loss: 0.0551 - val_accuracy: 0.9859\n",
      "Epoch 8/10\n",
      "7349/7349 [==============================] - ETA: 0s - loss: 0.0069 - accuracy: 0.9982INFO:tensorflow:Assets written to: best_model_acc_fase1/assets\n"
     ]
    },
    {
     "name": "stderr",
     "output_type": "stream",
     "text": [
      "INFO:tensorflow:Assets written to: best_model_acc_fase1/assets\n"
     ]
    },
    {
     "name": "stdout",
     "output_type": "stream",
     "text": [
      "7349/7349 [==============================] - 298s 41ms/step - loss: 0.0069 - accuracy: 0.9982 - val_loss: 0.0754 - val_accuracy: 0.9811\n",
      "Epoch 9/10\n",
      "7349/7349 [==============================] - ETA: 0s - loss: 0.0065 - accuracy: 0.9983INFO:tensorflow:Assets written to: best_model_acc_fase1/assets\n"
     ]
    },
    {
     "name": "stderr",
     "output_type": "stream",
     "text": [
      "INFO:tensorflow:Assets written to: best_model_acc_fase1/assets\n"
     ]
    },
    {
     "name": "stdout",
     "output_type": "stream",
     "text": [
      "7349/7349 [==============================] - 299s 41ms/step - loss: 0.0065 - accuracy: 0.9983 - val_loss: 0.0875 - val_accuracy: 0.9794\n",
      "Epoch 10/10\n",
      "7349/7349 [==============================] - ETA: 0s - loss: 0.0063 - accuracy: 0.9984INFO:tensorflow:Assets written to: best_model_acc_fase1/assets\n"
     ]
    },
    {
     "name": "stderr",
     "output_type": "stream",
     "text": [
      "INFO:tensorflow:Assets written to: best_model_acc_fase1/assets\n"
     ]
    },
    {
     "name": "stdout",
     "output_type": "stream",
     "text": [
      "7349/7349 [==============================] - 298s 41ms/step - loss: 0.0063 - accuracy: 0.9984 - val_loss: 0.0665 - val_accuracy: 0.9845\n"
     ]
    },
    {
     "data": {
      "text/plain": [
       "<keras.src.callbacks.History at 0x7f303cee0910>"
      ]
     },
     "execution_count": 22,
     "metadata": {},
     "output_type": "execute_result"
    }
   ],
   "source": [
    "model_bin = tf.keras.models.load_model('best_model_acc_fase0')\n",
    "\n",
    "majestic = pd.read_csv('./treino/majestic_ascii.csv')\n",
    "majestic['69'] = 0\n",
    "majestic['70'] = 0\n",
    "majestic['71'] = 0\n",
    "\n",
    "dga = pd.read_csv('./teste/df_teste1.csv')\n",
    "dga = dga.drop('family', axis = 1)\n",
    "\n",
    "dga.columns = majestic.columns\n",
    "dga = dga.loc[~dga['domain'].isin(majestic['domain'])].reset_index(drop=True)\n",
    "\n",
    "df_treino = pd.concat([majestic.sample(500000, random_state=1),dga], axis = 0, ignore_index=True)\n",
    "\n",
    "X_train = df_treino.drop(['domain','label'], axis = 1)\n",
    "y_train = df_treino['label']\n",
    "\n",
    "X_train = X_train.to_numpy()\n",
    "y_train = y_train.to_numpy()\n",
    "\n",
    "best = tf.keras.callbacks.ModelCheckpoint(\n",
    "    filepath='best_model_acc_fase1',\n",
    "    save_weights_only=False,\n",
    "    monitor='accuracy',\n",
    "    mode='max',\n",
    "    save_best_only=True)\n",
    "\n",
    "model_bin.fit(X_train, y_train,\n",
    "              epochs=10,\n",
    "              callbacks = [best],\n",
    "              validation_split = 0.2,\n",
    "              batch_size=200)"
   ]
  },
  {
   "cell_type": "code",
   "execution_count": 23,
   "id": "67eb6334-ee55-4143-839d-5fee07b6f72e",
   "metadata": {},
   "outputs": [
    {
     "name": "stdout",
     "output_type": "stream",
     "text": [
      "60792/60792 [==============================] - 754s 12ms/step\n",
      "Matriz de Confusão Teste:  2\n",
      "[[ 480664   19336]\n",
      " [  13858 1431456]]\n",
      "Relatório de Classificação\n",
      "              precision    recall  f1-score   support\n",
      "\n",
      "           0     0.9720    0.9613    0.9666    500000\n",
      "           1     0.9867    0.9904    0.9885   1445314\n",
      "\n",
      "    accuracy                         0.9829   1945314\n",
      "   macro avg     0.9793    0.9759    0.9776   1945314\n",
      "weighted avg     0.9829    0.9829    0.9829   1945314\n",
      "\n",
      "____________________\n",
      "56590/56590 [==============================] - 679s 12ms/step\n",
      "Matriz de Confusão Teste:  3\n",
      "[[ 480664   19336]\n",
      " [  18674 1292193]]\n",
      "Relatório de Classificação\n",
      "              precision    recall  f1-score   support\n",
      "\n",
      "           0     0.9626    0.9613    0.9620    500000\n",
      "           1     0.9853    0.9858    0.9855   1310867\n",
      "\n",
      "    accuracy                         0.9790   1810867\n",
      "   macro avg     0.9739    0.9735    0.9737   1810867\n",
      "weighted avg     0.9790    0.9790    0.9790   1810867\n",
      "\n",
      "____________________\n",
      "61423/61423 [==============================] - 739s 12ms/step\n",
      "Matriz de Confusão Teste:  4\n",
      "[[ 480664   19336]\n",
      " [  20500 1445007]]\n",
      "Relatório de Classificação\n",
      "              precision    recall  f1-score   support\n",
      "\n",
      "           0     0.9591    0.9613    0.9602    500000\n",
      "           1     0.9868    0.9860    0.9864   1465507\n",
      "\n",
      "    accuracy                         0.9797   1965507\n",
      "   macro avg     0.9729    0.9737    0.9733   1965507\n",
      "weighted avg     0.9797    0.9797    0.9797   1965507\n",
      "\n",
      "____________________\n",
      "56719/56719 [==============================] - 682s 12ms/step\n",
      "Matriz de Confusão Teste:  5\n",
      "[[ 480664   19336]\n",
      " [  18881 1296107]]\n",
      "Relatório de Classificação\n",
      "              precision    recall  f1-score   support\n",
      "\n",
      "           0     0.9622    0.9613    0.9618    500000\n",
      "           1     0.9853    0.9856    0.9855   1314988\n",
      "\n",
      "    accuracy                         0.9789   1814988\n",
      "   macro avg     0.9738    0.9735    0.9736   1814988\n",
      "weighted avg     0.9789    0.9789    0.9789   1814988\n",
      "\n",
      "____________________\n",
      "60739/60739 [==============================] - 731s 12ms/step\n",
      "Matriz de Confusão Teste:  6\n",
      "[[ 480664   19336]\n",
      " [  19480 1424153]]\n",
      "Relatório de Classificação\n",
      "              precision    recall  f1-score   support\n",
      "\n",
      "           0     0.9611    0.9613    0.9612    500000\n",
      "           1     0.9866    0.9865    0.9866   1443633\n",
      "\n",
      "    accuracy                         0.9800   1943633\n",
      "   macro avg     0.9738    0.9739    0.9739   1943633\n",
      "weighted avg     0.9800    0.9800    0.9800   1943633\n",
      "\n",
      "____________________\n",
      "56582/56582 [==============================] - 685s 12ms/step\n",
      "Matriz de Confusão Teste:  7\n",
      "[[ 480664   19336]\n",
      " [  16838 1293784]]\n",
      "Relatório de Classificação\n",
      "              precision    recall  f1-score   support\n",
      "\n",
      "           0     0.9662    0.9613    0.9637    500000\n",
      "           1     0.9853    0.9872    0.9862   1310622\n",
      "\n",
      "    accuracy                         0.9800   1810622\n",
      "   macro avg     0.9757    0.9742    0.9750   1810622\n",
      "weighted avg     0.9800    0.9800    0.9800   1810622\n",
      "\n",
      "____________________\n",
      "61418/61418 [==============================] - 744s 12ms/step\n",
      "Matriz de Confusão Teste:  8\n",
      "[[ 480664   19336]\n",
      " [  18131 1447222]]\n",
      "Relatório de Classificação\n",
      "              precision    recall  f1-score   support\n",
      "\n",
      "           0     0.9637    0.9613    0.9625    500000\n",
      "           1     0.9868    0.9876    0.9872   1465353\n",
      "\n",
      "    accuracy                         0.9809   1965353\n",
      "   macro avg     0.9752    0.9745    0.9749   1965353\n",
      "weighted avg     0.9809    0.9809    0.9809   1965353\n",
      "\n",
      "____________________\n",
      "56730/56730 [==============================] - 690s 12ms/step\n",
      "Matriz de Confusão Teste:  9\n",
      "[[ 480664   19336]\n",
      " [  18728 1296617]]\n",
      "Relatório de Classificação\n",
      "              precision    recall  f1-score   support\n",
      "\n",
      "           0     0.9625    0.9613    0.9619    500000\n",
      "           1     0.9853    0.9858    0.9855   1315345\n",
      "\n",
      "    accuracy                         0.9790   1815345\n",
      "   macro avg     0.9739    0.9735    0.9737   1815345\n",
      "weighted avg     0.9790    0.9790    0.9790   1815345\n",
      "\n",
      "____________________\n",
      "61541/61541 [==============================] - 750s 12ms/step\n",
      "Matriz de Confusão Teste:  10\n",
      "[[ 480664   19336]\n",
      " [  17320 1451965]]\n",
      "Relatório de Classificação\n",
      "              precision    recall  f1-score   support\n",
      "\n",
      "           0     0.9652    0.9613    0.9633    500000\n",
      "           1     0.9869    0.9882    0.9875   1469285\n",
      "\n",
      "    accuracy                         0.9814   1969285\n",
      "   macro avg     0.9760    0.9748    0.9754   1969285\n",
      "weighted avg     0.9814    0.9814    0.9814   1969285\n",
      "\n",
      "____________________\n",
      "57414/57414 [==============================] - 702s 12ms/step\n",
      "Matriz de Confusão Teste:  11\n",
      "[[ 480664   19336]\n",
      " [  16004 1321233]]\n",
      "Relatório de Classificação\n",
      "              precision    recall  f1-score   support\n",
      "\n",
      "           0     0.9678    0.9613    0.9645    500000\n",
      "           1     0.9856    0.9880    0.9868   1337237\n",
      "\n",
      "    accuracy                         0.9808   1837237\n",
      "   macro avg     0.9767    0.9747    0.9757   1837237\n",
      "weighted avg     0.9807    0.9808    0.9807   1837237\n",
      "\n",
      "____________________\n"
     ]
    }
   ],
   "source": [
    "model_bin = tf.keras.models.load_model('best_model_acc_fase1')\n",
    "legit = majestic.loc[~majestic['domain'].isin(df_treino['domain'])].reset_index(drop=True)\n",
    "\n",
    "for i in range (2,12):\n",
    "    dga = pd.read_csv('./teste/df_teste'+str(i)+'.csv')\n",
    "    dga = dga.drop('family', axis = 1)\n",
    "    dga = dga.loc[~dga['domain'].isin(majestic['domain'])].reset_index(drop=True)\n",
    "\n",
    "    dga.columns = legit.columns\n",
    "    df_teste = pd.concat([legit,dga], axis = 0, ignore_index=True)\n",
    "\n",
    "    X_test = df_teste.drop(['domain','label'], axis = 1)\n",
    "    y_test = df_teste['label']\n",
    "\n",
    "    X_test = X_test.to_numpy()\n",
    "    y_test = y_test.to_numpy()\n",
    "\n",
    "    with tf.device('/cpu:0'):\n",
    "        predictions = model_bin.predict(X_test)\n",
    "        predictions = np.where(predictions > 0.5, 1, 0)\n",
    "    \n",
    "    print('Matriz de Confusão Teste: ', str(i))\n",
    "    print(confusion_matrix(y_test,predictions))\n",
    "\n",
    "    print('Relatório de Classificação')\n",
    "    print(classification_report(y_test,predictions, digits=4))\n",
    "    print('____________________')"
   ]
  },
  {
   "cell_type": "markdown",
   "id": "f82f071a-68de-4c98-948d-13428437627d",
   "metadata": {},
   "source": [
    "## Teste Terceiro Treino Incremental"
   ]
  },
  {
   "cell_type": "code",
   "execution_count": 24,
   "id": "ccf3f4ca-1f25-4acb-bdb7-fab7999c731b",
   "metadata": {},
   "outputs": [
    {
     "name": "stdout",
     "output_type": "stream",
     "text": [
      "Epoch 1/10\n",
      "7782/7782 [==============================] - ETA: 0s - loss: 0.0197 - accuracy: 0.9943INFO:tensorflow:Assets written to: best_model_acc_fase2/assets\n"
     ]
    },
    {
     "name": "stderr",
     "output_type": "stream",
     "text": [
      "INFO:tensorflow:Assets written to: best_model_acc_fase2/assets\n"
     ]
    },
    {
     "name": "stdout",
     "output_type": "stream",
     "text": [
      "7782/7782 [==============================] - 318s 41ms/step - loss: 0.0197 - accuracy: 0.9943 - val_loss: 0.0324 - val_accuracy: 0.9883\n",
      "Epoch 2/10\n",
      "7782/7782 [==============================] - ETA: 0s - loss: 0.0131 - accuracy: 0.9965INFO:tensorflow:Assets written to: best_model_acc_fase2/assets\n"
     ]
    },
    {
     "name": "stderr",
     "output_type": "stream",
     "text": [
      "INFO:tensorflow:Assets written to: best_model_acc_fase2/assets\n"
     ]
    },
    {
     "name": "stdout",
     "output_type": "stream",
     "text": [
      "7782/7782 [==============================] - 314s 40ms/step - loss: 0.0131 - accuracy: 0.9965 - val_loss: 0.0474 - val_accuracy: 0.9851\n",
      "Epoch 3/10\n",
      "7781/7782 [============================>.] - ETA: 0s - loss: 0.0101 - accuracy: 0.9974INFO:tensorflow:Assets written to: best_model_acc_fase2/assets\n"
     ]
    },
    {
     "name": "stderr",
     "output_type": "stream",
     "text": [
      "INFO:tensorflow:Assets written to: best_model_acc_fase2/assets\n"
     ]
    },
    {
     "name": "stdout",
     "output_type": "stream",
     "text": [
      "7782/7782 [==============================] - 314s 40ms/step - loss: 0.0101 - accuracy: 0.9974 - val_loss: 0.0409 - val_accuracy: 0.9880\n",
      "Epoch 4/10\n",
      "7781/7782 [============================>.] - ETA: 0s - loss: 0.0085 - accuracy: 0.9979INFO:tensorflow:Assets written to: best_model_acc_fase2/assets\n"
     ]
    },
    {
     "name": "stderr",
     "output_type": "stream",
     "text": [
      "INFO:tensorflow:Assets written to: best_model_acc_fase2/assets\n"
     ]
    },
    {
     "name": "stdout",
     "output_type": "stream",
     "text": [
      "7782/7782 [==============================] - 315s 40ms/step - loss: 0.0085 - accuracy: 0.9979 - val_loss: 0.0498 - val_accuracy: 0.9861\n",
      "Epoch 5/10\n",
      "7781/7782 [============================>.] - ETA: 0s - loss: 0.0074 - accuracy: 0.9981INFO:tensorflow:Assets written to: best_model_acc_fase2/assets\n"
     ]
    },
    {
     "name": "stderr",
     "output_type": "stream",
     "text": [
      "INFO:tensorflow:Assets written to: best_model_acc_fase2/assets\n"
     ]
    },
    {
     "name": "stdout",
     "output_type": "stream",
     "text": [
      "7782/7782 [==============================] - 315s 41ms/step - loss: 0.0074 - accuracy: 0.9981 - val_loss: 0.0601 - val_accuracy: 0.9853\n",
      "Epoch 6/10\n",
      "7781/7782 [============================>.] - ETA: 0s - loss: 0.0066 - accuracy: 0.9984INFO:tensorflow:Assets written to: best_model_acc_fase2/assets\n"
     ]
    },
    {
     "name": "stderr",
     "output_type": "stream",
     "text": [
      "INFO:tensorflow:Assets written to: best_model_acc_fase2/assets\n"
     ]
    },
    {
     "name": "stdout",
     "output_type": "stream",
     "text": [
      "7782/7782 [==============================] - 315s 40ms/step - loss: 0.0066 - accuracy: 0.9984 - val_loss: 0.0668 - val_accuracy: 0.9839\n",
      "Epoch 7/10\n",
      "7781/7782 [============================>.] - ETA: 0s - loss: 0.0061 - accuracy: 0.9985INFO:tensorflow:Assets written to: best_model_acc_fase2/assets\n"
     ]
    },
    {
     "name": "stderr",
     "output_type": "stream",
     "text": [
      "INFO:tensorflow:Assets written to: best_model_acc_fase2/assets\n"
     ]
    },
    {
     "name": "stdout",
     "output_type": "stream",
     "text": [
      "7782/7782 [==============================] - 315s 41ms/step - loss: 0.0061 - accuracy: 0.9985 - val_loss: 0.0706 - val_accuracy: 0.9837\n",
      "Epoch 8/10\n",
      "7781/7782 [============================>.] - ETA: 0s - loss: 0.0058 - accuracy: 0.9986INFO:tensorflow:Assets written to: best_model_acc_fase2/assets\n"
     ]
    },
    {
     "name": "stderr",
     "output_type": "stream",
     "text": [
      "INFO:tensorflow:Assets written to: best_model_acc_fase2/assets\n"
     ]
    },
    {
     "name": "stdout",
     "output_type": "stream",
     "text": [
      "7782/7782 [==============================] - 316s 41ms/step - loss: 0.0058 - accuracy: 0.9986 - val_loss: 0.0741 - val_accuracy: 0.9826\n",
      "Epoch 9/10\n",
      "7781/7782 [============================>.] - ETA: 0s - loss: 0.0055 - accuracy: 0.9987INFO:tensorflow:Assets written to: best_model_acc_fase2/assets\n"
     ]
    },
    {
     "name": "stderr",
     "output_type": "stream",
     "text": [
      "INFO:tensorflow:Assets written to: best_model_acc_fase2/assets\n"
     ]
    },
    {
     "name": "stdout",
     "output_type": "stream",
     "text": [
      "7782/7782 [==============================] - 316s 41ms/step - loss: 0.0055 - accuracy: 0.9987 - val_loss: 0.0862 - val_accuracy: 0.9800\n",
      "Epoch 10/10\n",
      "7781/7782 [============================>.] - ETA: 0s - loss: 0.0052 - accuracy: 0.9988INFO:tensorflow:Assets written to: best_model_acc_fase2/assets\n"
     ]
    },
    {
     "name": "stderr",
     "output_type": "stream",
     "text": [
      "INFO:tensorflow:Assets written to: best_model_acc_fase2/assets\n"
     ]
    },
    {
     "name": "stdout",
     "output_type": "stream",
     "text": [
      "7782/7782 [==============================] - 315s 41ms/step - loss: 0.0052 - accuracy: 0.9988 - val_loss: 0.0652 - val_accuracy: 0.9856\n"
     ]
    },
    {
     "data": {
      "text/plain": [
       "<keras.src.callbacks.History at 0x7f307067a200>"
      ]
     },
     "execution_count": 24,
     "metadata": {},
     "output_type": "execute_result"
    }
   ],
   "source": [
    "model_bin = tf.keras.models.load_model('best_model_acc_fase1')\n",
    "\n",
    "majestic = pd.read_csv('./treino/majestic_ascii.csv')\n",
    "majestic['69'] = 0\n",
    "majestic['70'] = 0\n",
    "majestic['71'] = 0\n",
    "\n",
    "dga = pd.read_csv('./teste/df_teste2.csv')\n",
    "dga = dga.drop('family', axis = 1)\n",
    "\n",
    "dga.columns = majestic.columns\n",
    "dga = dga.loc[~dga['domain'].isin(majestic['domain'])].reset_index(drop=True)\n",
    "\n",
    "df_treino = pd.concat([majestic.sample(500000, random_state=1),dga], axis = 0, ignore_index=True)\n",
    "\n",
    "X_train = df_treino.drop(['domain','label'], axis = 1)\n",
    "y_train = df_treino['label']\n",
    "\n",
    "X_train = X_train.to_numpy()\n",
    "y_train = y_train.to_numpy()\n",
    "\n",
    "best = tf.keras.callbacks.ModelCheckpoint(\n",
    "    filepath='best_model_acc_fase2',\n",
    "    save_weights_only=False,\n",
    "    monitor='accuracy',\n",
    "    mode='max',\n",
    "    save_best_only=True)\n",
    "\n",
    "model_bin.fit(X_train, y_train,\n",
    "              epochs=10,\n",
    "              callbacks = [best],\n",
    "              validation_split = 0.2,\n",
    "              batch_size=200)"
   ]
  },
  {
   "cell_type": "code",
   "execution_count": 25,
   "id": "e7b93fbe-70a3-40ce-b247-87920908e7c9",
   "metadata": {},
   "outputs": [
    {
     "name": "stdout",
     "output_type": "stream",
     "text": [
      "56590/56590 [==============================] - 707s 12ms/step\n",
      "Matriz de Confusão Teste:  3\n",
      "[[ 481224   18776]\n",
      " [  15359 1295508]]\n",
      "Relatório de Classificação\n",
      "              precision    recall  f1-score   support\n",
      "\n",
      "           0     0.9691    0.9624    0.9657    500000\n",
      "           1     0.9857    0.9883    0.9870   1310867\n",
      "\n",
      "    accuracy                         0.9811   1810867\n",
      "   macro avg     0.9774    0.9754    0.9764   1810867\n",
      "weighted avg     0.9811    0.9811    0.9811   1810867\n",
      "\n",
      "____________________\n",
      "61423/61423 [==============================] - 742s 12ms/step\n",
      "Matriz de Confusão Teste:  4\n",
      "[[ 481224   18776]\n",
      " [  19670 1445837]]\n",
      "Relatório de Classificação\n",
      "              precision    recall  f1-score   support\n",
      "\n",
      "           0     0.9607    0.9624    0.9616    500000\n",
      "           1     0.9872    0.9866    0.9869   1465507\n",
      "\n",
      "    accuracy                         0.9804   1965507\n",
      "   macro avg     0.9740    0.9745    0.9742   1965507\n",
      "weighted avg     0.9805    0.9804    0.9804   1965507\n",
      "\n",
      "____________________\n",
      "56719/56719 [==============================] - 685s 12ms/step\n",
      "Matriz de Confusão Teste:  5\n",
      "[[ 481224   18776]\n",
      " [  18570 1296418]]\n",
      "Relatório de Classificação\n",
      "              precision    recall  f1-score   support\n",
      "\n",
      "           0     0.9628    0.9624    0.9626    500000\n",
      "           1     0.9857    0.9859    0.9858   1314988\n",
      "\n",
      "    accuracy                         0.9794   1814988\n",
      "   macro avg     0.9743    0.9742    0.9742   1814988\n",
      "weighted avg     0.9794    0.9794    0.9794   1814988\n",
      "\n",
      "____________________\n",
      "60739/60739 [==============================] - 737s 12ms/step\n",
      "Matriz de Confusão Teste:  6\n",
      "[[ 481224   18776]\n",
      " [  19363 1424270]]\n",
      "Relatório de Classificação\n",
      "              precision    recall  f1-score   support\n",
      "\n",
      "           0     0.9613    0.9624    0.9619    500000\n",
      "           1     0.9870    0.9866    0.9868   1443633\n",
      "\n",
      "    accuracy                         0.9804   1943633\n",
      "   macro avg     0.9742    0.9745    0.9743   1943633\n",
      "weighted avg     0.9804    0.9804    0.9804   1943633\n",
      "\n",
      "____________________\n",
      "56582/56582 [==============================] - 685s 12ms/step\n",
      "Matriz de Confusão Teste:  7\n",
      "[[ 481224   18776]\n",
      " [  18114 1292508]]\n",
      "Relatório de Classificação\n",
      "              precision    recall  f1-score   support\n",
      "\n",
      "           0     0.9637    0.9624    0.9631    500000\n",
      "           1     0.9857    0.9862    0.9859   1310622\n",
      "\n",
      "    accuracy                         0.9796   1810622\n",
      "   macro avg     0.9747    0.9743    0.9745   1810622\n",
      "weighted avg     0.9796    0.9796    0.9796   1810622\n",
      "\n",
      "____________________\n",
      "61418/61418 [==============================] - 745s 12ms/step\n",
      "Matriz de Confusão Teste:  8\n",
      "[[ 481224   18776]\n",
      " [  17417 1447936]]\n",
      "Relatório de Classificação\n",
      "              precision    recall  f1-score   support\n",
      "\n",
      "           0     0.9651    0.9624    0.9638    500000\n",
      "           1     0.9872    0.9881    0.9877   1465353\n",
      "\n",
      "    accuracy                         0.9816   1965353\n",
      "   macro avg     0.9761    0.9753    0.9757   1965353\n",
      "weighted avg     0.9816    0.9816    0.9816   1965353\n",
      "\n",
      "____________________\n",
      "56730/56730 [==============================] - 693s 12ms/step\n",
      "Matriz de Confusão Teste:  9\n",
      "[[ 481224   18776]\n",
      " [  17210 1298135]]\n",
      "Relatório de Classificação\n",
      "              precision    recall  f1-score   support\n",
      "\n",
      "           0     0.9655    0.9624    0.9640    500000\n",
      "           1     0.9857    0.9869    0.9863   1315345\n",
      "\n",
      "    accuracy                         0.9802   1815345\n",
      "   macro avg     0.9756    0.9747    0.9751   1815345\n",
      "weighted avg     0.9802    0.9802    0.9802   1815345\n",
      "\n",
      "____________________\n",
      "61541/61541 [==============================] - 754s 12ms/step\n",
      "Matriz de Confusão Teste:  10\n",
      "[[ 481224   18776]\n",
      " [  16413 1452872]]\n",
      "Relatório de Classificação\n",
      "              precision    recall  f1-score   support\n",
      "\n",
      "           0     0.9670    0.9624    0.9647    500000\n",
      "           1     0.9872    0.9888    0.9880   1469285\n",
      "\n",
      "    accuracy                         0.9821   1969285\n",
      "   macro avg     0.9771    0.9756    0.9764   1969285\n",
      "weighted avg     0.9821    0.9821    0.9821   1969285\n",
      "\n",
      "____________________\n",
      "57414/57414 [==============================] - 705s 12ms/step\n",
      "Matriz de Confusão Teste:  11\n",
      "[[ 481224   18776]\n",
      " [  15257 1321980]]\n",
      "Relatório de Classificação\n",
      "              precision    recall  f1-score   support\n",
      "\n",
      "           0     0.9693    0.9624    0.9658    500000\n",
      "           1     0.9860    0.9886    0.9873   1337237\n",
      "\n",
      "    accuracy                         0.9815   1837237\n",
      "   macro avg     0.9776    0.9755    0.9766   1837237\n",
      "weighted avg     0.9814    0.9815    0.9815   1837237\n",
      "\n",
      "____________________\n"
     ]
    }
   ],
   "source": [
    "model_bin = tf.keras.models.load_model('best_model_acc_fase2')\n",
    "legit = majestic.loc[~majestic['domain'].isin(df_treino['domain'])].reset_index(drop=True)\n",
    "\n",
    "for i in range (3,12):\n",
    "    dga = pd.read_csv('./teste/df_teste'+str(i)+'.csv')\n",
    "    dga = dga.drop('family', axis = 1)\n",
    "    dga = dga.loc[~dga['domain'].isin(majestic['domain'])].reset_index(drop=True)\n",
    "\n",
    "    dga.columns = legit.columns\n",
    "    df_teste = pd.concat([legit,dga], axis = 0, ignore_index=True)\n",
    "\n",
    "    X_test = df_teste.drop(['domain','label'], axis = 1)\n",
    "    y_test = df_teste['label']\n",
    "\n",
    "    X_test = X_test.to_numpy()\n",
    "    y_test = y_test.to_numpy()\n",
    "\n",
    "    with tf.device('/cpu:0'):\n",
    "        predictions = model_bin.predict(X_test)\n",
    "        predictions = np.where(predictions > 0.5, 1, 0)\n",
    "    \n",
    "    print('Matriz de Confusão Teste: ', str(i))\n",
    "    print(confusion_matrix(y_test,predictions))\n",
    "\n",
    "    print('Relatório de Classificação')\n",
    "    print(classification_report(y_test,predictions, digits=4))\n",
    "    print('____________________')"
   ]
  },
  {
   "cell_type": "markdown",
   "id": "43e19bcc-4ba3-4d38-bf45-b2c3b5551520",
   "metadata": {},
   "source": [
    "## Teste Quarto Treino Incremental"
   ]
  },
  {
   "cell_type": "code",
   "execution_count": 26,
   "id": "c324d0b4-3023-4d1e-aa49-ae9cb8c24614",
   "metadata": {},
   "outputs": [
    {
     "name": "stdout",
     "output_type": "stream",
     "text": [
      "Epoch 1/10\n",
      "7244/7244 [==============================] - ETA: 0s - loss: 0.0202 - accuracy: 0.9942INFO:tensorflow:Assets written to: best_model_acc_fase3/assets\n"
     ]
    },
    {
     "name": "stderr",
     "output_type": "stream",
     "text": [
      "INFO:tensorflow:Assets written to: best_model_acc_fase3/assets\n"
     ]
    },
    {
     "name": "stdout",
     "output_type": "stream",
     "text": [
      "7244/7244 [==============================] - 296s 41ms/step - loss: 0.0202 - accuracy: 0.9942 - val_loss: 0.0359 - val_accuracy: 0.9870\n",
      "Epoch 2/10\n",
      "7243/7244 [============================>.] - ETA: 0s - loss: 0.0127 - accuracy: 0.9967INFO:tensorflow:Assets written to: best_model_acc_fase3/assets\n"
     ]
    },
    {
     "name": "stderr",
     "output_type": "stream",
     "text": [
      "INFO:tensorflow:Assets written to: best_model_acc_fase3/assets\n"
     ]
    },
    {
     "name": "stdout",
     "output_type": "stream",
     "text": [
      "7244/7244 [==============================] - 292s 40ms/step - loss: 0.0127 - accuracy: 0.9967 - val_loss: 0.0307 - val_accuracy: 0.9903\n",
      "Epoch 3/10\n",
      "7244/7244 [==============================] - ETA: 0s - loss: 0.0096 - accuracy: 0.9976INFO:tensorflow:Assets written to: best_model_acc_fase3/assets\n"
     ]
    },
    {
     "name": "stderr",
     "output_type": "stream",
     "text": [
      "INFO:tensorflow:Assets written to: best_model_acc_fase3/assets\n"
     ]
    },
    {
     "name": "stdout",
     "output_type": "stream",
     "text": [
      "7244/7244 [==============================] - 292s 40ms/step - loss: 0.0096 - accuracy: 0.9976 - val_loss: 0.0419 - val_accuracy: 0.9877\n",
      "Epoch 4/10\n",
      "7243/7244 [============================>.] - ETA: 0s - loss: 0.0079 - accuracy: 0.9980INFO:tensorflow:Assets written to: best_model_acc_fase3/assets\n"
     ]
    },
    {
     "name": "stderr",
     "output_type": "stream",
     "text": [
      "INFO:tensorflow:Assets written to: best_model_acc_fase3/assets\n"
     ]
    },
    {
     "name": "stdout",
     "output_type": "stream",
     "text": [
      "7244/7244 [==============================] - 293s 40ms/step - loss: 0.0079 - accuracy: 0.9980 - val_loss: 0.0503 - val_accuracy: 0.9853\n",
      "Epoch 5/10\n",
      "7243/7244 [============================>.] - ETA: 0s - loss: 0.0069 - accuracy: 0.9983INFO:tensorflow:Assets written to: best_model_acc_fase3/assets\n"
     ]
    },
    {
     "name": "stderr",
     "output_type": "stream",
     "text": [
      "INFO:tensorflow:Assets written to: best_model_acc_fase3/assets\n"
     ]
    },
    {
     "name": "stdout",
     "output_type": "stream",
     "text": [
      "7244/7244 [==============================] - 293s 40ms/step - loss: 0.0069 - accuracy: 0.9983 - val_loss: 0.0644 - val_accuracy: 0.9842\n",
      "Epoch 6/10\n",
      "7243/7244 [============================>.] - ETA: 0s - loss: 0.0062 - accuracy: 0.9985INFO:tensorflow:Assets written to: best_model_acc_fase3/assets\n"
     ]
    },
    {
     "name": "stderr",
     "output_type": "stream",
     "text": [
      "INFO:tensorflow:Assets written to: best_model_acc_fase3/assets\n"
     ]
    },
    {
     "name": "stdout",
     "output_type": "stream",
     "text": [
      "7244/7244 [==============================] - 293s 40ms/step - loss: 0.0062 - accuracy: 0.9985 - val_loss: 0.0562 - val_accuracy: 0.9857\n",
      "Epoch 7/10\n",
      "7243/7244 [============================>.] - ETA: 0s - loss: 0.0057 - accuracy: 0.9987INFO:tensorflow:Assets written to: best_model_acc_fase3/assets\n"
     ]
    },
    {
     "name": "stderr",
     "output_type": "stream",
     "text": [
      "INFO:tensorflow:Assets written to: best_model_acc_fase3/assets\n"
     ]
    },
    {
     "name": "stdout",
     "output_type": "stream",
     "text": [
      "7244/7244 [==============================] - 293s 40ms/step - loss: 0.0057 - accuracy: 0.9987 - val_loss: 0.0835 - val_accuracy: 0.9818\n",
      "Epoch 8/10\n",
      "7243/7244 [============================>.] - ETA: 0s - loss: 0.0054 - accuracy: 0.9987INFO:tensorflow:Assets written to: best_model_acc_fase3/assets\n"
     ]
    },
    {
     "name": "stderr",
     "output_type": "stream",
     "text": [
      "INFO:tensorflow:Assets written to: best_model_acc_fase3/assets\n"
     ]
    },
    {
     "name": "stdout",
     "output_type": "stream",
     "text": [
      "7244/7244 [==============================] - 293s 41ms/step - loss: 0.0054 - accuracy: 0.9987 - val_loss: 0.0737 - val_accuracy: 0.9832\n",
      "Epoch 9/10\n",
      "7243/7244 [============================>.] - ETA: 0s - loss: 0.0051 - accuracy: 0.9988INFO:tensorflow:Assets written to: best_model_acc_fase3/assets\n"
     ]
    },
    {
     "name": "stderr",
     "output_type": "stream",
     "text": [
      "INFO:tensorflow:Assets written to: best_model_acc_fase3/assets\n"
     ]
    },
    {
     "name": "stdout",
     "output_type": "stream",
     "text": [
      "7244/7244 [==============================] - 293s 40ms/step - loss: 0.0051 - accuracy: 0.9988 - val_loss: 0.0596 - val_accuracy: 0.9862\n",
      "Epoch 10/10\n",
      "7243/7244 [============================>.] - ETA: 0s - loss: 0.0048 - accuracy: 0.9989INFO:tensorflow:Assets written to: best_model_acc_fase3/assets\n"
     ]
    },
    {
     "name": "stderr",
     "output_type": "stream",
     "text": [
      "INFO:tensorflow:Assets written to: best_model_acc_fase3/assets\n"
     ]
    },
    {
     "name": "stdout",
     "output_type": "stream",
     "text": [
      "7244/7244 [==============================] - 293s 40ms/step - loss: 0.0048 - accuracy: 0.9989 - val_loss: 0.0825 - val_accuracy: 0.9831\n"
     ]
    },
    {
     "data": {
      "text/plain": [
       "<keras.src.callbacks.History at 0x7f3035816770>"
      ]
     },
     "execution_count": 26,
     "metadata": {},
     "output_type": "execute_result"
    }
   ],
   "source": [
    "model_bin = tf.keras.models.load_model('best_model_acc_fase2')\n",
    "\n",
    "majestic = pd.read_csv('./treino/majestic_ascii.csv')\n",
    "majestic['69'] = 0\n",
    "majestic['70'] = 0\n",
    "majestic['71'] = 0\n",
    "\n",
    "dga = pd.read_csv('./teste/df_teste3.csv')\n",
    "dga = dga.drop('family', axis = 1)\n",
    "\n",
    "dga.columns = majestic.columns\n",
    "dga = dga.loc[~dga['domain'].isin(majestic['domain'])].reset_index(drop=True)\n",
    "\n",
    "df_treino = pd.concat([majestic.sample(500000, random_state=1),dga], axis = 0, ignore_index=True)\n",
    "\n",
    "X_train = df_treino.drop(['domain','label'], axis = 1)\n",
    "y_train = df_treino['label']\n",
    "\n",
    "X_train = X_train.to_numpy()\n",
    "y_train = y_train.to_numpy()\n",
    "\n",
    "best = tf.keras.callbacks.ModelCheckpoint(\n",
    "    filepath='best_model_acc_fase3',\n",
    "    save_weights_only=False,\n",
    "    monitor='accuracy',\n",
    "    mode='max',\n",
    "    save_best_only=True)\n",
    "\n",
    "model_bin.fit(X_train, y_train,\n",
    "              epochs=10,\n",
    "              callbacks = [best],\n",
    "              validation_split = 0.2,\n",
    "              batch_size=200)"
   ]
  },
  {
   "cell_type": "code",
   "execution_count": 27,
   "id": "2642d198-7ed0-458d-8318-19e8a3c1a6ad",
   "metadata": {},
   "outputs": [
    {
     "name": "stdout",
     "output_type": "stream",
     "text": [
      "61423/61423 [==============================] - 754s 12ms/step\n",
      "Matriz de Confusão Teste:  4\n",
      "[[ 482756   17244]\n",
      " [  15700 1449807]]\n",
      "Relatório de Classificação\n",
      "              precision    recall  f1-score   support\n",
      "\n",
      "           0     0.9685    0.9655    0.9670    500000\n",
      "           1     0.9882    0.9893    0.9888   1465507\n",
      "\n",
      "    accuracy                         0.9832   1965507\n",
      "   macro avg     0.9784    0.9774    0.9779   1965507\n",
      "weighted avg     0.9832    0.9832    0.9832   1965507\n",
      "\n",
      "____________________\n",
      "56719/56719 [==============================] - 679s 12ms/step\n",
      "Matriz de Confusão Teste:  5\n",
      "[[ 482756   17244]\n",
      " [  16519 1298469]]\n",
      "Relatório de Classificação\n",
      "              precision    recall  f1-score   support\n",
      "\n",
      "           0     0.9669    0.9655    0.9662    500000\n",
      "           1     0.9869    0.9874    0.9872   1314988\n",
      "\n",
      "    accuracy                         0.9814   1814988\n",
      "   macro avg     0.9769    0.9765    0.9767   1814988\n",
      "weighted avg     0.9814    0.9814    0.9814   1814988\n",
      "\n",
      "____________________\n",
      "60739/60739 [==============================] - 728s 12ms/step\n",
      "Matriz de Confusão Teste:  6\n",
      "[[ 482756   17244]\n",
      " [  18864 1424769]]\n",
      "Relatório de Classificação\n",
      "              precision    recall  f1-score   support\n",
      "\n",
      "           0     0.9624    0.9655    0.9640    500000\n",
      "           1     0.9880    0.9869    0.9875   1443633\n",
      "\n",
      "    accuracy                         0.9814   1943633\n",
      "   macro avg     0.9752    0.9762    0.9757   1943633\n",
      "weighted avg     0.9814    0.9814    0.9814   1943633\n",
      "\n",
      "____________________\n",
      "56582/56582 [==============================] - 681s 12ms/step\n",
      "Matriz de Confusão Teste:  7\n",
      "[[ 482756   17244]\n",
      " [  17454 1293168]]\n",
      "Relatório de Classificação\n",
      "              precision    recall  f1-score   support\n",
      "\n",
      "           0     0.9651    0.9655    0.9653    500000\n",
      "           1     0.9868    0.9867    0.9868   1310622\n",
      "\n",
      "    accuracy                         0.9808   1810622\n",
      "   macro avg     0.9760    0.9761    0.9760   1810622\n",
      "weighted avg     0.9808    0.9808    0.9808   1810622\n",
      "\n",
      "____________________\n",
      "61418/61418 [==============================] - 740s 12ms/step\n",
      "Matriz de Confusão Teste:  8\n",
      "[[ 482756   17244]\n",
      " [  16563 1448790]]\n",
      "Relatório de Classificação\n",
      "              precision    recall  f1-score   support\n",
      "\n",
      "           0     0.9668    0.9655    0.9662    500000\n",
      "           1     0.9882    0.9887    0.9885   1465353\n",
      "\n",
      "    accuracy                         0.9828   1965353\n",
      "   macro avg     0.9775    0.9771    0.9773   1965353\n",
      "weighted avg     0.9828    0.9828    0.9828   1965353\n",
      "\n",
      "____________________\n",
      "56730/56730 [==============================] - 687s 12ms/step\n",
      "Matriz de Confusão Teste:  9\n",
      "[[ 482756   17244]\n",
      " [  18112 1297233]]\n",
      "Relatório de Classificação\n",
      "              precision    recall  f1-score   support\n",
      "\n",
      "           0     0.9638    0.9655    0.9647    500000\n",
      "           1     0.9869    0.9862    0.9866   1315345\n",
      "\n",
      "    accuracy                         0.9805   1815345\n",
      "   macro avg     0.9754    0.9759    0.9756   1815345\n",
      "weighted avg     0.9805    0.9805    0.9805   1815345\n",
      "\n",
      "____________________\n",
      "61541/61541 [==============================] - 748s 12ms/step\n",
      "Matriz de Confusão Teste:  10\n",
      "[[ 482756   17244]\n",
      " [  15197 1454088]]\n",
      "Relatório de Classificação\n",
      "              precision    recall  f1-score   support\n",
      "\n",
      "           0     0.9695    0.9655    0.9675    500000\n",
      "           1     0.9883    0.9897    0.9890   1469285\n",
      "\n",
      "    accuracy                         0.9835   1969285\n",
      "   macro avg     0.9789    0.9776    0.9782   1969285\n",
      "weighted avg     0.9835    0.9835    0.9835   1969285\n",
      "\n",
      "____________________\n",
      "57414/57414 [==============================] - 702s 12ms/step\n",
      "Matriz de Confusão Teste:  11\n",
      "[[ 482756   17244]\n",
      " [  16049 1321188]]\n",
      "Relatório de Classificação\n",
      "              precision    recall  f1-score   support\n",
      "\n",
      "           0     0.9678    0.9655    0.9667    500000\n",
      "           1     0.9871    0.9880    0.9876   1337237\n",
      "\n",
      "    accuracy                         0.9819   1837237\n",
      "   macro avg     0.9775    0.9768    0.9771   1837237\n",
      "weighted avg     0.9819    0.9819    0.9819   1837237\n",
      "\n",
      "____________________\n"
     ]
    }
   ],
   "source": [
    "model_bin = tf.keras.models.load_model('best_model_acc_fase3')\n",
    "legit = majestic.loc[~majestic['domain'].isin(df_treino['domain'])].reset_index(drop=True)\n",
    "\n",
    "for i in range (4,12):\n",
    "    dga = pd.read_csv('./teste/df_teste'+str(i)+'.csv')\n",
    "    dga = dga.drop('family', axis = 1)\n",
    "    dga = dga.loc[~dga['domain'].isin(majestic['domain'])].reset_index(drop=True)\n",
    "\n",
    "    dga.columns = legit.columns\n",
    "    df_teste = pd.concat([legit,dga], axis = 0, ignore_index=True)\n",
    "\n",
    "    X_test = df_teste.drop(['domain','label'], axis = 1)\n",
    "    y_test = df_teste['label']\n",
    "\n",
    "    X_test = X_test.to_numpy()\n",
    "    y_test = y_test.to_numpy()\n",
    "\n",
    "    with tf.device('/cpu:0'):\n",
    "        predictions = model_bin.predict(X_test)\n",
    "        predictions = np.where(predictions > 0.5, 1, 0)\n",
    "    \n",
    "    print('Matriz de Confusão Teste: ', str(i))\n",
    "    print(confusion_matrix(y_test,predictions))\n",
    "\n",
    "    print('Relatório de Classificação')\n",
    "    print(classification_report(y_test,predictions, digits=4))\n",
    "    print('____________________')"
   ]
  },
  {
   "cell_type": "markdown",
   "id": "c85e6c94-a218-421e-8cd9-898648120d3f",
   "metadata": {},
   "source": [
    "## Teste Quinto Treino Incremental"
   ]
  },
  {
   "cell_type": "code",
   "execution_count": 28,
   "id": "e63f6d4c-46da-4abb-b486-d62a8ebe31da",
   "metadata": {},
   "outputs": [
    {
     "name": "stdout",
     "output_type": "stream",
     "text": [
      "Epoch 1/10\n",
      "7863/7863 [==============================] - ETA: 0s - loss: 0.0173 - accuracy: 0.9953INFO:tensorflow:Assets written to: best_model_acc_fase4/assets\n"
     ]
    },
    {
     "name": "stderr",
     "output_type": "stream",
     "text": [
      "INFO:tensorflow:Assets written to: best_model_acc_fase4/assets\n"
     ]
    },
    {
     "name": "stdout",
     "output_type": "stream",
     "text": [
      "7863/7863 [==============================] - 320s 40ms/step - loss: 0.0173 - accuracy: 0.9953 - val_loss: 0.0361 - val_accuracy: 0.9872\n",
      "Epoch 2/10\n",
      "7863/7863 [==============================] - ETA: 0s - loss: 0.0109 - accuracy: 0.9973INFO:tensorflow:Assets written to: best_model_acc_fase4/assets\n"
     ]
    },
    {
     "name": "stderr",
     "output_type": "stream",
     "text": [
      "INFO:tensorflow:Assets written to: best_model_acc_fase4/assets\n"
     ]
    },
    {
     "name": "stdout",
     "output_type": "stream",
     "text": [
      "7863/7863 [==============================] - 316s 40ms/step - loss: 0.0109 - accuracy: 0.9973 - val_loss: 0.0390 - val_accuracy: 0.9880\n",
      "Epoch 3/10\n",
      "7863/7863 [==============================] - ETA: 0s - loss: 0.0083 - accuracy: 0.9980INFO:tensorflow:Assets written to: best_model_acc_fase4/assets\n"
     ]
    },
    {
     "name": "stderr",
     "output_type": "stream",
     "text": [
      "INFO:tensorflow:Assets written to: best_model_acc_fase4/assets\n"
     ]
    },
    {
     "name": "stdout",
     "output_type": "stream",
     "text": [
      "7863/7863 [==============================] - 317s 40ms/step - loss: 0.0083 - accuracy: 0.9980 - val_loss: 0.0404 - val_accuracy: 0.9891\n",
      "Epoch 4/10\n",
      "7863/7863 [==============================] - ETA: 0s - loss: 0.0068 - accuracy: 0.9984INFO:tensorflow:Assets written to: best_model_acc_fase4/assets\n"
     ]
    },
    {
     "name": "stderr",
     "output_type": "stream",
     "text": [
      "INFO:tensorflow:Assets written to: best_model_acc_fase4/assets\n"
     ]
    },
    {
     "name": "stdout",
     "output_type": "stream",
     "text": [
      "7863/7863 [==============================] - 323s 41ms/step - loss: 0.0068 - accuracy: 0.9984 - val_loss: 0.0468 - val_accuracy: 0.9871\n",
      "Epoch 5/10\n",
      "7861/7863 [============================>.] - ETA: 0s - loss: 0.0059 - accuracy: 0.9986INFO:tensorflow:Assets written to: best_model_acc_fase4/assets\n"
     ]
    },
    {
     "name": "stderr",
     "output_type": "stream",
     "text": [
      "INFO:tensorflow:Assets written to: best_model_acc_fase4/assets\n"
     ]
    },
    {
     "name": "stdout",
     "output_type": "stream",
     "text": [
      "7863/7863 [==============================] - 318s 40ms/step - loss: 0.0059 - accuracy: 0.9986 - val_loss: 0.0441 - val_accuracy: 0.9887\n",
      "Epoch 6/10\n",
      "7861/7863 [============================>.] - ETA: 0s - loss: 0.0054 - accuracy: 0.9987INFO:tensorflow:Assets written to: best_model_acc_fase4/assets\n"
     ]
    },
    {
     "name": "stderr",
     "output_type": "stream",
     "text": [
      "INFO:tensorflow:Assets written to: best_model_acc_fase4/assets\n"
     ]
    },
    {
     "name": "stdout",
     "output_type": "stream",
     "text": [
      "7863/7863 [==============================] - 318s 40ms/step - loss: 0.0054 - accuracy: 0.9987 - val_loss: 0.0586 - val_accuracy: 0.9857\n",
      "Epoch 7/10\n",
      "7861/7863 [============================>.] - ETA: 0s - loss: 0.0049 - accuracy: 0.9989INFO:tensorflow:Assets written to: best_model_acc_fase4/assets\n"
     ]
    },
    {
     "name": "stderr",
     "output_type": "stream",
     "text": [
      "INFO:tensorflow:Assets written to: best_model_acc_fase4/assets\n"
     ]
    },
    {
     "name": "stdout",
     "output_type": "stream",
     "text": [
      "7863/7863 [==============================] - 318s 40ms/step - loss: 0.0049 - accuracy: 0.9989 - val_loss: 0.0644 - val_accuracy: 0.9859\n",
      "Epoch 8/10\n",
      "7863/7863 [==============================] - ETA: 0s - loss: 0.0047 - accuracy: 0.9990INFO:tensorflow:Assets written to: best_model_acc_fase4/assets\n"
     ]
    },
    {
     "name": "stderr",
     "output_type": "stream",
     "text": [
      "INFO:tensorflow:Assets written to: best_model_acc_fase4/assets\n"
     ]
    },
    {
     "name": "stdout",
     "output_type": "stream",
     "text": [
      "7863/7863 [==============================] - 318s 40ms/step - loss: 0.0047 - accuracy: 0.9990 - val_loss: 0.0724 - val_accuracy: 0.9847\n",
      "Epoch 9/10\n",
      "7863/7863 [==============================] - ETA: 0s - loss: 0.0044 - accuracy: 0.9990INFO:tensorflow:Assets written to: best_model_acc_fase4/assets\n"
     ]
    },
    {
     "name": "stderr",
     "output_type": "stream",
     "text": [
      "INFO:tensorflow:Assets written to: best_model_acc_fase4/assets\n"
     ]
    },
    {
     "name": "stdout",
     "output_type": "stream",
     "text": [
      "7863/7863 [==============================] - 318s 40ms/step - loss: 0.0044 - accuracy: 0.9990 - val_loss: 0.0652 - val_accuracy: 0.9861\n",
      "Epoch 10/10\n",
      "7861/7863 [============================>.] - ETA: 0s - loss: 0.0042 - accuracy: 0.9991INFO:tensorflow:Assets written to: best_model_acc_fase4/assets\n"
     ]
    },
    {
     "name": "stderr",
     "output_type": "stream",
     "text": [
      "INFO:tensorflow:Assets written to: best_model_acc_fase4/assets\n"
     ]
    },
    {
     "name": "stdout",
     "output_type": "stream",
     "text": [
      "7863/7863 [==============================] - 318s 40ms/step - loss: 0.0042 - accuracy: 0.9991 - val_loss: 0.0751 - val_accuracy: 0.9852\n"
     ]
    },
    {
     "data": {
      "text/plain": [
       "<keras.src.callbacks.History at 0x7f2ddd24ba90>"
      ]
     },
     "execution_count": 28,
     "metadata": {},
     "output_type": "execute_result"
    }
   ],
   "source": [
    "model_bin = tf.keras.models.load_model('best_model_acc_fase3')\n",
    "\n",
    "majestic = pd.read_csv('./treino/majestic_ascii.csv')\n",
    "majestic['69'] = 0\n",
    "majestic['70'] = 0\n",
    "majestic['71'] = 0\n",
    "\n",
    "dga = pd.read_csv('./teste/df_teste4.csv')\n",
    "dga = dga.drop('family', axis = 1)\n",
    "\n",
    "dga.columns = majestic.columns\n",
    "dga = dga.loc[~dga['domain'].isin(majestic['domain'])].reset_index(drop=True)\n",
    "\n",
    "df_treino = pd.concat([majestic.sample(500000, random_state=1),dga], axis = 0, ignore_index=True)\n",
    "\n",
    "X_train = df_treino.drop(['domain','label'], axis = 1)\n",
    "y_train = df_treino['label']\n",
    "\n",
    "X_train = X_train.to_numpy()\n",
    "y_train = y_train.to_numpy()\n",
    "\n",
    "best = tf.keras.callbacks.ModelCheckpoint(\n",
    "    filepath='best_model_acc_fase4',\n",
    "    save_weights_only=False,\n",
    "    monitor='accuracy',\n",
    "    mode='max',\n",
    "    save_best_only=True)\n",
    "\n",
    "model_bin.fit(X_train, y_train,\n",
    "              epochs=10,\n",
    "              callbacks = [best],\n",
    "              validation_split = 0.2,\n",
    "              batch_size=200)"
   ]
  },
  {
   "cell_type": "code",
   "execution_count": 29,
   "id": "cc0b02cc-e6af-43ec-97fc-ad65380ae567",
   "metadata": {},
   "outputs": [
    {
     "name": "stdout",
     "output_type": "stream",
     "text": [
      "56719/56719 [==============================] - 695s 12ms/step\n",
      "Matriz de Confusão Teste:  5\n",
      "[[ 482719   17281]\n",
      " [  14749 1300239]]\n",
      "Relatório de Classificação\n",
      "              precision    recall  f1-score   support\n",
      "\n",
      "           0     0.9704    0.9654    0.9679    500000\n",
      "           1     0.9869    0.9888    0.9878   1314988\n",
      "\n",
      "    accuracy                         0.9824   1814988\n",
      "   macro avg     0.9786    0.9771    0.9779   1814988\n",
      "weighted avg     0.9823    0.9824    0.9823   1814988\n",
      "\n",
      "____________________\n",
      "60739/60739 [==============================] - 718s 12ms/step\n",
      "Matriz de Confusão Teste:  6\n",
      "[[ 482719   17281]\n",
      " [  16755 1426878]]\n",
      "Relatório de Classificação\n",
      "              precision    recall  f1-score   support\n",
      "\n",
      "           0     0.9665    0.9654    0.9659    500000\n",
      "           1     0.9880    0.9884    0.9882   1443633\n",
      "\n",
      "    accuracy                         0.9825   1943633\n",
      "   macro avg     0.9772    0.9769    0.9771   1943633\n",
      "weighted avg     0.9825    0.9825    0.9825   1943633\n",
      "\n",
      "____________________\n",
      "56582/56582 [==============================] - 671s 12ms/step\n",
      "Matriz de Confusão Teste:  7\n",
      "[[ 482719   17281]\n",
      " [  15982 1294640]]\n",
      "Relatório de Classificação\n",
      "              precision    recall  f1-score   support\n",
      "\n",
      "           0     0.9680    0.9654    0.9667    500000\n",
      "           1     0.9868    0.9878    0.9873   1310622\n",
      "\n",
      "    accuracy                         0.9816   1810622\n",
      "   macro avg     0.9774    0.9766    0.9770   1810622\n",
      "weighted avg     0.9816    0.9816    0.9816   1810622\n",
      "\n",
      "____________________\n",
      "61418/61418 [==============================] - 730s 12ms/step\n",
      "Matriz de Confusão Teste:  8\n",
      "[[ 482719   17281]\n",
      " [  16435 1448918]]\n",
      "Relatório de Classificação\n",
      "              precision    recall  f1-score   support\n",
      "\n",
      "           0     0.9671    0.9654    0.9663    500000\n",
      "           1     0.9882    0.9888    0.9885   1465353\n",
      "\n",
      "    accuracy                         0.9828   1965353\n",
      "   macro avg     0.9776    0.9771    0.9774   1965353\n",
      "weighted avg     0.9828    0.9828    0.9828   1965353\n",
      "\n",
      "____________________\n",
      "56730/56730 [==============================] - 717s 13ms/step\n",
      "Matriz de Confusão Teste:  9\n",
      "[[ 482719   17281]\n",
      " [  15958 1299387]]\n",
      "Relatório de Classificação\n",
      "              precision    recall  f1-score   support\n",
      "\n",
      "           0     0.9680    0.9654    0.9667    500000\n",
      "           1     0.9869    0.9879    0.9874   1315345\n",
      "\n",
      "    accuracy                         0.9817   1815345\n",
      "   macro avg     0.9774    0.9767    0.9770   1815345\n",
      "weighted avg     0.9817    0.9817    0.9817   1815345\n",
      "\n",
      "____________________\n",
      "61541/61541 [==============================] - 796s 13ms/step\n",
      "Matriz de Confusão Teste:  10\n",
      "[[ 482719   17281]\n",
      " [  14818 1454467]]\n",
      "Relatório de Classificação\n",
      "              precision    recall  f1-score   support\n",
      "\n",
      "           0     0.9702    0.9654    0.9678    500000\n",
      "           1     0.9883    0.9899    0.9891   1469285\n",
      "\n",
      "    accuracy                         0.9837   1969285\n",
      "   macro avg     0.9792    0.9777    0.9785   1969285\n",
      "weighted avg     0.9837    0.9837    0.9837   1969285\n",
      "\n",
      "____________________\n",
      "57414/57414 [==============================] - 743s 13ms/step\n",
      "Matriz de Confusão Teste:  11\n",
      "[[ 482719   17281]\n",
      " [  15615 1321622]]\n",
      "Relatório de Classificação\n",
      "              precision    recall  f1-score   support\n",
      "\n",
      "           0     0.9687    0.9654    0.9670    500000\n",
      "           1     0.9871    0.9883    0.9877   1337237\n",
      "\n",
      "    accuracy                         0.9821   1837237\n",
      "   macro avg     0.9779    0.9769    0.9774   1837237\n",
      "weighted avg     0.9821    0.9821    0.9821   1837237\n",
      "\n",
      "____________________\n"
     ]
    }
   ],
   "source": [
    "model_bin = tf.keras.models.load_model('best_model_acc_fase4')\n",
    "legit = majestic.loc[~majestic['domain'].isin(df_treino['domain'])].reset_index(drop=True)\n",
    "\n",
    "for i in range (5,12):\n",
    "    dga = pd.read_csv('./teste/df_teste'+str(i)+'.csv')\n",
    "    dga = dga.drop('family', axis = 1)\n",
    "    dga = dga.loc[~dga['domain'].isin(majestic['domain'])].reset_index(drop=True)\n",
    "\n",
    "    dga.columns = legit.columns\n",
    "    df_teste = pd.concat([legit,dga], axis = 0, ignore_index=True)\n",
    "\n",
    "    X_test = df_teste.drop(['domain','label'], axis = 1)\n",
    "    y_test = df_teste['label']\n",
    "\n",
    "    X_test = X_test.to_numpy()\n",
    "    y_test = y_test.to_numpy()\n",
    "\n",
    "    with tf.device('/cpu:0'):\n",
    "        predictions = model_bin.predict(X_test)\n",
    "        predictions = np.where(predictions > 0.5, 1, 0)\n",
    "    \n",
    "    print('Matriz de Confusão Teste: ', str(i))\n",
    "    print(confusion_matrix(y_test,predictions))\n",
    "\n",
    "    print('Relatório de Classificação')\n",
    "    print(classification_report(y_test,predictions, digits=4))\n",
    "    print('____________________')"
   ]
  },
  {
   "cell_type": "markdown",
   "id": "683da8ce-cf78-4a91-96e2-3a8a83339c67",
   "metadata": {},
   "source": [
    "## Teste Sexto Treino Incremental"
   ]
  },
  {
   "cell_type": "code",
   "execution_count": 30,
   "id": "fd66232a-ec1a-4de3-941a-a1b3b016df95",
   "metadata": {},
   "outputs": [
    {
     "name": "stdout",
     "output_type": "stream",
     "text": [
      "Epoch 1/10\n",
      "7260/7260 [==============================] - ETA: 0s - loss: 0.0175 - accuracy: 0.9952INFO:tensorflow:Assets written to: best_model_acc_fase5/assets\n"
     ]
    },
    {
     "name": "stderr",
     "output_type": "stream",
     "text": [
      "INFO:tensorflow:Assets written to: best_model_acc_fase5/assets\n"
     ]
    },
    {
     "name": "stdout",
     "output_type": "stream",
     "text": [
      "7260/7260 [==============================] - 297s 41ms/step - loss: 0.0175 - accuracy: 0.9952 - val_loss: 0.0266 - val_accuracy: 0.9911\n",
      "Epoch 2/10\n",
      "7259/7260 [============================>.] - ETA: 0s - loss: 0.0107 - accuracy: 0.9974INFO:tensorflow:Assets written to: best_model_acc_fase5/assets\n"
     ]
    },
    {
     "name": "stderr",
     "output_type": "stream",
     "text": [
      "INFO:tensorflow:Assets written to: best_model_acc_fase5/assets\n"
     ]
    },
    {
     "name": "stdout",
     "output_type": "stream",
     "text": [
      "7260/7260 [==============================] - 292s 40ms/step - loss: 0.0107 - accuracy: 0.9974 - val_loss: 0.0302 - val_accuracy: 0.9911\n",
      "Epoch 3/10\n",
      "7259/7260 [============================>.] - ETA: 0s - loss: 0.0081 - accuracy: 0.9981INFO:tensorflow:Assets written to: best_model_acc_fase5/assets\n"
     ]
    },
    {
     "name": "stderr",
     "output_type": "stream",
     "text": [
      "INFO:tensorflow:Assets written to: best_model_acc_fase5/assets\n"
     ]
    },
    {
     "name": "stdout",
     "output_type": "stream",
     "text": [
      "7260/7260 [==============================] - 293s 40ms/step - loss: 0.0081 - accuracy: 0.9981 - val_loss: 0.0411 - val_accuracy: 0.9886\n",
      "Epoch 4/10\n",
      "7259/7260 [============================>.] - ETA: 0s - loss: 0.0067 - accuracy: 0.9985INFO:tensorflow:Assets written to: best_model_acc_fase5/assets\n"
     ]
    },
    {
     "name": "stderr",
     "output_type": "stream",
     "text": [
      "INFO:tensorflow:Assets written to: best_model_acc_fase5/assets\n"
     ]
    },
    {
     "name": "stdout",
     "output_type": "stream",
     "text": [
      "7260/7260 [==============================] - 293s 40ms/step - loss: 0.0067 - accuracy: 0.9985 - val_loss: 0.0351 - val_accuracy: 0.9911\n",
      "Epoch 5/10\n",
      "7259/7260 [============================>.] - ETA: 0s - loss: 0.0058 - accuracy: 0.9987INFO:tensorflow:Assets written to: best_model_acc_fase5/assets\n"
     ]
    },
    {
     "name": "stderr",
     "output_type": "stream",
     "text": [
      "INFO:tensorflow:Assets written to: best_model_acc_fase5/assets\n"
     ]
    },
    {
     "name": "stdout",
     "output_type": "stream",
     "text": [
      "7260/7260 [==============================] - 297s 41ms/step - loss: 0.0058 - accuracy: 0.9987 - val_loss: 0.0483 - val_accuracy: 0.9886\n",
      "Epoch 6/10\n",
      "7259/7260 [============================>.] - ETA: 0s - loss: 0.0052 - accuracy: 0.9988INFO:tensorflow:Assets written to: best_model_acc_fase5/assets\n"
     ]
    },
    {
     "name": "stderr",
     "output_type": "stream",
     "text": [
      "INFO:tensorflow:Assets written to: best_model_acc_fase5/assets\n"
     ]
    },
    {
     "name": "stdout",
     "output_type": "stream",
     "text": [
      "7260/7260 [==============================] - 298s 41ms/step - loss: 0.0052 - accuracy: 0.9988 - val_loss: 0.0454 - val_accuracy: 0.9899\n",
      "Epoch 7/10\n",
      "7260/7260 [==============================] - ETA: 0s - loss: 0.0048 - accuracy: 0.9989INFO:tensorflow:Assets written to: best_model_acc_fase5/assets\n"
     ]
    },
    {
     "name": "stderr",
     "output_type": "stream",
     "text": [
      "INFO:tensorflow:Assets written to: best_model_acc_fase5/assets\n"
     ]
    },
    {
     "name": "stdout",
     "output_type": "stream",
     "text": [
      "7260/7260 [==============================] - 296s 41ms/step - loss: 0.0048 - accuracy: 0.9989 - val_loss: 0.0616 - val_accuracy: 0.9873\n",
      "Epoch 8/10\n",
      "7259/7260 [============================>.] - ETA: 0s - loss: 0.0045 - accuracy: 0.9990INFO:tensorflow:Assets written to: best_model_acc_fase5/assets\n"
     ]
    },
    {
     "name": "stderr",
     "output_type": "stream",
     "text": [
      "INFO:tensorflow:Assets written to: best_model_acc_fase5/assets\n"
     ]
    },
    {
     "name": "stdout",
     "output_type": "stream",
     "text": [
      "7260/7260 [==============================] - 297s 41ms/step - loss: 0.0045 - accuracy: 0.9990 - val_loss: 0.0470 - val_accuracy: 0.9894\n",
      "Epoch 9/10\n",
      "7259/7260 [============================>.] - ETA: 0s - loss: 0.0043 - accuracy: 0.9991INFO:tensorflow:Assets written to: best_model_acc_fase5/assets\n"
     ]
    },
    {
     "name": "stderr",
     "output_type": "stream",
     "text": [
      "INFO:tensorflow:Assets written to: best_model_acc_fase5/assets\n"
     ]
    },
    {
     "name": "stdout",
     "output_type": "stream",
     "text": [
      "7260/7260 [==============================] - 297s 41ms/step - loss: 0.0043 - accuracy: 0.9991 - val_loss: 0.0782 - val_accuracy: 0.9840\n",
      "Epoch 10/10\n",
      "7259/7260 [============================>.] - ETA: 0s - loss: 0.0042 - accuracy: 0.9991INFO:tensorflow:Assets written to: best_model_acc_fase5/assets\n"
     ]
    },
    {
     "name": "stderr",
     "output_type": "stream",
     "text": [
      "INFO:tensorflow:Assets written to: best_model_acc_fase5/assets\n"
     ]
    },
    {
     "name": "stdout",
     "output_type": "stream",
     "text": [
      "7260/7260 [==============================] - 296s 41ms/step - loss: 0.0042 - accuracy: 0.9991 - val_loss: 0.0461 - val_accuracy: 0.9904\n"
     ]
    },
    {
     "data": {
      "text/plain": [
       "<keras.src.callbacks.History at 0x7f300c4cc610>"
      ]
     },
     "execution_count": 30,
     "metadata": {},
     "output_type": "execute_result"
    }
   ],
   "source": [
    "model_bin = tf.keras.models.load_model('best_model_acc_fase4')\n",
    "\n",
    "majestic = pd.read_csv('./treino/majestic_ascii.csv')\n",
    "majestic['69'] = 0\n",
    "majestic['70'] = 0\n",
    "majestic['71'] = 0\n",
    "\n",
    "dga = pd.read_csv('./teste/df_teste5.csv')\n",
    "dga = dga.drop('family', axis = 1)\n",
    "\n",
    "dga.columns = majestic.columns\n",
    "dga = dga.loc[~dga['domain'].isin(majestic['domain'])].reset_index(drop=True)\n",
    "\n",
    "df_treino = pd.concat([majestic.sample(500000, random_state=1),dga], axis = 0, ignore_index=True)\n",
    "\n",
    "X_train = df_treino.drop(['domain','label'], axis = 1)\n",
    "y_train = df_treino['label']\n",
    "\n",
    "X_train = X_train.to_numpy()\n",
    "y_train = y_train.to_numpy()\n",
    "\n",
    "best = tf.keras.callbacks.ModelCheckpoint(\n",
    "    filepath='best_model_acc_fase5',\n",
    "    save_weights_only=False,\n",
    "    monitor='accuracy',\n",
    "    mode='max',\n",
    "    save_best_only=True)\n",
    "\n",
    "model_bin.fit(X_train, y_train,\n",
    "              epochs=10,\n",
    "              callbacks = [best],\n",
    "              validation_split = 0.2,\n",
    "              batch_size=200)"
   ]
  },
  {
   "cell_type": "code",
   "execution_count": 31,
   "id": "c4b61a53-1444-4a2f-9346-da4a5cb39542",
   "metadata": {},
   "outputs": [
    {
     "name": "stdout",
     "output_type": "stream",
     "text": [
      "60739/60739 [==============================] - 761s 13ms/step\n",
      "Matriz de Confusão Teste:  6\n",
      "[[ 476087   23913]\n",
      " [   9151 1434482]]\n",
      "Relatório de Classificação\n",
      "              precision    recall  f1-score   support\n",
      "\n",
      "           0     0.9811    0.9522    0.9664    500000\n",
      "           1     0.9836    0.9937    0.9886   1443633\n",
      "\n",
      "    accuracy                         0.9830   1943633\n",
      "   macro avg     0.9824    0.9729    0.9775   1943633\n",
      "weighted avg     0.9830    0.9830    0.9829   1943633\n",
      "\n",
      "____________________\n",
      "56582/56582 [==============================] - 682s 12ms/step\n",
      "Matriz de Confusão Teste:  7\n",
      "[[ 476087   23913]\n",
      " [  10322 1300300]]\n",
      "Relatório de Classificação\n",
      "              precision    recall  f1-score   support\n",
      "\n",
      "           0     0.9788    0.9522    0.9653    500000\n",
      "           1     0.9819    0.9921    0.9870   1310622\n",
      "\n",
      "    accuracy                         0.9811   1810622\n",
      "   macro avg     0.9804    0.9721    0.9762   1810622\n",
      "weighted avg     0.9811    0.9811    0.9810   1810622\n",
      "\n",
      "____________________\n",
      "61418/61418 [==============================] - 731s 12ms/step\n",
      "Matriz de Confusão Teste:  8\n",
      "[[ 476087   23913]\n",
      " [  10688 1454665]]\n",
      "Relatório de Classificação\n",
      "              precision    recall  f1-score   support\n",
      "\n",
      "           0     0.9780    0.9522    0.9649    500000\n",
      "           1     0.9838    0.9927    0.9882   1465353\n",
      "\n",
      "    accuracy                         0.9824   1965353\n",
      "   macro avg     0.9809    0.9724    0.9766   1965353\n",
      "weighted avg     0.9824    0.9824    0.9823   1965353\n",
      "\n",
      "____________________\n",
      "56730/56730 [==============================] - 679s 12ms/step\n",
      "Matriz de Confusão Teste:  9\n",
      "[[ 476087   23913]\n",
      " [  10894 1304451]]\n",
      "Relatório de Classificação\n",
      "              precision    recall  f1-score   support\n",
      "\n",
      "           0     0.9776    0.9522    0.9647    500000\n",
      "           1     0.9820    0.9917    0.9868   1315345\n",
      "\n",
      "    accuracy                         0.9808   1815345\n",
      "   macro avg     0.9798    0.9719    0.9758   1815345\n",
      "weighted avg     0.9808    0.9808    0.9807   1815345\n",
      "\n",
      "____________________\n",
      "61541/61541 [==============================] - 753s 12ms/step\n",
      "Matriz de Confusão Teste:  10\n",
      "[[ 476087   23913]\n",
      " [  11093 1458192]]\n",
      "Relatório de Classificação\n",
      "              precision    recall  f1-score   support\n",
      "\n",
      "           0     0.9772    0.9522    0.9645    500000\n",
      "           1     0.9839    0.9925    0.9881   1469285\n",
      "\n",
      "    accuracy                         0.9822   1969285\n",
      "   macro avg     0.9805    0.9723    0.9763   1969285\n",
      "weighted avg     0.9822    0.9822    0.9821   1969285\n",
      "\n",
      "____________________\n",
      "57414/57414 [==============================] - 700s 12ms/step\n",
      "Matriz de Confusão Teste:  11\n",
      "[[ 476087   23913]\n",
      " [  10350 1326887]]\n",
      "Relatório de Classificação\n",
      "              precision    recall  f1-score   support\n",
      "\n",
      "           0     0.9787    0.9522    0.9653    500000\n",
      "           1     0.9823    0.9923    0.9873   1337237\n",
      "\n",
      "    accuracy                         0.9814   1837237\n",
      "   macro avg     0.9805    0.9722    0.9763   1837237\n",
      "weighted avg     0.9813    0.9814    0.9813   1837237\n",
      "\n",
      "____________________\n"
     ]
    }
   ],
   "source": [
    "model_bin = tf.keras.models.load_model('best_model_acc_fase5')\n",
    "legit = majestic.loc[~majestic['domain'].isin(df_treino['domain'])].reset_index(drop=True)\n",
    "\n",
    "for i in range (6,12):\n",
    "    dga = pd.read_csv('./teste/df_teste'+str(i)+'.csv')\n",
    "    dga = dga.drop('family', axis = 1)\n",
    "    dga = dga.loc[~dga['domain'].isin(majestic['domain'])].reset_index(drop=True)\n",
    "\n",
    "    dga.columns = legit.columns\n",
    "    df_teste = pd.concat([legit,dga], axis = 0, ignore_index=True)\n",
    "\n",
    "    X_test = df_teste.drop(['domain','label'], axis = 1)\n",
    "    y_test = df_teste['label']\n",
    "\n",
    "    X_test = X_test.to_numpy()\n",
    "    y_test = y_test.to_numpy()\n",
    "\n",
    "    with tf.device('/cpu:0'):\n",
    "        predictions = model_bin.predict(X_test)\n",
    "        predictions = np.where(predictions > 0.5, 1, 0)\n",
    "    \n",
    "    print('Matriz de Confusão Teste: ', str(i))\n",
    "    print(confusion_matrix(y_test,predictions))\n",
    "\n",
    "    print('Relatório de Classificação')\n",
    "    print(classification_report(y_test,predictions, digits=4))\n",
    "    print('____________________')"
   ]
  },
  {
   "cell_type": "markdown",
   "id": "b3342a28-c63f-4532-936e-927cb2748e0f",
   "metadata": {},
   "source": [
    "## Sétimo Treino Incremental"
   ]
  },
  {
   "cell_type": "code",
   "execution_count": 32,
   "id": "fcf52166-f11c-409f-8033-d7044a3ad5aa",
   "metadata": {},
   "outputs": [
    {
     "name": "stdout",
     "output_type": "stream",
     "text": [
      "Epoch 1/10\n",
      "7775/7775 [==============================] - ETA: 0s - loss: 0.0157 - accuracy: 0.9959INFO:tensorflow:Assets written to: best_model_acc_fase6/assets\n"
     ]
    },
    {
     "name": "stderr",
     "output_type": "stream",
     "text": [
      "INFO:tensorflow:Assets written to: best_model_acc_fase6/assets\n"
     ]
    },
    {
     "name": "stdout",
     "output_type": "stream",
     "text": [
      "7775/7775 [==============================] - 319s 41ms/step - loss: 0.0157 - accuracy: 0.9959 - val_loss: 0.0334 - val_accuracy: 0.9885\n",
      "Epoch 2/10\n",
      "7775/7775 [==============================] - ETA: 0s - loss: 0.0098 - accuracy: 0.9976INFO:tensorflow:Assets written to: best_model_acc_fase6/assets\n"
     ]
    },
    {
     "name": "stderr",
     "output_type": "stream",
     "text": [
      "INFO:tensorflow:Assets written to: best_model_acc_fase6/assets\n"
     ]
    },
    {
     "name": "stdout",
     "output_type": "stream",
     "text": [
      "7775/7775 [==============================] - 315s 41ms/step - loss: 0.0098 - accuracy: 0.9976 - val_loss: 0.0353 - val_accuracy: 0.9890\n",
      "Epoch 3/10\n",
      "7774/7775 [============================>.] - ETA: 0s - loss: 0.0073 - accuracy: 0.9983INFO:tensorflow:Assets written to: best_model_acc_fase6/assets\n"
     ]
    },
    {
     "name": "stderr",
     "output_type": "stream",
     "text": [
      "INFO:tensorflow:Assets written to: best_model_acc_fase6/assets\n"
     ]
    },
    {
     "name": "stdout",
     "output_type": "stream",
     "text": [
      "7775/7775 [==============================] - 316s 41ms/step - loss: 0.0073 - accuracy: 0.9983 - val_loss: 0.0426 - val_accuracy: 0.9884\n",
      "Epoch 4/10\n",
      "7775/7775 [==============================] - ETA: 0s - loss: 0.0060 - accuracy: 0.9986INFO:tensorflow:Assets written to: best_model_acc_fase6/assets\n"
     ]
    },
    {
     "name": "stderr",
     "output_type": "stream",
     "text": [
      "INFO:tensorflow:Assets written to: best_model_acc_fase6/assets\n"
     ]
    },
    {
     "name": "stdout",
     "output_type": "stream",
     "text": [
      "7775/7775 [==============================] - 318s 41ms/step - loss: 0.0060 - accuracy: 0.9986 - val_loss: 0.0495 - val_accuracy: 0.9873\n",
      "Epoch 5/10\n",
      "7775/7775 [==============================] - ETA: 0s - loss: 0.0051 - accuracy: 0.9988INFO:tensorflow:Assets written to: best_model_acc_fase6/assets\n"
     ]
    },
    {
     "name": "stderr",
     "output_type": "stream",
     "text": [
      "INFO:tensorflow:Assets written to: best_model_acc_fase6/assets\n"
     ]
    },
    {
     "name": "stdout",
     "output_type": "stream",
     "text": [
      "7775/7775 [==============================] - 320s 41ms/step - loss: 0.0051 - accuracy: 0.9988 - val_loss: 0.0554 - val_accuracy: 0.9878\n",
      "Epoch 6/10\n",
      "7775/7775 [==============================] - ETA: 0s - loss: 0.0047 - accuracy: 0.9990INFO:tensorflow:Assets written to: best_model_acc_fase6/assets\n"
     ]
    },
    {
     "name": "stderr",
     "output_type": "stream",
     "text": [
      "INFO:tensorflow:Assets written to: best_model_acc_fase6/assets\n"
     ]
    },
    {
     "name": "stdout",
     "output_type": "stream",
     "text": [
      "7775/7775 [==============================] - 319s 41ms/step - loss: 0.0047 - accuracy: 0.9990 - val_loss: 0.0684 - val_accuracy: 0.9855\n",
      "Epoch 7/10\n",
      "7775/7775 [==============================] - ETA: 0s - loss: 0.0044 - accuracy: 0.9990INFO:tensorflow:Assets written to: best_model_acc_fase6/assets\n"
     ]
    },
    {
     "name": "stderr",
     "output_type": "stream",
     "text": [
      "INFO:tensorflow:Assets written to: best_model_acc_fase6/assets\n"
     ]
    },
    {
     "name": "stdout",
     "output_type": "stream",
     "text": [
      "7775/7775 [==============================] - 319s 41ms/step - loss: 0.0044 - accuracy: 0.9990 - val_loss: 0.0624 - val_accuracy: 0.9862\n",
      "Epoch 8/10\n",
      "7775/7775 [==============================] - ETA: 0s - loss: 0.0040 - accuracy: 0.9992INFO:tensorflow:Assets written to: best_model_acc_fase6/assets\n"
     ]
    },
    {
     "name": "stderr",
     "output_type": "stream",
     "text": [
      "INFO:tensorflow:Assets written to: best_model_acc_fase6/assets\n"
     ]
    },
    {
     "name": "stdout",
     "output_type": "stream",
     "text": [
      "7775/7775 [==============================] - 319s 41ms/step - loss: 0.0040 - accuracy: 0.9992 - val_loss: 0.0708 - val_accuracy: 0.9860\n",
      "Epoch 9/10\n",
      "7775/7775 [==============================] - 314s 40ms/step - loss: 0.0040 - accuracy: 0.9991 - val_loss: 0.0646 - val_accuracy: 0.9875\n",
      "Epoch 10/10\n",
      "7775/7775 [==============================] - ETA: 0s - loss: 0.0039 - accuracy: 0.9992INFO:tensorflow:Assets written to: best_model_acc_fase6/assets\n"
     ]
    },
    {
     "name": "stderr",
     "output_type": "stream",
     "text": [
      "INFO:tensorflow:Assets written to: best_model_acc_fase6/assets\n"
     ]
    },
    {
     "name": "stdout",
     "output_type": "stream",
     "text": [
      "7775/7775 [==============================] - 314s 40ms/step - loss: 0.0039 - accuracy: 0.9992 - val_loss: 0.0727 - val_accuracy: 0.9855\n"
     ]
    },
    {
     "data": {
      "text/plain": [
       "<keras.src.callbacks.History at 0x7f2c8bbb0100>"
      ]
     },
     "execution_count": 32,
     "metadata": {},
     "output_type": "execute_result"
    }
   ],
   "source": [
    "model_bin = tf.keras.models.load_model('best_model_acc_fase5')\n",
    "\n",
    "majestic = pd.read_csv('./treino/majestic_ascii.csv')\n",
    "majestic['69'] = 0\n",
    "majestic['70'] = 0\n",
    "majestic['71'] = 0\n",
    "\n",
    "dga = pd.read_csv('./teste/df_teste6.csv')\n",
    "dga = dga.drop('family', axis = 1)\n",
    "\n",
    "dga.columns = majestic.columns\n",
    "dga = dga.loc[~dga['domain'].isin(majestic['domain'])].reset_index(drop=True)\n",
    "\n",
    "df_treino = pd.concat([majestic.sample(500000, random_state=1),dga], axis = 0, ignore_index=True)\n",
    "\n",
    "X_train = df_treino.drop(['domain','label'], axis = 1)\n",
    "y_train = df_treino['label']\n",
    "\n",
    "X_train = X_train.to_numpy()\n",
    "y_train = y_train.to_numpy()\n",
    "\n",
    "best = tf.keras.callbacks.ModelCheckpoint(\n",
    "    filepath='best_model_acc_fase6',\n",
    "    save_weights_only=False,\n",
    "    monitor='accuracy',\n",
    "    mode='max',\n",
    "    save_best_only=True)\n",
    "\n",
    "model_bin.fit(X_train, y_train,\n",
    "              epochs=10,\n",
    "              callbacks = [best],\n",
    "              validation_split = 0.2,\n",
    "              batch_size=200)"
   ]
  },
  {
   "cell_type": "code",
   "execution_count": 8,
   "id": "f81abf25-3233-4bdb-9576-e2deea0a0958",
   "metadata": {},
   "outputs": [
    {
     "name": "stderr",
     "output_type": "stream",
     "text": [
      "2024-01-23 11:54:36.858123: E tensorflow/compiler/xla/stream_executor/cuda/cuda_driver.cc:268] failed call to cuInit: CUDA_ERROR_COMPAT_NOT_SUPPORTED_ON_DEVICE: forward compatibility was attempted on non supported HW\n",
      "2024-01-23 11:54:36.858190: I tensorflow/compiler/xla/stream_executor/cuda/cuda_diagnostics.cc:168] retrieving CUDA diagnostic information for host: r2d2\n",
      "2024-01-23 11:54:36.858194: I tensorflow/compiler/xla/stream_executor/cuda/cuda_diagnostics.cc:175] hostname: r2d2\n",
      "2024-01-23 11:54:36.858410: I tensorflow/compiler/xla/stream_executor/cuda/cuda_diagnostics.cc:199] libcuda reported version is: 535.154.5\n",
      "2024-01-23 11:54:36.858435: I tensorflow/compiler/xla/stream_executor/cuda/cuda_diagnostics.cc:203] kernel reported version is: 535.146.2\n",
      "2024-01-23 11:54:36.858440: E tensorflow/compiler/xla/stream_executor/cuda/cuda_diagnostics.cc:312] kernel version 535.146.2 does not match DSO version 535.154.5 -- cannot find working devices in this configuration\n"
     ]
    },
    {
     "name": "stdout",
     "output_type": "stream",
     "text": [
      "56582/56582 [==============================] - 629s 11ms/step\n",
      "Matriz de Confusão Teste:  7\n",
      "[[ 480942   19058]\n",
      " [  11698 1298924]]\n",
      "Relatório de Classificação\n",
      "              precision    recall  f1-score   support\n",
      "\n",
      "           0     0.9763    0.9619    0.9690    500000\n",
      "           1     0.9855    0.9911    0.9883   1310622\n",
      "\n",
      "    accuracy                         0.9830   1810622\n",
      "   macro avg     0.9809    0.9765    0.9787   1810622\n",
      "weighted avg     0.9830    0.9830    0.9830   1810622\n",
      "\n",
      "____________________\n",
      "61418/61418 [==============================] - 678s 11ms/step\n",
      "Matriz de Confusão Teste:  8\n",
      "[[ 480942   19058]\n",
      " [  13561 1451792]]\n",
      "Relatório de Classificação\n",
      "              precision    recall  f1-score   support\n",
      "\n",
      "           0     0.9726    0.9619    0.9672    500000\n",
      "           1     0.9870    0.9907    0.9889   1465353\n",
      "\n",
      "    accuracy                         0.9834   1965353\n",
      "   macro avg     0.9798    0.9763    0.9780   1965353\n",
      "weighted avg     0.9834    0.9834    0.9834   1965353\n",
      "\n",
      "____________________\n",
      "56730/56730 [==============================] - 630s 11ms/step\n",
      "Matriz de Confusão Teste:  9\n",
      "[[ 480942   19058]\n",
      " [  14672 1300673]]\n",
      "Relatório de Classificação\n",
      "              precision    recall  f1-score   support\n",
      "\n",
      "           0     0.9704    0.9619    0.9661    500000\n",
      "           1     0.9856    0.9888    0.9872   1315345\n",
      "\n",
      "    accuracy                         0.9814   1815345\n",
      "   macro avg     0.9780    0.9754    0.9767   1815345\n",
      "weighted avg     0.9814    0.9814    0.9814   1815345\n",
      "\n",
      "____________________\n",
      "61541/61541 [==============================] - 679s 11ms/step\n",
      "Matriz de Confusão Teste:  10\n",
      "[[ 480942   19058]\n",
      " [  15268 1454017]]\n",
      "Relatório de Classificação\n",
      "              precision    recall  f1-score   support\n",
      "\n",
      "           0     0.9692    0.9619    0.9655    500000\n",
      "           1     0.9871    0.9896    0.9883   1469285\n",
      "\n",
      "    accuracy                         0.9826   1969285\n",
      "   macro avg     0.9781    0.9757    0.9769   1969285\n",
      "weighted avg     0.9825    0.9826    0.9825   1969285\n",
      "\n",
      "____________________\n",
      "57414/57414 [==============================] - 639s 11ms/step\n",
      "Matriz de Confusão Teste:  11\n",
      "[[ 480942   19058]\n",
      " [  14459 1322778]]\n",
      "Relatório de Classificação\n",
      "              precision    recall  f1-score   support\n",
      "\n",
      "           0     0.9708    0.9619    0.9663    500000\n",
      "           1     0.9858    0.9892    0.9875   1337237\n",
      "\n",
      "    accuracy                         0.9818   1837237\n",
      "   macro avg     0.9783    0.9755    0.9769   1837237\n",
      "weighted avg     0.9817    0.9818    0.9817   1837237\n",
      "\n",
      "____________________\n"
     ]
    }
   ],
   "source": [
    "model_bin = tf.keras.models.load_model('best_model_acc_fase6')\n",
    "legit = majestic.loc[~majestic['domain'].isin(df_treino['domain'])].reset_index(drop=True)\n",
    "\n",
    "for i in range (7,12):\n",
    "    dga = pd.read_csv('./teste/df_teste'+str(i)+'.csv')\n",
    "    dga = dga.drop('family', axis = 1)\n",
    "    dga = dga.loc[~dga['domain'].isin(majestic['domain'])].reset_index(drop=True)\n",
    "\n",
    "    dga.columns = legit.columns\n",
    "    df_teste = pd.concat([legit,dga], axis = 0, ignore_index=True)\n",
    "\n",
    "    X_test = df_teste.drop(['domain','label'], axis = 1)\n",
    "    y_test = df_teste['label']\n",
    "\n",
    "    X_test = X_test.to_numpy()\n",
    "    y_test = y_test.to_numpy()\n",
    "\n",
    "    with tf.device('/cpu:0'):\n",
    "        predictions = model_bin.predict(X_test)\n",
    "        predictions = np.where(predictions > 0.5, 1, 0)\n",
    "    \n",
    "    print('Matriz de Confusão Teste: ', str(i))\n",
    "    print(confusion_matrix(y_test,predictions))\n",
    "\n",
    "    print('Relatório de Classificação')\n",
    "    print(classification_report(y_test,predictions, digits=4))\n",
    "    print('____________________')"
   ]
  },
  {
   "cell_type": "markdown",
   "id": "e19b3c2f-a7af-4282-93bc-ad9930bdc596",
   "metadata": {},
   "source": [
    "## Oitavo Treino Incremental"
   ]
  },
  {
   "cell_type": "code",
   "execution_count": 8,
   "id": "0f177375-803c-40ce-a933-55aba8121117",
   "metadata": {},
   "outputs": [
    {
     "name": "stderr",
     "output_type": "stream",
     "text": [
      "2024-01-23 13:54:19.028187: I tensorflow/compiler/xla/stream_executor/cuda/cuda_gpu_executor.cc:995] successful NUMA node read from SysFS had negative value (-1), but there must be at least one NUMA node, so returning NUMA node zero. See more at https://github.com/torvalds/linux/blob/v6.0/Documentation/ABI/testing/sysfs-bus-pci#L344-L355\n",
      "2024-01-23 13:54:19.028657: I tensorflow/compiler/xla/stream_executor/cuda/cuda_gpu_executor.cc:995] successful NUMA node read from SysFS had negative value (-1), but there must be at least one NUMA node, so returning NUMA node zero. See more at https://github.com/torvalds/linux/blob/v6.0/Documentation/ABI/testing/sysfs-bus-pci#L344-L355\n",
      "2024-01-23 13:54:19.028948: I tensorflow/compiler/xla/stream_executor/cuda/cuda_gpu_executor.cc:995] successful NUMA node read from SysFS had negative value (-1), but there must be at least one NUMA node, so returning NUMA node zero. See more at https://github.com/torvalds/linux/blob/v6.0/Documentation/ABI/testing/sysfs-bus-pci#L344-L355\n",
      "2024-01-23 13:54:19.668127: I tensorflow/compiler/xla/stream_executor/cuda/cuda_gpu_executor.cc:995] successful NUMA node read from SysFS had negative value (-1), but there must be at least one NUMA node, so returning NUMA node zero. See more at https://github.com/torvalds/linux/blob/v6.0/Documentation/ABI/testing/sysfs-bus-pci#L344-L355\n",
      "2024-01-23 13:54:19.668253: I tensorflow/compiler/xla/stream_executor/cuda/cuda_gpu_executor.cc:995] successful NUMA node read from SysFS had negative value (-1), but there must be at least one NUMA node, so returning NUMA node zero. See more at https://github.com/torvalds/linux/blob/v6.0/Documentation/ABI/testing/sysfs-bus-pci#L344-L355\n",
      "2024-01-23 13:54:19.668334: I tensorflow/compiler/xla/stream_executor/cuda/cuda_gpu_executor.cc:995] successful NUMA node read from SysFS had negative value (-1), but there must be at least one NUMA node, so returning NUMA node zero. See more at https://github.com/torvalds/linux/blob/v6.0/Documentation/ABI/testing/sysfs-bus-pci#L344-L355\n",
      "2024-01-23 13:54:19.668431: I tensorflow/core/common_runtime/gpu/gpu_device.cc:1639] Created device /job:localhost/replica:0/task:0/device:GPU:0 with 2114 MB memory:  -> device: 0, name: NVIDIA GeForce RTX 3050 Laptop GPU, pci bus id: 0000:01:00.0, compute capability: 8.6\n"
     ]
    },
    {
     "name": "stdout",
     "output_type": "stream",
     "text": [
      "Epoch 1/10\n"
     ]
    },
    {
     "name": "stderr",
     "output_type": "stream",
     "text": [
      "2024-01-23 13:54:29.441243: I tensorflow/compiler/xla/stream_executor/cuda/cuda_dnn.cc:432] Loaded cuDNN version 8902\n",
      "2024-01-23 13:54:30.427951: I tensorflow/compiler/xla/stream_executor/cuda/cuda_blas.cc:606] TensorFloat-32 will be used for the matrix multiplication. This will only be logged once.\n",
      "2024-01-23 13:54:30.735429: I tensorflow/compiler/xla/service/service.cc:168] XLA service 0x7f3eabaa9f50 initialized for platform CUDA (this does not guarantee that XLA will be used). Devices:\n",
      "2024-01-23 13:54:30.735452: I tensorflow/compiler/xla/service/service.cc:176]   StreamExecutor device (0): NVIDIA GeForce RTX 3050 Laptop GPU, Compute Capability 8.6\n",
      "2024-01-23 13:54:30.766254: I tensorflow/compiler/mlir/tensorflow/utils/dump_mlir_util.cc:255] disabling MLIR crash reproducer, set env var `MLIR_CRASH_REPRODUCER_DIRECTORY` to enable.\n",
      "2024-01-23 13:54:30.969650: I ./tensorflow/compiler/jit/device_compiler.h:186] Compiled cluster using XLA!  This line is logged at most once for the lifetime of the process.\n",
      "2024-01-23 13:54:31.391849: W tensorflow/tsl/framework/bfc_allocator.cc:296] Allocator (GPU_0_bfc) ran out of memory trying to allocate 1.50GiB with freed_by_count=0. The caller indicates that this is not a failure, but this may mean that there could be performance gains if more memory were available.\n",
      "2024-01-23 13:54:31.750852: W tensorflow/tsl/framework/bfc_allocator.cc:296] Allocator (GPU_0_bfc) ran out of memory trying to allocate 2.25GiB with freed_by_count=0. The caller indicates that this is not a failure, but this may mean that there could be performance gains if more memory were available.\n",
      "2024-01-23 13:54:32.041937: W tensorflow/tsl/framework/bfc_allocator.cc:296] Allocator (GPU_0_bfc) ran out of memory trying to allocate 4.48GiB with freed_by_count=0. The caller indicates that this is not a failure, but this may mean that there could be performance gains if more memory were available.\n"
     ]
    },
    {
     "name": "stdout",
     "output_type": "stream",
     "text": [
      "7243/7243 [==============================] - ETA: 0s - loss: 0.0152 - accuracy: 0.9960"
     ]
    },
    {
     "name": "stderr",
     "output_type": "stream",
     "text": [
      "2024-01-23 13:59:06.243206: W tensorflow/tsl/framework/bfc_allocator.cc:296] Allocator (GPU_0_bfc) ran out of memory trying to allocate 1.73GiB with freed_by_count=0. The caller indicates that this is not a failure, but this may mean that there could be performance gains if more memory were available.\n",
      "2024-01-23 13:59:06.248761: W tensorflow/tsl/framework/bfc_allocator.cc:296] Allocator (GPU_0_bfc) ran out of memory trying to allocate 1.73GiB with freed_by_count=0. The caller indicates that this is not a failure, but this may mean that there could be performance gains if more memory were available.\n"
     ]
    },
    {
     "name": "stdout",
     "output_type": "stream",
     "text": [
      "INFO:tensorflow:Assets written to: best_model_acc_fase7/assets\n"
     ]
    },
    {
     "name": "stderr",
     "output_type": "stream",
     "text": [
      "INFO:tensorflow:Assets written to: best_model_acc_fase7/assets\n"
     ]
    },
    {
     "name": "stdout",
     "output_type": "stream",
     "text": [
      "7243/7243 [==============================] - 300s 41ms/step - loss: 0.0152 - accuracy: 0.9960 - val_loss: 0.0298 - val_accuracy: 0.9899\n",
      "Epoch 2/10\n",
      "7243/7243 [==============================] - ETA: 0s - loss: 0.0093 - accuracy: 0.9978INFO:tensorflow:Assets written to: best_model_acc_fase7/assets\n"
     ]
    },
    {
     "name": "stderr",
     "output_type": "stream",
     "text": [
      "INFO:tensorflow:Assets written to: best_model_acc_fase7/assets\n"
     ]
    },
    {
     "name": "stdout",
     "output_type": "stream",
     "text": [
      "7243/7243 [==============================] - 291s 40ms/step - loss: 0.0093 - accuracy: 0.9978 - val_loss: 0.0348 - val_accuracy: 0.9899\n",
      "Epoch 3/10\n",
      "7243/7243 [==============================] - ETA: 0s - loss: 0.0070 - accuracy: 0.9984INFO:tensorflow:Assets written to: best_model_acc_fase7/assets\n"
     ]
    },
    {
     "name": "stderr",
     "output_type": "stream",
     "text": [
      "INFO:tensorflow:Assets written to: best_model_acc_fase7/assets\n"
     ]
    },
    {
     "name": "stdout",
     "output_type": "stream",
     "text": [
      "7243/7243 [==============================] - 293s 40ms/step - loss: 0.0070 - accuracy: 0.9984 - val_loss: 0.0402 - val_accuracy: 0.9891\n",
      "Epoch 4/10\n",
      "7243/7243 [==============================] - ETA: 0s - loss: 0.0057 - accuracy: 0.9988INFO:tensorflow:Assets written to: best_model_acc_fase7/assets\n"
     ]
    },
    {
     "name": "stderr",
     "output_type": "stream",
     "text": [
      "INFO:tensorflow:Assets written to: best_model_acc_fase7/assets\n"
     ]
    },
    {
     "name": "stdout",
     "output_type": "stream",
     "text": [
      "7243/7243 [==============================] - 293s 40ms/step - loss: 0.0057 - accuracy: 0.9988 - val_loss: 0.0472 - val_accuracy: 0.9884\n",
      "Epoch 5/10\n",
      "7243/7243 [==============================] - ETA: 0s - loss: 0.0049 - accuracy: 0.9989INFO:tensorflow:Assets written to: best_model_acc_fase7/assets\n"
     ]
    },
    {
     "name": "stderr",
     "output_type": "stream",
     "text": [
      "INFO:tensorflow:Assets written to: best_model_acc_fase7/assets\n"
     ]
    },
    {
     "name": "stdout",
     "output_type": "stream",
     "text": [
      "7243/7243 [==============================] - 293s 40ms/step - loss: 0.0049 - accuracy: 0.9989 - val_loss: 0.0601 - val_accuracy: 0.9863\n",
      "Epoch 6/10\n",
      "7243/7243 [==============================] - ETA: 0s - loss: 0.0043 - accuracy: 0.9990INFO:tensorflow:Assets written to: best_model_acc_fase7/assets\n"
     ]
    },
    {
     "name": "stderr",
     "output_type": "stream",
     "text": [
      "INFO:tensorflow:Assets written to: best_model_acc_fase7/assets\n"
     ]
    },
    {
     "name": "stdout",
     "output_type": "stream",
     "text": [
      "7243/7243 [==============================] - 293s 40ms/step - loss: 0.0043 - accuracy: 0.9990 - val_loss: 0.0657 - val_accuracy: 0.9861\n",
      "Epoch 7/10\n",
      "7243/7243 [==============================] - ETA: 0s - loss: 0.0040 - accuracy: 0.9991INFO:tensorflow:Assets written to: best_model_acc_fase7/assets\n"
     ]
    },
    {
     "name": "stderr",
     "output_type": "stream",
     "text": [
      "INFO:tensorflow:Assets written to: best_model_acc_fase7/assets\n"
     ]
    },
    {
     "name": "stdout",
     "output_type": "stream",
     "text": [
      "7243/7243 [==============================] - 293s 40ms/step - loss: 0.0040 - accuracy: 0.9991 - val_loss: 0.0612 - val_accuracy: 0.9879\n",
      "Epoch 8/10\n",
      "7243/7243 [==============================] - ETA: 0s - loss: 0.0038 - accuracy: 0.9992INFO:tensorflow:Assets written to: best_model_acc_fase7/assets\n"
     ]
    },
    {
     "name": "stderr",
     "output_type": "stream",
     "text": [
      "INFO:tensorflow:Assets written to: best_model_acc_fase7/assets\n"
     ]
    },
    {
     "name": "stdout",
     "output_type": "stream",
     "text": [
      "7243/7243 [==============================] - 293s 40ms/step - loss: 0.0038 - accuracy: 0.9992 - val_loss: 0.0690 - val_accuracy: 0.9862\n",
      "Epoch 9/10\n",
      "7243/7243 [==============================] - ETA: 0s - loss: 0.0038 - accuracy: 0.9992INFO:tensorflow:Assets written to: best_model_acc_fase7/assets\n"
     ]
    },
    {
     "name": "stderr",
     "output_type": "stream",
     "text": [
      "INFO:tensorflow:Assets written to: best_model_acc_fase7/assets\n"
     ]
    },
    {
     "name": "stdout",
     "output_type": "stream",
     "text": [
      "7243/7243 [==============================] - 292s 40ms/step - loss: 0.0038 - accuracy: 0.9992 - val_loss: 0.0667 - val_accuracy: 0.9866\n",
      "Epoch 10/10\n",
      "7243/7243 [==============================] - ETA: 0s - loss: 0.0036 - accuracy: 0.9993INFO:tensorflow:Assets written to: best_model_acc_fase7/assets\n"
     ]
    },
    {
     "name": "stderr",
     "output_type": "stream",
     "text": [
      "INFO:tensorflow:Assets written to: best_model_acc_fase7/assets\n"
     ]
    },
    {
     "name": "stdout",
     "output_type": "stream",
     "text": [
      "7243/7243 [==============================] - 292s 40ms/step - loss: 0.0036 - accuracy: 0.9993 - val_loss: 0.0702 - val_accuracy: 0.9862\n"
     ]
    },
    {
     "data": {
      "text/plain": [
       "<keras.src.callbacks.History at 0x7f429e3d30a0>"
      ]
     },
     "execution_count": 8,
     "metadata": {},
     "output_type": "execute_result"
    }
   ],
   "source": [
    "model_bin = tf.keras.models.load_model('best_model_acc_fase6')\n",
    "\n",
    "majestic = pd.read_csv('./treino/majestic_ascii.csv')\n",
    "majestic['69'] = 0\n",
    "majestic['70'] = 0\n",
    "majestic['71'] = 0\n",
    "\n",
    "dga = pd.read_csv('./teste/df_teste7.csv')\n",
    "dga = dga.drop('family', axis = 1)\n",
    "\n",
    "dga.columns = majestic.columns\n",
    "dga = dga.loc[~dga['domain'].isin(majestic['domain'])].reset_index(drop=True)\n",
    "\n",
    "df_treino = pd.concat([majestic.sample(500000, random_state=1),dga], axis = 0, ignore_index=True)\n",
    "\n",
    "X_train = df_treino.drop(['domain','label'], axis = 1)\n",
    "y_train = df_treino['label']\n",
    "\n",
    "X_train = X_train.to_numpy()\n",
    "y_train = y_train.to_numpy()\n",
    "\n",
    "best = tf.keras.callbacks.ModelCheckpoint(\n",
    "    filepath='best_model_acc_fase7',\n",
    "    save_weights_only=False,\n",
    "    monitor='accuracy',\n",
    "    mode='max',\n",
    "    save_best_only=True)\n",
    "\n",
    "model_bin.fit(X_train, y_train,\n",
    "              epochs=10,\n",
    "              callbacks = [best],\n",
    "              validation_split = 0.2,\n",
    "              batch_size=200)"
   ]
  },
  {
   "cell_type": "code",
   "execution_count": 9,
   "id": "eb10b18a-35fe-4358-aec1-66cb54acd47f",
   "metadata": {},
   "outputs": [
    {
     "name": "stdout",
     "output_type": "stream",
     "text": [
      "61418/61418 [==============================] - 761s 12ms/step\n",
      "Matriz de Confusão Teste:  8\n",
      "[[ 481409   18591]\n",
      " [  13178 1452175]]\n",
      "Relatório de Classificação\n",
      "              precision    recall  f1-score   support\n",
      "\n",
      "           0     0.9734    0.9628    0.9681    500000\n",
      "           1     0.9874    0.9910    0.9892   1465353\n",
      "\n",
      "    accuracy                         0.9838   1965353\n",
      "   macro avg     0.9804    0.9769    0.9786   1965353\n",
      "weighted avg     0.9838    0.9838    0.9838   1965353\n",
      "\n",
      "____________________\n",
      "56730/56730 [==============================] - 719s 13ms/step\n",
      "Matriz de Confusão Teste:  9\n",
      "[[ 481409   18591]\n",
      " [  14466 1300879]]\n",
      "Relatório de Classificação\n",
      "              precision    recall  f1-score   support\n",
      "\n",
      "           0     0.9708    0.9628    0.9668    500000\n",
      "           1     0.9859    0.9890    0.9875   1315345\n",
      "\n",
      "    accuracy                         0.9818   1815345\n",
      "   macro avg     0.9784    0.9759    0.9771   1815345\n",
      "weighted avg     0.9818    0.9818    0.9818   1815345\n",
      "\n",
      "____________________\n",
      "61541/61541 [==============================] - 775s 13ms/step\n",
      "Matriz de Confusão Teste:  10\n",
      "[[ 481409   18591]\n",
      " [  16486 1452799]]\n",
      "Relatório de Classificação\n",
      "              precision    recall  f1-score   support\n",
      "\n",
      "           0     0.9669    0.9628    0.9648    500000\n",
      "           1     0.9874    0.9888    0.9881   1469285\n",
      "\n",
      "    accuracy                         0.9822   1969285\n",
      "   macro avg     0.9771    0.9758    0.9765   1969285\n",
      "weighted avg     0.9822    0.9822    0.9822   1969285\n",
      "\n",
      "____________________\n",
      "57414/57414 [==============================] - 709s 12ms/step\n",
      "Matriz de Confusão Teste:  11\n",
      "[[ 481409   18591]\n",
      " [  15793 1321444]]\n",
      "Relatório de Classificação\n",
      "              precision    recall  f1-score   support\n",
      "\n",
      "           0     0.9682    0.9628    0.9655    500000\n",
      "           1     0.9861    0.9882    0.9872   1337237\n",
      "\n",
      "    accuracy                         0.9813   1837237\n",
      "   macro avg     0.9772    0.9755    0.9763   1837237\n",
      "weighted avg     0.9813    0.9813    0.9813   1837237\n",
      "\n",
      "____________________\n"
     ]
    }
   ],
   "source": [
    "model_bin = tf.keras.models.load_model('best_model_acc_fase7')\n",
    "legit = majestic.loc[~majestic['domain'].isin(df_treino['domain'])].reset_index(drop=True)\n",
    "\n",
    "for i in range (8,12):\n",
    "    dga = pd.read_csv('./teste/df_teste'+str(i)+'.csv')\n",
    "    dga = dga.drop('family', axis = 1)\n",
    "    dga = dga.loc[~dga['domain'].isin(majestic['domain'])].reset_index(drop=True)\n",
    "\n",
    "    dga.columns = legit.columns\n",
    "    df_teste = pd.concat([legit,dga], axis = 0, ignore_index=True)\n",
    "\n",
    "    X_test = df_teste.drop(['domain','label'], axis = 1)\n",
    "    y_test = df_teste['label']\n",
    "\n",
    "    X_test = X_test.to_numpy()\n",
    "    y_test = y_test.to_numpy()\n",
    "\n",
    "    with tf.device('/cpu:0'):\n",
    "        predictions = model_bin.predict(X_test)\n",
    "        predictions = np.where(predictions > 0.5, 1, 0)\n",
    "    \n",
    "    print('Matriz de Confusão Teste: ', str(i))\n",
    "    print(confusion_matrix(y_test,predictions))\n",
    "\n",
    "    print('Relatório de Classificação')\n",
    "    print(classification_report(y_test,predictions, digits=4))\n",
    "    print('____________________')"
   ]
  },
  {
   "cell_type": "markdown",
   "id": "503f205d-2314-4232-b22d-a70f80896d54",
   "metadata": {},
   "source": [
    "## Nono Treino Incremental"
   ]
  },
  {
   "cell_type": "code",
   "execution_count": 10,
   "id": "7df56021-e58e-47f3-a9ee-42d2473db293",
   "metadata": {},
   "outputs": [
    {
     "name": "stdout",
     "output_type": "stream",
     "text": [
      "Epoch 1/10\n",
      "7862/7862 [==============================] - ETA: 0s - loss: 0.0150 - accuracy: 0.9961INFO:tensorflow:Assets written to: best_model_acc_fase8/assets\n"
     ]
    },
    {
     "name": "stderr",
     "output_type": "stream",
     "text": [
      "INFO:tensorflow:Assets written to: best_model_acc_fase8/assets\n"
     ]
    },
    {
     "name": "stdout",
     "output_type": "stream",
     "text": [
      "7862/7862 [==============================] - 321s 40ms/step - loss: 0.0150 - accuracy: 0.9961 - val_loss: 0.0252 - val_accuracy: 0.9917\n",
      "Epoch 2/10\n",
      "7862/7862 [==============================] - ETA: 0s - loss: 0.0092 - accuracy: 0.9979INFO:tensorflow:Assets written to: best_model_acc_fase8/assets\n"
     ]
    },
    {
     "name": "stderr",
     "output_type": "stream",
     "text": [
      "INFO:tensorflow:Assets written to: best_model_acc_fase8/assets\n"
     ]
    },
    {
     "name": "stdout",
     "output_type": "stream",
     "text": [
      "7862/7862 [==============================] - 317s 40ms/step - loss: 0.0092 - accuracy: 0.9979 - val_loss: 0.0303 - val_accuracy: 0.9907\n",
      "Epoch 3/10\n",
      "7861/7862 [============================>.] - ETA: 0s - loss: 0.0070 - accuracy: 0.9984INFO:tensorflow:Assets written to: best_model_acc_fase8/assets\n"
     ]
    },
    {
     "name": "stderr",
     "output_type": "stream",
     "text": [
      "INFO:tensorflow:Assets written to: best_model_acc_fase8/assets\n"
     ]
    },
    {
     "name": "stdout",
     "output_type": "stream",
     "text": [
      "7862/7862 [==============================] - 319s 41ms/step - loss: 0.0070 - accuracy: 0.9984 - val_loss: 0.0351 - val_accuracy: 0.9901\n",
      "Epoch 4/10\n",
      "7861/7862 [============================>.] - ETA: 0s - loss: 0.0057 - accuracy: 0.9987INFO:tensorflow:Assets written to: best_model_acc_fase8/assets\n"
     ]
    },
    {
     "name": "stderr",
     "output_type": "stream",
     "text": [
      "INFO:tensorflow:Assets written to: best_model_acc_fase8/assets\n"
     ]
    },
    {
     "name": "stdout",
     "output_type": "stream",
     "text": [
      "7862/7862 [==============================] - 319s 41ms/step - loss: 0.0057 - accuracy: 0.9987 - val_loss: 0.0350 - val_accuracy: 0.9912\n",
      "Epoch 5/10\n",
      "7862/7862 [==============================] - ETA: 0s - loss: 0.0048 - accuracy: 0.9990INFO:tensorflow:Assets written to: best_model_acc_fase8/assets\n"
     ]
    },
    {
     "name": "stderr",
     "output_type": "stream",
     "text": [
      "INFO:tensorflow:Assets written to: best_model_acc_fase8/assets\n"
     ]
    },
    {
     "name": "stdout",
     "output_type": "stream",
     "text": [
      "7862/7862 [==============================] - 319s 41ms/step - loss: 0.0048 - accuracy: 0.9990 - val_loss: 0.0599 - val_accuracy: 0.9862\n",
      "Epoch 6/10\n",
      "7861/7862 [============================>.] - ETA: 0s - loss: 0.0043 - accuracy: 0.9991INFO:tensorflow:Assets written to: best_model_acc_fase8/assets\n"
     ]
    },
    {
     "name": "stderr",
     "output_type": "stream",
     "text": [
      "INFO:tensorflow:Assets written to: best_model_acc_fase8/assets\n"
     ]
    },
    {
     "name": "stdout",
     "output_type": "stream",
     "text": [
      "7862/7862 [==============================] - 319s 41ms/step - loss: 0.0043 - accuracy: 0.9991 - val_loss: 0.0517 - val_accuracy: 0.9886\n",
      "Epoch 7/10\n",
      "7861/7862 [============================>.] - ETA: 0s - loss: 0.0041 - accuracy: 0.9991INFO:tensorflow:Assets written to: best_model_acc_fase8/assets\n"
     ]
    },
    {
     "name": "stderr",
     "output_type": "stream",
     "text": [
      "INFO:tensorflow:Assets written to: best_model_acc_fase8/assets\n"
     ]
    },
    {
     "name": "stdout",
     "output_type": "stream",
     "text": [
      "7862/7862 [==============================] - 318s 40ms/step - loss: 0.0041 - accuracy: 0.9991 - val_loss: 0.0600 - val_accuracy: 0.9867\n",
      "Epoch 8/10\n",
      "7861/7862 [============================>.] - ETA: 0s - loss: 0.0038 - accuracy: 0.9992INFO:tensorflow:Assets written to: best_model_acc_fase8/assets\n"
     ]
    },
    {
     "name": "stderr",
     "output_type": "stream",
     "text": [
      "INFO:tensorflow:Assets written to: best_model_acc_fase8/assets\n"
     ]
    },
    {
     "name": "stdout",
     "output_type": "stream",
     "text": [
      "7862/7862 [==============================] - 319s 41ms/step - loss: 0.0038 - accuracy: 0.9992 - val_loss: 0.0460 - val_accuracy: 0.9900\n",
      "Epoch 9/10\n",
      "7861/7862 [============================>.] - ETA: 0s - loss: 0.0036 - accuracy: 0.9993INFO:tensorflow:Assets written to: best_model_acc_fase8/assets\n"
     ]
    },
    {
     "name": "stderr",
     "output_type": "stream",
     "text": [
      "INFO:tensorflow:Assets written to: best_model_acc_fase8/assets\n"
     ]
    },
    {
     "name": "stdout",
     "output_type": "stream",
     "text": [
      "7862/7862 [==============================] - 320s 41ms/step - loss: 0.0036 - accuracy: 0.9993 - val_loss: 0.0601 - val_accuracy: 0.9881\n",
      "Epoch 10/10\n",
      "7861/7862 [============================>.] - ETA: 0s - loss: 0.0036 - accuracy: 0.9993INFO:tensorflow:Assets written to: best_model_acc_fase8/assets\n"
     ]
    },
    {
     "name": "stderr",
     "output_type": "stream",
     "text": [
      "INFO:tensorflow:Assets written to: best_model_acc_fase8/assets\n"
     ]
    },
    {
     "name": "stdout",
     "output_type": "stream",
     "text": [
      "7862/7862 [==============================] - 319s 41ms/step - loss: 0.0036 - accuracy: 0.9993 - val_loss: 0.0700 - val_accuracy: 0.9859\n"
     ]
    },
    {
     "data": {
      "text/plain": [
       "<keras.src.callbacks.History at 0x7f41e4570730>"
      ]
     },
     "execution_count": 10,
     "metadata": {},
     "output_type": "execute_result"
    }
   ],
   "source": [
    "model_bin = tf.keras.models.load_model('best_model_acc_fase7')\n",
    "\n",
    "majestic = pd.read_csv('./treino/majestic_ascii.csv')\n",
    "majestic['69'] = 0\n",
    "majestic['70'] = 0\n",
    "majestic['71'] = 0\n",
    "\n",
    "dga = pd.read_csv('./teste/df_teste8.csv')\n",
    "dga = dga.drop('family', axis = 1)\n",
    "\n",
    "dga.columns = majestic.columns\n",
    "dga = dga.loc[~dga['domain'].isin(majestic['domain'])].reset_index(drop=True)\n",
    "\n",
    "df_treino = pd.concat([majestic.sample(500000, random_state=1),dga], axis = 0, ignore_index=True)\n",
    "\n",
    "X_train = df_treino.drop(['domain','label'], axis = 1)\n",
    "y_train = df_treino['label']\n",
    "\n",
    "X_train = X_train.to_numpy()\n",
    "y_train = y_train.to_numpy()\n",
    "\n",
    "best = tf.keras.callbacks.ModelCheckpoint(\n",
    "    filepath='best_model_acc_fase8',\n",
    "    save_weights_only=False,\n",
    "    monitor='accuracy',\n",
    "    mode='max',\n",
    "    save_best_only=True)\n",
    "\n",
    "model_bin.fit(X_train, y_train,\n",
    "              epochs=10,\n",
    "              callbacks = [best],\n",
    "              validation_split = 0.2,\n",
    "              batch_size=200)"
   ]
  },
  {
   "cell_type": "code",
   "execution_count": 11,
   "id": "b16d5b29-d441-403d-aff3-1b01bb1b31ad",
   "metadata": {},
   "outputs": [
    {
     "name": "stdout",
     "output_type": "stream",
     "text": [
      "56730/56730 [==============================] - 717s 13ms/step\n",
      "Matriz de Confusão Teste:  9\n",
      "[[ 479459   20541]\n",
      " [  12453 1302892]]\n",
      "Relatório de Classificação\n",
      "              precision    recall  f1-score   support\n",
      "\n",
      "           0     0.9747    0.9589    0.9667    500000\n",
      "           1     0.9845    0.9905    0.9875   1315345\n",
      "\n",
      "    accuracy                         0.9818   1815345\n",
      "   macro avg     0.9796    0.9747    0.9771   1815345\n",
      "weighted avg     0.9818    0.9818    0.9818   1815345\n",
      "\n",
      "____________________\n",
      "61541/61541 [==============================] - 754s 12ms/step\n",
      "Matriz de Confusão Teste:  10\n",
      "[[ 479459   20541]\n",
      " [  15881 1453404]]\n",
      "Relatório de Classificação\n",
      "              precision    recall  f1-score   support\n",
      "\n",
      "           0     0.9679    0.9589    0.9634    500000\n",
      "           1     0.9861    0.9892    0.9876   1469285\n",
      "\n",
      "    accuracy                         0.9815   1969285\n",
      "   macro avg     0.9770    0.9741    0.9755   1969285\n",
      "weighted avg     0.9815    0.9815    0.9815   1969285\n",
      "\n",
      "____________________\n",
      "57414/57414 [==============================] - 691s 12ms/step\n",
      "Matriz de Confusão Teste:  11\n",
      "[[ 479459   20541]\n",
      " [  15613 1321624]]\n",
      "Relatório de Classificação\n",
      "              precision    recall  f1-score   support\n",
      "\n",
      "           0     0.9685    0.9589    0.9637    500000\n",
      "           1     0.9847    0.9883    0.9865   1337237\n",
      "\n",
      "    accuracy                         0.9803   1837237\n",
      "   macro avg     0.9766    0.9736    0.9751   1837237\n",
      "weighted avg     0.9803    0.9803    0.9803   1837237\n",
      "\n",
      "____________________\n"
     ]
    }
   ],
   "source": [
    "model_bin = tf.keras.models.load_model('best_model_acc_fase8')\n",
    "legit = majestic.loc[~majestic['domain'].isin(df_treino['domain'])].reset_index(drop=True)\n",
    "\n",
    "for i in range (9,12):\n",
    "    dga = pd.read_csv('./teste/df_teste'+str(i)+'.csv')\n",
    "    dga = dga.drop('family', axis = 1)\n",
    "    dga = dga.loc[~dga['domain'].isin(majestic['domain'])].reset_index(drop=True)\n",
    "\n",
    "    dga.columns = legit.columns\n",
    "    df_teste = pd.concat([legit,dga], axis = 0, ignore_index=True)\n",
    "\n",
    "    X_test = df_teste.drop(['domain','label'], axis = 1)\n",
    "    y_test = df_teste['label']\n",
    "\n",
    "    X_test = X_test.to_numpy()\n",
    "    y_test = y_test.to_numpy()\n",
    "\n",
    "    with tf.device('/cpu:0'):\n",
    "        predictions = model_bin.predict(X_test)\n",
    "        predictions = np.where(predictions > 0.5, 1, 0)\n",
    "    \n",
    "    print('Matriz de Confusão Teste: ', str(i))\n",
    "    print(confusion_matrix(y_test,predictions))\n",
    "\n",
    "    print('Relatório de Classificação')\n",
    "    print(classification_report(y_test,predictions, digits=4))\n",
    "    print('____________________')"
   ]
  },
  {
   "cell_type": "markdown",
   "id": "00d640ea-d5c5-4ba3-8fe7-7f28727a1142",
   "metadata": {},
   "source": [
    "## Décimo treino Incremental"
   ]
  },
  {
   "cell_type": "code",
   "execution_count": 12,
   "id": "ceff66d4-0188-4446-aec5-dcac3f5ae064",
   "metadata": {},
   "outputs": [
    {
     "name": "stdout",
     "output_type": "stream",
     "text": [
      "Epoch 1/10\n",
      "7262/7262 [==============================] - ETA: 0s - loss: 0.0146 - accuracy: 0.9962INFO:tensorflow:Assets written to: best_model_acc_fase9/assets\n"
     ]
    },
    {
     "name": "stderr",
     "output_type": "stream",
     "text": [
      "INFO:tensorflow:Assets written to: best_model_acc_fase9/assets\n"
     ]
    },
    {
     "name": "stdout",
     "output_type": "stream",
     "text": [
      "7262/7262 [==============================] - 296s 40ms/step - loss: 0.0146 - accuracy: 0.9962 - val_loss: 0.0303 - val_accuracy: 0.9897\n",
      "Epoch 2/10\n",
      "7262/7262 [==============================] - ETA: 0s - loss: 0.0090 - accuracy: 0.9979INFO:tensorflow:Assets written to: best_model_acc_fase9/assets\n"
     ]
    },
    {
     "name": "stderr",
     "output_type": "stream",
     "text": [
      "INFO:tensorflow:Assets written to: best_model_acc_fase9/assets\n"
     ]
    },
    {
     "name": "stdout",
     "output_type": "stream",
     "text": [
      "7262/7262 [==============================] - 292s 40ms/step - loss: 0.0090 - accuracy: 0.9979 - val_loss: 0.0319 - val_accuracy: 0.9906\n",
      "Epoch 3/10\n",
      "7261/7262 [============================>.] - ETA: 0s - loss: 0.0067 - accuracy: 0.9985INFO:tensorflow:Assets written to: best_model_acc_fase9/assets\n"
     ]
    },
    {
     "name": "stderr",
     "output_type": "stream",
     "text": [
      "INFO:tensorflow:Assets written to: best_model_acc_fase9/assets\n"
     ]
    },
    {
     "name": "stdout",
     "output_type": "stream",
     "text": [
      "7262/7262 [==============================] - 292s 40ms/step - loss: 0.0067 - accuracy: 0.9985 - val_loss: 0.0434 - val_accuracy: 0.9892\n",
      "Epoch 4/10\n",
      "7261/7262 [============================>.] - ETA: 0s - loss: 0.0054 - accuracy: 0.9988INFO:tensorflow:Assets written to: best_model_acc_fase9/assets\n"
     ]
    },
    {
     "name": "stderr",
     "output_type": "stream",
     "text": [
      "INFO:tensorflow:Assets written to: best_model_acc_fase9/assets\n"
     ]
    },
    {
     "name": "stdout",
     "output_type": "stream",
     "text": [
      "7262/7262 [==============================] - 292s 40ms/step - loss: 0.0054 - accuracy: 0.9988 - val_loss: 0.0435 - val_accuracy: 0.9898\n",
      "Epoch 5/10\n",
      "7261/7262 [============================>.] - ETA: 0s - loss: 0.0047 - accuracy: 0.9990INFO:tensorflow:Assets written to: best_model_acc_fase9/assets\n"
     ]
    },
    {
     "name": "stderr",
     "output_type": "stream",
     "text": [
      "INFO:tensorflow:Assets written to: best_model_acc_fase9/assets\n"
     ]
    },
    {
     "name": "stdout",
     "output_type": "stream",
     "text": [
      "7262/7262 [==============================] - 292s 40ms/step - loss: 0.0047 - accuracy: 0.9990 - val_loss: 0.0553 - val_accuracy: 0.9883\n",
      "Epoch 6/10\n",
      "7261/7262 [============================>.] - ETA: 0s - loss: 0.0042 - accuracy: 0.9991INFO:tensorflow:Assets written to: best_model_acc_fase9/assets\n"
     ]
    },
    {
     "name": "stderr",
     "output_type": "stream",
     "text": [
      "INFO:tensorflow:Assets written to: best_model_acc_fase9/assets\n"
     ]
    },
    {
     "name": "stdout",
     "output_type": "stream",
     "text": [
      "7262/7262 [==============================] - 292s 40ms/step - loss: 0.0042 - accuracy: 0.9991 - val_loss: 0.0449 - val_accuracy: 0.9894\n",
      "Epoch 7/10\n",
      "7261/7262 [============================>.] - ETA: 0s - loss: 0.0040 - accuracy: 0.9992INFO:tensorflow:Assets written to: best_model_acc_fase9/assets\n"
     ]
    },
    {
     "name": "stderr",
     "output_type": "stream",
     "text": [
      "INFO:tensorflow:Assets written to: best_model_acc_fase9/assets\n"
     ]
    },
    {
     "name": "stdout",
     "output_type": "stream",
     "text": [
      "7262/7262 [==============================] - 292s 40ms/step - loss: 0.0040 - accuracy: 0.9992 - val_loss: 0.0600 - val_accuracy: 0.9867\n",
      "Epoch 8/10\n",
      "7262/7262 [==============================] - ETA: 0s - loss: 0.0038 - accuracy: 0.9992INFO:tensorflow:Assets written to: best_model_acc_fase9/assets\n"
     ]
    },
    {
     "name": "stderr",
     "output_type": "stream",
     "text": [
      "INFO:tensorflow:Assets written to: best_model_acc_fase9/assets\n"
     ]
    },
    {
     "name": "stdout",
     "output_type": "stream",
     "text": [
      "7262/7262 [==============================] - 295s 41ms/step - loss: 0.0038 - accuracy: 0.9992 - val_loss: 0.0676 - val_accuracy: 0.9863\n",
      "Epoch 9/10\n",
      "7261/7262 [============================>.] - ETA: 0s - loss: 0.0036 - accuracy: 0.9993INFO:tensorflow:Assets written to: best_model_acc_fase9/assets\n"
     ]
    },
    {
     "name": "stderr",
     "output_type": "stream",
     "text": [
      "INFO:tensorflow:Assets written to: best_model_acc_fase9/assets\n"
     ]
    },
    {
     "name": "stdout",
     "output_type": "stream",
     "text": [
      "7262/7262 [==============================] - 295s 41ms/step - loss: 0.0036 - accuracy: 0.9993 - val_loss: 0.0573 - val_accuracy: 0.9874\n",
      "Epoch 10/10\n",
      "7261/7262 [============================>.] - ETA: 0s - loss: 0.0035 - accuracy: 0.9993INFO:tensorflow:Assets written to: best_model_acc_fase9/assets\n"
     ]
    },
    {
     "name": "stderr",
     "output_type": "stream",
     "text": [
      "INFO:tensorflow:Assets written to: best_model_acc_fase9/assets\n"
     ]
    },
    {
     "name": "stdout",
     "output_type": "stream",
     "text": [
      "7262/7262 [==============================] - 293s 40ms/step - loss: 0.0035 - accuracy: 0.9993 - val_loss: 0.0553 - val_accuracy: 0.9890\n"
     ]
    },
    {
     "data": {
      "text/plain": [
       "<keras.src.callbacks.History at 0x7f409b7566e0>"
      ]
     },
     "execution_count": 12,
     "metadata": {},
     "output_type": "execute_result"
    }
   ],
   "source": [
    "model_bin = tf.keras.models.load_model('best_model_acc_fase8')\n",
    "\n",
    "majestic = pd.read_csv('./treino/majestic_ascii.csv')\n",
    "majestic['69'] = 0\n",
    "majestic['70'] = 0\n",
    "majestic['71'] = 0\n",
    "\n",
    "dga = pd.read_csv('./teste/df_teste9.csv')\n",
    "dga = dga.drop('family', axis = 1)\n",
    "\n",
    "dga.columns = majestic.columns\n",
    "dga = dga.loc[~dga['domain'].isin(majestic['domain'])].reset_index(drop=True)\n",
    "\n",
    "df_treino = pd.concat([majestic.sample(500000, random_state=1),dga], axis = 0, ignore_index=True)\n",
    "\n",
    "X_train = df_treino.drop(['domain','label'], axis = 1)\n",
    "y_train = df_treino['label']\n",
    "\n",
    "X_train = X_train.to_numpy()\n",
    "y_train = y_train.to_numpy()\n",
    "\n",
    "best = tf.keras.callbacks.ModelCheckpoint(\n",
    "    filepath='best_model_acc_fase9',\n",
    "    save_weights_only=False,\n",
    "    monitor='accuracy',\n",
    "    mode='max',\n",
    "    save_best_only=True)\n",
    "\n",
    "model_bin.fit(X_train, y_train,\n",
    "              epochs=10,\n",
    "              callbacks = [best],\n",
    "              validation_split = 0.2,\n",
    "              batch_size=200)"
   ]
  },
  {
   "cell_type": "code",
   "execution_count": 13,
   "id": "c16fbd0a-9545-4f4f-9ad8-117a56419f2e",
   "metadata": {},
   "outputs": [
    {
     "name": "stdout",
     "output_type": "stream",
     "text": [
      "61541/61541 [==============================] - 765s 12ms/step\n",
      "Matriz de Confusão Teste:  10\n",
      "[[ 477177   22823]\n",
      " [  10135 1459150]]\n",
      "Relatório de Classificação\n",
      "              precision    recall  f1-score   support\n",
      "\n",
      "           0     0.9792    0.9544    0.9666    500000\n",
      "           1     0.9846    0.9931    0.9888   1469285\n",
      "\n",
      "    accuracy                         0.9833   1969285\n",
      "   macro avg     0.9819    0.9737    0.9777   1969285\n",
      "weighted avg     0.9832    0.9833    0.9832   1969285\n",
      "\n",
      "____________________\n",
      "57414/57414 [==============================] - 696s 12ms/step\n",
      "Matriz de Confusão Teste:  11\n",
      "[[ 477177   22823]\n",
      " [  11582 1325655]]\n",
      "Relatório de Classificação\n",
      "              precision    recall  f1-score   support\n",
      "\n",
      "           0     0.9763    0.9544    0.9652    500000\n",
      "           1     0.9831    0.9913    0.9872   1337237\n",
      "\n",
      "    accuracy                         0.9813   1837237\n",
      "   macro avg     0.9797    0.9728    0.9762   1837237\n",
      "weighted avg     0.9812    0.9813    0.9812   1837237\n",
      "\n",
      "____________________\n"
     ]
    }
   ],
   "source": [
    "model_bin = tf.keras.models.load_model('best_model_acc_fase9')\n",
    "legit = majestic.loc[~majestic['domain'].isin(df_treino['domain'])].reset_index(drop=True)\n",
    "\n",
    "for i in range (10,12):\n",
    "    dga = pd.read_csv('./teste/df_teste'+str(i)+'.csv')\n",
    "    dga = dga.drop('family', axis = 1)\n",
    "    dga = dga.loc[~dga['domain'].isin(majestic['domain'])].reset_index(drop=True)\n",
    "\n",
    "    dga.columns = legit.columns\n",
    "    df_teste = pd.concat([legit,dga], axis = 0, ignore_index=True)\n",
    "\n",
    "    X_test = df_teste.drop(['domain','label'], axis = 1)\n",
    "    y_test = df_teste['label']\n",
    "\n",
    "    X_test = X_test.to_numpy()\n",
    "    y_test = y_test.to_numpy()\n",
    "\n",
    "    with tf.device('/cpu:0'):\n",
    "        predictions = model_bin.predict(X_test)\n",
    "        predictions = np.where(predictions > 0.5, 1, 0)\n",
    "    \n",
    "    print('Matriz de Confusão Teste: ', str(i))\n",
    "    print(confusion_matrix(y_test,predictions))\n",
    "\n",
    "    print('Relatório de Classificação')\n",
    "    print(classification_report(y_test,predictions, digits=4))\n",
    "    print('____________________')"
   ]
  },
  {
   "cell_type": "markdown",
   "id": "edc326ad-d3b5-452b-9790-1c0864234088",
   "metadata": {},
   "source": [
    "## Décimo primeiro treino Incremental"
   ]
  },
  {
   "cell_type": "code",
   "execution_count": 7,
   "id": "a59cc855-17d6-4f6d-894d-f9e618d7bacc",
   "metadata": {},
   "outputs": [
    {
     "name": "stderr",
     "output_type": "stream",
     "text": [
      "2024-01-24 08:19:32.997026: I tensorflow/compiler/xla/stream_executor/cuda/cuda_gpu_executor.cc:995] successful NUMA node read from SysFS had negative value (-1), but there must be at least one NUMA node, so returning NUMA node zero. See more at https://github.com/torvalds/linux/blob/v6.0/Documentation/ABI/testing/sysfs-bus-pci#L344-L355\n",
      "2024-01-24 08:19:33.150811: I tensorflow/compiler/xla/stream_executor/cuda/cuda_gpu_executor.cc:995] successful NUMA node read from SysFS had negative value (-1), but there must be at least one NUMA node, so returning NUMA node zero. See more at https://github.com/torvalds/linux/blob/v6.0/Documentation/ABI/testing/sysfs-bus-pci#L344-L355\n",
      "2024-01-24 08:19:33.150981: I tensorflow/compiler/xla/stream_executor/cuda/cuda_gpu_executor.cc:995] successful NUMA node read from SysFS had negative value (-1), but there must be at least one NUMA node, so returning NUMA node zero. See more at https://github.com/torvalds/linux/blob/v6.0/Documentation/ABI/testing/sysfs-bus-pci#L344-L355\n",
      "2024-01-24 08:19:33.152347: I tensorflow/compiler/xla/stream_executor/cuda/cuda_gpu_executor.cc:995] successful NUMA node read from SysFS had negative value (-1), but there must be at least one NUMA node, so returning NUMA node zero. See more at https://github.com/torvalds/linux/blob/v6.0/Documentation/ABI/testing/sysfs-bus-pci#L344-L355\n",
      "2024-01-24 08:19:33.152601: I tensorflow/compiler/xla/stream_executor/cuda/cuda_gpu_executor.cc:995] successful NUMA node read from SysFS had negative value (-1), but there must be at least one NUMA node, so returning NUMA node zero. See more at https://github.com/torvalds/linux/blob/v6.0/Documentation/ABI/testing/sysfs-bus-pci#L344-L355\n",
      "2024-01-24 08:19:33.152831: I tensorflow/compiler/xla/stream_executor/cuda/cuda_gpu_executor.cc:995] successful NUMA node read from SysFS had negative value (-1), but there must be at least one NUMA node, so returning NUMA node zero. See more at https://github.com/torvalds/linux/blob/v6.0/Documentation/ABI/testing/sysfs-bus-pci#L344-L355\n",
      "2024-01-24 08:19:33.710926: I tensorflow/compiler/xla/stream_executor/cuda/cuda_gpu_executor.cc:995] successful NUMA node read from SysFS had negative value (-1), but there must be at least one NUMA node, so returning NUMA node zero. See more at https://github.com/torvalds/linux/blob/v6.0/Documentation/ABI/testing/sysfs-bus-pci#L344-L355\n",
      "2024-01-24 08:19:33.711055: I tensorflow/compiler/xla/stream_executor/cuda/cuda_gpu_executor.cc:995] successful NUMA node read from SysFS had negative value (-1), but there must be at least one NUMA node, so returning NUMA node zero. See more at https://github.com/torvalds/linux/blob/v6.0/Documentation/ABI/testing/sysfs-bus-pci#L344-L355\n",
      "2024-01-24 08:19:33.711133: I tensorflow/compiler/xla/stream_executor/cuda/cuda_gpu_executor.cc:995] successful NUMA node read from SysFS had negative value (-1), but there must be at least one NUMA node, so returning NUMA node zero. See more at https://github.com/torvalds/linux/blob/v6.0/Documentation/ABI/testing/sysfs-bus-pci#L344-L355\n",
      "2024-01-24 08:19:33.711771: I tensorflow/core/common_runtime/gpu/gpu_device.cc:1639] Created device /job:localhost/replica:0/task:0/device:GPU:0 with 2082 MB memory:  -> device: 0, name: NVIDIA GeForce RTX 3050 Laptop GPU, pci bus id: 0000:01:00.0, compute capability: 8.6\n"
     ]
    },
    {
     "name": "stdout",
     "output_type": "stream",
     "text": [
      "Epoch 1/10\n"
     ]
    },
    {
     "name": "stderr",
     "output_type": "stream",
     "text": [
      "2024-01-24 08:19:43.381116: I tensorflow/compiler/xla/stream_executor/cuda/cuda_dnn.cc:432] Loaded cuDNN version 8902\n",
      "2024-01-24 08:19:44.159554: I tensorflow/compiler/xla/stream_executor/cuda/cuda_blas.cc:606] TensorFloat-32 will be used for the matrix multiplication. This will only be logged once.\n",
      "2024-01-24 08:19:44.178737: I tensorflow/compiler/xla/service/service.cc:168] XLA service 0x563b2bcb9690 initialized for platform CUDA (this does not guarantee that XLA will be used). Devices:\n",
      "2024-01-24 08:19:44.178773: I tensorflow/compiler/xla/service/service.cc:176]   StreamExecutor device (0): NVIDIA GeForce RTX 3050 Laptop GPU, Compute Capability 8.6\n",
      "2024-01-24 08:19:44.214868: I tensorflow/compiler/mlir/tensorflow/utils/dump_mlir_util.cc:255] disabling MLIR crash reproducer, set env var `MLIR_CRASH_REPRODUCER_DIRECTORY` to enable.\n",
      "2024-01-24 08:19:44.434186: I ./tensorflow/compiler/jit/device_compiler.h:186] Compiled cluster using XLA!  This line is logged at most once for the lifetime of the process.\n",
      "2024-01-24 08:19:44.833419: W tensorflow/tsl/framework/bfc_allocator.cc:296] Allocator (GPU_0_bfc) ran out of memory trying to allocate 1.50GiB with freed_by_count=0. The caller indicates that this is not a failure, but this may mean that there could be performance gains if more memory were available.\n",
      "2024-01-24 08:19:45.186632: W tensorflow/tsl/framework/bfc_allocator.cc:296] Allocator (GPU_0_bfc) ran out of memory trying to allocate 2.25GiB with freed_by_count=0. The caller indicates that this is not a failure, but this may mean that there could be performance gains if more memory were available.\n",
      "2024-01-24 08:19:45.472892: W tensorflow/tsl/framework/bfc_allocator.cc:296] Allocator (GPU_0_bfc) ran out of memory trying to allocate 4.48GiB with freed_by_count=0. The caller indicates that this is not a failure, but this may mean that there could be performance gains if more memory were available.\n"
     ]
    },
    {
     "name": "stdout",
     "output_type": "stream",
     "text": [
      "7878/7878 [==============================] - ETA: 0s - loss: 0.0142 - accuracy: 0.9963"
     ]
    },
    {
     "name": "stderr",
     "output_type": "stream",
     "text": [
      "2024-01-24 08:24:43.739666: W tensorflow/tsl/framework/bfc_allocator.cc:296] Allocator (GPU_0_bfc) ran out of memory trying to allocate 5.47GiB with freed_by_count=0. The caller indicates that this is not a failure, but this may mean that there could be performance gains if more memory were available.\n",
      "2024-01-24 08:24:44.804122: W tensorflow/tsl/framework/bfc_allocator.cc:296] Allocator (GPU_0_bfc) ran out of memory trying to allocate 1.73GiB with freed_by_count=0. The caller indicates that this is not a failure, but this may mean that there could be performance gains if more memory were available.\n",
      "2024-01-24 08:24:44.809807: W tensorflow/tsl/framework/bfc_allocator.cc:296] Allocator (GPU_0_bfc) ran out of memory trying to allocate 1.73GiB with freed_by_count=0. The caller indicates that this is not a failure, but this may mean that there could be performance gains if more memory were available.\n"
     ]
    },
    {
     "name": "stdout",
     "output_type": "stream",
     "text": [
      "INFO:tensorflow:Assets written to: best_model_acc_fase10/assets\n"
     ]
    },
    {
     "name": "stderr",
     "output_type": "stream",
     "text": [
      "INFO:tensorflow:Assets written to: best_model_acc_fase10/assets\n"
     ]
    },
    {
     "name": "stdout",
     "output_type": "stream",
     "text": [
      "7878/7878 [==============================] - 327s 41ms/step - loss: 0.0142 - accuracy: 0.9963 - val_loss: 0.0234 - val_accuracy: 0.9920\n",
      "Epoch 2/10\n",
      "7877/7878 [============================>.] - ETA: 0s - loss: 0.0087 - accuracy: 0.9980INFO:tensorflow:Assets written to: best_model_acc_fase10/assets\n"
     ]
    },
    {
     "name": "stderr",
     "output_type": "stream",
     "text": [
      "INFO:tensorflow:Assets written to: best_model_acc_fase10/assets\n"
     ]
    },
    {
     "name": "stdout",
     "output_type": "stream",
     "text": [
      "7878/7878 [==============================] - 319s 40ms/step - loss: 0.0087 - accuracy: 0.9980 - val_loss: 0.0260 - val_accuracy: 0.9924\n",
      "Epoch 3/10\n",
      "7878/7878 [==============================] - ETA: 0s - loss: 0.0064 - accuracy: 0.9986INFO:tensorflow:Assets written to: best_model_acc_fase10/assets\n"
     ]
    },
    {
     "name": "stderr",
     "output_type": "stream",
     "text": [
      "INFO:tensorflow:Assets written to: best_model_acc_fase10/assets\n"
     ]
    },
    {
     "name": "stdout",
     "output_type": "stream",
     "text": [
      "7878/7878 [==============================] - 319s 41ms/step - loss: 0.0064 - accuracy: 0.9986 - val_loss: 0.0309 - val_accuracy: 0.9918\n",
      "Epoch 4/10\n",
      "7877/7878 [============================>.] - ETA: 0s - loss: 0.0051 - accuracy: 0.9989INFO:tensorflow:Assets written to: best_model_acc_fase10/assets\n"
     ]
    },
    {
     "name": "stderr",
     "output_type": "stream",
     "text": [
      "INFO:tensorflow:Assets written to: best_model_acc_fase10/assets\n"
     ]
    },
    {
     "name": "stdout",
     "output_type": "stream",
     "text": [
      "7878/7878 [==============================] - 318s 40ms/step - loss: 0.0051 - accuracy: 0.9989 - val_loss: 0.0398 - val_accuracy: 0.9906\n",
      "Epoch 5/10\n",
      "7878/7878 [==============================] - ETA: 0s - loss: 0.0045 - accuracy: 0.9990INFO:tensorflow:Assets written to: best_model_acc_fase10/assets\n"
     ]
    },
    {
     "name": "stderr",
     "output_type": "stream",
     "text": [
      "INFO:tensorflow:Assets written to: best_model_acc_fase10/assets\n"
     ]
    },
    {
     "name": "stdout",
     "output_type": "stream",
     "text": [
      "7878/7878 [==============================] - 318s 40ms/step - loss: 0.0045 - accuracy: 0.9990 - val_loss: 0.0478 - val_accuracy: 0.9896\n",
      "Epoch 6/10\n",
      "7877/7878 [============================>.] - ETA: 0s - loss: 0.0041 - accuracy: 0.9992INFO:tensorflow:Assets written to: best_model_acc_fase10/assets\n"
     ]
    },
    {
     "name": "stderr",
     "output_type": "stream",
     "text": [
      "INFO:tensorflow:Assets written to: best_model_acc_fase10/assets\n"
     ]
    },
    {
     "name": "stdout",
     "output_type": "stream",
     "text": [
      "7878/7878 [==============================] - 318s 40ms/step - loss: 0.0041 - accuracy: 0.9992 - val_loss: 0.0433 - val_accuracy: 0.9906\n",
      "Epoch 7/10\n",
      "7877/7878 [============================>.] - ETA: 0s - loss: 0.0038 - accuracy: 0.9992INFO:tensorflow:Assets written to: best_model_acc_fase10/assets\n"
     ]
    },
    {
     "name": "stderr",
     "output_type": "stream",
     "text": [
      "INFO:tensorflow:Assets written to: best_model_acc_fase10/assets\n"
     ]
    },
    {
     "name": "stdout",
     "output_type": "stream",
     "text": [
      "7878/7878 [==============================] - 318s 40ms/step - loss: 0.0038 - accuracy: 0.9992 - val_loss: 0.0507 - val_accuracy: 0.9891\n",
      "Epoch 8/10\n",
      "7878/7878 [==============================] - ETA: 0s - loss: 0.0036 - accuracy: 0.9993INFO:tensorflow:Assets written to: best_model_acc_fase10/assets\n"
     ]
    },
    {
     "name": "stderr",
     "output_type": "stream",
     "text": [
      "INFO:tensorflow:Assets written to: best_model_acc_fase10/assets\n"
     ]
    },
    {
     "name": "stdout",
     "output_type": "stream",
     "text": [
      "7878/7878 [==============================] - 318s 40ms/step - loss: 0.0036 - accuracy: 0.9993 - val_loss: 0.0462 - val_accuracy: 0.9900\n",
      "Epoch 9/10\n",
      "7877/7878 [============================>.] - ETA: 0s - loss: 0.0035 - accuracy: 0.9993INFO:tensorflow:Assets written to: best_model_acc_fase10/assets\n"
     ]
    },
    {
     "name": "stderr",
     "output_type": "stream",
     "text": [
      "INFO:tensorflow:Assets written to: best_model_acc_fase10/assets\n"
     ]
    },
    {
     "name": "stdout",
     "output_type": "stream",
     "text": [
      "7878/7878 [==============================] - 318s 40ms/step - loss: 0.0035 - accuracy: 0.9993 - val_loss: 0.0619 - val_accuracy: 0.9877\n",
      "Epoch 10/10\n",
      "7878/7878 [==============================] - ETA: 0s - loss: 0.0034 - accuracy: 0.9993INFO:tensorflow:Assets written to: best_model_acc_fase10/assets\n"
     ]
    },
    {
     "name": "stderr",
     "output_type": "stream",
     "text": [
      "INFO:tensorflow:Assets written to: best_model_acc_fase10/assets\n"
     ]
    },
    {
     "name": "stdout",
     "output_type": "stream",
     "text": [
      "7878/7878 [==============================] - 318s 40ms/step - loss: 0.0034 - accuracy: 0.9993 - val_loss: 0.0514 - val_accuracy: 0.9898\n"
     ]
    },
    {
     "data": {
      "text/plain": [
       "<keras.src.callbacks.History at 0x7f78471ffd00>"
      ]
     },
     "execution_count": 7,
     "metadata": {},
     "output_type": "execute_result"
    }
   ],
   "source": [
    "model_bin = tf.keras.models.load_model('best_model_acc_fase9')\n",
    "\n",
    "majestic = pd.read_csv('./treino/majestic_ascii.csv')\n",
    "majestic['69'] = 0\n",
    "majestic['70'] = 0\n",
    "majestic['71'] = 0\n",
    "\n",
    "dga = pd.read_csv('./teste/df_teste10.csv')\n",
    "dga = dga.drop('family', axis = 1)\n",
    "\n",
    "dga.columns = majestic.columns\n",
    "dga = dga.loc[~dga['domain'].isin(majestic['domain'])].reset_index(drop=True)\n",
    "\n",
    "df_treino = pd.concat([majestic.sample(500000, random_state=1),dga], axis = 0, ignore_index=True)\n",
    "\n",
    "X_train = df_treino.drop(['domain','label'], axis = 1)\n",
    "y_train = df_treino['label']\n",
    "\n",
    "X_train = X_train.to_numpy()\n",
    "y_train = y_train.to_numpy()\n",
    "\n",
    "best = tf.keras.callbacks.ModelCheckpoint(\n",
    "    filepath='best_model_acc_fase10',\n",
    "    save_weights_only=False,\n",
    "    monitor='accuracy',\n",
    "    mode='max',\n",
    "    save_best_only=True)\n",
    "\n",
    "model_bin.fit(X_train, y_train,\n",
    "              epochs=10,\n",
    "              callbacks = [best],\n",
    "              validation_split = 0.2,\n",
    "              batch_size=200)"
   ]
  },
  {
   "cell_type": "code",
   "execution_count": 8,
   "id": "06c532af-5289-4cad-bde1-71d11ede4c14",
   "metadata": {},
   "outputs": [
    {
     "name": "stdout",
     "output_type": "stream",
     "text": [
      "57414/57414 [==============================] - 714s 12ms/step\n",
      "Matriz de Confusão Teste:  11\n",
      "[[ 476869   23131]\n",
      " [   9225 1328012]]\n",
      "Relatório de Classificação\n",
      "              precision    recall  f1-score   support\n",
      "\n",
      "           0     0.9810    0.9537    0.9672    500000\n",
      "           1     0.9829    0.9931    0.9880   1337237\n",
      "\n",
      "    accuracy                         0.9824   1837237\n",
      "   macro avg     0.9820    0.9734    0.9776   1837237\n",
      "weighted avg     0.9824    0.9824    0.9823   1837237\n",
      "\n",
      "____________________\n"
     ]
    }
   ],
   "source": [
    "model_bin = tf.keras.models.load_model('best_model_acc_fase10')\n",
    "legit = majestic.loc[~majestic['domain'].isin(df_treino['domain'])].reset_index(drop=True)\n",
    "\n",
    "for i in range (11,12):\n",
    "    dga = pd.read_csv('./teste/df_teste'+str(i)+'.csv')\n",
    "    dga = dga.drop('family', axis = 1)\n",
    "    dga = dga.loc[~dga['domain'].isin(majestic['domain'])].reset_index(drop=True)\n",
    "\n",
    "    dga.columns = legit.columns\n",
    "    df_teste = pd.concat([legit,dga], axis = 0, ignore_index=True)\n",
    "\n",
    "    X_test = df_teste.drop(['domain','label'], axis = 1)\n",
    "    y_test = df_teste['label']\n",
    "\n",
    "    X_test = X_test.to_numpy()\n",
    "    y_test = y_test.to_numpy()\n",
    "\n",
    "    with tf.device('/cpu:0'):\n",
    "        predictions = model_bin.predict(X_test)\n",
    "        predictions = np.where(predictions > 0.5, 1, 0)\n",
    "    \n",
    "    print('Matriz de Confusão Teste: ', str(i))\n",
    "    print(confusion_matrix(y_test,predictions))\n",
    "\n",
    "    print('Relatório de Classificação')\n",
    "    print(classification_report(y_test,predictions, digits=4))\n",
    "    print('____________________')"
   ]
  }
 ],
 "metadata": {
  "kernelspec": {
   "display_name": "Python 3 (ipykernel)",
   "language": "python",
   "name": "python3"
  },
  "language_info": {
   "codemirror_mode": {
    "name": "ipython",
    "version": 3
   },
   "file_extension": ".py",
   "mimetype": "text/x-python",
   "name": "python",
   "nbconvert_exporter": "python",
   "pygments_lexer": "ipython3",
   "version": "3.10.12"
  }
 },
 "nbformat": 4,
 "nbformat_minor": 5
}
