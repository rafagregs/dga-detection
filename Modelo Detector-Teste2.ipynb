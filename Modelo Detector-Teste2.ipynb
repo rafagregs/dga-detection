{
 "cells": [
  {
   "cell_type": "code",
   "execution_count": 1,
   "id": "6d9813ff-3fce-4096-ba9b-14a32eb7f008",
   "metadata": {},
   "outputs": [
    {
     "name": "stderr",
     "output_type": "stream",
     "text": [
      "2024-04-13 14:34:22.372891: I tensorflow/core/util/port.cc:110] oneDNN custom operations are on. You may see slightly different numerical results due to floating-point round-off errors from different computation orders. To turn them off, set the environment variable `TF_ENABLE_ONEDNN_OPTS=0`.\n",
      "2024-04-13 14:34:22.403610: I tensorflow/core/platform/cpu_feature_guard.cc:182] This TensorFlow binary is optimized to use available CPU instructions in performance-critical operations.\n",
      "To enable the following instructions: AVX2 AVX512F AVX512_VNNI FMA, in other operations, rebuild TensorFlow with the appropriate compiler flags.\n",
      "2024-04-13 14:34:22.946612: W tensorflow/compiler/tf2tensorrt/utils/py_utils.cc:38] TF-TRT Warning: Could not find TensorRT\n"
     ]
    }
   ],
   "source": [
    "import pandas as pd\n",
    "import numpy as np\n",
    "import os\n",
    "import json\n",
    "import itertools as it\n",
    "import time\n",
    "import subprocess\n",
    "import matplotlib.pyplot as plt\n",
    "import seaborn as sns\n",
    "from sklearn.preprocessing import OneHotEncoder\n",
    "import tensorflow as tf\n",
    "from datetime import date, datetime, timedelta\n",
    "from tensorflow import keras\n",
    "from keras.layers import LSTM, SimpleRNN, GRU\n",
    "from sklearn.metrics import confusion_matrix,classification_report,ConfusionMatrixDisplay\n",
    "from sklearn.metrics import accuracy_score, precision_score, recall_score, roc_auc_score, average_precision_score\n",
    "from tensorflow.keras import layers, losses\n",
    "from tensorflow.keras.models import Model\n",
    "from keras.utils import plot_model\n",
    "from transformers import BertTokenizer\n",
    "from sklearn.model_selection import train_test_split\n",
    "import warnings\n",
    "warnings.filterwarnings(\"ignore\")"
   ]
  },
  {
   "cell_type": "code",
   "execution_count": 2,
   "id": "9ba3a040-0210-4876-b2ab-2884b11f3144",
   "metadata": {},
   "outputs": [
    {
     "data": {
      "text/html": [
       "<div>\n",
       "<style scoped>\n",
       "    .dataframe tbody tr th:only-of-type {\n",
       "        vertical-align: middle;\n",
       "    }\n",
       "\n",
       "    .dataframe tbody tr th {\n",
       "        vertical-align: top;\n",
       "    }\n",
       "\n",
       "    .dataframe thead th {\n",
       "        text-align: right;\n",
       "    }\n",
       "</style>\n",
       "<table border=\"1\" class=\"dataframe\">\n",
       "  <thead>\n",
       "    <tr style=\"text-align: right;\">\n",
       "      <th></th>\n",
       "      <th>domain</th>\n",
       "      <th>label</th>\n",
       "      <th>2</th>\n",
       "      <th>3</th>\n",
       "      <th>4</th>\n",
       "      <th>5</th>\n",
       "      <th>6</th>\n",
       "      <th>7</th>\n",
       "      <th>8</th>\n",
       "      <th>9</th>\n",
       "      <th>...</th>\n",
       "      <th>62</th>\n",
       "      <th>63</th>\n",
       "      <th>64</th>\n",
       "      <th>65</th>\n",
       "      <th>66</th>\n",
       "      <th>67</th>\n",
       "      <th>68</th>\n",
       "      <th>69</th>\n",
       "      <th>70</th>\n",
       "      <th>71</th>\n",
       "    </tr>\n",
       "  </thead>\n",
       "  <tbody>\n",
       "    <tr>\n",
       "      <th>0</th>\n",
       "      <td>google.com</td>\n",
       "      <td>0</td>\n",
       "      <td>103</td>\n",
       "      <td>111</td>\n",
       "      <td>111</td>\n",
       "      <td>103</td>\n",
       "      <td>108</td>\n",
       "      <td>101</td>\n",
       "      <td>46</td>\n",
       "      <td>99</td>\n",
       "      <td>...</td>\n",
       "      <td>0</td>\n",
       "      <td>0</td>\n",
       "      <td>0</td>\n",
       "      <td>0</td>\n",
       "      <td>0</td>\n",
       "      <td>0</td>\n",
       "      <td>0</td>\n",
       "      <td>0</td>\n",
       "      <td>0</td>\n",
       "      <td>0</td>\n",
       "    </tr>\n",
       "    <tr>\n",
       "      <th>1</th>\n",
       "      <td>facebook.com</td>\n",
       "      <td>0</td>\n",
       "      <td>102</td>\n",
       "      <td>97</td>\n",
       "      <td>99</td>\n",
       "      <td>101</td>\n",
       "      <td>98</td>\n",
       "      <td>111</td>\n",
       "      <td>111</td>\n",
       "      <td>107</td>\n",
       "      <td>...</td>\n",
       "      <td>0</td>\n",
       "      <td>0</td>\n",
       "      <td>0</td>\n",
       "      <td>0</td>\n",
       "      <td>0</td>\n",
       "      <td>0</td>\n",
       "      <td>0</td>\n",
       "      <td>0</td>\n",
       "      <td>0</td>\n",
       "      <td>0</td>\n",
       "    </tr>\n",
       "    <tr>\n",
       "      <th>2</th>\n",
       "      <td>youtube.com</td>\n",
       "      <td>0</td>\n",
       "      <td>121</td>\n",
       "      <td>111</td>\n",
       "      <td>117</td>\n",
       "      <td>116</td>\n",
       "      <td>117</td>\n",
       "      <td>98</td>\n",
       "      <td>101</td>\n",
       "      <td>46</td>\n",
       "      <td>...</td>\n",
       "      <td>0</td>\n",
       "      <td>0</td>\n",
       "      <td>0</td>\n",
       "      <td>0</td>\n",
       "      <td>0</td>\n",
       "      <td>0</td>\n",
       "      <td>0</td>\n",
       "      <td>0</td>\n",
       "      <td>0</td>\n",
       "      <td>0</td>\n",
       "    </tr>\n",
       "    <tr>\n",
       "      <th>3</th>\n",
       "      <td>twitter.com</td>\n",
       "      <td>0</td>\n",
       "      <td>116</td>\n",
       "      <td>119</td>\n",
       "      <td>105</td>\n",
       "      <td>116</td>\n",
       "      <td>116</td>\n",
       "      <td>101</td>\n",
       "      <td>114</td>\n",
       "      <td>46</td>\n",
       "      <td>...</td>\n",
       "      <td>0</td>\n",
       "      <td>0</td>\n",
       "      <td>0</td>\n",
       "      <td>0</td>\n",
       "      <td>0</td>\n",
       "      <td>0</td>\n",
       "      <td>0</td>\n",
       "      <td>0</td>\n",
       "      <td>0</td>\n",
       "      <td>0</td>\n",
       "    </tr>\n",
       "    <tr>\n",
       "      <th>4</th>\n",
       "      <td>instagram.com</td>\n",
       "      <td>0</td>\n",
       "      <td>105</td>\n",
       "      <td>110</td>\n",
       "      <td>115</td>\n",
       "      <td>116</td>\n",
       "      <td>97</td>\n",
       "      <td>103</td>\n",
       "      <td>114</td>\n",
       "      <td>97</td>\n",
       "      <td>...</td>\n",
       "      <td>0</td>\n",
       "      <td>0</td>\n",
       "      <td>0</td>\n",
       "      <td>0</td>\n",
       "      <td>0</td>\n",
       "      <td>0</td>\n",
       "      <td>0</td>\n",
       "      <td>0</td>\n",
       "      <td>0</td>\n",
       "      <td>0</td>\n",
       "    </tr>\n",
       "    <tr>\n",
       "      <th>...</th>\n",
       "      <td>...</td>\n",
       "      <td>...</td>\n",
       "      <td>...</td>\n",
       "      <td>...</td>\n",
       "      <td>...</td>\n",
       "      <td>...</td>\n",
       "      <td>...</td>\n",
       "      <td>...</td>\n",
       "      <td>...</td>\n",
       "      <td>...</td>\n",
       "      <td>...</td>\n",
       "      <td>...</td>\n",
       "      <td>...</td>\n",
       "      <td>...</td>\n",
       "      <td>...</td>\n",
       "      <td>...</td>\n",
       "      <td>...</td>\n",
       "      <td>...</td>\n",
       "      <td>...</td>\n",
       "      <td>...</td>\n",
       "      <td>...</td>\n",
       "    </tr>\n",
       "    <tr>\n",
       "      <th>999995</th>\n",
       "      <td>fidgit.com</td>\n",
       "      <td>0</td>\n",
       "      <td>102</td>\n",
       "      <td>105</td>\n",
       "      <td>100</td>\n",
       "      <td>103</td>\n",
       "      <td>105</td>\n",
       "      <td>116</td>\n",
       "      <td>46</td>\n",
       "      <td>99</td>\n",
       "      <td>...</td>\n",
       "      <td>0</td>\n",
       "      <td>0</td>\n",
       "      <td>0</td>\n",
       "      <td>0</td>\n",
       "      <td>0</td>\n",
       "      <td>0</td>\n",
       "      <td>0</td>\n",
       "      <td>0</td>\n",
       "      <td>0</td>\n",
       "      <td>0</td>\n",
       "    </tr>\n",
       "    <tr>\n",
       "      <th>999996</th>\n",
       "      <td>fixwindows10connections.com</td>\n",
       "      <td>0</td>\n",
       "      <td>102</td>\n",
       "      <td>105</td>\n",
       "      <td>120</td>\n",
       "      <td>119</td>\n",
       "      <td>105</td>\n",
       "      <td>110</td>\n",
       "      <td>100</td>\n",
       "      <td>111</td>\n",
       "      <td>...</td>\n",
       "      <td>0</td>\n",
       "      <td>0</td>\n",
       "      <td>0</td>\n",
       "      <td>0</td>\n",
       "      <td>0</td>\n",
       "      <td>0</td>\n",
       "      <td>0</td>\n",
       "      <td>0</td>\n",
       "      <td>0</td>\n",
       "      <td>0</td>\n",
       "    </tr>\n",
       "    <tr>\n",
       "      <th>999997</th>\n",
       "      <td>flyerguide.com</td>\n",
       "      <td>0</td>\n",
       "      <td>102</td>\n",
       "      <td>108</td>\n",
       "      <td>121</td>\n",
       "      <td>101</td>\n",
       "      <td>114</td>\n",
       "      <td>103</td>\n",
       "      <td>117</td>\n",
       "      <td>105</td>\n",
       "      <td>...</td>\n",
       "      <td>0</td>\n",
       "      <td>0</td>\n",
       "      <td>0</td>\n",
       "      <td>0</td>\n",
       "      <td>0</td>\n",
       "      <td>0</td>\n",
       "      <td>0</td>\n",
       "      <td>0</td>\n",
       "      <td>0</td>\n",
       "      <td>0</td>\n",
       "    </tr>\n",
       "    <tr>\n",
       "      <th>999998</th>\n",
       "      <td>forwardpathway.com</td>\n",
       "      <td>0</td>\n",
       "      <td>102</td>\n",
       "      <td>111</td>\n",
       "      <td>114</td>\n",
       "      <td>119</td>\n",
       "      <td>97</td>\n",
       "      <td>114</td>\n",
       "      <td>100</td>\n",
       "      <td>112</td>\n",
       "      <td>...</td>\n",
       "      <td>0</td>\n",
       "      <td>0</td>\n",
       "      <td>0</td>\n",
       "      <td>0</td>\n",
       "      <td>0</td>\n",
       "      <td>0</td>\n",
       "      <td>0</td>\n",
       "      <td>0</td>\n",
       "      <td>0</td>\n",
       "      <td>0</td>\n",
       "    </tr>\n",
       "    <tr>\n",
       "      <th>999999</th>\n",
       "      <td>fostersmarket.com</td>\n",
       "      <td>0</td>\n",
       "      <td>102</td>\n",
       "      <td>111</td>\n",
       "      <td>115</td>\n",
       "      <td>116</td>\n",
       "      <td>101</td>\n",
       "      <td>114</td>\n",
       "      <td>115</td>\n",
       "      <td>109</td>\n",
       "      <td>...</td>\n",
       "      <td>0</td>\n",
       "      <td>0</td>\n",
       "      <td>0</td>\n",
       "      <td>0</td>\n",
       "      <td>0</td>\n",
       "      <td>0</td>\n",
       "      <td>0</td>\n",
       "      <td>0</td>\n",
       "      <td>0</td>\n",
       "      <td>0</td>\n",
       "    </tr>\n",
       "  </tbody>\n",
       "</table>\n",
       "<p>1000000 rows × 72 columns</p>\n",
       "</div>"
      ],
      "text/plain": [
       "                             domain  label    2    3    4    5    6    7    8  \\\n",
       "0                        google.com      0  103  111  111  103  108  101   46   \n",
       "1                      facebook.com      0  102   97   99  101   98  111  111   \n",
       "2                       youtube.com      0  121  111  117  116  117   98  101   \n",
       "3                       twitter.com      0  116  119  105  116  116  101  114   \n",
       "4                     instagram.com      0  105  110  115  116   97  103  114   \n",
       "...                             ...    ...  ...  ...  ...  ...  ...  ...  ...   \n",
       "999995                   fidgit.com      0  102  105  100  103  105  116   46   \n",
       "999996  fixwindows10connections.com      0  102  105  120  119  105  110  100   \n",
       "999997               flyerguide.com      0  102  108  121  101  114  103  117   \n",
       "999998           forwardpathway.com      0  102  111  114  119   97  114  100   \n",
       "999999            fostersmarket.com      0  102  111  115  116  101  114  115   \n",
       "\n",
       "          9  ...  62  63  64  65  66  67  68  69  70  71  \n",
       "0        99  ...   0   0   0   0   0   0   0   0   0   0  \n",
       "1       107  ...   0   0   0   0   0   0   0   0   0   0  \n",
       "2        46  ...   0   0   0   0   0   0   0   0   0   0  \n",
       "3        46  ...   0   0   0   0   0   0   0   0   0   0  \n",
       "4        97  ...   0   0   0   0   0   0   0   0   0   0  \n",
       "...     ...  ...  ..  ..  ..  ..  ..  ..  ..  ..  ..  ..  \n",
       "999995   99  ...   0   0   0   0   0   0   0   0   0   0  \n",
       "999996  111  ...   0   0   0   0   0   0   0   0   0   0  \n",
       "999997  105  ...   0   0   0   0   0   0   0   0   0   0  \n",
       "999998  112  ...   0   0   0   0   0   0   0   0   0   0  \n",
       "999999  109  ...   0   0   0   0   0   0   0   0   0   0  \n",
       "\n",
       "[1000000 rows x 72 columns]"
      ]
     },
     "execution_count": 2,
     "metadata": {},
     "output_type": "execute_result"
    }
   ],
   "source": [
    "majestic = pd.read_csv('./treino/majestic_ascii.csv')\n",
    "majestic['69'] = 0\n",
    "majestic['70'] = 0\n",
    "majestic['71'] = 0\n",
    "majestic"
   ]
  },
  {
   "cell_type": "code",
   "execution_count": 3,
   "id": "c781d7a2-3096-43e3-b5e9-4c4943ae4958",
   "metadata": {},
   "outputs": [
    {
     "data": {
      "text/html": [
       "<div>\n",
       "<style scoped>\n",
       "    .dataframe tbody tr th:only-of-type {\n",
       "        vertical-align: middle;\n",
       "    }\n",
       "\n",
       "    .dataframe tbody tr th {\n",
       "        vertical-align: top;\n",
       "    }\n",
       "\n",
       "    .dataframe thead th {\n",
       "        text-align: right;\n",
       "    }\n",
       "</style>\n",
       "<table border=\"1\" class=\"dataframe\">\n",
       "  <thead>\n",
       "    <tr style=\"text-align: right;\">\n",
       "      <th></th>\n",
       "      <th>domain</th>\n",
       "      <th>label</th>\n",
       "      <th>3</th>\n",
       "      <th>4</th>\n",
       "      <th>5</th>\n",
       "      <th>6</th>\n",
       "      <th>7</th>\n",
       "      <th>8</th>\n",
       "      <th>9</th>\n",
       "      <th>10</th>\n",
       "      <th>...</th>\n",
       "      <th>63</th>\n",
       "      <th>64</th>\n",
       "      <th>65</th>\n",
       "      <th>66</th>\n",
       "      <th>67</th>\n",
       "      <th>68</th>\n",
       "      <th>69</th>\n",
       "      <th>70</th>\n",
       "      <th>71</th>\n",
       "      <th>72</th>\n",
       "    </tr>\n",
       "  </thead>\n",
       "  <tbody>\n",
       "    <tr>\n",
       "      <th>0</th>\n",
       "      <td>uzwdmrlhr.tk</td>\n",
       "      <td>1</td>\n",
       "      <td>117</td>\n",
       "      <td>122</td>\n",
       "      <td>119</td>\n",
       "      <td>100</td>\n",
       "      <td>109</td>\n",
       "      <td>114</td>\n",
       "      <td>108</td>\n",
       "      <td>104</td>\n",
       "      <td>...</td>\n",
       "      <td>0</td>\n",
       "      <td>0</td>\n",
       "      <td>0</td>\n",
       "      <td>0</td>\n",
       "      <td>0</td>\n",
       "      <td>0</td>\n",
       "      <td>0</td>\n",
       "      <td>0</td>\n",
       "      <td>0</td>\n",
       "      <td>0</td>\n",
       "    </tr>\n",
       "    <tr>\n",
       "      <th>1</th>\n",
       "      <td>uzwdmrlhr.com</td>\n",
       "      <td>1</td>\n",
       "      <td>117</td>\n",
       "      <td>122</td>\n",
       "      <td>119</td>\n",
       "      <td>100</td>\n",
       "      <td>109</td>\n",
       "      <td>114</td>\n",
       "      <td>108</td>\n",
       "      <td>104</td>\n",
       "      <td>...</td>\n",
       "      <td>0</td>\n",
       "      <td>0</td>\n",
       "      <td>0</td>\n",
       "      <td>0</td>\n",
       "      <td>0</td>\n",
       "      <td>0</td>\n",
       "      <td>0</td>\n",
       "      <td>0</td>\n",
       "      <td>0</td>\n",
       "      <td>0</td>\n",
       "    </tr>\n",
       "    <tr>\n",
       "      <th>2</th>\n",
       "      <td>uzwdmrlhr.pages.dev</td>\n",
       "      <td>1</td>\n",
       "      <td>117</td>\n",
       "      <td>122</td>\n",
       "      <td>119</td>\n",
       "      <td>100</td>\n",
       "      <td>109</td>\n",
       "      <td>114</td>\n",
       "      <td>108</td>\n",
       "      <td>104</td>\n",
       "      <td>...</td>\n",
       "      <td>0</td>\n",
       "      <td>0</td>\n",
       "      <td>0</td>\n",
       "      <td>0</td>\n",
       "      <td>0</td>\n",
       "      <td>0</td>\n",
       "      <td>0</td>\n",
       "      <td>0</td>\n",
       "      <td>0</td>\n",
       "      <td>0</td>\n",
       "    </tr>\n",
       "    <tr>\n",
       "      <th>3</th>\n",
       "      <td>rhrlwdumz.tk</td>\n",
       "      <td>1</td>\n",
       "      <td>114</td>\n",
       "      <td>104</td>\n",
       "      <td>114</td>\n",
       "      <td>108</td>\n",
       "      <td>119</td>\n",
       "      <td>100</td>\n",
       "      <td>117</td>\n",
       "      <td>109</td>\n",
       "      <td>...</td>\n",
       "      <td>0</td>\n",
       "      <td>0</td>\n",
       "      <td>0</td>\n",
       "      <td>0</td>\n",
       "      <td>0</td>\n",
       "      <td>0</td>\n",
       "      <td>0</td>\n",
       "      <td>0</td>\n",
       "      <td>0</td>\n",
       "      <td>0</td>\n",
       "    </tr>\n",
       "    <tr>\n",
       "      <th>4</th>\n",
       "      <td>rhrlwdumz.com</td>\n",
       "      <td>1</td>\n",
       "      <td>114</td>\n",
       "      <td>104</td>\n",
       "      <td>114</td>\n",
       "      <td>108</td>\n",
       "      <td>119</td>\n",
       "      <td>100</td>\n",
       "      <td>117</td>\n",
       "      <td>109</td>\n",
       "      <td>...</td>\n",
       "      <td>0</td>\n",
       "      <td>0</td>\n",
       "      <td>0</td>\n",
       "      <td>0</td>\n",
       "      <td>0</td>\n",
       "      <td>0</td>\n",
       "      <td>0</td>\n",
       "      <td>0</td>\n",
       "      <td>0</td>\n",
       "      <td>0</td>\n",
       "    </tr>\n",
       "    <tr>\n",
       "      <th>...</th>\n",
       "      <td>...</td>\n",
       "      <td>...</td>\n",
       "      <td>...</td>\n",
       "      <td>...</td>\n",
       "      <td>...</td>\n",
       "      <td>...</td>\n",
       "      <td>...</td>\n",
       "      <td>...</td>\n",
       "      <td>...</td>\n",
       "      <td>...</td>\n",
       "      <td>...</td>\n",
       "      <td>...</td>\n",
       "      <td>...</td>\n",
       "      <td>...</td>\n",
       "      <td>...</td>\n",
       "      <td>...</td>\n",
       "      <td>...</td>\n",
       "      <td>...</td>\n",
       "      <td>...</td>\n",
       "      <td>...</td>\n",
       "      <td>...</td>\n",
       "    </tr>\n",
       "    <tr>\n",
       "      <th>1352254</th>\n",
       "      <td>kwgjjpbcaaanbivklyxx.com</td>\n",
       "      <td>1</td>\n",
       "      <td>107</td>\n",
       "      <td>119</td>\n",
       "      <td>103</td>\n",
       "      <td>106</td>\n",
       "      <td>106</td>\n",
       "      <td>112</td>\n",
       "      <td>98</td>\n",
       "      <td>99</td>\n",
       "      <td>...</td>\n",
       "      <td>0</td>\n",
       "      <td>0</td>\n",
       "      <td>0</td>\n",
       "      <td>0</td>\n",
       "      <td>0</td>\n",
       "      <td>0</td>\n",
       "      <td>0</td>\n",
       "      <td>0</td>\n",
       "      <td>0</td>\n",
       "      <td>0</td>\n",
       "    </tr>\n",
       "    <tr>\n",
       "      <th>1352255</th>\n",
       "      <td>vxijfvgvihjnfvofxmyc.com</td>\n",
       "      <td>1</td>\n",
       "      <td>118</td>\n",
       "      <td>120</td>\n",
       "      <td>105</td>\n",
       "      <td>106</td>\n",
       "      <td>102</td>\n",
       "      <td>118</td>\n",
       "      <td>103</td>\n",
       "      <td>118</td>\n",
       "      <td>...</td>\n",
       "      <td>0</td>\n",
       "      <td>0</td>\n",
       "      <td>0</td>\n",
       "      <td>0</td>\n",
       "      <td>0</td>\n",
       "      <td>0</td>\n",
       "      <td>0</td>\n",
       "      <td>0</td>\n",
       "      <td>0</td>\n",
       "      <td>0</td>\n",
       "    </tr>\n",
       "    <tr>\n",
       "      <th>1352256</th>\n",
       "      <td>cepswmbgtknhtkhlsecg.com</td>\n",
       "      <td>1</td>\n",
       "      <td>99</td>\n",
       "      <td>101</td>\n",
       "      <td>112</td>\n",
       "      <td>115</td>\n",
       "      <td>119</td>\n",
       "      <td>109</td>\n",
       "      <td>98</td>\n",
       "      <td>103</td>\n",
       "      <td>...</td>\n",
       "      <td>0</td>\n",
       "      <td>0</td>\n",
       "      <td>0</td>\n",
       "      <td>0</td>\n",
       "      <td>0</td>\n",
       "      <td>0</td>\n",
       "      <td>0</td>\n",
       "      <td>0</td>\n",
       "      <td>0</td>\n",
       "      <td>0</td>\n",
       "    </tr>\n",
       "    <tr>\n",
       "      <th>1352257</th>\n",
       "      <td>tifjhjtouqmdlbkfnuow.com</td>\n",
       "      <td>1</td>\n",
       "      <td>116</td>\n",
       "      <td>105</td>\n",
       "      <td>102</td>\n",
       "      <td>106</td>\n",
       "      <td>104</td>\n",
       "      <td>106</td>\n",
       "      <td>116</td>\n",
       "      <td>111</td>\n",
       "      <td>...</td>\n",
       "      <td>0</td>\n",
       "      <td>0</td>\n",
       "      <td>0</td>\n",
       "      <td>0</td>\n",
       "      <td>0</td>\n",
       "      <td>0</td>\n",
       "      <td>0</td>\n",
       "      <td>0</td>\n",
       "      <td>0</td>\n",
       "      <td>0</td>\n",
       "    </tr>\n",
       "    <tr>\n",
       "      <th>1352258</th>\n",
       "      <td>gjrykbribvusoskfnuow.com</td>\n",
       "      <td>1</td>\n",
       "      <td>103</td>\n",
       "      <td>106</td>\n",
       "      <td>114</td>\n",
       "      <td>121</td>\n",
       "      <td>107</td>\n",
       "      <td>98</td>\n",
       "      <td>114</td>\n",
       "      <td>105</td>\n",
       "      <td>...</td>\n",
       "      <td>0</td>\n",
       "      <td>0</td>\n",
       "      <td>0</td>\n",
       "      <td>0</td>\n",
       "      <td>0</td>\n",
       "      <td>0</td>\n",
       "      <td>0</td>\n",
       "      <td>0</td>\n",
       "      <td>0</td>\n",
       "      <td>0</td>\n",
       "    </tr>\n",
       "  </tbody>\n",
       "</table>\n",
       "<p>1352259 rows × 72 columns</p>\n",
       "</div>"
      ],
      "text/plain": [
       "                           domain  label    3    4    5    6    7    8    9  \\\n",
       "0                    uzwdmrlhr.tk      1  117  122  119  100  109  114  108   \n",
       "1                   uzwdmrlhr.com      1  117  122  119  100  109  114  108   \n",
       "2             uzwdmrlhr.pages.dev      1  117  122  119  100  109  114  108   \n",
       "3                    rhrlwdumz.tk      1  114  104  114  108  119  100  117   \n",
       "4                   rhrlwdumz.com      1  114  104  114  108  119  100  117   \n",
       "...                           ...    ...  ...  ...  ...  ...  ...  ...  ...   \n",
       "1352254  kwgjjpbcaaanbivklyxx.com      1  107  119  103  106  106  112   98   \n",
       "1352255  vxijfvgvihjnfvofxmyc.com      1  118  120  105  106  102  118  103   \n",
       "1352256  cepswmbgtknhtkhlsecg.com      1   99  101  112  115  119  109   98   \n",
       "1352257  tifjhjtouqmdlbkfnuow.com      1  116  105  102  106  104  106  116   \n",
       "1352258  gjrykbribvusoskfnuow.com      1  103  106  114  121  107   98  114   \n",
       "\n",
       "          10  ...  63  64  65  66  67  68  69  70  71  72  \n",
       "0        104  ...   0   0   0   0   0   0   0   0   0   0  \n",
       "1        104  ...   0   0   0   0   0   0   0   0   0   0  \n",
       "2        104  ...   0   0   0   0   0   0   0   0   0   0  \n",
       "3        109  ...   0   0   0   0   0   0   0   0   0   0  \n",
       "4        109  ...   0   0   0   0   0   0   0   0   0   0  \n",
       "...      ...  ...  ..  ..  ..  ..  ..  ..  ..  ..  ..  ..  \n",
       "1352254   99  ...   0   0   0   0   0   0   0   0   0   0  \n",
       "1352255  118  ...   0   0   0   0   0   0   0   0   0   0  \n",
       "1352256  103  ...   0   0   0   0   0   0   0   0   0   0  \n",
       "1352257  111  ...   0   0   0   0   0   0   0   0   0   0  \n",
       "1352258  105  ...   0   0   0   0   0   0   0   0   0   0  \n",
       "\n",
       "[1352259 rows x 72 columns]"
      ]
     },
     "execution_count": 3,
     "metadata": {},
     "output_type": "execute_result"
    }
   ],
   "source": [
    "dga = pd.read_csv('./treino/df_train.csv')\n",
    "dga = dga.drop('family', axis = 1)\n",
    "dga"
   ]
  },
  {
   "cell_type": "code",
   "execution_count": 4,
   "id": "5676e746-4851-453d-8369-c5e57648d0d8",
   "metadata": {},
   "outputs": [],
   "source": [
    "dga.columns = majestic.columns"
   ]
  },
  {
   "cell_type": "code",
   "execution_count": 5,
   "id": "e163dad2-01d6-4a82-8adf-4c0a32760000",
   "metadata": {},
   "outputs": [],
   "source": [
    "dga = dga.loc[~dga['domain'].isin(majestic['domain'])].reset_index(drop=True)"
   ]
  },
  {
   "cell_type": "code",
   "execution_count": 6,
   "id": "9cb322d2-17c3-4a61-9254-38e7870d61fe",
   "metadata": {},
   "outputs": [],
   "source": [
    "dga = pd.concat([majestic,dga], axis = 0, ignore_index=True)"
   ]
  },
  {
   "cell_type": "code",
   "execution_count": 7,
   "id": "3873000b-8f11-4818-bbf1-143b061b01a4",
   "metadata": {},
   "outputs": [],
   "source": [
    "df_train,df_test = train_test_split(dga, test_size=0.3, random_state=11, shuffle=True)"
   ]
  },
  {
   "cell_type": "code",
   "execution_count": 8,
   "id": "5a7034d5-83a1-4a07-845c-59afb8afcee9",
   "metadata": {},
   "outputs": [
    {
     "data": {
      "text/html": [
       "<div>\n",
       "<style scoped>\n",
       "    .dataframe tbody tr th:only-of-type {\n",
       "        vertical-align: middle;\n",
       "    }\n",
       "\n",
       "    .dataframe tbody tr th {\n",
       "        vertical-align: top;\n",
       "    }\n",
       "\n",
       "    .dataframe thead th {\n",
       "        text-align: right;\n",
       "    }\n",
       "</style>\n",
       "<table border=\"1\" class=\"dataframe\">\n",
       "  <thead>\n",
       "    <tr style=\"text-align: right;\">\n",
       "      <th></th>\n",
       "      <th>domain</th>\n",
       "      <th>2</th>\n",
       "      <th>3</th>\n",
       "      <th>4</th>\n",
       "      <th>5</th>\n",
       "      <th>6</th>\n",
       "      <th>7</th>\n",
       "      <th>8</th>\n",
       "      <th>9</th>\n",
       "      <th>10</th>\n",
       "      <th>...</th>\n",
       "      <th>62</th>\n",
       "      <th>63</th>\n",
       "      <th>64</th>\n",
       "      <th>65</th>\n",
       "      <th>66</th>\n",
       "      <th>67</th>\n",
       "      <th>68</th>\n",
       "      <th>69</th>\n",
       "      <th>70</th>\n",
       "      <th>71</th>\n",
       "    </tr>\n",
       "    <tr>\n",
       "      <th>label</th>\n",
       "      <th></th>\n",
       "      <th></th>\n",
       "      <th></th>\n",
       "      <th></th>\n",
       "      <th></th>\n",
       "      <th></th>\n",
       "      <th></th>\n",
       "      <th></th>\n",
       "      <th></th>\n",
       "      <th></th>\n",
       "      <th></th>\n",
       "      <th></th>\n",
       "      <th></th>\n",
       "      <th></th>\n",
       "      <th></th>\n",
       "      <th></th>\n",
       "      <th></th>\n",
       "      <th></th>\n",
       "      <th></th>\n",
       "      <th></th>\n",
       "      <th></th>\n",
       "    </tr>\n",
       "  </thead>\n",
       "  <tbody>\n",
       "    <tr>\n",
       "      <th>0</th>\n",
       "      <td>700327</td>\n",
       "      <td>700327</td>\n",
       "      <td>700327</td>\n",
       "      <td>700327</td>\n",
       "      <td>700327</td>\n",
       "      <td>700327</td>\n",
       "      <td>700327</td>\n",
       "      <td>700327</td>\n",
       "      <td>700327</td>\n",
       "      <td>700327</td>\n",
       "      <td>...</td>\n",
       "      <td>700327</td>\n",
       "      <td>700327</td>\n",
       "      <td>700327</td>\n",
       "      <td>700327</td>\n",
       "      <td>700327</td>\n",
       "      <td>700327</td>\n",
       "      <td>700327</td>\n",
       "      <td>700327</td>\n",
       "      <td>700327</td>\n",
       "      <td>700327</td>\n",
       "    </tr>\n",
       "    <tr>\n",
       "      <th>1</th>\n",
       "      <td>946217</td>\n",
       "      <td>946217</td>\n",
       "      <td>946217</td>\n",
       "      <td>946217</td>\n",
       "      <td>946217</td>\n",
       "      <td>946217</td>\n",
       "      <td>946217</td>\n",
       "      <td>946217</td>\n",
       "      <td>946217</td>\n",
       "      <td>946217</td>\n",
       "      <td>...</td>\n",
       "      <td>946217</td>\n",
       "      <td>946217</td>\n",
       "      <td>946217</td>\n",
       "      <td>946217</td>\n",
       "      <td>946217</td>\n",
       "      <td>946217</td>\n",
       "      <td>946217</td>\n",
       "      <td>946217</td>\n",
       "      <td>946217</td>\n",
       "      <td>946217</td>\n",
       "    </tr>\n",
       "  </tbody>\n",
       "</table>\n",
       "<p>2 rows × 71 columns</p>\n",
       "</div>"
      ],
      "text/plain": [
       "       domain       2       3       4       5       6       7       8       9  \\\n",
       "label                                                                           \n",
       "0      700327  700327  700327  700327  700327  700327  700327  700327  700327   \n",
       "1      946217  946217  946217  946217  946217  946217  946217  946217  946217   \n",
       "\n",
       "           10  ...      62      63      64      65      66      67      68  \\\n",
       "label          ...                                                           \n",
       "0      700327  ...  700327  700327  700327  700327  700327  700327  700327   \n",
       "1      946217  ...  946217  946217  946217  946217  946217  946217  946217   \n",
       "\n",
       "           69      70      71  \n",
       "label                          \n",
       "0      700327  700327  700327  \n",
       "1      946217  946217  946217  \n",
       "\n",
       "[2 rows x 71 columns]"
      ]
     },
     "execution_count": 8,
     "metadata": {},
     "output_type": "execute_result"
    }
   ],
   "source": [
    "df_train.groupby('label').count()"
   ]
  },
  {
   "cell_type": "code",
   "execution_count": 9,
   "id": "042fd7b6-7383-45bf-b6d1-b6ab28716bba",
   "metadata": {},
   "outputs": [
    {
     "data": {
      "text/html": [
       "<div>\n",
       "<style scoped>\n",
       "    .dataframe tbody tr th:only-of-type {\n",
       "        vertical-align: middle;\n",
       "    }\n",
       "\n",
       "    .dataframe tbody tr th {\n",
       "        vertical-align: top;\n",
       "    }\n",
       "\n",
       "    .dataframe thead th {\n",
       "        text-align: right;\n",
       "    }\n",
       "</style>\n",
       "<table border=\"1\" class=\"dataframe\">\n",
       "  <thead>\n",
       "    <tr style=\"text-align: right;\">\n",
       "      <th></th>\n",
       "      <th>domain</th>\n",
       "      <th>2</th>\n",
       "      <th>3</th>\n",
       "      <th>4</th>\n",
       "      <th>5</th>\n",
       "      <th>6</th>\n",
       "      <th>7</th>\n",
       "      <th>8</th>\n",
       "      <th>9</th>\n",
       "      <th>10</th>\n",
       "      <th>...</th>\n",
       "      <th>62</th>\n",
       "      <th>63</th>\n",
       "      <th>64</th>\n",
       "      <th>65</th>\n",
       "      <th>66</th>\n",
       "      <th>67</th>\n",
       "      <th>68</th>\n",
       "      <th>69</th>\n",
       "      <th>70</th>\n",
       "      <th>71</th>\n",
       "    </tr>\n",
       "    <tr>\n",
       "      <th>label</th>\n",
       "      <th></th>\n",
       "      <th></th>\n",
       "      <th></th>\n",
       "      <th></th>\n",
       "      <th></th>\n",
       "      <th></th>\n",
       "      <th></th>\n",
       "      <th></th>\n",
       "      <th></th>\n",
       "      <th></th>\n",
       "      <th></th>\n",
       "      <th></th>\n",
       "      <th></th>\n",
       "      <th></th>\n",
       "      <th></th>\n",
       "      <th></th>\n",
       "      <th></th>\n",
       "      <th></th>\n",
       "      <th></th>\n",
       "      <th></th>\n",
       "      <th></th>\n",
       "    </tr>\n",
       "  </thead>\n",
       "  <tbody>\n",
       "    <tr>\n",
       "      <th>0</th>\n",
       "      <td>299673</td>\n",
       "      <td>299673</td>\n",
       "      <td>299673</td>\n",
       "      <td>299673</td>\n",
       "      <td>299673</td>\n",
       "      <td>299673</td>\n",
       "      <td>299673</td>\n",
       "      <td>299673</td>\n",
       "      <td>299673</td>\n",
       "      <td>299673</td>\n",
       "      <td>...</td>\n",
       "      <td>299673</td>\n",
       "      <td>299673</td>\n",
       "      <td>299673</td>\n",
       "      <td>299673</td>\n",
       "      <td>299673</td>\n",
       "      <td>299673</td>\n",
       "      <td>299673</td>\n",
       "      <td>299673</td>\n",
       "      <td>299673</td>\n",
       "      <td>299673</td>\n",
       "    </tr>\n",
       "    <tr>\n",
       "      <th>1</th>\n",
       "      <td>405990</td>\n",
       "      <td>405990</td>\n",
       "      <td>405990</td>\n",
       "      <td>405990</td>\n",
       "      <td>405990</td>\n",
       "      <td>405990</td>\n",
       "      <td>405990</td>\n",
       "      <td>405990</td>\n",
       "      <td>405990</td>\n",
       "      <td>405990</td>\n",
       "      <td>...</td>\n",
       "      <td>405990</td>\n",
       "      <td>405990</td>\n",
       "      <td>405990</td>\n",
       "      <td>405990</td>\n",
       "      <td>405990</td>\n",
       "      <td>405990</td>\n",
       "      <td>405990</td>\n",
       "      <td>405990</td>\n",
       "      <td>405990</td>\n",
       "      <td>405990</td>\n",
       "    </tr>\n",
       "  </tbody>\n",
       "</table>\n",
       "<p>2 rows × 71 columns</p>\n",
       "</div>"
      ],
      "text/plain": [
       "       domain       2       3       4       5       6       7       8       9  \\\n",
       "label                                                                           \n",
       "0      299673  299673  299673  299673  299673  299673  299673  299673  299673   \n",
       "1      405990  405990  405990  405990  405990  405990  405990  405990  405990   \n",
       "\n",
       "           10  ...      62      63      64      65      66      67      68  \\\n",
       "label          ...                                                           \n",
       "0      299673  ...  299673  299673  299673  299673  299673  299673  299673   \n",
       "1      405990  ...  405990  405990  405990  405990  405990  405990  405990   \n",
       "\n",
       "           69      70      71  \n",
       "label                          \n",
       "0      299673  299673  299673  \n",
       "1      405990  405990  405990  \n",
       "\n",
       "[2 rows x 71 columns]"
      ]
     },
     "execution_count": 9,
     "metadata": {},
     "output_type": "execute_result"
    }
   ],
   "source": [
    "df_test.groupby('label').count()"
   ]
  },
  {
   "cell_type": "code",
   "execution_count": 10,
   "id": "94f6b43c-2654-4f8a-a87f-89fa44381693",
   "metadata": {},
   "outputs": [],
   "source": [
    "X_train = df_train.drop(['domain','label'], axis = 1)\n",
    "y_train = df_train['label']\n",
    "\n",
    "X_test = df_test.drop(['domain','label'], axis = 1)\n",
    "y_test = df_test['label']"
   ]
  },
  {
   "cell_type": "code",
   "execution_count": 11,
   "id": "654d8a89-38de-49b0-8624-f1657e8d6e49",
   "metadata": {},
   "outputs": [],
   "source": [
    "X_train = X_train.to_numpy()\n",
    "y_train = y_train.to_numpy()\n",
    "\n",
    "X_test = X_test.to_numpy()\n",
    "y_test = y_test.to_numpy()"
   ]
  },
  {
   "cell_type": "code",
   "execution_count": 12,
   "id": "79c31399-2610-462f-afc6-1b9a5567765a",
   "metadata": {},
   "outputs": [
    {
     "data": {
      "text/plain": [
       "((1646544, 70), (705663, 70))"
      ]
     },
     "execution_count": 12,
     "metadata": {},
     "output_type": "execute_result"
    }
   ],
   "source": [
    "X_train.shape, X_test.shape"
   ]
  },
  {
   "cell_type": "code",
   "execution_count": 13,
   "id": "ea436f37-3304-4f6f-a606-7306acf8818e",
   "metadata": {},
   "outputs": [
    {
     "name": "stderr",
     "output_type": "stream",
     "text": [
      "2024-04-10 18:05:54.330609: I tensorflow/compiler/xla/stream_executor/cuda/cuda_gpu_executor.cc:995] successful NUMA node read from SysFS had negative value (-1), but there must be at least one NUMA node, so returning NUMA node zero. See more at https://github.com/torvalds/linux/blob/v6.0/Documentation/ABI/testing/sysfs-bus-pci#L344-L355\n",
      "2024-04-10 18:05:54.378222: I tensorflow/compiler/xla/stream_executor/cuda/cuda_gpu_executor.cc:995] successful NUMA node read from SysFS had negative value (-1), but there must be at least one NUMA node, so returning NUMA node zero. See more at https://github.com/torvalds/linux/blob/v6.0/Documentation/ABI/testing/sysfs-bus-pci#L344-L355\n",
      "2024-04-10 18:05:54.378388: I tensorflow/compiler/xla/stream_executor/cuda/cuda_gpu_executor.cc:995] successful NUMA node read from SysFS had negative value (-1), but there must be at least one NUMA node, so returning NUMA node zero. See more at https://github.com/torvalds/linux/blob/v6.0/Documentation/ABI/testing/sysfs-bus-pci#L344-L355\n",
      "2024-04-10 18:05:54.380352: I tensorflow/compiler/xla/stream_executor/cuda/cuda_gpu_executor.cc:995] successful NUMA node read from SysFS had negative value (-1), but there must be at least one NUMA node, so returning NUMA node zero. See more at https://github.com/torvalds/linux/blob/v6.0/Documentation/ABI/testing/sysfs-bus-pci#L344-L355\n",
      "2024-04-10 18:05:54.380496: I tensorflow/compiler/xla/stream_executor/cuda/cuda_gpu_executor.cc:995] successful NUMA node read from SysFS had negative value (-1), but there must be at least one NUMA node, so returning NUMA node zero. See more at https://github.com/torvalds/linux/blob/v6.0/Documentation/ABI/testing/sysfs-bus-pci#L344-L355\n",
      "2024-04-10 18:05:54.380575: I tensorflow/compiler/xla/stream_executor/cuda/cuda_gpu_executor.cc:995] successful NUMA node read from SysFS had negative value (-1), but there must be at least one NUMA node, so returning NUMA node zero. See more at https://github.com/torvalds/linux/blob/v6.0/Documentation/ABI/testing/sysfs-bus-pci#L344-L355\n",
      "2024-04-10 18:05:54.651962: I tensorflow/compiler/xla/stream_executor/cuda/cuda_gpu_executor.cc:995] successful NUMA node read from SysFS had negative value (-1), but there must be at least one NUMA node, so returning NUMA node zero. See more at https://github.com/torvalds/linux/blob/v6.0/Documentation/ABI/testing/sysfs-bus-pci#L344-L355\n",
      "2024-04-10 18:05:54.652091: I tensorflow/compiler/xla/stream_executor/cuda/cuda_gpu_executor.cc:995] successful NUMA node read from SysFS had negative value (-1), but there must be at least one NUMA node, so returning NUMA node zero. See more at https://github.com/torvalds/linux/blob/v6.0/Documentation/ABI/testing/sysfs-bus-pci#L344-L355\n",
      "2024-04-10 18:05:54.652168: I tensorflow/compiler/xla/stream_executor/cuda/cuda_gpu_executor.cc:995] successful NUMA node read from SysFS had negative value (-1), but there must be at least one NUMA node, so returning NUMA node zero. See more at https://github.com/torvalds/linux/blob/v6.0/Documentation/ABI/testing/sysfs-bus-pci#L344-L355\n",
      "2024-04-10 18:05:54.652240: I tensorflow/core/common_runtime/gpu/gpu_device.cc:1639] Created device /job:localhost/replica:0/task:0/device:GPU:0 with 1857 MB memory:  -> device: 0, name: NVIDIA GeForce RTX 3050 Laptop GPU, pci bus id: 0000:01:00.0, compute capability: 8.6\n"
     ]
    }
   ],
   "source": [
    "#Carregando hyperparâmetros de regularizadores, otimizador e função de ativação\n",
    "l1l2 = keras.regularizers.l1_l2(l1=0.00001, l2=0.0001)\n",
    "opt = keras.optimizers.Adam(learning_rate=0.0001)\n",
    "fx = \"relu\""
   ]
  },
  {
   "cell_type": "markdown",
   "id": "b6113b02-7c42-4dcf-806f-84a90c055364",
   "metadata": {},
   "source": [
    "## Modelo 1"
   ]
  },
  {
   "cell_type": "code",
   "execution_count": 14,
   "id": "c4159eaf-763d-4461-831d-1363f7bffcb1",
   "metadata": {
    "scrolled": true
   },
   "outputs": [
    {
     "name": "stdout",
     "output_type": "stream",
     "text": [
      "Model: \"sequential\"\n",
      "_________________________________________________________________\n",
      " Layer (type)                Output Shape              Param #   \n",
      "=================================================================\n",
      " embedding (Embedding)       (None, 70, 60)            15360     \n",
      "                                                                 \n",
      " conv1d (Conv1D)             (None, 70, 500)           210500    \n",
      "                                                                 \n",
      " re_lu (ReLU)                (None, 70, 500)           0         \n",
      "                                                                 \n",
      " conv1d_1 (Conv1D)           (None, 70, 250)           750250    \n",
      "                                                                 \n",
      " re_lu_1 (ReLU)              (None, 70, 250)           0         \n",
      "                                                                 \n",
      " max_pooling1d (MaxPooling1  (None, 70, 250)           0         \n",
      " D)                                                              \n",
      "                                                                 \n",
      " conv1d_2 (Conv1D)           (None, 70, 120)           150120    \n",
      "                                                                 \n",
      " re_lu_2 (ReLU)              (None, 70, 120)           0         \n",
      "                                                                 \n",
      " conv1d_3 (Conv1D)           (None, 70, 60)            36060     \n",
      "                                                                 \n",
      " re_lu_3 (ReLU)              (None, 70, 60)            0         \n",
      "                                                                 \n",
      " max_pooling1d_1 (MaxPoolin  (None, 70, 60)            0         \n",
      " g1D)                                                            \n",
      "                                                                 \n",
      " conv1d_4 (Conv1D)           (None, 70, 30)            7230      \n",
      "                                                                 \n",
      " re_lu_4 (ReLU)              (None, 70, 30)            0         \n",
      "                                                                 \n",
      " conv1d_5 (Conv1D)           (None, 70, 30)            2730      \n",
      "                                                                 \n",
      " re_lu_5 (ReLU)              (None, 70, 30)            0         \n",
      "                                                                 \n",
      " max_pooling1d_2 (MaxPoolin  (None, 70, 30)            0         \n",
      " g1D)                                                            \n",
      "                                                                 \n",
      " flatten (Flatten)           (None, 2100)              0         \n",
      "                                                                 \n",
      " dense (Dense)               (None, 15)                31515     \n",
      "                                                                 \n",
      " dense_1 (Dense)             (None, 1)                 16        \n",
      "                                                                 \n",
      "=================================================================\n",
      "Total params: 1203781 (4.59 MB)\n",
      "Trainable params: 1203781 (4.59 MB)\n",
      "Non-trainable params: 0 (0.00 Byte)\n",
      "_________________________________________________________________\n"
     ]
    }
   ],
   "source": [
    "#Estrutura do modelo convolucional profundo\n",
    "model_1 = tf.keras.Sequential([\n",
    "      \n",
    "        layers.Embedding(input_dim=256,output_dim=60,input_length=70),\n",
    "    \n",
    "        layers.Conv1D(500, 7, activation=fx, activity_regularizer=l1l2, padding='same'),\n",
    "        layers.ReLU(),\n",
    "            \n",
    "        layers.Conv1D(250, 6, activation=fx, activity_regularizer=l1l2, padding='same'),\n",
    "        layers.ReLU(),\n",
    "        layers.MaxPooling1D(pool_size=6, strides=1, padding='same'),\n",
    "    \n",
    "        layers.Conv1D(120, 5, activation=fx, activity_regularizer=l1l2, padding='same'),\n",
    "        layers.ReLU(),\n",
    "    \n",
    "        layers.Conv1D(60, 5, activation=fx, activity_regularizer=l1l2, padding='same'),\n",
    "        layers.ReLU(),\n",
    "        layers.MaxPooling1D(pool_size=4, strides=1, padding='same'),\n",
    "    \n",
    "        layers.Conv1D(30, 4, activation=fx, activity_regularizer=l1l2, padding='same'),\n",
    "        layers.ReLU(),\n",
    "    \n",
    "        layers.Conv1D(30, 3, activation=fx, activity_regularizer=l1l2, padding='same'),\n",
    "        layers.ReLU(),\n",
    "        layers.MaxPooling1D(pool_size=3, strides=1, padding='same'),\n",
    "    \n",
    "        layers.Flatten(),\n",
    "        layers.Dense(15, activation=fx, activity_regularizer=l1l2),\n",
    "        layers.Dense(1, activation='sigmoid')])\n",
    "\n",
    "model_1.compile(optimizer = opt, loss = 'binary_crossentropy', metrics='accuracy')\n",
    "model_1.summary()"
   ]
  },
  {
   "cell_type": "code",
   "execution_count": 15,
   "id": "d9f0a8ad-d1a5-4bce-b4f8-231f9ea84a9c",
   "metadata": {},
   "outputs": [],
   "source": [
    "best1 = tf.keras.callbacks.ModelCheckpoint(\n",
    "    filepath='best_model12',\n",
    "    save_weights_only=False,\n",
    "    monitor='val_accuracy',\n",
    "    mode='max',\n",
    "    save_best_only=True)"
   ]
  },
  {
   "cell_type": "code",
   "execution_count": 13,
   "id": "459b7eea-c733-41de-bf90-224511faae52",
   "metadata": {},
   "outputs": [
    {
     "name": "stderr",
     "output_type": "stream",
     "text": [
      "2024-04-10 15:52:54.710629: I tensorflow/compiler/xla/stream_executor/cuda/cuda_gpu_executor.cc:995] successful NUMA node read from SysFS had negative value (-1), but there must be at least one NUMA node, so returning NUMA node zero. See more at https://github.com/torvalds/linux/blob/v6.0/Documentation/ABI/testing/sysfs-bus-pci#L344-L355\n",
      "2024-04-10 15:52:54.754662: I tensorflow/compiler/xla/stream_executor/cuda/cuda_gpu_executor.cc:995] successful NUMA node read from SysFS had negative value (-1), but there must be at least one NUMA node, so returning NUMA node zero. See more at https://github.com/torvalds/linux/blob/v6.0/Documentation/ABI/testing/sysfs-bus-pci#L344-L355\n",
      "2024-04-10 15:52:54.754815: I tensorflow/compiler/xla/stream_executor/cuda/cuda_gpu_executor.cc:995] successful NUMA node read from SysFS had negative value (-1), but there must be at least one NUMA node, so returning NUMA node zero. See more at https://github.com/torvalds/linux/blob/v6.0/Documentation/ABI/testing/sysfs-bus-pci#L344-L355\n"
     ]
    }
   ],
   "source": [
    "# Ajustando uso de memoria RAM e GPU\n",
    "physical_devices = tf.config.list_physical_devices('GPU')\n",
    "try:\n",
    "  tf.config.experimental.set_memory_growth(physical_devices[0], True)\n",
    "except:\n",
    "  pass"
   ]
  },
  {
   "cell_type": "code",
   "execution_count": 18,
   "id": "749df9b4-1f90-46f1-9dc9-541e264473e2",
   "metadata": {},
   "outputs": [
    {
     "name": "stdout",
     "output_type": "stream",
     "text": [
      "Epoch 1/10\n"
     ]
    },
    {
     "name": "stderr",
     "output_type": "stream",
     "text": [
      "2024-04-10 14:39:50.520159: I tensorflow/compiler/xla/stream_executor/cuda/cuda_dnn.cc:432] Loaded cuDNN version 8902\n",
      "2024-04-10 14:39:51.165245: I tensorflow/compiler/xla/stream_executor/cuda/cuda_blas.cc:606] TensorFloat-32 will be used for the matrix multiplication. This will only be logged once.\n",
      "2024-04-10 14:39:51.167431: I tensorflow/compiler/xla/service/service.cc:168] XLA service 0x59492dd88550 initialized for platform CUDA (this does not guarantee that XLA will be used). Devices:\n",
      "2024-04-10 14:39:51.167445: I tensorflow/compiler/xla/service/service.cc:176]   StreamExecutor device (0): NVIDIA GeForce RTX 3050 Laptop GPU, Compute Capability 8.6\n",
      "2024-04-10 14:39:51.171646: I tensorflow/compiler/mlir/tensorflow/utils/dump_mlir_util.cc:255] disabling MLIR crash reproducer, set env var `MLIR_CRASH_REPRODUCER_DIRECTORY` to enable.\n",
      "2024-04-10 14:39:51.251576: I ./tensorflow/compiler/jit/device_compiler.h:186] Compiled cluster using XLA!  This line is logged at most once for the lifetime of the process.\n",
      "2024-04-10 14:39:51.595861: W tensorflow/tsl/framework/bfc_allocator.cc:296] Allocator (GPU_0_bfc) ran out of memory trying to allocate 1.50GiB with freed_by_count=0. The caller indicates that this is not a failure, but this may mean that there could be performance gains if more memory were available.\n",
      "2024-04-10 14:39:51.891548: W tensorflow/tsl/framework/bfc_allocator.cc:296] Allocator (GPU_0_bfc) ran out of memory trying to allocate 2.25GiB with freed_by_count=0. The caller indicates that this is not a failure, but this may mean that there could be performance gains if more memory were available.\n",
      "2024-04-10 14:39:52.175005: W tensorflow/tsl/framework/bfc_allocator.cc:296] Allocator (GPU_0_bfc) ran out of memory trying to allocate 4.48GiB with freed_by_count=0. The caller indicates that this is not a failure, but this may mean that there could be performance gains if more memory were available.\n"
     ]
    },
    {
     "name": "stdout",
     "output_type": "stream",
     "text": [
      "7410/7410 [==============================] - ETA: 0s - loss: 0.1099 - accuracy: 0.9608"
     ]
    },
    {
     "name": "stderr",
     "output_type": "stream",
     "text": [
      "2024-04-10 14:44:34.124860: W tensorflow/tsl/framework/bfc_allocator.cc:296] Allocator (GPU_0_bfc) ran out of memory trying to allocate 1.73GiB with freed_by_count=0. The caller indicates that this is not a failure, but this may mean that there could be performance gains if more memory were available.\n",
      "2024-04-10 14:44:34.130372: W tensorflow/tsl/framework/bfc_allocator.cc:296] Allocator (GPU_0_bfc) ran out of memory trying to allocate 1.73GiB with freed_by_count=0. The caller indicates that this is not a failure, but this may mean that there could be performance gains if more memory were available.\n"
     ]
    },
    {
     "name": "stdout",
     "output_type": "stream",
     "text": [
      "INFO:tensorflow:Assets written to: best_model12/assets\n"
     ]
    },
    {
     "name": "stderr",
     "output_type": "stream",
     "text": [
      "INFO:tensorflow:Assets written to: best_model12/assets\n"
     ]
    },
    {
     "name": "stdout",
     "output_type": "stream",
     "text": [
      "7410/7410 [==============================] - 296s 39ms/step - loss: 0.1099 - accuracy: 0.9608 - val_loss: 0.0886 - val_accuracy: 0.9697\n",
      "Epoch 2/10\n",
      "7409/7410 [============================>.] - ETA: 0s - loss: 0.0637 - accuracy: 0.9784INFO:tensorflow:Assets written to: best_model12/assets\n"
     ]
    },
    {
     "name": "stderr",
     "output_type": "stream",
     "text": [
      "INFO:tensorflow:Assets written to: best_model12/assets\n"
     ]
    },
    {
     "name": "stdout",
     "output_type": "stream",
     "text": [
      "7410/7410 [==============================] - 287s 39ms/step - loss: 0.0637 - accuracy: 0.9784 - val_loss: 0.0640 - val_accuracy: 0.9782\n",
      "Epoch 3/10\n",
      "7409/7410 [============================>.] - ETA: 0s - loss: 0.0517 - accuracy: 0.9826INFO:tensorflow:Assets written to: best_model12/assets\n"
     ]
    },
    {
     "name": "stderr",
     "output_type": "stream",
     "text": [
      "INFO:tensorflow:Assets written to: best_model12/assets\n"
     ]
    },
    {
     "name": "stdout",
     "output_type": "stream",
     "text": [
      "7410/7410 [==============================] - 288s 39ms/step - loss: 0.0517 - accuracy: 0.9826 - val_loss: 0.0613 - val_accuracy: 0.9789\n",
      "Epoch 4/10\n",
      "7409/7410 [============================>.] - ETA: 0s - loss: 0.0433 - accuracy: 0.9856INFO:tensorflow:Assets written to: best_model12/assets\n"
     ]
    },
    {
     "name": "stderr",
     "output_type": "stream",
     "text": [
      "INFO:tensorflow:Assets written to: best_model12/assets\n"
     ]
    },
    {
     "name": "stdout",
     "output_type": "stream",
     "text": [
      "7410/7410 [==============================] - 288s 39ms/step - loss: 0.0433 - accuracy: 0.9856 - val_loss: 0.0616 - val_accuracy: 0.9790\n",
      "Epoch 5/10\n",
      "7409/7410 [============================>.] - ETA: 0s - loss: 0.0367 - accuracy: 0.9879INFO:tensorflow:Assets written to: best_model12/assets\n"
     ]
    },
    {
     "name": "stderr",
     "output_type": "stream",
     "text": [
      "INFO:tensorflow:Assets written to: best_model12/assets\n"
     ]
    },
    {
     "name": "stdout",
     "output_type": "stream",
     "text": [
      "7410/7410 [==============================] - 287s 39ms/step - loss: 0.0367 - accuracy: 0.9879 - val_loss: 0.0601 - val_accuracy: 0.9801\n",
      "Epoch 6/10\n",
      "7410/7410 [==============================] - 288s 39ms/step - loss: 0.0313 - accuracy: 0.9897 - val_loss: 0.0624 - val_accuracy: 0.9799\n",
      "Epoch 7/10\n",
      "7410/7410 [==============================] - 287s 39ms/step - loss: 0.0268 - accuracy: 0.9913 - val_loss: 0.0649 - val_accuracy: 0.9799\n",
      "Epoch 8/10\n",
      "7410/7410 [==============================] - 287s 39ms/step - loss: 0.0229 - accuracy: 0.9928 - val_loss: 0.0699 - val_accuracy: 0.9786\n",
      "Epoch 9/10\n",
      "7410/7410 [==============================] - 287s 39ms/step - loss: 0.0197 - accuracy: 0.9939 - val_loss: 0.0734 - val_accuracy: 0.9796\n",
      "Epoch 10/10\n",
      "7410/7410 [==============================] - 287s 39ms/step - loss: 0.0170 - accuracy: 0.9948 - val_loss: 0.0750 - val_accuracy: 0.9781\n"
     ]
    },
    {
     "data": {
      "text/plain": [
       "<keras.src.callbacks.History at 0x7089c9d1a6e0>"
      ]
     },
     "execution_count": 18,
     "metadata": {},
     "output_type": "execute_result"
    }
   ],
   "source": [
    "model_1.fit(X_train, y_train,\n",
    "              epochs=10,\n",
    "              validation_split = 0.1,\n",
    "              callbacks = [best1],\n",
    "              batch_size=200)"
   ]
  },
  {
   "cell_type": "code",
   "execution_count": 21,
   "id": "e9ebb56a-d2f1-444a-8f7a-135ae9f543b6",
   "metadata": {},
   "outputs": [],
   "source": [
    "model_1 = tf.keras.models.load_model('best_model12')"
   ]
  },
  {
   "cell_type": "code",
   "execution_count": 22,
   "id": "89897311-76b1-4c02-806c-c473cffa620c",
   "metadata": {},
   "outputs": [
    {
     "name": "stdout",
     "output_type": "stream",
     "text": [
      "22052/22052 [==============================] - 46s 2ms/step\n",
      "Matriz de Confusão\n",
      "[[292626   7047]\n",
      " [  7047 398943]]\n",
      "Relatório de Classificação\n",
      "              precision    recall  f1-score   support\n",
      "\n",
      "           0     0.9765    0.9765    0.9765    299673\n",
      "           1     0.9826    0.9826    0.9826    405990\n",
      "\n",
      "    accuracy                         0.9800    705663\n",
      "   macro avg     0.9796    0.9796    0.9796    705663\n",
      "weighted avg     0.9800    0.9800    0.9800    705663\n",
      "\n"
     ]
    }
   ],
   "source": [
    "predictions = model_1.predict(X_test)\n",
    "predictions = np.where(predictions > 0.5, 1, 0)\n",
    "\n",
    "print('Matriz de Confusão')\n",
    "print(confusion_matrix(y_test,predictions))\n",
    "\n",
    "print('Relatório de Classificação')\n",
    "print(classification_report(y_test,predictions, digits=4))"
   ]
  },
  {
   "cell_type": "markdown",
   "id": "0d7ed3a1-68aa-4a9d-85db-c5baf149db04",
   "metadata": {},
   "source": [
    "## Modelo 2"
   ]
  },
  {
   "cell_type": "code",
   "execution_count": 14,
   "id": "b116015f-c131-4053-b039-b99c34959aad",
   "metadata": {},
   "outputs": [
    {
     "name": "stdout",
     "output_type": "stream",
     "text": [
      "Model: \"sequential\"\n",
      "_________________________________________________________________\n",
      " Layer (type)                Output Shape              Param #   \n",
      "=================================================================\n",
      " embedding (Embedding)       (None, 70, 60)            15360     \n",
      "                                                                 \n",
      " conv1d (Conv1D)             (None, 70, 500)           210500    \n",
      "                                                                 \n",
      " conv1d_1 (Conv1D)           (None, 70, 250)           750250    \n",
      "                                                                 \n",
      " conv1d_2 (Conv1D)           (None, 70, 120)           150120    \n",
      "                                                                 \n",
      " conv1d_3 (Conv1D)           (None, 70, 60)            36060     \n",
      "                                                                 \n",
      " conv1d_4 (Conv1D)           (None, 70, 30)            7230      \n",
      "                                                                 \n",
      " conv1d_5 (Conv1D)           (None, 70, 30)            2730      \n",
      "                                                                 \n",
      " flatten (Flatten)           (None, 2100)              0         \n",
      "                                                                 \n",
      " dense (Dense)               (None, 15)                31515     \n",
      "                                                                 \n",
      " dense_1 (Dense)             (None, 1)                 16        \n",
      "                                                                 \n",
      "=================================================================\n",
      "Total params: 1203781 (4.59 MB)\n",
      "Trainable params: 1203781 (4.59 MB)\n",
      "Non-trainable params: 0 (0.00 Byte)\n",
      "_________________________________________________________________\n"
     ]
    },
    {
     "name": "stderr",
     "output_type": "stream",
     "text": [
      "2024-04-10 15:52:58.746243: I tensorflow/compiler/xla/stream_executor/cuda/cuda_gpu_executor.cc:995] successful NUMA node read from SysFS had negative value (-1), but there must be at least one NUMA node, so returning NUMA node zero. See more at https://github.com/torvalds/linux/blob/v6.0/Documentation/ABI/testing/sysfs-bus-pci#L344-L355\n",
      "2024-04-10 15:52:58.746548: I tensorflow/compiler/xla/stream_executor/cuda/cuda_gpu_executor.cc:995] successful NUMA node read from SysFS had negative value (-1), but there must be at least one NUMA node, so returning NUMA node zero. See more at https://github.com/torvalds/linux/blob/v6.0/Documentation/ABI/testing/sysfs-bus-pci#L344-L355\n",
      "2024-04-10 15:52:58.746696: I tensorflow/compiler/xla/stream_executor/cuda/cuda_gpu_executor.cc:995] successful NUMA node read from SysFS had negative value (-1), but there must be at least one NUMA node, so returning NUMA node zero. See more at https://github.com/torvalds/linux/blob/v6.0/Documentation/ABI/testing/sysfs-bus-pci#L344-L355\n",
      "2024-04-10 15:52:59.019371: I tensorflow/compiler/xla/stream_executor/cuda/cuda_gpu_executor.cc:995] successful NUMA node read from SysFS had negative value (-1), but there must be at least one NUMA node, so returning NUMA node zero. See more at https://github.com/torvalds/linux/blob/v6.0/Documentation/ABI/testing/sysfs-bus-pci#L344-L355\n",
      "2024-04-10 15:52:59.019506: I tensorflow/compiler/xla/stream_executor/cuda/cuda_gpu_executor.cc:995] successful NUMA node read from SysFS had negative value (-1), but there must be at least one NUMA node, so returning NUMA node zero. See more at https://github.com/torvalds/linux/blob/v6.0/Documentation/ABI/testing/sysfs-bus-pci#L344-L355\n",
      "2024-04-10 15:52:59.019583: I tensorflow/compiler/xla/stream_executor/cuda/cuda_gpu_executor.cc:995] successful NUMA node read from SysFS had negative value (-1), but there must be at least one NUMA node, so returning NUMA node zero. See more at https://github.com/torvalds/linux/blob/v6.0/Documentation/ABI/testing/sysfs-bus-pci#L344-L355\n",
      "2024-04-10 15:52:59.019655: I tensorflow/core/common_runtime/gpu/gpu_device.cc:1639] Created device /job:localhost/replica:0/task:0/device:GPU:0 with 1857 MB memory:  -> device: 0, name: NVIDIA GeForce RTX 3050 Laptop GPU, pci bus id: 0000:01:00.0, compute capability: 8.6\n"
     ]
    }
   ],
   "source": [
    "#Carregando hyperparâmetros de regularizadores, otimizador e função de ativação\n",
    "l1l2 = keras.regularizers.l1_l2(l1=0.00001, l2=0.0001)\n",
    "opt = keras.optimizers.Adam(learning_rate=0.0001)\n",
    "fx = \"relu\"\n",
    "\n",
    "#Estrutura do modelo convolucional profundo\n",
    "model_2 = tf.keras.Sequential([\n",
    "      \n",
    "        layers.Embedding(input_dim=256,output_dim=60,input_length=70),\n",
    "    \n",
    "        layers.Conv1D(500, 7, activation=fx, activity_regularizer=l1l2, padding='same'),\n",
    "        #layers.ReLU(),\n",
    "            \n",
    "        layers.Conv1D(250, 6, activation=fx, activity_regularizer=l1l2, padding='same'),\n",
    "        #layers.ReLU(),\n",
    "        #layers.MaxPooling1D(pool_size=6, strides=1, padding='same'),\n",
    "    \n",
    "        layers.Conv1D(120, 5, activation=fx, activity_regularizer=l1l2, padding='same'),\n",
    "        #layers.ReLU(),\n",
    "    \n",
    "        layers.Conv1D(60, 5, activation=fx, activity_regularizer=l1l2, padding='same'),\n",
    "        #layers.ReLU(),\n",
    "        #layers.MaxPooling1D(pool_size=4, strides=1, padding='same'),\n",
    "    \n",
    "        layers.Conv1D(30, 4, activation=fx, activity_regularizer=l1l2, padding='same'),\n",
    "        #layers.ReLU(),\n",
    "    \n",
    "        layers.Conv1D(30, 3, activation=fx, activity_regularizer=l1l2, padding='same'),\n",
    "        #layers.ReLU(),\n",
    "        #layers.MaxPooling1D(pool_size=3, strides=1, padding='same'),\n",
    "    \n",
    "        layers.Flatten(),\n",
    "        layers.Dense(15, activation=fx, activity_regularizer=l1l2),\n",
    "        layers.Dense(1, activation='sigmoid')])\n",
    "\n",
    "model_2.compile(optimizer = opt, loss = 'binary_crossentropy', metrics='accuracy')\n",
    "model_2.summary()"
   ]
  },
  {
   "cell_type": "code",
   "execution_count": 15,
   "id": "16442558-e7c2-4e15-8b3d-e7bb085683ef",
   "metadata": {},
   "outputs": [],
   "source": [
    "best2 = tf.keras.callbacks.ModelCheckpoint(\n",
    "    filepath='best_model22',\n",
    "    save_weights_only=False,\n",
    "    monitor='val_accuracy',\n",
    "    mode='max',\n",
    "    save_best_only=True)"
   ]
  },
  {
   "cell_type": "code",
   "execution_count": 16,
   "id": "30ceaf8a-7fee-4220-95ea-4da977bc9593",
   "metadata": {},
   "outputs": [
    {
     "name": "stdout",
     "output_type": "stream",
     "text": [
      "Epoch 1/10\n"
     ]
    },
    {
     "name": "stderr",
     "output_type": "stream",
     "text": [
      "2024-04-10 15:53:07.100087: I tensorflow/compiler/xla/stream_executor/cuda/cuda_dnn.cc:432] Loaded cuDNN version 8902\n",
      "2024-04-10 15:53:07.743220: I tensorflow/compiler/xla/stream_executor/cuda/cuda_blas.cc:606] TensorFloat-32 will be used for the matrix multiplication. This will only be logged once.\n",
      "2024-04-10 15:53:07.745486: I tensorflow/compiler/xla/service/service.cc:168] XLA service 0x590890ea6b20 initialized for platform CUDA (this does not guarantee that XLA will be used). Devices:\n",
      "2024-04-10 15:53:07.745501: I tensorflow/compiler/xla/service/service.cc:176]   StreamExecutor device (0): NVIDIA GeForce RTX 3050 Laptop GPU, Compute Capability 8.6\n",
      "2024-04-10 15:53:07.749354: I tensorflow/compiler/mlir/tensorflow/utils/dump_mlir_util.cc:255] disabling MLIR crash reproducer, set env var `MLIR_CRASH_REPRODUCER_DIRECTORY` to enable.\n",
      "2024-04-10 15:53:07.830502: I ./tensorflow/compiler/jit/device_compiler.h:186] Compiled cluster using XLA!  This line is logged at most once for the lifetime of the process.\n",
      "2024-04-10 15:53:08.197409: W tensorflow/tsl/framework/bfc_allocator.cc:296] Allocator (GPU_0_bfc) ran out of memory trying to allocate 1.50GiB with freed_by_count=0. The caller indicates that this is not a failure, but this may mean that there could be performance gains if more memory were available.\n",
      "2024-04-10 15:53:08.491882: W tensorflow/tsl/framework/bfc_allocator.cc:296] Allocator (GPU_0_bfc) ran out of memory trying to allocate 2.25GiB with freed_by_count=0. The caller indicates that this is not a failure, but this may mean that there could be performance gains if more memory were available.\n",
      "2024-04-10 15:53:08.771001: W tensorflow/tsl/framework/bfc_allocator.cc:296] Allocator (GPU_0_bfc) ran out of memory trying to allocate 4.48GiB with freed_by_count=0. The caller indicates that this is not a failure, but this may mean that there could be performance gains if more memory were available.\n"
     ]
    },
    {
     "name": "stdout",
     "output_type": "stream",
     "text": [
      "7410/7410 [==============================] - ETA: 0s - loss: 0.1154 - accuracy: 0.9588"
     ]
    },
    {
     "name": "stderr",
     "output_type": "stream",
     "text": [
      "2024-04-10 15:57:21.324409: W tensorflow/tsl/framework/bfc_allocator.cc:296] Allocator (GPU_0_bfc) ran out of memory trying to allocate 1.73GiB with freed_by_count=0. The caller indicates that this is not a failure, but this may mean that there could be performance gains if more memory were available.\n",
      "2024-04-10 15:57:21.330031: W tensorflow/tsl/framework/bfc_allocator.cc:296] Allocator (GPU_0_bfc) ran out of memory trying to allocate 1.73GiB with freed_by_count=0. The caller indicates that this is not a failure, but this may mean that there could be performance gains if more memory were available.\n",
      "2024-04-10 15:57:21.372291: W tensorflow/tsl/framework/bfc_allocator.cc:296] Allocator (GPU_0_bfc) ran out of memory trying to allocate 895.20MiB with freed_by_count=0. The caller indicates that this is not a failure, but this may mean that there could be performance gains if more memory were available.\n",
      "2024-04-10 15:57:21.377571: W tensorflow/tsl/framework/bfc_allocator.cc:296] Allocator (GPU_0_bfc) ran out of memory trying to allocate 895.20MiB with freed_by_count=0. The caller indicates that this is not a failure, but this may mean that there could be performance gains if more memory were available.\n"
     ]
    },
    {
     "name": "stdout",
     "output_type": "stream",
     "text": [
      "INFO:tensorflow:Assets written to: best_model22/assets\n"
     ]
    },
    {
     "name": "stderr",
     "output_type": "stream",
     "text": [
      "INFO:tensorflow:Assets written to: best_model22/assets\n"
     ]
    },
    {
     "name": "stdout",
     "output_type": "stream",
     "text": [
      "7410/7410 [==============================] - 265s 35ms/step - loss: 0.1154 - accuracy: 0.9588 - val_loss: 0.0778 - val_accuracy: 0.9734\n",
      "Epoch 2/10\n",
      "7410/7410 [==============================] - ETA: 0s - loss: 0.0682 - accuracy: 0.9766INFO:tensorflow:Assets written to: best_model22/assets\n"
     ]
    },
    {
     "name": "stderr",
     "output_type": "stream",
     "text": [
      "INFO:tensorflow:Assets written to: best_model22/assets\n"
     ]
    },
    {
     "name": "stdout",
     "output_type": "stream",
     "text": [
      "7410/7410 [==============================] - 256s 35ms/step - loss: 0.0682 - accuracy: 0.9766 - val_loss: 0.0662 - val_accuracy: 0.9773\n",
      "Epoch 3/10\n",
      "7409/7410 [============================>.] - ETA: 0s - loss: 0.0551 - accuracy: 0.9812INFO:tensorflow:Assets written to: best_model22/assets\n"
     ]
    },
    {
     "name": "stderr",
     "output_type": "stream",
     "text": [
      "INFO:tensorflow:Assets written to: best_model22/assets\n"
     ]
    },
    {
     "name": "stdout",
     "output_type": "stream",
     "text": [
      "7410/7410 [==============================] - 256s 35ms/step - loss: 0.0551 - accuracy: 0.9812 - val_loss: 0.0627 - val_accuracy: 0.9782\n",
      "Epoch 4/10\n",
      "7409/7410 [============================>.] - ETA: 0s - loss: 0.0462 - accuracy: 0.9843INFO:tensorflow:Assets written to: best_model22/assets\n"
     ]
    },
    {
     "name": "stderr",
     "output_type": "stream",
     "text": [
      "INFO:tensorflow:Assets written to: best_model22/assets\n"
     ]
    },
    {
     "name": "stdout",
     "output_type": "stream",
     "text": [
      "7410/7410 [==============================] - 257s 35ms/step - loss: 0.0462 - accuracy: 0.9843 - val_loss: 0.0604 - val_accuracy: 0.9791\n",
      "Epoch 5/10\n",
      "7409/7410 [============================>.] - ETA: 0s - loss: 0.0387 - accuracy: 0.9870INFO:tensorflow:Assets written to: best_model22/assets\n"
     ]
    },
    {
     "name": "stderr",
     "output_type": "stream",
     "text": [
      "INFO:tensorflow:Assets written to: best_model22/assets\n"
     ]
    },
    {
     "name": "stdout",
     "output_type": "stream",
     "text": [
      "7410/7410 [==============================] - 257s 35ms/step - loss: 0.0387 - accuracy: 0.9870 - val_loss: 0.0619 - val_accuracy: 0.9795\n",
      "Epoch 6/10\n",
      "7410/7410 [==============================] - 256s 35ms/step - loss: 0.0327 - accuracy: 0.9891 - val_loss: 0.0628 - val_accuracy: 0.9793\n",
      "Epoch 7/10\n",
      "7410/7410 [==============================] - 256s 35ms/step - loss: 0.0274 - accuracy: 0.9910 - val_loss: 0.0733 - val_accuracy: 0.9766\n",
      "Epoch 8/10\n",
      "7410/7410 [==============================] - 256s 35ms/step - loss: 0.0229 - accuracy: 0.9926 - val_loss: 0.0685 - val_accuracy: 0.9785\n",
      "Epoch 9/10\n",
      "7410/7410 [==============================] - 256s 35ms/step - loss: 0.0194 - accuracy: 0.9940 - val_loss: 0.0745 - val_accuracy: 0.9788\n",
      "Epoch 10/10\n",
      "7410/7410 [==============================] - 256s 35ms/step - loss: 0.0169 - accuracy: 0.9948 - val_loss: 0.0761 - val_accuracy: 0.9786\n"
     ]
    },
    {
     "data": {
      "text/plain": [
       "<keras.src.callbacks.History at 0x796a74546dd0>"
      ]
     },
     "execution_count": 16,
     "metadata": {},
     "output_type": "execute_result"
    }
   ],
   "source": [
    "model_2.fit(X_train, y_train,\n",
    "              epochs=10,\n",
    "              validation_split = 0.1,\n",
    "              callbacks = [best2],\n",
    "              batch_size=200)"
   ]
  },
  {
   "cell_type": "code",
   "execution_count": 17,
   "id": "ef258453-e322-4928-a0ce-5bbf18e5081f",
   "metadata": {},
   "outputs": [],
   "source": [
    "model_2 = tf.keras.models.load_model('best_model22')"
   ]
  },
  {
   "cell_type": "code",
   "execution_count": 18,
   "id": "180c62f4-e8ee-4426-a029-8baecf34adb6",
   "metadata": {},
   "outputs": [
    {
     "name": "stdout",
     "output_type": "stream",
     "text": [
      "   78/22052 [..............................] - ETA: 43s  "
     ]
    },
    {
     "name": "stderr",
     "output_type": "stream",
     "text": [
      "2024-04-10 16:35:57.857186: W tensorflow/tsl/framework/bfc_allocator.cc:296] Allocator (GPU_0_bfc) ran out of memory trying to allocate 489.10MiB with freed_by_count=0. The caller indicates that this is not a failure, but this may mean that there could be performance gains if more memory were available.\n",
      "2024-04-10 16:35:57.857222: W tensorflow/tsl/framework/bfc_allocator.cc:296] Allocator (GPU_0_bfc) ran out of memory trying to allocate 489.10MiB with freed_by_count=0. The caller indicates that this is not a failure, but this may mean that there could be performance gains if more memory were available.\n"
     ]
    },
    {
     "name": "stdout",
     "output_type": "stream",
     "text": [
      "22052/22052 [==============================] - 43s 2ms/step\n",
      "Matriz de Confusão\n",
      "[[292400   7273]\n",
      " [  7149 398841]]\n",
      "Relatório de Classificação\n",
      "              precision    recall  f1-score   support\n",
      "\n",
      "           0     0.9761    0.9757    0.9759    299673\n",
      "           1     0.9821    0.9824    0.9822    405990\n",
      "\n",
      "    accuracy                         0.9796    705663\n",
      "   macro avg     0.9791    0.9791    0.9791    705663\n",
      "weighted avg     0.9796    0.9796    0.9796    705663\n",
      "\n"
     ]
    }
   ],
   "source": [
    "predictions = model_2.predict(X_test)\n",
    "predictions = np.where(predictions > 0.5, 1, 0)\n",
    "\n",
    "print('Matriz de Confusão')\n",
    "print(confusion_matrix(y_test,predictions))\n",
    "\n",
    "print('Relatório de Classificação')\n",
    "print(classification_report(y_test,predictions, digits=4))"
   ]
  },
  {
   "cell_type": "markdown",
   "id": "e7333b61-d8f7-464a-ba7b-b7059ef54c55",
   "metadata": {},
   "source": [
    "## Modelo 3"
   ]
  },
  {
   "cell_type": "code",
   "execution_count": 19,
   "id": "3315a3d5-8f6d-407b-9bb0-06742c482aba",
   "metadata": {},
   "outputs": [],
   "source": [
    "X_train = X_train.reshape(X_train.shape[0],X_train.shape[1],1)\n",
    "X_test = X_test.reshape(X_test.shape[0],X_test.shape[1],1)"
   ]
  },
  {
   "cell_type": "code",
   "execution_count": 20,
   "id": "924beb92-f818-44c2-8317-6d4a26f866a7",
   "metadata": {},
   "outputs": [
    {
     "name": "stdout",
     "output_type": "stream",
     "text": [
      "Model: \"sequential_1\"\n",
      "_________________________________________________________________\n",
      " Layer (type)                Output Shape              Param #   \n",
      "=================================================================\n",
      " conv1d_6 (Conv1D)           (None, 70, 500)           4000      \n",
      "                                                                 \n",
      " re_lu (ReLU)                (None, 70, 500)           0         \n",
      "                                                                 \n",
      " conv1d_7 (Conv1D)           (None, 70, 250)           750250    \n",
      "                                                                 \n",
      " re_lu_1 (ReLU)              (None, 70, 250)           0         \n",
      "                                                                 \n",
      " max_pooling1d (MaxPooling1  (None, 70, 250)           0         \n",
      " D)                                                              \n",
      "                                                                 \n",
      " conv1d_8 (Conv1D)           (None, 70, 120)           150120    \n",
      "                                                                 \n",
      " re_lu_2 (ReLU)              (None, 70, 120)           0         \n",
      "                                                                 \n",
      " conv1d_9 (Conv1D)           (None, 70, 60)            36060     \n",
      "                                                                 \n",
      " re_lu_3 (ReLU)              (None, 70, 60)            0         \n",
      "                                                                 \n",
      " max_pooling1d_1 (MaxPoolin  (None, 70, 60)            0         \n",
      " g1D)                                                            \n",
      "                                                                 \n",
      " conv1d_10 (Conv1D)          (None, 70, 30)            7230      \n",
      "                                                                 \n",
      " re_lu_4 (ReLU)              (None, 70, 30)            0         \n",
      "                                                                 \n",
      " conv1d_11 (Conv1D)          (None, 70, 30)            2730      \n",
      "                                                                 \n",
      " re_lu_5 (ReLU)              (None, 70, 30)            0         \n",
      "                                                                 \n",
      " max_pooling1d_2 (MaxPoolin  (None, 70, 30)            0         \n",
      " g1D)                                                            \n",
      "                                                                 \n",
      " flatten_1 (Flatten)         (None, 2100)              0         \n",
      "                                                                 \n",
      " dense_2 (Dense)             (None, 15)                31515     \n",
      "                                                                 \n",
      " dense_3 (Dense)             (None, 1)                 16        \n",
      "                                                                 \n",
      "=================================================================\n",
      "Total params: 981921 (3.75 MB)\n",
      "Trainable params: 981921 (3.75 MB)\n",
      "Non-trainable params: 0 (0.00 Byte)\n",
      "_________________________________________________________________\n"
     ]
    }
   ],
   "source": [
    "#Carregando hyperparâmetros de regularizadores, otimizador e função de ativação\n",
    "l1l2 = keras.regularizers.l1_l2(l1=0.00001, l2=0.0001)\n",
    "opt = keras.optimizers.Adam(learning_rate=0.0001)\n",
    "fx = \"relu\"\n",
    "\n",
    "#Estrutura do modelo convolucional profundo\n",
    "model_3 = tf.keras.Sequential([\n",
    "      \n",
    "        layers.Input(shape=(X_train.shape[1],X_train.shape[2])),\n",
    "    \n",
    "        layers.Conv1D(500, 7, activation=fx, activity_regularizer=l1l2, padding='same'),\n",
    "        layers.ReLU(),\n",
    "            \n",
    "        layers.Conv1D(250, 6, activation=fx, activity_regularizer=l1l2, padding='same'),\n",
    "        layers.ReLU(),\n",
    "        layers.MaxPooling1D(pool_size=6, strides=1, padding='same'),\n",
    "    \n",
    "        layers.Conv1D(120, 5, activation=fx, activity_regularizer=l1l2, padding='same'),\n",
    "        layers.ReLU(),\n",
    "    \n",
    "        layers.Conv1D(60, 5, activation=fx, activity_regularizer=l1l2, padding='same'),\n",
    "        layers.ReLU(),\n",
    "        layers.MaxPooling1D(pool_size=4, strides=1, padding='same'),\n",
    "    \n",
    "        layers.Conv1D(30, 4, activation=fx, activity_regularizer=l1l2, padding='same'),\n",
    "        layers.ReLU(),\n",
    "    \n",
    "        layers.Conv1D(30, 3, activation=fx, activity_regularizer=l1l2, padding='same'),\n",
    "        layers.ReLU(),\n",
    "        layers.MaxPooling1D(pool_size=3, strides=1, padding='same'),\n",
    "    \n",
    "        layers.Flatten(),\n",
    "        layers.Dense(15, activation=fx, activity_regularizer=l1l2),\n",
    "        layers.Dense(1, activation='sigmoid')])\n",
    "\n",
    "model_3.compile(optimizer = opt, loss = 'binary_crossentropy', metrics='accuracy')\n",
    "model_3.summary()"
   ]
  },
  {
   "cell_type": "code",
   "execution_count": 21,
   "id": "9c6e613d-c75f-4808-8036-26ef1d47c9a9",
   "metadata": {},
   "outputs": [],
   "source": [
    "best3 = tf.keras.callbacks.ModelCheckpoint(\n",
    "    filepath='best_model32',\n",
    "    save_weights_only=False,\n",
    "    monitor='val_accuracy',\n",
    "    mode='max',\n",
    "    save_best_only=True)"
   ]
  },
  {
   "cell_type": "code",
   "execution_count": 22,
   "id": "63c24956-4fc4-4a3f-8514-f14d5182b59f",
   "metadata": {},
   "outputs": [
    {
     "name": "stdout",
     "output_type": "stream",
     "text": [
      "Epoch 1/10\n",
      "7410/7410 [==============================] - ETA: 0s - loss: 0.5271 - accuracy: 0.8467"
     ]
    },
    {
     "name": "stderr",
     "output_type": "stream",
     "text": [
      "2024-04-10 16:43:21.613154: W tensorflow/tsl/framework/bfc_allocator.cc:296] Allocator (GPU_0_bfc) ran out of memory trying to allocate 5.53GiB with freed_by_count=0. The caller indicates that this is not a failure, but this may mean that there could be performance gains if more memory were available.\n"
     ]
    },
    {
     "name": "stdout",
     "output_type": "stream",
     "text": [
      "INFO:tensorflow:Assets written to: best_model32/assets\n"
     ]
    },
    {
     "name": "stderr",
     "output_type": "stream",
     "text": [
      "INFO:tensorflow:Assets written to: best_model32/assets\n"
     ]
    },
    {
     "name": "stdout",
     "output_type": "stream",
     "text": [
      "7410/7410 [==============================] - 260s 35ms/step - loss: 0.5271 - accuracy: 0.8467 - val_loss: 0.3144 - val_accuracy: 0.8697\n",
      "Epoch 2/10\n",
      "7409/7410 [============================>.] - ETA: 0s - loss: 0.2854 - accuracy: 0.8838INFO:tensorflow:Assets written to: best_model32/assets\n"
     ]
    },
    {
     "name": "stderr",
     "output_type": "stream",
     "text": [
      "INFO:tensorflow:Assets written to: best_model32/assets\n"
     ]
    },
    {
     "name": "stdout",
     "output_type": "stream",
     "text": [
      "7410/7410 [==============================] - 259s 35ms/step - loss: 0.2854 - accuracy: 0.8838 - val_loss: 0.2680 - val_accuracy: 0.8917\n",
      "Epoch 3/10\n",
      "7410/7410 [==============================] - 258s 35ms/step - loss: 0.2599 - accuracy: 0.8957 - val_loss: 0.2719 - val_accuracy: 0.8873\n",
      "Epoch 4/10\n",
      "7409/7410 [============================>.] - ETA: 0s - loss: 0.2466 - accuracy: 0.9014INFO:tensorflow:Assets written to: best_model32/assets\n"
     ]
    },
    {
     "name": "stderr",
     "output_type": "stream",
     "text": [
      "INFO:tensorflow:Assets written to: best_model32/assets\n"
     ]
    },
    {
     "name": "stdout",
     "output_type": "stream",
     "text": [
      "7410/7410 [==============================] - 259s 35ms/step - loss: 0.2466 - accuracy: 0.9014 - val_loss: 0.2437 - val_accuracy: 0.9024\n",
      "Epoch 5/10\n",
      "7409/7410 [============================>.] - ETA: 0s - loss: 0.2379 - accuracy: 0.9055INFO:tensorflow:Assets written to: best_model32/assets\n"
     ]
    },
    {
     "name": "stderr",
     "output_type": "stream",
     "text": [
      "INFO:tensorflow:Assets written to: best_model32/assets\n"
     ]
    },
    {
     "name": "stdout",
     "output_type": "stream",
     "text": [
      "7410/7410 [==============================] - 259s 35ms/step - loss: 0.2379 - accuracy: 0.9054 - val_loss: 0.2340 - val_accuracy: 0.9070\n",
      "Epoch 6/10\n",
      "7409/7410 [============================>.] - ETA: 0s - loss: 0.2304 - accuracy: 0.9089INFO:tensorflow:Assets written to: best_model32/assets\n"
     ]
    },
    {
     "name": "stderr",
     "output_type": "stream",
     "text": [
      "INFO:tensorflow:Assets written to: best_model32/assets\n"
     ]
    },
    {
     "name": "stdout",
     "output_type": "stream",
     "text": [
      "7410/7410 [==============================] - 259s 35ms/step - loss: 0.2304 - accuracy: 0.9089 - val_loss: 0.2278 - val_accuracy: 0.9095\n",
      "Epoch 7/10\n",
      "7410/7410 [==============================] - 257s 35ms/step - loss: 0.2242 - accuracy: 0.9116 - val_loss: 0.2302 - val_accuracy: 0.9084\n",
      "Epoch 8/10\n",
      "7409/7410 [============================>.] - ETA: 0s - loss: 0.2194 - accuracy: 0.9137INFO:tensorflow:Assets written to: best_model32/assets\n"
     ]
    },
    {
     "name": "stderr",
     "output_type": "stream",
     "text": [
      "INFO:tensorflow:Assets written to: best_model32/assets\n"
     ]
    },
    {
     "name": "stdout",
     "output_type": "stream",
     "text": [
      "7410/7410 [==============================] - 258s 35ms/step - loss: 0.2194 - accuracy: 0.9137 - val_loss: 0.2146 - val_accuracy: 0.9157\n",
      "Epoch 9/10\n",
      "7410/7410 [==============================] - 257s 35ms/step - loss: 0.2156 - accuracy: 0.9153 - val_loss: 0.2233 - val_accuracy: 0.9111\n",
      "Epoch 10/10\n",
      "7409/7410 [============================>.] - ETA: 0s - loss: 0.2111 - accuracy: 0.9172INFO:tensorflow:Assets written to: best_model32/assets\n"
     ]
    },
    {
     "name": "stderr",
     "output_type": "stream",
     "text": [
      "INFO:tensorflow:Assets written to: best_model32/assets\n"
     ]
    },
    {
     "name": "stdout",
     "output_type": "stream",
     "text": [
      "7410/7410 [==============================] - 260s 35ms/step - loss: 0.2111 - accuracy: 0.9172 - val_loss: 0.2104 - val_accuracy: 0.9172\n"
     ]
    },
    {
     "data": {
      "text/plain": [
       "<keras.src.callbacks.History at 0x7969b5ce7ee0>"
      ]
     },
     "execution_count": 22,
     "metadata": {},
     "output_type": "execute_result"
    }
   ],
   "source": [
    "model_3.fit(X_train, y_train,\n",
    "              epochs=10,\n",
    "              validation_split = 0.1,\n",
    "              callbacks = [best3],\n",
    "              batch_size=200)"
   ]
  },
  {
   "cell_type": "code",
   "execution_count": 23,
   "id": "d61b03ea-bba2-4760-a18f-c8e975e92cbe",
   "metadata": {},
   "outputs": [],
   "source": [
    "model_3 = tf.keras.models.load_model('best_model32')"
   ]
  },
  {
   "cell_type": "code",
   "execution_count": 24,
   "id": "1e3eb089-5b50-4dd7-9085-3c0745cfb649",
   "metadata": {},
   "outputs": [
    {
     "name": "stdout",
     "output_type": "stream",
     "text": [
      "22052/22052 [==============================] - 45s 2ms/step\n",
      "Matriz de Confusão\n",
      "[[270263  29410]\n",
      " [ 29148 376842]]\n",
      "Relatório de Classificação\n",
      "              precision    recall  f1-score   support\n",
      "\n",
      "           0     0.9026    0.9019    0.9023    299673\n",
      "           1     0.9276    0.9282    0.9279    405990\n",
      "\n",
      "    accuracy                         0.9170    705663\n",
      "   macro avg     0.9151    0.9150    0.9151    705663\n",
      "weighted avg     0.9170    0.9170    0.9170    705663\n",
      "\n"
     ]
    }
   ],
   "source": [
    "predictions = model_3.predict(X_test)\n",
    "predictions = np.where(predictions > 0.5, 1, 0)\n",
    "\n",
    "print('Matriz de Confusão')\n",
    "print(confusion_matrix(y_test,predictions))\n",
    "\n",
    "print('Relatório de Classificação')\n",
    "print(classification_report(y_test,predictions, digits=4))"
   ]
  },
  {
   "cell_type": "markdown",
   "id": "7840f8b1-4116-4c0a-a51a-3c736483774c",
   "metadata": {},
   "source": [
    "## Bilbo"
   ]
  },
  {
   "cell_type": "code",
   "execution_count": 14,
   "id": "7c63a9fd-c9de-426b-81a9-d39ed6005ef9",
   "metadata": {},
   "outputs": [],
   "source": [
    "MAX_INDEX = 70 # Max number of valid characters in a domain\n",
    "MAX_STRING_LENGTH = 63\n",
    "EMBEDDING_DIMENSION = 128\n",
    "NUM_CONV_FILTERS = 60\n",
    "\n",
    "#Carregando hyperparâmetros de regularizadores, otimizador e função de ativação\n",
    "l1l2 = keras.regularizers.l1_l2(l1=0.00001, l2=0.0001)\n",
    "opt = keras.optimizers.legacy.Adam(learning_rate=0.0001)\n",
    "fx = \"relu\""
   ]
  },
  {
   "cell_type": "code",
   "execution_count": 15,
   "id": "5861a019-5ef1-44a9-befd-83270bd68368",
   "metadata": {},
   "outputs": [
    {
     "name": "stdout",
     "output_type": "stream",
     "text": [
      "Model: \"model\"\n",
      "__________________________________________________________________________________________________\n",
      " Layer (type)                Output Shape                 Param #   Connected to                  \n",
      "==================================================================================================\n",
      " input (InputLayer)          [(None, 70)]                 0         []                            \n",
      "                                                                                                  \n",
      " embeddingCNN (Embedding)    (None, 70, 128)              8960      ['input[0][0]']               \n",
      "                                                                                                  \n",
      " conv2 (Conv1D)              (None, 69, 60)               15420     ['embeddingCNN[0][0]']        \n",
      "                                                                                                  \n",
      " conv3 (Conv1D)              (None, 68, 60)               23100     ['embeddingCNN[0][0]']        \n",
      "                                                                                                  \n",
      " conv4 (Conv1D)              (None, 67, 60)               30780     ['embeddingCNN[0][0]']        \n",
      "                                                                                                  \n",
      " conv5 (Conv1D)              (None, 66, 60)               38460     ['embeddingCNN[0][0]']        \n",
      "                                                                                                  \n",
      " conv6 (Conv1D)              (None, 65, 60)               46140     ['embeddingCNN[0][0]']        \n",
      "                                                                                                  \n",
      " pool2 (GlobalMaxPooling1D)  (None, 60)                   0         ['conv2[0][0]']               \n",
      "                                                                                                  \n",
      " pool3 (GlobalMaxPooling1D)  (None, 60)                   0         ['conv3[0][0]']               \n",
      "                                                                                                  \n",
      " pool4 (GlobalMaxPooling1D)  (None, 60)                   0         ['conv4[0][0]']               \n",
      "                                                                                                  \n",
      " pool5 (GlobalMaxPooling1D)  (None, 60)                   0         ['conv5[0][0]']               \n",
      "                                                                                                  \n",
      " pool6 (GlobalMaxPooling1D)  (None, 60)                   0         ['conv6[0][0]']               \n",
      "                                                                                                  \n",
      " concatenate (Concatenate)   (None, 300)                  0         ['pool2[0][0]',               \n",
      "                                                                     'pool3[0][0]',               \n",
      "                                                                     'pool4[0][0]',               \n",
      "                                                                     'pool5[0][0]',               \n",
      "                                                                     'pool6[0][0]']               \n",
      "                                                                                                  \n",
      " dropoutcnnmid (Dropout)     (None, 300)                  0         ['concatenate[0][0]']         \n",
      "                                                                                                  \n",
      " embeddingLSTM (Embedding)   (None, 70, 20)               5120      ['input[0][0]']               \n",
      "                                                                                                  \n",
      " densecnn (Dense)            (None, 60)                   18060     ['dropoutcnnmid[0][0]']       \n",
      "                                                                                                  \n",
      " lstm (LSTM)                 (None, 256)                  283648    ['embeddingLSTM[0][0]']       \n",
      "                                                                                                  \n",
      " dropoutcnn (Dropout)        (None, 60)                   0         ['densecnn[0][0]']            \n",
      "                                                                                                  \n",
      " dropoutlstm (Dropout)       (None, 256)                  0         ['lstm[0][0]']                \n",
      "                                                                                                  \n",
      " concatenate_1 (Concatenate  (None, 316)                  0         ['dropoutcnn[0][0]',          \n",
      " )                                                                   'dropoutlstm[0][0]']         \n",
      "                                                                                                  \n",
      " dropoutsemifinal (Dropout)  (None, 316)                  0         ['concatenate_1[0][0]']       \n",
      "                                                                                                  \n",
      " extradense (Dense)          (None, 100)                  31700     ['dropoutsemifinal[0][0]']    \n",
      "                                                                                                  \n",
      " dropoutfinal (Dropout)      (None, 100)                  0         ['extradense[0][0]']          \n",
      "                                                                                                  \n",
      " output (Dense)              (None, 1)                    101       ['dropoutfinal[0][0]']        \n",
      "                                                                                                  \n",
      "==================================================================================================\n",
      "Total params: 501489 (1.91 MB)\n",
      "Trainable params: 501489 (1.91 MB)\n",
      "Non-trainable params: 0 (0.00 Byte)\n",
      "__________________________________________________________________________________________________\n"
     ]
    }
   ],
   "source": [
    "input = layers.Input((70,), dtype='int32', name=\"input\")\n",
    "\n",
    "########################\n",
    "#          CNN         #\n",
    "########################\n",
    "\n",
    "embeddingCNN = layers.Embedding(\n",
    "                        output_dim=EMBEDDING_DIMENSION, \n",
    "                        input_dim=MAX_INDEX,\n",
    "                        input_length=MAX_STRING_LENGTH, \n",
    "                        name=\"embeddingCNN\")(input)\n",
    "\n",
    "# Parallel Convolutional Layer\n",
    "\n",
    "conv2 = layers.Conv1D(NUM_CONV_FILTERS, 2, name=\"conv2\") (embeddingCNN)\n",
    "\n",
    "conv3 = layers.Conv1D(NUM_CONV_FILTERS, 3, name=\"conv3\") (embeddingCNN)\n",
    "\n",
    "conv4 = layers.Conv1D(NUM_CONV_FILTERS, 4, name=\"conv4\") (embeddingCNN)\n",
    "\n",
    "conv5 = layers.Conv1D(NUM_CONV_FILTERS, 5, name=\"conv5\") (embeddingCNN)\n",
    "\n",
    "conv6 = layers.Conv1D(NUM_CONV_FILTERS, 6, name=\"conv6\") (embeddingCNN)\n",
    "\n",
    "# Global max pooling\n",
    "\n",
    "pool2 = layers.GlobalMaxPool1D(name=\"pool2\") (conv2)\n",
    "\n",
    "pool3 = layers.GlobalMaxPool1D(name=\"pool3\") (conv3)\n",
    "\n",
    "pool4 = layers.GlobalMaxPool1D(name=\"pool4\") (conv4)\n",
    "\n",
    "pool5 = layers.GlobalMaxPool1D(name=\"pool5\") (conv5)\n",
    "\n",
    "pool6 = layers.GlobalMaxPool1D(name=\"pool6\") (conv6)\n",
    "\n",
    "\n",
    "concatcnn = layers.Concatenate(axis=1)([pool2,pool3, pool4, pool5, pool6])\n",
    "\n",
    "\n",
    "dropoutcnnmid = layers.Dropout(0.5, name=\"dropoutcnnmid\")(concatcnn)\n",
    "\n",
    "densecnn = layers.Dense(NUM_CONV_FILTERS, activation=\"relu\",\n",
    "                        name=\"densecnn\")(dropoutcnnmid)\n",
    "\n",
    "dropoutcnn = layers.Dropout(0.5, name=\"dropoutcnn\") (densecnn)\n",
    "\n",
    "########################\n",
    "#         LSTM         #\n",
    "########################\n",
    "\n",
    "embeddingLSTM = layers.Embedding(output_dim=20, \n",
    "                             input_dim=256,\n",
    "                             input_length=MAX_STRING_LENGTH, \n",
    "                             name=\"embeddingLSTM\") (input)\n",
    "\n",
    "\n",
    "lstm = layers.LSTM(256, name=\"lstm\")(embeddingLSTM)\n",
    "\n",
    "dropoutlstm = layers.Dropout(0.5, name=\"dropoutlstm\") (lstm)\n",
    "\n",
    "########################\n",
    "#    Combine - ANN     #\n",
    "########################\n",
    "\n",
    "concat = layers.Concatenate(axis=-1)([dropoutcnn, dropoutlstm])\n",
    "\n",
    "dropoutsemifinal = layers.Dropout(0.5, name=\"dropoutsemifinal\") (concat)\n",
    "\n",
    "extradense = layers.Dense(100, activation='relu', \n",
    "                        name=\"extradense\") (dropoutsemifinal)\n",
    "\n",
    "dropoutfinal = layers.Dropout(0.5, name=\"dropoutfinal\") (extradense)\n",
    "\n",
    "output = layers.Dense(1, activation='sigmoid', name=\"output\") (dropoutfinal)\n",
    "\n",
    "model_bilbo = Model(input,output)\n",
    "\n",
    "model_bilbo.compile(optimizer = opt, loss = 'binary_crossentropy', metrics='accuracy')\n",
    "model_bilbo.summary()"
   ]
  },
  {
   "cell_type": "code",
   "execution_count": 16,
   "id": "99488a75-f5b2-446b-97df-e00c23eb38ff",
   "metadata": {},
   "outputs": [
    {
     "data": {
      "image/png": "[encoded data removed]",
      "text/plain": [
       "<IPython.core.display.Image object>"
      ]
     },
     "execution_count": 16,
     "metadata": {},
     "output_type": "execute_result"
    }
   ],
   "source": [
    "plot_model(model_bilbo, to_file='model_plot.png', show_shapes=True, show_layer_names=True)"
   ]
  },
  {
   "cell_type": "code",
   "execution_count": 17,
   "id": "1a811fbb-950c-4063-9b10-355e241fa82e",
   "metadata": {},
   "outputs": [],
   "source": [
    "best_bilbo = tf.keras.callbacks.ModelCheckpoint(\n",
    "    filepath='best_model_bilbo2',\n",
    "    save_weights_only=False,\n",
    "    monitor='val_accuracy',\n",
    "    mode='max',\n",
    "    save_best_only=True)"
   ]
  },
  {
   "cell_type": "code",
   "execution_count": 18,
   "id": "bde8d1a3-446d-4d1f-8bc7-678c552b2747",
   "metadata": {},
   "outputs": [
    {
     "name": "stdout",
     "output_type": "stream",
     "text": [
      "Epoch 1/10\n"
     ]
    },
    {
     "name": "stderr",
     "output_type": "stream",
     "text": [
      "2024-04-10 17:28:26.784830: I tensorflow/compiler/xla/stream_executor/cuda/cuda_dnn.cc:432] Loaded cuDNN version 8902\n",
      "2024-04-10 17:28:27.198949: I tensorflow/compiler/xla/stream_executor/cuda/cuda_blas.cc:606] TensorFloat-32 will be used for the matrix multiplication. This will only be logged once.\n",
      "2024-04-10 17:28:27.279435: W tensorflow/tsl/framework/bfc_allocator.cc:296] Allocator (GPU_0_bfc) ran out of memory trying to allocate 4.68GiB with freed_by_count=0. The caller indicates that this is not a failure, but this may mean that there could be performance gains if more memory were available.\n"
     ]
    },
    {
     "name": "stdout",
     "output_type": "stream",
     "text": [
      "   4/7410 [..............................] - ETA: 2:12 - loss: 0.6896 - accuracy: 0.5325   "
     ]
    },
    {
     "name": "stderr",
     "output_type": "stream",
     "text": [
      "2024-04-10 17:28:27.791127: W tensorflow/tsl/framework/bfc_allocator.cc:296] Allocator (GPU_0_bfc) ran out of memory trying to allocate 4.68GiB with freed_by_count=0. The caller indicates that this is not a failure, but this may mean that there could be performance gains if more memory were available.\n",
      "2024-04-10 17:28:27.911246: W tensorflow/tsl/framework/bfc_allocator.cc:296] Allocator (GPU_0_bfc) ran out of memory trying to allocate 4.68GiB with freed_by_count=0. The caller indicates that this is not a failure, but this may mean that there could be performance gains if more memory were available.\n"
     ]
    },
    {
     "name": "stdout",
     "output_type": "stream",
     "text": [
      "7410/7410 [==============================] - ETA: 0s - loss: 0.3194 - accuracy: 0.8495INFO:tensorflow:Assets written to: best_model_bilbo2/assets\n"
     ]
    },
    {
     "name": "stderr",
     "output_type": "stream",
     "text": [
      "INFO:tensorflow:Assets written to: best_model_bilbo2/assets\n"
     ]
    },
    {
     "name": "stdout",
     "output_type": "stream",
     "text": [
      "7410/7410 [==============================] - 146s 19ms/step - loss: 0.3194 - accuracy: 0.8495 - val_loss: 0.2319 - val_accuracy: 0.9045\n",
      "Epoch 2/10\n",
      "7408/7410 [============================>.] - ETA: 0s - loss: 0.2278 - accuracy: 0.9083INFO:tensorflow:Assets written to: best_model_bilbo2/assets\n"
     ]
    },
    {
     "name": "stderr",
     "output_type": "stream",
     "text": [
      "INFO:tensorflow:Assets written to: best_model_bilbo2/assets\n"
     ]
    },
    {
     "name": "stdout",
     "output_type": "stream",
     "text": [
      "7410/7410 [==============================] - 142s 19ms/step - loss: 0.2278 - accuracy: 0.9083 - val_loss: 0.1989 - val_accuracy: 0.9193\n",
      "Epoch 3/10\n",
      "7408/7410 [============================>.] - ETA: 0s - loss: 0.1940 - accuracy: 0.9236INFO:tensorflow:Assets written to: best_model_bilbo2/assets\n"
     ]
    },
    {
     "name": "stderr",
     "output_type": "stream",
     "text": [
      "INFO:tensorflow:Assets written to: best_model_bilbo2/assets\n"
     ]
    },
    {
     "name": "stdout",
     "output_type": "stream",
     "text": [
      "7410/7410 [==============================] - 142s 19ms/step - loss: 0.1940 - accuracy: 0.9236 - val_loss: 0.1742 - val_accuracy: 0.9311\n",
      "Epoch 4/10\n",
      "7408/7410 [============================>.] - ETA: 0s - loss: 0.1737 - accuracy: 0.9328INFO:tensorflow:Assets written to: best_model_bilbo2/assets\n"
     ]
    },
    {
     "name": "stderr",
     "output_type": "stream",
     "text": [
      "INFO:tensorflow:Assets written to: best_model_bilbo2/assets\n"
     ]
    },
    {
     "name": "stdout",
     "output_type": "stream",
     "text": [
      "7410/7410 [==============================] - 142s 19ms/step - loss: 0.1737 - accuracy: 0.9328 - val_loss: 0.1632 - val_accuracy: 0.9365\n",
      "Epoch 5/10\n",
      "7408/7410 [============================>.] - ETA: 0s - loss: 0.1600 - accuracy: 0.9385INFO:tensorflow:Assets written to: best_model_bilbo2/assets\n"
     ]
    },
    {
     "name": "stderr",
     "output_type": "stream",
     "text": [
      "INFO:tensorflow:Assets written to: best_model_bilbo2/assets\n"
     ]
    },
    {
     "name": "stdout",
     "output_type": "stream",
     "text": [
      "7410/7410 [==============================] - 141s 19ms/step - loss: 0.1599 - accuracy: 0.9385 - val_loss: 0.1482 - val_accuracy: 0.9428\n",
      "Epoch 6/10\n",
      "7408/7410 [============================>.] - ETA: 0s - loss: 0.1507 - accuracy: 0.9424INFO:tensorflow:Assets written to: best_model_bilbo2/assets\n"
     ]
    },
    {
     "name": "stderr",
     "output_type": "stream",
     "text": [
      "INFO:tensorflow:Assets written to: best_model_bilbo2/assets\n"
     ]
    },
    {
     "name": "stdout",
     "output_type": "stream",
     "text": [
      "7410/7410 [==============================] - 142s 19ms/step - loss: 0.1507 - accuracy: 0.9424 - val_loss: 0.1407 - val_accuracy: 0.9470\n",
      "Epoch 7/10\n",
      "7408/7410 [============================>.] - ETA: 0s - loss: 0.1420 - accuracy: 0.9460INFO:tensorflow:Assets written to: best_model_bilbo2/assets\n"
     ]
    },
    {
     "name": "stderr",
     "output_type": "stream",
     "text": [
      "INFO:tensorflow:Assets written to: best_model_bilbo2/assets\n"
     ]
    },
    {
     "name": "stdout",
     "output_type": "stream",
     "text": [
      "7410/7410 [==============================] - 142s 19ms/step - loss: 0.1420 - accuracy: 0.9460 - val_loss: 0.1313 - val_accuracy: 0.9495\n",
      "Epoch 8/10\n",
      "7408/7410 [============================>.] - ETA: 0s - loss: 0.1326 - accuracy: 0.9498INFO:tensorflow:Assets written to: best_model_bilbo2/assets\n"
     ]
    },
    {
     "name": "stderr",
     "output_type": "stream",
     "text": [
      "INFO:tensorflow:Assets written to: best_model_bilbo2/assets\n"
     ]
    },
    {
     "name": "stdout",
     "output_type": "stream",
     "text": [
      "7410/7410 [==============================] - 142s 19ms/step - loss: 0.1326 - accuracy: 0.9498 - val_loss: 0.1248 - val_accuracy: 0.9523\n",
      "Epoch 9/10\n",
      "7410/7410 [==============================] - 140s 19ms/step - loss: 0.1256 - accuracy: 0.9524 - val_loss: 0.1226 - val_accuracy: 0.9522\n",
      "Epoch 10/10\n",
      "7408/7410 [============================>.] - ETA: 0s - loss: 0.1196 - accuracy: 0.9549INFO:tensorflow:Assets written to: best_model_bilbo2/assets\n"
     ]
    },
    {
     "name": "stderr",
     "output_type": "stream",
     "text": [
      "INFO:tensorflow:Assets written to: best_model_bilbo2/assets\n"
     ]
    },
    {
     "name": "stdout",
     "output_type": "stream",
     "text": [
      "7410/7410 [==============================] - 141s 19ms/step - loss: 0.1196 - accuracy: 0.9549 - val_loss: 0.1156 - val_accuracy: 0.9560\n"
     ]
    },
    {
     "data": {
      "text/plain": [
       "<keras.src.callbacks.History at 0x7fef9cea4a90>"
      ]
     },
     "execution_count": 18,
     "metadata": {},
     "output_type": "execute_result"
    }
   ],
   "source": [
    "model_bilbo.fit(X_train, y_train,\n",
    "              epochs=10,\n",
    "              validation_split = 0.1,\n",
    "              callbacks = [best_bilbo],\n",
    "              batch_size=200)"
   ]
  },
  {
   "cell_type": "code",
   "execution_count": 19,
   "id": "3aece5a0-7b57-4fff-98b0-c4cf936a71fe",
   "metadata": {},
   "outputs": [],
   "source": [
    "model_bilbo = tf.keras.models.load_model('best_model_bilbo2')"
   ]
  },
  {
   "cell_type": "code",
   "execution_count": 20,
   "id": "5239d21e-704f-4a44-bd26-e8fc8bd41726",
   "metadata": {},
   "outputs": [
    {
     "name": "stdout",
     "output_type": "stream",
     "text": [
      "22052/22052 [==============================] - 48s 2ms/step\n",
      "Matriz de Confusão\n",
      "[[287131  12542]\n",
      " [ 18125 387865]]\n",
      "Relatório de Classificação\n",
      "              precision    recall  f1-score   support\n",
      "\n",
      "           0     0.9406    0.9581    0.9493    299673\n",
      "           1     0.9687    0.9554    0.9620    405990\n",
      "\n",
      "    accuracy                         0.9565    705663\n",
      "   macro avg     0.9547    0.9568    0.9556    705663\n",
      "weighted avg     0.9568    0.9565    0.9566    705663\n",
      "\n"
     ]
    }
   ],
   "source": [
    "predictions = model_bilbo.predict(X_test)\n",
    "predictions = np.where(predictions > 0.5, 1, 0)\n",
    "\n",
    "print('Matriz de Confusão')\n",
    "print(confusion_matrix(y_test,predictions))\n",
    "\n",
    "print('Relatório de Classificação')\n",
    "print(classification_report(y_test,predictions, digits=4))"
   ]
  },
  {
   "cell_type": "markdown",
   "id": "d0e4be4b-d79e-4131-8ea8-4a21fa71ec47",
   "metadata": {},
   "source": [
    "## Adversarial CNN+LSTM"
   ]
  },
  {
   "cell_type": "code",
   "execution_count": 21,
   "id": "3e8cd757-0e06-4f85-97b8-425f984683d0",
   "metadata": {},
   "outputs": [
    {
     "name": "stdout",
     "output_type": "stream",
     "text": [
      "Model: \"sequential\"\n",
      "_________________________________________________________________\n",
      " Layer (type)                Output Shape              Param #   \n",
      "=================================================================\n",
      " embedding (Embedding)       (None, 70, 60)            15360     \n",
      "                                                                 \n",
      " conv1d (Conv1D)             (None, 66, 64)            19264     \n",
      "                                                                 \n",
      " max_pooling1d (MaxPooling1  (None, 16, 64)            0         \n",
      " D)                                                              \n",
      "                                                                 \n",
      " lstm (LSTM)                 (None, 70)                37800     \n",
      "                                                                 \n",
      " dense (Dense)               (None, 1)                 71        \n",
      "                                                                 \n",
      " activation (Activation)     (None, 1)                 0         \n",
      "                                                                 \n",
      "=================================================================\n",
      "Total params: 72495 (283.18 KB)\n",
      "Trainable params: 72495 (283.18 KB)\n",
      "Non-trainable params: 0 (0.00 Byte)\n",
      "_________________________________________________________________\n"
     ]
    }
   ],
   "source": [
    "hidden_dims=128\n",
    "nb_filter = 64\n",
    "filter_length =5 \n",
    "embedding_vecor_length = 128\n",
    "pool_length=4\n",
    "lstm_output_size = 70\n",
    "\n",
    "\n",
    "\n",
    "model_cnn_lstm = tf.keras.Sequential()\n",
    "model_cnn_lstm.add(layers.Embedding(256, 60, input_length=70))\n",
    "model_cnn_lstm.add(layers.Conv1D(filters=nb_filter, kernel_size=filter_length, activation='relu'))\n",
    "model_cnn_lstm.add(layers.MaxPooling1D(pool_length))\n",
    "model_cnn_lstm.add(layers.LSTM(lstm_output_size))\n",
    "model_cnn_lstm.add(layers.Dense(1))\n",
    "model_cnn_lstm.add(layers.Activation('sigmoid'))\n",
    "\n",
    "model_cnn_lstm.compile(optimizer = opt, loss = 'binary_crossentropy', metrics='accuracy')\n",
    "model_cnn_lstm.summary()"
   ]
  },
  {
   "cell_type": "code",
   "execution_count": 22,
   "id": "9cb0ed7b-a4fb-4811-b134-0a99ec289e6e",
   "metadata": {},
   "outputs": [],
   "source": [
    "best_cnn_lstm = tf.keras.callbacks.ModelCheckpoint(\n",
    "    filepath='best_model_cnn_lstm2',\n",
    "    save_weights_only=False,\n",
    "    monitor='val_accuracy',\n",
    "    mode='max',\n",
    "    save_best_only=True)"
   ]
  },
  {
   "cell_type": "code",
   "execution_count": 23,
   "id": "92977199-fb06-4057-a7e6-7b0f7344832c",
   "metadata": {},
   "outputs": [
    {
     "name": "stdout",
     "output_type": "stream",
     "text": [
      "Epoch 1/10\n",
      "7410/7410 [==============================] - ETA: 0s - loss: 0.1494 - accuracy: 0.9421INFO:tensorflow:Assets written to: best_model_cnn_lstm2/assets\n"
     ]
    },
    {
     "name": "stderr",
     "output_type": "stream",
     "text": [
      "INFO:tensorflow:Assets written to: best_model_cnn_lstm2/assets\n"
     ]
    },
    {
     "name": "stdout",
     "output_type": "stream",
     "text": [
      "7410/7410 [==============================] - 30s 4ms/step - loss: 0.1494 - accuracy: 0.9421 - val_loss: 0.1181 - val_accuracy: 0.9554\n",
      "Epoch 2/10\n",
      "7398/7410 [============================>.] - ETA: 0s - loss: 0.1096 - accuracy: 0.9586INFO:tensorflow:Assets written to: best_model_cnn_lstm2/assets\n"
     ]
    },
    {
     "name": "stderr",
     "output_type": "stream",
     "text": [
      "INFO:tensorflow:Assets written to: best_model_cnn_lstm2/assets\n"
     ]
    },
    {
     "name": "stdout",
     "output_type": "stream",
     "text": [
      "7410/7410 [==============================] - 31s 4ms/step - loss: 0.1096 - accuracy: 0.9586 - val_loss: 0.1031 - val_accuracy: 0.9615\n",
      "Epoch 3/10\n",
      "7410/7410 [==============================] - ETA: 0s - loss: 0.0987 - accuracy: 0.9628INFO:tensorflow:Assets written to: best_model_cnn_lstm2/assets\n"
     ]
    },
    {
     "name": "stderr",
     "output_type": "stream",
     "text": [
      "INFO:tensorflow:Assets written to: best_model_cnn_lstm2/assets\n"
     ]
    },
    {
     "name": "stdout",
     "output_type": "stream",
     "text": [
      "7410/7410 [==============================] - 31s 4ms/step - loss: 0.0987 - accuracy: 0.9628 - val_loss: 0.0960 - val_accuracy: 0.9640\n",
      "Epoch 4/10\n",
      "7399/7410 [============================>.] - ETA: 0s - loss: 0.0930 - accuracy: 0.9648INFO:tensorflow:Assets written to: best_model_cnn_lstm2/assets\n"
     ]
    },
    {
     "name": "stderr",
     "output_type": "stream",
     "text": [
      "INFO:tensorflow:Assets written to: best_model_cnn_lstm2/assets\n"
     ]
    },
    {
     "name": "stdout",
     "output_type": "stream",
     "text": [
      "7410/7410 [==============================] - 30s 4ms/step - loss: 0.0930 - accuracy: 0.9648 - val_loss: 0.0916 - val_accuracy: 0.9655\n",
      "Epoch 5/10\n",
      "7410/7410 [==============================] - ETA: 0s - loss: 0.0895 - accuracy: 0.9661INFO:tensorflow:Assets written to: best_model_cnn_lstm2/assets\n"
     ]
    },
    {
     "name": "stderr",
     "output_type": "stream",
     "text": [
      "INFO:tensorflow:Assets written to: best_model_cnn_lstm2/assets\n"
     ]
    },
    {
     "name": "stdout",
     "output_type": "stream",
     "text": [
      "7410/7410 [==============================] - 30s 4ms/step - loss: 0.0895 - accuracy: 0.9661 - val_loss: 0.0903 - val_accuracy: 0.9660\n",
      "Epoch 6/10\n",
      "7409/7410 [============================>.] - ETA: 0s - loss: 0.0868 - accuracy: 0.9671INFO:tensorflow:Assets written to: best_model_cnn_lstm2/assets\n"
     ]
    },
    {
     "name": "stderr",
     "output_type": "stream",
     "text": [
      "INFO:tensorflow:Assets written to: best_model_cnn_lstm2/assets\n"
     ]
    },
    {
     "name": "stdout",
     "output_type": "stream",
     "text": [
      "7410/7410 [==============================] - 30s 4ms/step - loss: 0.0868 - accuracy: 0.9671 - val_loss: 0.0888 - val_accuracy: 0.9668\n",
      "Epoch 7/10\n",
      "7410/7410 [==============================] - ETA: 0s - loss: 0.0846 - accuracy: 0.9681INFO:tensorflow:Assets written to: best_model_cnn_lstm2/assets\n"
     ]
    },
    {
     "name": "stderr",
     "output_type": "stream",
     "text": [
      "INFO:tensorflow:Assets written to: best_model_cnn_lstm2/assets\n"
     ]
    },
    {
     "name": "stdout",
     "output_type": "stream",
     "text": [
      "7410/7410 [==============================] - 29s 4ms/step - loss: 0.0846 - accuracy: 0.9681 - val_loss: 0.0864 - val_accuracy: 0.9677\n",
      "Epoch 8/10\n",
      "7409/7410 [============================>.] - ETA: 0s - loss: 0.0828 - accuracy: 0.9687INFO:tensorflow:Assets written to: best_model_cnn_lstm2/assets\n"
     ]
    },
    {
     "name": "stderr",
     "output_type": "stream",
     "text": [
      "INFO:tensorflow:Assets written to: best_model_cnn_lstm2/assets\n"
     ]
    },
    {
     "name": "stdout",
     "output_type": "stream",
     "text": [
      "7410/7410 [==============================] - 31s 4ms/step - loss: 0.0828 - accuracy: 0.9687 - val_loss: 0.0852 - val_accuracy: 0.9683\n",
      "Epoch 9/10\n",
      "7410/7410 [==============================] - 31s 4ms/step - loss: 0.0811 - accuracy: 0.9693 - val_loss: 0.0862 - val_accuracy: 0.9675\n",
      "Epoch 10/10\n",
      "7403/7410 [============================>.] - ETA: 0s - loss: 0.0796 - accuracy: 0.9700INFO:tensorflow:Assets written to: best_model_cnn_lstm2/assets\n"
     ]
    },
    {
     "name": "stderr",
     "output_type": "stream",
     "text": [
      "INFO:tensorflow:Assets written to: best_model_cnn_lstm2/assets\n"
     ]
    },
    {
     "name": "stdout",
     "output_type": "stream",
     "text": [
      "7410/7410 [==============================] - 29s 4ms/step - loss: 0.0795 - accuracy: 0.9700 - val_loss: 0.0824 - val_accuracy: 0.9690\n"
     ]
    },
    {
     "data": {
      "text/plain": [
       "<keras.src.callbacks.History at 0x7fee087f6890>"
      ]
     },
     "execution_count": 23,
     "metadata": {},
     "output_type": "execute_result"
    }
   ],
   "source": [
    "model_cnn_lstm.fit(X_train, y_train,\n",
    "              epochs=10,\n",
    "              validation_split = 0.1,\n",
    "              callbacks = [best_cnn_lstm],\n",
    "              batch_size=200)"
   ]
  },
  {
   "cell_type": "code",
   "execution_count": 24,
   "id": "e7512e02-17ab-42ad-82b0-16e03683705e",
   "metadata": {},
   "outputs": [],
   "source": [
    "model_cnn_lstm = tf.keras.models.load_model('best_model_cnn_lstm2')"
   ]
  },
  {
   "cell_type": "code",
   "execution_count": 25,
   "id": "4797b502-507d-4642-b0fb-461b87e7bdad",
   "metadata": {},
   "outputs": [
    {
     "name": "stdout",
     "output_type": "stream",
     "text": [
      "22052/22052 [==============================] - 20s 903us/step\n",
      "Matriz de Confusão\n",
      "[[288260  11413]\n",
      " [ 10314 395676]]\n",
      "Relatório de Classificação\n",
      "              precision    recall  f1-score   support\n",
      "\n",
      "           0     0.9655    0.9619    0.9637    299673\n",
      "           1     0.9720    0.9746    0.9733    405990\n",
      "\n",
      "    accuracy                         0.9692    705663\n",
      "   macro avg     0.9687    0.9683    0.9685    705663\n",
      "weighted avg     0.9692    0.9692    0.9692    705663\n",
      "\n"
     ]
    }
   ],
   "source": [
    "predictions = model_cnn_lstm.predict(X_test)\n",
    "predictions = np.where(predictions > 0.5, 1, 0)\n",
    "\n",
    "print('Matriz de Confusão')\n",
    "print(confusion_matrix(y_test,predictions))\n",
    "\n",
    "print('Relatório de Classificação')\n",
    "print(classification_report(y_test,predictions, digits=4))"
   ]
  },
  {
   "cell_type": "markdown",
   "id": "c345a68d-0569-4437-952b-b698b3f0a86f",
   "metadata": {},
   "source": [
    "## Adversarial RNN"
   ]
  },
  {
   "cell_type": "code",
   "execution_count": 14,
   "id": "aa245e9d-e97c-4b41-b631-defcf068aec1",
   "metadata": {},
   "outputs": [
    {
     "name": "stdout",
     "output_type": "stream",
     "text": [
      "Model: \"sequential\"\n",
      "_________________________________________________________________\n",
      " Layer (type)                Output Shape              Param #   \n",
      "=================================================================\n",
      " embedding (Embedding)       (None, 70, 60)            15360     \n",
      "                                                                 \n",
      " simple_rnn (SimpleRNN)      (None, 128)               24192     \n",
      "                                                                 \n",
      " dropout (Dropout)           (None, 128)               0         \n",
      "                                                                 \n",
      " dense (Dense)               (None, 1)                 129       \n",
      "                                                                 \n",
      " activation (Activation)     (None, 1)                 0         \n",
      "                                                                 \n",
      "=================================================================\n",
      "Total params: 39681 (155.00 KB)\n",
      "Trainable params: 39681 (155.00 KB)\n",
      "Non-trainable params: 0 (0.00 Byte)\n",
      "_________________________________________________________________\n"
     ]
    }
   ],
   "source": [
    "model_rnn = tf.keras.Sequential()\n",
    "model_rnn.add(layers.Embedding(256, 60, input_length=70))\n",
    "model_rnn.add(layers.SimpleRNN(128))\n",
    "model_rnn.add(layers.Dropout(0.1))\n",
    "model_rnn.add(layers.Dense(1))\n",
    "model_rnn.add(layers.Activation('sigmoid'))\n",
    "\n",
    "\n",
    "model_rnn.compile(optimizer = opt, loss = 'binary_crossentropy', metrics='accuracy')\n",
    "model_rnn.summary()"
   ]
  },
  {
   "cell_type": "code",
   "execution_count": 15,
   "id": "d6e96eae-2421-4c34-9202-5a19b154dc31",
   "metadata": {},
   "outputs": [],
   "source": [
    "best_rnn = tf.keras.callbacks.ModelCheckpoint(\n",
    "    filepath='best_model_rnn2',\n",
    "    save_weights_only=False,\n",
    "    monitor='val_accuracy',\n",
    "    mode='max',\n",
    "    save_best_only=True)"
   ]
  },
  {
   "cell_type": "code",
   "execution_count": 16,
   "id": "6a556cb8-90ea-4f0e-9700-a11b0c53e56c",
   "metadata": {},
   "outputs": [
    {
     "name": "stdout",
     "output_type": "stream",
     "text": [
      "Epoch 1/10\n"
     ]
    },
    {
     "name": "stderr",
     "output_type": "stream",
     "text": [
      "2024-04-10 18:06:12.645956: I tensorflow/compiler/xla/stream_executor/cuda/cuda_blas.cc:606] TensorFloat-32 will be used for the matrix multiplication. This will only be logged once.\n",
      "2024-04-10 18:06:12.656604: I tensorflow/compiler/xla/service/service.cc:168] XLA service 0x79d9700039e0 initialized for platform CUDA (this does not guarantee that XLA will be used). Devices:\n",
      "2024-04-10 18:06:12.656620: I tensorflow/compiler/xla/service/service.cc:176]   StreamExecutor device (0): NVIDIA GeForce RTX 3050 Laptop GPU, Compute Capability 8.6\n",
      "2024-04-10 18:06:12.660373: I tensorflow/compiler/mlir/tensorflow/utils/dump_mlir_util.cc:255] disabling MLIR crash reproducer, set env var `MLIR_CRASH_REPRODUCER_DIRECTORY` to enable.\n",
      "2024-04-10 18:06:12.670359: I tensorflow/compiler/xla/stream_executor/cuda/cuda_dnn.cc:432] Loaded cuDNN version 8902\n",
      "2024-04-10 18:06:12.744497: I ./tensorflow/compiler/jit/device_compiler.h:186] Compiled cluster using XLA!  This line is logged at most once for the lifetime of the process.\n"
     ]
    },
    {
     "name": "stdout",
     "output_type": "stream",
     "text": [
      "7408/7410 [============================>.] - ETA: 0s - loss: 0.2137 - accuracy: 0.9162INFO:tensorflow:Assets written to: best_model_rnn2/assets\n"
     ]
    },
    {
     "name": "stderr",
     "output_type": "stream",
     "text": [
      "INFO:tensorflow:Assets written to: best_model_rnn2/assets\n"
     ]
    },
    {
     "name": "stdout",
     "output_type": "stream",
     "text": [
      "7410/7410 [==============================] - 142s 19ms/step - loss: 0.2137 - accuracy: 0.9162 - val_loss: 0.1720 - val_accuracy: 0.9331\n",
      "Epoch 2/10\n",
      "7409/7410 [============================>.] - ETA: 0s - loss: 0.1583 - accuracy: 0.9394INFO:tensorflow:Assets written to: best_model_rnn2/assets\n"
     ]
    },
    {
     "name": "stderr",
     "output_type": "stream",
     "text": [
      "INFO:tensorflow:Assets written to: best_model_rnn2/assets\n"
     ]
    },
    {
     "name": "stdout",
     "output_type": "stream",
     "text": [
      "7410/7410 [==============================] - 137s 19ms/step - loss: 0.1583 - accuracy: 0.9394 - val_loss: 0.1417 - val_accuracy: 0.9460\n",
      "Epoch 3/10\n",
      "7408/7410 [============================>.] - ETA: 0s - loss: 0.1402 - accuracy: 0.9469INFO:tensorflow:Assets written to: best_model_rnn2/assets\n"
     ]
    },
    {
     "name": "stderr",
     "output_type": "stream",
     "text": [
      "INFO:tensorflow:Assets written to: best_model_rnn2/assets\n"
     ]
    },
    {
     "name": "stdout",
     "output_type": "stream",
     "text": [
      "7410/7410 [==============================] - 132s 18ms/step - loss: 0.1402 - accuracy: 0.9469 - val_loss: 0.1308 - val_accuracy: 0.9511\n",
      "Epoch 4/10\n",
      "7410/7410 [==============================] - 131s 18ms/step - loss: 0.1299 - accuracy: 0.9509 - val_loss: 0.1298 - val_accuracy: 0.9510\n",
      "Epoch 5/10\n",
      "7408/7410 [============================>.] - ETA: 0s - loss: 0.1233 - accuracy: 0.9536INFO:tensorflow:Assets written to: best_model_rnn2/assets\n"
     ]
    },
    {
     "name": "stderr",
     "output_type": "stream",
     "text": [
      "INFO:tensorflow:Assets written to: best_model_rnn2/assets\n"
     ]
    },
    {
     "name": "stdout",
     "output_type": "stream",
     "text": [
      "7410/7410 [==============================] - 132s 18ms/step - loss: 0.1233 - accuracy: 0.9537 - val_loss: 0.1242 - val_accuracy: 0.9545\n",
      "Epoch 6/10\n",
      "7408/7410 [============================>.] - ETA: 0s - loss: 0.1182 - accuracy: 0.9557INFO:tensorflow:Assets written to: best_model_rnn2/assets\n"
     ]
    },
    {
     "name": "stderr",
     "output_type": "stream",
     "text": [
      "INFO:tensorflow:Assets written to: best_model_rnn2/assets\n"
     ]
    },
    {
     "name": "stdout",
     "output_type": "stream",
     "text": [
      "7410/7410 [==============================] - 132s 18ms/step - loss: 0.1182 - accuracy: 0.9557 - val_loss: 0.1162 - val_accuracy: 0.9562\n",
      "Epoch 7/10\n",
      "7407/7410 [============================>.] - ETA: 0s - loss: 0.1145 - accuracy: 0.9572INFO:tensorflow:Assets written to: best_model_rnn2/assets\n"
     ]
    },
    {
     "name": "stderr",
     "output_type": "stream",
     "text": [
      "INFO:tensorflow:Assets written to: best_model_rnn2/assets\n"
     ]
    },
    {
     "name": "stdout",
     "output_type": "stream",
     "text": [
      "7410/7410 [==============================] - 132s 18ms/step - loss: 0.1145 - accuracy: 0.9572 - val_loss: 0.1097 - val_accuracy: 0.9586\n",
      "Epoch 8/10\n",
      "7410/7410 [==============================] - 132s 18ms/step - loss: 0.1113 - accuracy: 0.9584 - val_loss: 0.1104 - val_accuracy: 0.9585\n",
      "Epoch 9/10\n",
      "7408/7410 [============================>.] - ETA: 0s - loss: 0.1090 - accuracy: 0.9593INFO:tensorflow:Assets written to: best_model_rnn2/assets\n"
     ]
    },
    {
     "name": "stderr",
     "output_type": "stream",
     "text": [
      "INFO:tensorflow:Assets written to: best_model_rnn2/assets\n"
     ]
    },
    {
     "name": "stdout",
     "output_type": "stream",
     "text": [
      "7410/7410 [==============================] - 132s 18ms/step - loss: 0.1090 - accuracy: 0.9593 - val_loss: 0.1097 - val_accuracy: 0.9588\n",
      "Epoch 10/10\n",
      "7410/7410 [==============================] - ETA: 0s - loss: 0.1067 - accuracy: 0.9602INFO:tensorflow:Assets written to: best_model_rnn2/assets\n"
     ]
    },
    {
     "name": "stderr",
     "output_type": "stream",
     "text": [
      "INFO:tensorflow:Assets written to: best_model_rnn2/assets\n"
     ]
    },
    {
     "name": "stdout",
     "output_type": "stream",
     "text": [
      "7410/7410 [==============================] - 132s 18ms/step - loss: 0.1067 - accuracy: 0.9602 - val_loss: 0.1053 - val_accuracy: 0.9604\n"
     ]
    },
    {
     "data": {
      "text/plain": [
       "<keras.src.callbacks.History at 0x79dbb6148b50>"
      ]
     },
     "execution_count": 16,
     "metadata": {},
     "output_type": "execute_result"
    }
   ],
   "source": [
    "model_rnn.fit(X_train, y_train,\n",
    "              epochs=10,\n",
    "              validation_split = 0.1,\n",
    "              callbacks = [best_rnn],\n",
    "              batch_size=200)"
   ]
  },
  {
   "cell_type": "code",
   "execution_count": 17,
   "id": "3d9f6997-26c9-4652-a0c4-28f1cbca46eb",
   "metadata": {},
   "outputs": [],
   "source": [
    "model_rnn = tf.keras.models.load_model('best_model_rnn2')"
   ]
  },
  {
   "cell_type": "code",
   "execution_count": 18,
   "id": "5a136c71-596a-43f3-a0c0-2deea09953e7",
   "metadata": {},
   "outputs": [
    {
     "name": "stdout",
     "output_type": "stream",
     "text": [
      "22052/22052 [==============================] - 87s 4ms/step\n",
      "Matriz de Confusão\n",
      "[[286243  13430]\n",
      " [ 14073 391917]]\n",
      "Relatório de Classificação\n",
      "              precision    recall  f1-score   support\n",
      "\n",
      "           0     0.9531    0.9552    0.9542    299673\n",
      "           1     0.9669    0.9653    0.9661    405990\n",
      "\n",
      "    accuracy                         0.9610    705663\n",
      "   macro avg     0.9600    0.9603    0.9601    705663\n",
      "weighted avg     0.9610    0.9610    0.9610    705663\n",
      "\n"
     ]
    }
   ],
   "source": [
    "predictions = model_rnn.predict(X_test)\n",
    "predictions = np.where(predictions > 0.5, 1, 0)\n",
    "\n",
    "print('Matriz de Confusão')\n",
    "print(confusion_matrix(y_test,predictions))\n",
    "\n",
    "print('Relatório de Classificação')\n",
    "print(classification_report(y_test,predictions, digits=4))"
   ]
  },
  {
   "cell_type": "markdown",
   "id": "82f9022e-8d2f-4913-bc54-38a6c922285e",
   "metadata": {},
   "source": [
    "## Adversarial CNN"
   ]
  },
  {
   "cell_type": "code",
   "execution_count": 19,
   "id": "408ab659-6ffb-46b8-a442-1c8c395f120f",
   "metadata": {},
   "outputs": [
    {
     "name": "stdout",
     "output_type": "stream",
     "text": [
      "Model: \"sequential_1\"\n",
      "_________________________________________________________________\n",
      " Layer (type)                Output Shape              Param #   \n",
      "=================================================================\n",
      " embedding_1 (Embedding)     (None, 70, 60)            15360     \n",
      "                                                                 \n",
      " conv1d (Conv1D)             (None, 66, 64)            19264     \n",
      "                                                                 \n",
      " global_max_pooling1d (Glob  (None, 64)                0         \n",
      " alMaxPooling1D)                                                 \n",
      "                                                                 \n",
      " dense_1 (Dense)             (None, 128)               8320      \n",
      "                                                                 \n",
      " dropout_1 (Dropout)         (None, 128)               0         \n",
      "                                                                 \n",
      " activation_1 (Activation)   (None, 128)               0         \n",
      "                                                                 \n",
      " dense_2 (Dense)             (None, 1)                 129       \n",
      "                                                                 \n",
      " activation_2 (Activation)   (None, 1)                 0         \n",
      "                                                                 \n",
      "=================================================================\n",
      "Total params: 43073 (168.25 KB)\n",
      "Trainable params: 43073 (168.25 KB)\n",
      "Non-trainable params: 0 (0.00 Byte)\n",
      "_________________________________________________________________\n"
     ]
    }
   ],
   "source": [
    "#Carregando hyperparâmetros de regularizadores, otimizador e função de ativação\n",
    "l1l2 = keras.regularizers.l1_l2(l1=0.00001, l2=0.0001)\n",
    "opt = keras.optimizers.legacy.Adam(learning_rate=0.0001)\n",
    "fx = \"relu\"\n",
    "\n",
    "hidden_dims=128\n",
    "nb_filter = 64\n",
    "filter_length =5 \n",
    "embedding_vecor_length = 128\n",
    "pool_length=4\n",
    "lstm_output_size = 70\n",
    "\n",
    "model_cnn = tf.keras.Sequential()\n",
    "model_cnn.add(layers.Embedding(256, 60, input_length=70))\n",
    "model_cnn.add(layers.Conv1D(filters=nb_filter, kernel_size=filter_length, activation='relu'))\n",
    "model_cnn.add(layers.GlobalMaxPooling1D())\n",
    "model_cnn.add(layers.Dense(hidden_dims))\n",
    "model_cnn.add(layers.Dropout(0.2))\n",
    "model_cnn.add(layers.Activation('relu'))\n",
    "model_cnn.add(layers.Dense(1))\n",
    "model_cnn.add(layers.Activation('sigmoid'))\n",
    "\n",
    "model_cnn.compile(optimizer = opt, loss = 'binary_crossentropy', metrics='accuracy')\n",
    "model_cnn.summary()"
   ]
  },
  {
   "cell_type": "code",
   "execution_count": 20,
   "id": "eba98469-3854-4804-a9cd-31bee3f8b9af",
   "metadata": {},
   "outputs": [],
   "source": [
    "best_cnn = tf.keras.callbacks.ModelCheckpoint(\n",
    "    filepath='best_model_cnn2',\n",
    "    save_weights_only=False,\n",
    "    monitor='val_accuracy',\n",
    "    mode='max',\n",
    "    save_best_only=True)"
   ]
  },
  {
   "cell_type": "code",
   "execution_count": 21,
   "id": "fd4df754-4526-400e-8360-30f7208456e5",
   "metadata": {},
   "outputs": [
    {
     "name": "stdout",
     "output_type": "stream",
     "text": [
      "Epoch 1/10\n",
      "7410/7410 [==============================] - ETA: 0s - loss: 0.2176 - accuracy: 0.9103INFO:tensorflow:Assets written to: best_model_cnn2/assets\n"
     ]
    },
    {
     "name": "stderr",
     "output_type": "stream",
     "text": [
      "INFO:tensorflow:Assets written to: best_model_cnn2/assets\n"
     ]
    },
    {
     "name": "stdout",
     "output_type": "stream",
     "text": [
      "7410/7410 [==============================] - 18s 2ms/step - loss: 0.2176 - accuracy: 0.9103 - val_loss: 0.1539 - val_accuracy: 0.9385\n",
      "Epoch 2/10\n",
      "7391/7410 [============================>.] - ETA: 0s - loss: 0.1399 - accuracy: 0.9443INFO:tensorflow:Assets written to: best_model_cnn2/assets\n"
     ]
    },
    {
     "name": "stderr",
     "output_type": "stream",
     "text": [
      "INFO:tensorflow:Assets written to: best_model_cnn2/assets\n"
     ]
    },
    {
     "name": "stdout",
     "output_type": "stream",
     "text": [
      "7410/7410 [==============================] - 17s 2ms/step - loss: 0.1399 - accuracy: 0.9443 - val_loss: 0.1314 - val_accuracy: 0.9470\n",
      "Epoch 3/10\n",
      "7400/7410 [============================>.] - ETA: 0s - loss: 0.1235 - accuracy: 0.9508INFO:tensorflow:Assets written to: best_model_cnn2/assets\n"
     ]
    },
    {
     "name": "stderr",
     "output_type": "stream",
     "text": [
      "INFO:tensorflow:Assets written to: best_model_cnn2/assets\n"
     ]
    },
    {
     "name": "stdout",
     "output_type": "stream",
     "text": [
      "7410/7410 [==============================] - 17s 2ms/step - loss: 0.1235 - accuracy: 0.9508 - val_loss: 0.1193 - val_accuracy: 0.9521\n",
      "Epoch 4/10\n",
      "7407/7410 [============================>.] - ETA: 0s - loss: 0.1148 - accuracy: 0.9543INFO:tensorflow:Assets written to: best_model_cnn2/assets\n"
     ]
    },
    {
     "name": "stderr",
     "output_type": "stream",
     "text": [
      "INFO:tensorflow:Assets written to: best_model_cnn2/assets\n"
     ]
    },
    {
     "name": "stdout",
     "output_type": "stream",
     "text": [
      "7410/7410 [==============================] - 17s 2ms/step - loss: 0.1148 - accuracy: 0.9543 - val_loss: 0.1130 - val_accuracy: 0.9551\n",
      "Epoch 5/10\n",
      "7401/7410 [============================>.] - ETA: 0s - loss: 0.1092 - accuracy: 0.9568INFO:tensorflow:Assets written to: best_model_cnn2/assets\n"
     ]
    },
    {
     "name": "stderr",
     "output_type": "stream",
     "text": [
      "INFO:tensorflow:Assets written to: best_model_cnn2/assets\n"
     ]
    },
    {
     "name": "stdout",
     "output_type": "stream",
     "text": [
      "7410/7410 [==============================] - 17s 2ms/step - loss: 0.1092 - accuracy: 0.9568 - val_loss: 0.1089 - val_accuracy: 0.9564\n",
      "Epoch 6/10\n",
      "7396/7410 [============================>.] - ETA: 0s - loss: 0.1052 - accuracy: 0.9583INFO:tensorflow:Assets written to: best_model_cnn2/assets\n"
     ]
    },
    {
     "name": "stderr",
     "output_type": "stream",
     "text": [
      "INFO:tensorflow:Assets written to: best_model_cnn2/assets\n"
     ]
    },
    {
     "name": "stdout",
     "output_type": "stream",
     "text": [
      "7410/7410 [==============================] - 17s 2ms/step - loss: 0.1052 - accuracy: 0.9583 - val_loss: 0.1056 - val_accuracy: 0.9579\n",
      "Epoch 7/10\n",
      "7390/7410 [============================>.] - ETA: 0s - loss: 0.1020 - accuracy: 0.9595INFO:tensorflow:Assets written to: best_model_cnn2/assets\n"
     ]
    },
    {
     "name": "stderr",
     "output_type": "stream",
     "text": [
      "INFO:tensorflow:Assets written to: best_model_cnn2/assets\n"
     ]
    },
    {
     "name": "stdout",
     "output_type": "stream",
     "text": [
      "7410/7410 [==============================] - 17s 2ms/step - loss: 0.1021 - accuracy: 0.9595 - val_loss: 0.1035 - val_accuracy: 0.9590\n",
      "Epoch 8/10\n",
      "7405/7410 [============================>.] - ETA: 0s - loss: 0.0995 - accuracy: 0.9608INFO:tensorflow:Assets written to: best_model_cnn2/assets\n"
     ]
    },
    {
     "name": "stderr",
     "output_type": "stream",
     "text": [
      "INFO:tensorflow:Assets written to: best_model_cnn2/assets\n"
     ]
    },
    {
     "name": "stdout",
     "output_type": "stream",
     "text": [
      "7410/7410 [==============================] - 17s 2ms/step - loss: 0.0995 - accuracy: 0.9608 - val_loss: 0.1008 - val_accuracy: 0.9601\n",
      "Epoch 9/10\n",
      "7400/7410 [============================>.] - ETA: 0s - loss: 0.0973 - accuracy: 0.9616INFO:tensorflow:Assets written to: best_model_cnn2/assets\n"
     ]
    },
    {
     "name": "stderr",
     "output_type": "stream",
     "text": [
      "INFO:tensorflow:Assets written to: best_model_cnn2/assets\n"
     ]
    },
    {
     "name": "stdout",
     "output_type": "stream",
     "text": [
      "7410/7410 [==============================] - 17s 2ms/step - loss: 0.0973 - accuracy: 0.9616 - val_loss: 0.1004 - val_accuracy: 0.9604\n",
      "Epoch 10/10\n",
      "7410/7410 [==============================] - 17s 2ms/step - loss: 0.0954 - accuracy: 0.9625 - val_loss: 0.0999 - val_accuracy: 0.9604\n"
     ]
    },
    {
     "data": {
      "text/plain": [
       "<keras.src.callbacks.History at 0x79d9807c70d0>"
      ]
     },
     "execution_count": 21,
     "metadata": {},
     "output_type": "execute_result"
    }
   ],
   "source": [
    "model_cnn.fit(X_train, y_train,\n",
    "              epochs=10,\n",
    "              validation_split = 0.1,\n",
    "              callbacks = [best_cnn],\n",
    "              batch_size=200)"
   ]
  },
  {
   "cell_type": "code",
   "execution_count": 22,
   "id": "1e5716c0-b7f3-4407-9300-98a6f936d252",
   "metadata": {},
   "outputs": [],
   "source": [
    "model_cnn = tf.keras.models.load_model('best_model_cnn2')"
   ]
  },
  {
   "cell_type": "code",
   "execution_count": 23,
   "id": "bf2e126c-8ad9-404b-8e51-451cf155c40c",
   "metadata": {},
   "outputs": [
    {
     "name": "stdout",
     "output_type": "stream",
     "text": [
      "22052/22052 [==============================] - 13s 574us/step\n",
      "Matriz de Confusão\n",
      "[[283956  15717]\n",
      " [ 11939 394051]]\n",
      "Relatório de Classificação\n",
      "              precision    recall  f1-score   support\n",
      "\n",
      "           0     0.9597    0.9476    0.9536    299673\n",
      "           1     0.9616    0.9706    0.9661    405990\n",
      "\n",
      "    accuracy                         0.9608    705663\n",
      "   macro avg     0.9606    0.9591    0.9598    705663\n",
      "weighted avg     0.9608    0.9608    0.9608    705663\n",
      "\n"
     ]
    }
   ],
   "source": [
    "predictions = model_cnn.predict(X_test)\n",
    "predictions = np.where(predictions > 0.5, 1, 0)\n",
    "\n",
    "print('Matriz de Confusão')\n",
    "print(confusion_matrix(y_test,predictions))\n",
    "\n",
    "print('Relatório de Classificação')\n",
    "print(classification_report(y_test,predictions, digits=4))"
   ]
  },
  {
   "cell_type": "markdown",
   "id": "799bf26d-c07a-409e-b3dd-946d24d9c079",
   "metadata": {},
   "source": [
    "## DistilBERT Tokenizer + DNN"
   ]
  },
  {
   "cell_type": "code",
   "execution_count": 10,
   "id": "95e14668-d617-4ce1-8571-99aa64ce001c",
   "metadata": {},
   "outputs": [
    {
     "name": "stdout",
     "output_type": "stream",
     "text": [
      "Num GPUs Available:  1\n"
     ]
    },
    {
     "name": "stderr",
     "output_type": "stream",
     "text": [
      "2024-04-13 14:35:18.702809: I tensorflow/compiler/xla/stream_executor/cuda/cuda_gpu_executor.cc:995] successful NUMA node read from SysFS had negative value (-1), but there must be at least one NUMA node, so returning NUMA node zero. See more at https://github.com/torvalds/linux/blob/v6.0/Documentation/ABI/testing/sysfs-bus-pci#L344-L355\n",
      "2024-04-13 14:35:18.748404: I tensorflow/compiler/xla/stream_executor/cuda/cuda_gpu_executor.cc:995] successful NUMA node read from SysFS had negative value (-1), but there must be at least one NUMA node, so returning NUMA node zero. See more at https://github.com/torvalds/linux/blob/v6.0/Documentation/ABI/testing/sysfs-bus-pci#L344-L355\n",
      "2024-04-13 14:35:18.748556: I tensorflow/compiler/xla/stream_executor/cuda/cuda_gpu_executor.cc:995] successful NUMA node read from SysFS had negative value (-1), but there must be at least one NUMA node, so returning NUMA node zero. See more at https://github.com/torvalds/linux/blob/v6.0/Documentation/ABI/testing/sysfs-bus-pci#L344-L355\n"
     ]
    }
   ],
   "source": [
    "print(\"Num GPUs Available: \", len(tf.config.list_physical_devices('GPU')))"
   ]
  },
  {
   "cell_type": "code",
   "execution_count": 11,
   "id": "7881e841-6a84-4c29-9933-a824648bbbbb",
   "metadata": {},
   "outputs": [],
   "source": [
    "df_test = df_test.reset_index(drop=True)\n",
    "df_train = df_train.reset_index(drop=True)"
   ]
  },
  {
   "cell_type": "code",
   "execution_count": 12,
   "id": "e2a3eafc-c912-4198-9d23-3bfb478df48d",
   "metadata": {},
   "outputs": [],
   "source": [
    "import transformers\n",
    "tokenizer = transformers.DistilBertTokenizer.from_pretrained('distilbert-base-uncased')"
   ]
  },
  {
   "cell_type": "code",
   "execution_count": 13,
   "id": "a8d699fb-f946-407a-82bc-5f293247004e",
   "metadata": {},
   "outputs": [],
   "source": [
    "X_train = df_train['domain']\n",
    "y_train = df_train['label']\n",
    "y_train = y_train.to_numpy()"
   ]
  },
  {
   "cell_type": "code",
   "execution_count": 14,
   "id": "c8b2bc63-9573-49ea-8cb7-5a18532f907a",
   "metadata": {},
   "outputs": [],
   "source": [
    "X_test = df_test['domain']\n",
    "y_test = df_test['label']\n",
    "y_test = y_test.to_numpy()"
   ]
  },
  {
   "cell_type": "code",
   "execution_count": 15,
   "id": "eb6c2468-a812-4e49-a6cd-249d1b5a718d",
   "metadata": {},
   "outputs": [],
   "source": [
    "X_train_tk = [tokenizer(text, padding='max_length', max_length = 10, truncation=True)['input_ids'] for text in X_train]\n",
    "X_train_tk = np.array(X_train_tk, dtype='int32')"
   ]
  },
  {
   "cell_type": "code",
   "execution_count": 16,
   "id": "1b78d719-74a3-40ae-af9c-b523481ae9f4",
   "metadata": {},
   "outputs": [],
   "source": [
    "X_test_tk = [tokenizer(text, padding='max_length', max_length = 10, truncation=True)['input_ids'] for text in X_test]\n",
    "X_test_tk = np.array(X_test_tk, dtype='int32')"
   ]
  },
  {
   "cell_type": "code",
   "execution_count": 17,
   "id": "5cbedf50-7168-44d8-9c07-d938310158ab",
   "metadata": {},
   "outputs": [
    {
     "name": "stderr",
     "output_type": "stream",
     "text": [
      "2024-04-13 14:40:19.545722: I tensorflow/compiler/xla/stream_executor/cuda/cuda_gpu_executor.cc:995] successful NUMA node read from SysFS had negative value (-1), but there must be at least one NUMA node, so returning NUMA node zero. See more at https://github.com/torvalds/linux/blob/v6.0/Documentation/ABI/testing/sysfs-bus-pci#L344-L355\n",
      "2024-04-13 14:40:19.546217: I tensorflow/compiler/xla/stream_executor/cuda/cuda_gpu_executor.cc:995] successful NUMA node read from SysFS had negative value (-1), but there must be at least one NUMA node, so returning NUMA node zero. See more at https://github.com/torvalds/linux/blob/v6.0/Documentation/ABI/testing/sysfs-bus-pci#L344-L355\n",
      "2024-04-13 14:40:19.546571: I tensorflow/compiler/xla/stream_executor/cuda/cuda_gpu_executor.cc:995] successful NUMA node read from SysFS had negative value (-1), but there must be at least one NUMA node, so returning NUMA node zero. See more at https://github.com/torvalds/linux/blob/v6.0/Documentation/ABI/testing/sysfs-bus-pci#L344-L355\n",
      "2024-04-13 14:40:20.559422: I tensorflow/compiler/xla/stream_executor/cuda/cuda_gpu_executor.cc:995] successful NUMA node read from SysFS had negative value (-1), but there must be at least one NUMA node, so returning NUMA node zero. See more at https://github.com/torvalds/linux/blob/v6.0/Documentation/ABI/testing/sysfs-bus-pci#L344-L355\n",
      "2024-04-13 14:40:20.559571: I tensorflow/compiler/xla/stream_executor/cuda/cuda_gpu_executor.cc:995] successful NUMA node read from SysFS had negative value (-1), but there must be at least one NUMA node, so returning NUMA node zero. See more at https://github.com/torvalds/linux/blob/v6.0/Documentation/ABI/testing/sysfs-bus-pci#L344-L355\n",
      "2024-04-13 14:40:20.559655: I tensorflow/compiler/xla/stream_executor/cuda/cuda_gpu_executor.cc:995] successful NUMA node read from SysFS had negative value (-1), but there must be at least one NUMA node, so returning NUMA node zero. See more at https://github.com/torvalds/linux/blob/v6.0/Documentation/ABI/testing/sysfs-bus-pci#L344-L355\n",
      "2024-04-13 14:40:20.559728: I tensorflow/core/common_runtime/gpu/gpu_device.cc:1639] Created device /job:localhost/replica:0/task:0/device:GPU:0 with 1745 MB memory:  -> device: 0, name: NVIDIA GeForce RTX 3050 Laptop GPU, pci bus id: 0000:01:00.0, compute capability: 8.6\n",
      "2024-04-13 14:40:21.325185: I tensorflow/compiler/xla/stream_executor/cuda/cuda_blas.cc:606] TensorFloat-32 will be used for the matrix multiplication. This will only be logged once.\n",
      "Some weights of the PyTorch model were not used when initializing the TF 2.0 model TFDistilBertModel: ['vocab_transform.weight', 'vocab_layer_norm.weight', 'vocab_projector.bias', 'vocab_layer_norm.bias', 'vocab_transform.bias']\n",
      "- This IS expected if you are initializing TFDistilBertModel from a PyTorch model trained on another task or with another architecture (e.g. initializing a TFBertForSequenceClassification model from a BertForPreTraining model).\n",
      "- This IS NOT expected if you are initializing TFDistilBertModel from a PyTorch model that you expect to be exactly identical (e.g. initializing a TFBertForSequenceClassification model from a BertForSequenceClassification model).\n",
      "All the weights of TFDistilBertModel were initialized from the PyTorch model.\n",
      "If your task is similar to the task the model of the checkpoint was trained on, you can already use TFDistilBertModel for predictions without further training.\n"
     ]
    }
   ],
   "source": [
    "config = transformers.DistilBertConfig(dropout=0.2, attention_dropout=0.2)\n",
    "dbert_tf = transformers.TFDistilBertModel.from_pretrained('distilbert-base-uncased', config=config, trainable=False)"
   ]
  },
  {
   "cell_type": "code",
   "execution_count": 18,
   "id": "21395a4b-d420-48f6-a066-92b8b1484e02",
   "metadata": {},
   "outputs": [
    {
     "data": {
      "text/plain": [
       "array([  101,  1061, 17822,  2595, 22269, 23223,  3683,  1012, 21766,\n",
       "         102], dtype=int32)"
      ]
     },
     "execution_count": 18,
     "metadata": {},
     "output_type": "execute_result"
    }
   ],
   "source": [
    "X_test_tk[2]"
   ]
  },
  {
   "cell_type": "code",
   "execution_count": 19,
   "id": "61e869fe-6a4e-4409-99a7-2db27b9927a3",
   "metadata": {},
   "outputs": [
    {
     "name": "stdout",
     "output_type": "stream",
     "text": [
      "Model: \"ClassificationModelTF\"\n",
      "_________________________________________________________________\n",
      " Layer (type)                Output Shape              Param #   \n",
      "=================================================================\n",
      " input_token (InputLayer)    [(None, 10)]              0         \n",
      "                                                                 \n",
      " tf_distil_bert_model (TFDi  TFBaseModelOutput(last_   66362880  \n",
      " stilBertModel)              hidden_state=(None, 10,             \n",
      "                              768),                              \n",
      "                              hidden_states=None, at             \n",
      "                             tentions=None)                      \n",
      "                                                                 \n",
      " tf.__operators__.getitem (  (None, 768)               0         \n",
      " SlicingOpLambda)                                                \n",
      "                                                                 \n",
      " dropout (Dropout)           (None, 768)               0         \n",
      "                                                                 \n",
      " dense (Dense)               (None, 64)                49216     \n",
      "                                                                 \n",
      " classification (Dense)      (None, 1)                 65        \n",
      "                                                                 \n",
      "=================================================================\n",
      "Total params: 66412161 (253.34 MB)\n",
      "Trainable params: 49281 (192.50 KB)\n",
      "Non-trainable params: 66362880 (253.15 MB)\n",
      "_________________________________________________________________\n"
     ]
    }
   ],
   "source": [
    "input_ids_in = layers.Input(shape=(10,), name='input_token', dtype='int32')\n",
    "\n",
    "x = dbert_tf(input_ids=input_ids_in)[0][:,0,:]\n",
    "x = layers.Dropout(0.2, name='dropout')(x)\n",
    "x = layers.Dense(64, activation='relu', name='dense')(x)\n",
    "x = layers.Dense(1, activation='sigmoid', name='classification')(x)\n",
    "\n",
    "model_bert = tf.keras.Model(inputs=input_ids_in, outputs = x, name='ClassificationModelTF')\n",
    "\n",
    "model_bert.compile(optimizer='adam',loss='binary_crossentropy', metrics='accuracy')\n",
    "model_bert.summary()"
   ]
  },
  {
   "cell_type": "code",
   "execution_count": 20,
   "id": "d221fc0c-b338-4b17-8609-edf60354c101",
   "metadata": {},
   "outputs": [],
   "source": [
    "best_bert = tf.keras.callbacks.ModelCheckpoint(\n",
    "    filepath='best_model_bert2',\n",
    "    save_weights_only=False,\n",
    "    monitor='val_accuracy',\n",
    "    mode='max',\n",
    "    save_best_only=True)"
   ]
  },
  {
   "cell_type": "code",
   "execution_count": 21,
   "id": "426799ef-358a-45a3-ae1f-16ddeaf9ec48",
   "metadata": {},
   "outputs": [
    {
     "name": "stdout",
     "output_type": "stream",
     "text": [
      "Epoch 1/10\n"
     ]
    },
    {
     "name": "stderr",
     "output_type": "stream",
     "text": [
      "2024-04-13 14:40:26.474594: I tensorflow/compiler/xla/service/service.cc:168] XLA service 0x5ed4f4d26c50 initialized for platform CUDA (this does not guarantee that XLA will be used). Devices:\n",
      "2024-04-13 14:40:26.474611: I tensorflow/compiler/xla/service/service.cc:176]   StreamExecutor device (0): NVIDIA GeForce RTX 3050 Laptop GPU, Compute Capability 8.6\n",
      "2024-04-13 14:40:26.479007: I tensorflow/compiler/mlir/tensorflow/utils/dump_mlir_util.cc:255] disabling MLIR crash reproducer, set env var `MLIR_CRASH_REPRODUCER_DIRECTORY` to enable.\n",
      "2024-04-13 14:40:26.488468: I tensorflow/compiler/xla/stream_executor/cuda/cuda_dnn.cc:432] Loaded cuDNN version 8902\n",
      "2024-04-13 14:40:26.568096: I ./tensorflow/compiler/jit/device_compiler.h:186] Compiled cluster using XLA!  This line is logged at most once for the lifetime of the process.\n"
     ]
    },
    {
     "name": "stdout",
     "output_type": "stream",
     "text": [
      "7409/7410 [============================>.] - ETA: 0s - loss: 0.2347 - accuracy: 0.8987WARNING:tensorflow:Skipping full serialization of Keras layer <keras.src.layers.regularization.dropout.Dropout object at 0x79cbda1347f0>, because it is not built.\n",
      "WARNING:tensorflow:Skipping full serialization of Keras layer <keras.src.layers.regularization.dropout.Dropout object at 0x79cbda137370>, because it is not built.\n",
      "WARNING:tensorflow:Skipping full serialization of Keras layer <keras.src.layers.regularization.dropout.Dropout object at 0x79cbda1b9ff0>, because it is not built.\n",
      "WARNING:tensorflow:Skipping full serialization of Keras layer <keras.src.layers.regularization.dropout.Dropout object at 0x79cbda1c4c70>, because it is not built.\n",
      "WARNING:tensorflow:Skipping full serialization of Keras layer <keras.src.layers.regularization.dropout.Dropout object at 0x79cbda1c78b0>, because it is not built.\n",
      "WARNING:tensorflow:Skipping full serialization of Keras layer <keras.src.layers.regularization.dropout.Dropout object at 0x79cbda1e2530>, because it is not built.\n",
      "INFO:tensorflow:Assets written to: best_model_bert2/assets\n"
     ]
    },
    {
     "name": "stderr",
     "output_type": "stream",
     "text": [
      "INFO:tensorflow:Assets written to: best_model_bert2/assets\n"
     ]
    },
    {
     "name": "stdout",
     "output_type": "stream",
     "text": [
      "7410/7410 [==============================] - 522s 70ms/step - loss: 0.2347 - accuracy: 0.8987 - val_loss: 0.1692 - val_accuracy: 0.9331\n",
      "Epoch 2/10\n",
      "7409/7410 [============================>.] - ETA: 0s - loss: 0.2087 - accuracy: 0.9108WARNING:tensorflow:Skipping full serialization of Keras layer <keras.src.layers.regularization.dropout.Dropout object at 0x79cbda1347f0>, because it is not built.\n"
     ]
    },
    {
     "name": "stderr",
     "output_type": "stream",
     "text": [
      "WARNING:tensorflow:Skipping full serialization of Keras layer <keras.src.layers.regularization.dropout.Dropout object at 0x79cbda1347f0>, because it is not built.\n"
     ]
    },
    {
     "name": "stdout",
     "output_type": "stream",
     "text": [
      "WARNING:tensorflow:Skipping full serialization of Keras layer <keras.src.layers.regularization.dropout.Dropout object at 0x79cbda137370>, because it is not built.\n"
     ]
    },
    {
     "name": "stderr",
     "output_type": "stream",
     "text": [
      "WARNING:tensorflow:Skipping full serialization of Keras layer <keras.src.layers.regularization.dropout.Dropout object at 0x79cbda137370>, because it is not built.\n"
     ]
    },
    {
     "name": "stdout",
     "output_type": "stream",
     "text": [
      "WARNING:tensorflow:Skipping full serialization of Keras layer <keras.src.layers.regularization.dropout.Dropout object at 0x79cbda1b9ff0>, because it is not built.\n"
     ]
    },
    {
     "name": "stderr",
     "output_type": "stream",
     "text": [
      "WARNING:tensorflow:Skipping full serialization of Keras layer <keras.src.layers.regularization.dropout.Dropout object at 0x79cbda1b9ff0>, because it is not built.\n"
     ]
    },
    {
     "name": "stdout",
     "output_type": "stream",
     "text": [
      "WARNING:tensorflow:Skipping full serialization of Keras layer <keras.src.layers.regularization.dropout.Dropout object at 0x79cbda1c4c70>, because it is not built.\n"
     ]
    },
    {
     "name": "stderr",
     "output_type": "stream",
     "text": [
      "WARNING:tensorflow:Skipping full serialization of Keras layer <keras.src.layers.regularization.dropout.Dropout object at 0x79cbda1c4c70>, because it is not built.\n"
     ]
    },
    {
     "name": "stdout",
     "output_type": "stream",
     "text": [
      "WARNING:tensorflow:Skipping full serialization of Keras layer <keras.src.layers.regularization.dropout.Dropout object at 0x79cbda1c78b0>, because it is not built.\n"
     ]
    },
    {
     "name": "stderr",
     "output_type": "stream",
     "text": [
      "WARNING:tensorflow:Skipping full serialization of Keras layer <keras.src.layers.regularization.dropout.Dropout object at 0x79cbda1c78b0>, because it is not built.\n"
     ]
    },
    {
     "name": "stdout",
     "output_type": "stream",
     "text": [
      "WARNING:tensorflow:Skipping full serialization of Keras layer <keras.src.layers.regularization.dropout.Dropout object at 0x79cbda1e2530>, because it is not built.\n"
     ]
    },
    {
     "name": "stderr",
     "output_type": "stream",
     "text": [
      "WARNING:tensorflow:Skipping full serialization of Keras layer <keras.src.layers.regularization.dropout.Dropout object at 0x79cbda1e2530>, because it is not built.\n"
     ]
    },
    {
     "name": "stdout",
     "output_type": "stream",
     "text": [
      "INFO:tensorflow:Assets written to: best_model_bert2/assets\n"
     ]
    },
    {
     "name": "stderr",
     "output_type": "stream",
     "text": [
      "INFO:tensorflow:Assets written to: best_model_bert2/assets\n"
     ]
    },
    {
     "name": "stdout",
     "output_type": "stream",
     "text": [
      "7410/7410 [==============================] - 519s 70ms/step - loss: 0.2087 - accuracy: 0.9108 - val_loss: 0.1614 - val_accuracy: 0.9361\n",
      "Epoch 3/10\n",
      "7409/7410 [============================>.] - ETA: 0s - loss: 0.2012 - accuracy: 0.9142WARNING:tensorflow:Skipping full serialization of Keras layer <keras.src.layers.regularization.dropout.Dropout object at 0x79cbda1347f0>, because it is not built.\n"
     ]
    },
    {
     "name": "stderr",
     "output_type": "stream",
     "text": [
      "WARNING:tensorflow:Skipping full serialization of Keras layer <keras.src.layers.regularization.dropout.Dropout object at 0x79cbda1347f0>, because it is not built.\n"
     ]
    },
    {
     "name": "stdout",
     "output_type": "stream",
     "text": [
      "WARNING:tensorflow:Skipping full serialization of Keras layer <keras.src.layers.regularization.dropout.Dropout object at 0x79cbda137370>, because it is not built.\n"
     ]
    },
    {
     "name": "stderr",
     "output_type": "stream",
     "text": [
      "WARNING:tensorflow:Skipping full serialization of Keras layer <keras.src.layers.regularization.dropout.Dropout object at 0x79cbda137370>, because it is not built.\n"
     ]
    },
    {
     "name": "stdout",
     "output_type": "stream",
     "text": [
      "WARNING:tensorflow:Skipping full serialization of Keras layer <keras.src.layers.regularization.dropout.Dropout object at 0x79cbda1b9ff0>, because it is not built.\n"
     ]
    },
    {
     "name": "stderr",
     "output_type": "stream",
     "text": [
      "WARNING:tensorflow:Skipping full serialization of Keras layer <keras.src.layers.regularization.dropout.Dropout object at 0x79cbda1b9ff0>, because it is not built.\n"
     ]
    },
    {
     "name": "stdout",
     "output_type": "stream",
     "text": [
      "WARNING:tensorflow:Skipping full serialization of Keras layer <keras.src.layers.regularization.dropout.Dropout object at 0x79cbda1c4c70>, because it is not built.\n"
     ]
    },
    {
     "name": "stderr",
     "output_type": "stream",
     "text": [
      "WARNING:tensorflow:Skipping full serialization of Keras layer <keras.src.layers.regularization.dropout.Dropout object at 0x79cbda1c4c70>, because it is not built.\n"
     ]
    },
    {
     "name": "stdout",
     "output_type": "stream",
     "text": [
      "WARNING:tensorflow:Skipping full serialization of Keras layer <keras.src.layers.regularization.dropout.Dropout object at 0x79cbda1c78b0>, because it is not built.\n"
     ]
    },
    {
     "name": "stderr",
     "output_type": "stream",
     "text": [
      "WARNING:tensorflow:Skipping full serialization of Keras layer <keras.src.layers.regularization.dropout.Dropout object at 0x79cbda1c78b0>, because it is not built.\n"
     ]
    },
    {
     "name": "stdout",
     "output_type": "stream",
     "text": [
      "WARNING:tensorflow:Skipping full serialization of Keras layer <keras.src.layers.regularization.dropout.Dropout object at 0x79cbda1e2530>, because it is not built.\n"
     ]
    },
    {
     "name": "stderr",
     "output_type": "stream",
     "text": [
      "WARNING:tensorflow:Skipping full serialization of Keras layer <keras.src.layers.regularization.dropout.Dropout object at 0x79cbda1e2530>, because it is not built.\n"
     ]
    },
    {
     "name": "stdout",
     "output_type": "stream",
     "text": [
      "INFO:tensorflow:Assets written to: best_model_bert2/assets\n"
     ]
    },
    {
     "name": "stderr",
     "output_type": "stream",
     "text": [
      "INFO:tensorflow:Assets written to: best_model_bert2/assets\n"
     ]
    },
    {
     "name": "stdout",
     "output_type": "stream",
     "text": [
      "7410/7410 [==============================] - 523s 71ms/step - loss: 0.2012 - accuracy: 0.9142 - val_loss: 0.1508 - val_accuracy: 0.9395\n",
      "Epoch 4/10\n",
      "7409/7410 [============================>.] - ETA: 0s - loss: 0.1969 - accuracy: 0.9162WARNING:tensorflow:Skipping full serialization of Keras layer <keras.src.layers.regularization.dropout.Dropout object at 0x79cbda1347f0>, because it is not built.\n"
     ]
    },
    {
     "name": "stderr",
     "output_type": "stream",
     "text": [
      "WARNING:tensorflow:Skipping full serialization of Keras layer <keras.src.layers.regularization.dropout.Dropout object at 0x79cbda1347f0>, because it is not built.\n"
     ]
    },
    {
     "name": "stdout",
     "output_type": "stream",
     "text": [
      "WARNING:tensorflow:Skipping full serialization of Keras layer <keras.src.layers.regularization.dropout.Dropout object at 0x79cbda137370>, because it is not built.\n"
     ]
    },
    {
     "name": "stderr",
     "output_type": "stream",
     "text": [
      "WARNING:tensorflow:Skipping full serialization of Keras layer <keras.src.layers.regularization.dropout.Dropout object at 0x79cbda137370>, because it is not built.\n"
     ]
    },
    {
     "name": "stdout",
     "output_type": "stream",
     "text": [
      "WARNING:tensorflow:Skipping full serialization of Keras layer <keras.src.layers.regularization.dropout.Dropout object at 0x79cbda1b9ff0>, because it is not built.\n"
     ]
    },
    {
     "name": "stderr",
     "output_type": "stream",
     "text": [
      "WARNING:tensorflow:Skipping full serialization of Keras layer <keras.src.layers.regularization.dropout.Dropout object at 0x79cbda1b9ff0>, because it is not built.\n"
     ]
    },
    {
     "name": "stdout",
     "output_type": "stream",
     "text": [
      "WARNING:tensorflow:Skipping full serialization of Keras layer <keras.src.layers.regularization.dropout.Dropout object at 0x79cbda1c4c70>, because it is not built.\n"
     ]
    },
    {
     "name": "stderr",
     "output_type": "stream",
     "text": [
      "WARNING:tensorflow:Skipping full serialization of Keras layer <keras.src.layers.regularization.dropout.Dropout object at 0x79cbda1c4c70>, because it is not built.\n"
     ]
    },
    {
     "name": "stdout",
     "output_type": "stream",
     "text": [
      "WARNING:tensorflow:Skipping full serialization of Keras layer <keras.src.layers.regularization.dropout.Dropout object at 0x79cbda1c78b0>, because it is not built.\n"
     ]
    },
    {
     "name": "stderr",
     "output_type": "stream",
     "text": [
      "WARNING:tensorflow:Skipping full serialization of Keras layer <keras.src.layers.regularization.dropout.Dropout object at 0x79cbda1c78b0>, because it is not built.\n"
     ]
    },
    {
     "name": "stdout",
     "output_type": "stream",
     "text": [
      "WARNING:tensorflow:Skipping full serialization of Keras layer <keras.src.layers.regularization.dropout.Dropout object at 0x79cbda1e2530>, because it is not built.\n"
     ]
    },
    {
     "name": "stderr",
     "output_type": "stream",
     "text": [
      "WARNING:tensorflow:Skipping full serialization of Keras layer <keras.src.layers.regularization.dropout.Dropout object at 0x79cbda1e2530>, because it is not built.\n"
     ]
    },
    {
     "name": "stdout",
     "output_type": "stream",
     "text": [
      "INFO:tensorflow:Assets written to: best_model_bert2/assets\n"
     ]
    },
    {
     "name": "stderr",
     "output_type": "stream",
     "text": [
      "INFO:tensorflow:Assets written to: best_model_bert2/assets\n"
     ]
    },
    {
     "name": "stdout",
     "output_type": "stream",
     "text": [
      "7410/7410 [==============================] - 525s 71ms/step - loss: 0.1969 - accuracy: 0.9162 - val_loss: 0.1497 - val_accuracy: 0.9408\n",
      "Epoch 5/10\n",
      "7409/7410 [============================>.] - ETA: 0s - loss: 0.1937 - accuracy: 0.9176WARNING:tensorflow:Skipping full serialization of Keras layer <keras.src.layers.regularization.dropout.Dropout object at 0x79cbda1347f0>, because it is not built.\n"
     ]
    },
    {
     "name": "stderr",
     "output_type": "stream",
     "text": [
      "WARNING:tensorflow:Skipping full serialization of Keras layer <keras.src.layers.regularization.dropout.Dropout object at 0x79cbda1347f0>, because it is not built.\n"
     ]
    },
    {
     "name": "stdout",
     "output_type": "stream",
     "text": [
      "WARNING:tensorflow:Skipping full serialization of Keras layer <keras.src.layers.regularization.dropout.Dropout object at 0x79cbda137370>, because it is not built.\n"
     ]
    },
    {
     "name": "stderr",
     "output_type": "stream",
     "text": [
      "WARNING:tensorflow:Skipping full serialization of Keras layer <keras.src.layers.regularization.dropout.Dropout object at 0x79cbda137370>, because it is not built.\n"
     ]
    },
    {
     "name": "stdout",
     "output_type": "stream",
     "text": [
      "WARNING:tensorflow:Skipping full serialization of Keras layer <keras.src.layers.regularization.dropout.Dropout object at 0x79cbda1b9ff0>, because it is not built.\n"
     ]
    },
    {
     "name": "stderr",
     "output_type": "stream",
     "text": [
      "WARNING:tensorflow:Skipping full serialization of Keras layer <keras.src.layers.regularization.dropout.Dropout object at 0x79cbda1b9ff0>, because it is not built.\n"
     ]
    },
    {
     "name": "stdout",
     "output_type": "stream",
     "text": [
      "WARNING:tensorflow:Skipping full serialization of Keras layer <keras.src.layers.regularization.dropout.Dropout object at 0x79cbda1c4c70>, because it is not built.\n"
     ]
    },
    {
     "name": "stderr",
     "output_type": "stream",
     "text": [
      "WARNING:tensorflow:Skipping full serialization of Keras layer <keras.src.layers.regularization.dropout.Dropout object at 0x79cbda1c4c70>, because it is not built.\n"
     ]
    },
    {
     "name": "stdout",
     "output_type": "stream",
     "text": [
      "WARNING:tensorflow:Skipping full serialization of Keras layer <keras.src.layers.regularization.dropout.Dropout object at 0x79cbda1c78b0>, because it is not built.\n"
     ]
    },
    {
     "name": "stderr",
     "output_type": "stream",
     "text": [
      "WARNING:tensorflow:Skipping full serialization of Keras layer <keras.src.layers.regularization.dropout.Dropout object at 0x79cbda1c78b0>, because it is not built.\n"
     ]
    },
    {
     "name": "stdout",
     "output_type": "stream",
     "text": [
      "WARNING:tensorflow:Skipping full serialization of Keras layer <keras.src.layers.regularization.dropout.Dropout object at 0x79cbda1e2530>, because it is not built.\n"
     ]
    },
    {
     "name": "stderr",
     "output_type": "stream",
     "text": [
      "WARNING:tensorflow:Skipping full serialization of Keras layer <keras.src.layers.regularization.dropout.Dropout object at 0x79cbda1e2530>, because it is not built.\n"
     ]
    },
    {
     "name": "stdout",
     "output_type": "stream",
     "text": [
      "INFO:tensorflow:Assets written to: best_model_bert2/assets\n"
     ]
    },
    {
     "name": "stderr",
     "output_type": "stream",
     "text": [
      "INFO:tensorflow:Assets written to: best_model_bert2/assets\n"
     ]
    },
    {
     "name": "stdout",
     "output_type": "stream",
     "text": [
      "7410/7410 [==============================] - 524s 71ms/step - loss: 0.1937 - accuracy: 0.9176 - val_loss: 0.1450 - val_accuracy: 0.9428\n",
      "Epoch 6/10\n",
      "7409/7410 [============================>.] - ETA: 0s - loss: 0.1919 - accuracy: 0.9182WARNING:tensorflow:Skipping full serialization of Keras layer <keras.src.layers.regularization.dropout.Dropout object at 0x79cbda1347f0>, because it is not built.\n"
     ]
    },
    {
     "name": "stderr",
     "output_type": "stream",
     "text": [
      "WARNING:tensorflow:Skipping full serialization of Keras layer <keras.src.layers.regularization.dropout.Dropout object at 0x79cbda1347f0>, because it is not built.\n"
     ]
    },
    {
     "name": "stdout",
     "output_type": "stream",
     "text": [
      "WARNING:tensorflow:Skipping full serialization of Keras layer <keras.src.layers.regularization.dropout.Dropout object at 0x79cbda137370>, because it is not built.\n"
     ]
    },
    {
     "name": "stderr",
     "output_type": "stream",
     "text": [
      "WARNING:tensorflow:Skipping full serialization of Keras layer <keras.src.layers.regularization.dropout.Dropout object at 0x79cbda137370>, because it is not built.\n"
     ]
    },
    {
     "name": "stdout",
     "output_type": "stream",
     "text": [
      "WARNING:tensorflow:Skipping full serialization of Keras layer <keras.src.layers.regularization.dropout.Dropout object at 0x79cbda1b9ff0>, because it is not built.\n"
     ]
    },
    {
     "name": "stderr",
     "output_type": "stream",
     "text": [
      "WARNING:tensorflow:Skipping full serialization of Keras layer <keras.src.layers.regularization.dropout.Dropout object at 0x79cbda1b9ff0>, because it is not built.\n"
     ]
    },
    {
     "name": "stdout",
     "output_type": "stream",
     "text": [
      "WARNING:tensorflow:Skipping full serialization of Keras layer <keras.src.layers.regularization.dropout.Dropout object at 0x79cbda1c4c70>, because it is not built.\n"
     ]
    },
    {
     "name": "stderr",
     "output_type": "stream",
     "text": [
      "WARNING:tensorflow:Skipping full serialization of Keras layer <keras.src.layers.regularization.dropout.Dropout object at 0x79cbda1c4c70>, because it is not built.\n"
     ]
    },
    {
     "name": "stdout",
     "output_type": "stream",
     "text": [
      "WARNING:tensorflow:Skipping full serialization of Keras layer <keras.src.layers.regularization.dropout.Dropout object at 0x79cbda1c78b0>, because it is not built.\n"
     ]
    },
    {
     "name": "stderr",
     "output_type": "stream",
     "text": [
      "WARNING:tensorflow:Skipping full serialization of Keras layer <keras.src.layers.regularization.dropout.Dropout object at 0x79cbda1c78b0>, because it is not built.\n"
     ]
    },
    {
     "name": "stdout",
     "output_type": "stream",
     "text": [
      "WARNING:tensorflow:Skipping full serialization of Keras layer <keras.src.layers.regularization.dropout.Dropout object at 0x79cbda1e2530>, because it is not built.\n"
     ]
    },
    {
     "name": "stderr",
     "output_type": "stream",
     "text": [
      "WARNING:tensorflow:Skipping full serialization of Keras layer <keras.src.layers.regularization.dropout.Dropout object at 0x79cbda1e2530>, because it is not built.\n"
     ]
    },
    {
     "name": "stdout",
     "output_type": "stream",
     "text": [
      "INFO:tensorflow:Assets written to: best_model_bert2/assets\n"
     ]
    },
    {
     "name": "stderr",
     "output_type": "stream",
     "text": [
      "INFO:tensorflow:Assets written to: best_model_bert2/assets\n"
     ]
    },
    {
     "name": "stdout",
     "output_type": "stream",
     "text": [
      "7410/7410 [==============================] - 525s 71ms/step - loss: 0.1919 - accuracy: 0.9182 - val_loss: 0.1437 - val_accuracy: 0.9431\n",
      "Epoch 7/10\n",
      "7410/7410 [==============================] - 514s 69ms/step - loss: 0.1906 - accuracy: 0.9189 - val_loss: 0.1430 - val_accuracy: 0.9429\n",
      "Epoch 8/10\n",
      "7410/7410 [==============================] - 514s 69ms/step - loss: 0.1895 - accuracy: 0.9190 - val_loss: 0.1412 - val_accuracy: 0.9430\n",
      "Epoch 9/10\n",
      "7410/7410 [==============================] - 514s 69ms/step - loss: 0.1885 - accuracy: 0.9196 - val_loss: 0.1413 - val_accuracy: 0.9426\n",
      "Epoch 10/10\n",
      "7409/7410 [============================>.] - ETA: 0s - loss: 0.1873 - accuracy: 0.9201WARNING:tensorflow:Skipping full serialization of Keras layer <keras.src.layers.regularization.dropout.Dropout object at 0x79cbda1347f0>, because it is not built.\n"
     ]
    },
    {
     "name": "stderr",
     "output_type": "stream",
     "text": [
      "WARNING:tensorflow:Skipping full serialization of Keras layer <keras.src.layers.regularization.dropout.Dropout object at 0x79cbda1347f0>, because it is not built.\n"
     ]
    },
    {
     "name": "stdout",
     "output_type": "stream",
     "text": [
      "WARNING:tensorflow:Skipping full serialization of Keras layer <keras.src.layers.regularization.dropout.Dropout object at 0x79cbda137370>, because it is not built.\n"
     ]
    },
    {
     "name": "stderr",
     "output_type": "stream",
     "text": [
      "WARNING:tensorflow:Skipping full serialization of Keras layer <keras.src.layers.regularization.dropout.Dropout object at 0x79cbda137370>, because it is not built.\n"
     ]
    },
    {
     "name": "stdout",
     "output_type": "stream",
     "text": [
      "WARNING:tensorflow:Skipping full serialization of Keras layer <keras.src.layers.regularization.dropout.Dropout object at 0x79cbda1b9ff0>, because it is not built.\n"
     ]
    },
    {
     "name": "stderr",
     "output_type": "stream",
     "text": [
      "WARNING:tensorflow:Skipping full serialization of Keras layer <keras.src.layers.regularization.dropout.Dropout object at 0x79cbda1b9ff0>, because it is not built.\n"
     ]
    },
    {
     "name": "stdout",
     "output_type": "stream",
     "text": [
      "WARNING:tensorflow:Skipping full serialization of Keras layer <keras.src.layers.regularization.dropout.Dropout object at 0x79cbda1c4c70>, because it is not built.\n"
     ]
    },
    {
     "name": "stderr",
     "output_type": "stream",
     "text": [
      "WARNING:tensorflow:Skipping full serialization of Keras layer <keras.src.layers.regularization.dropout.Dropout object at 0x79cbda1c4c70>, because it is not built.\n"
     ]
    },
    {
     "name": "stdout",
     "output_type": "stream",
     "text": [
      "WARNING:tensorflow:Skipping full serialization of Keras layer <keras.src.layers.regularization.dropout.Dropout object at 0x79cbda1c78b0>, because it is not built.\n"
     ]
    },
    {
     "name": "stderr",
     "output_type": "stream",
     "text": [
      "WARNING:tensorflow:Skipping full serialization of Keras layer <keras.src.layers.regularization.dropout.Dropout object at 0x79cbda1c78b0>, because it is not built.\n"
     ]
    },
    {
     "name": "stdout",
     "output_type": "stream",
     "text": [
      "WARNING:tensorflow:Skipping full serialization of Keras layer <keras.src.layers.regularization.dropout.Dropout object at 0x79cbda1e2530>, because it is not built.\n"
     ]
    },
    {
     "name": "stderr",
     "output_type": "stream",
     "text": [
      "WARNING:tensorflow:Skipping full serialization of Keras layer <keras.src.layers.regularization.dropout.Dropout object at 0x79cbda1e2530>, because it is not built.\n"
     ]
    },
    {
     "name": "stdout",
     "output_type": "stream",
     "text": [
      "INFO:tensorflow:Assets written to: best_model_bert2/assets\n"
     ]
    },
    {
     "name": "stderr",
     "output_type": "stream",
     "text": [
      "INFO:tensorflow:Assets written to: best_model_bert2/assets\n"
     ]
    },
    {
     "name": "stdout",
     "output_type": "stream",
     "text": [
      "7410/7410 [==============================] - 525s 71ms/step - loss: 0.1873 - accuracy: 0.9201 - val_loss: 0.1417 - val_accuracy: 0.9436\n"
     ]
    },
    {
     "data": {
      "text/plain": [
       "<keras.src.callbacks.History at 0x79cbf35d6890>"
      ]
     },
     "execution_count": 21,
     "metadata": {},
     "output_type": "execute_result"
    }
   ],
   "source": [
    "model_bert.fit(X_train_tk, y_train,\n",
    "              epochs=10,\n",
    "              validation_split = 0.1,\n",
    "              callbacks = [best_bert],\n",
    "              batch_size=200)"
   ]
  },
  {
   "cell_type": "code",
   "execution_count": 22,
   "id": "5c24978d-488d-45b3-8952-e131cd6ea024",
   "metadata": {},
   "outputs": [
    {
     "name": "stdout",
     "output_type": "stream",
     "text": [
      "22052/22052 [==============================] - 381s 17ms/step\n",
      "Matriz de Confusão\n",
      "[[278478  21195]\n",
      " [ 17714 388276]]\n",
      "Relatório de Classificação\n",
      "              precision    recall  f1-score   support\n",
      "\n",
      "           0     0.9402    0.9293    0.9347    299673\n",
      "           1     0.9482    0.9564    0.9523    405990\n",
      "\n",
      "    accuracy                         0.9449    705663\n",
      "   macro avg     0.9442    0.9428    0.9435    705663\n",
      "weighted avg     0.9448    0.9449    0.9448    705663\n",
      "\n"
     ]
    }
   ],
   "source": [
    "predictions = model_bert.predict(X_test_tk)\n",
    "predictions = np.where(predictions > 0.5, 1, 0)\n",
    "\n",
    "print('Matriz de Confusão')\n",
    "print(confusion_matrix(y_test,predictions))\n",
    "\n",
    "print('Relatório de Classificação')\n",
    "print(classification_report(y_test,predictions, digits=4))"
   ]
  },
  {
   "cell_type": "code",
   "execution_count": 23,
   "id": "65dc8503-098e-41e2-a726-08b6f158ed13",
   "metadata": {},
   "outputs": [],
   "source": [
    "model_bert.save_weights('best_model_bert2_weights')"
   ]
  }
 ],
 "metadata": {
  "kernelspec": {
   "display_name": "Python 3 (ipykernel)",
   "language": "python",
   "name": "python3"
  },
  "language_info": {
   "codemirror_mode": {
    "name": "ipython",
    "version": 3
   },
   "file_extension": ".py",
   "mimetype": "text/x-python",
   "name": "python",
   "nbconvert_exporter": "python",
   "pygments_lexer": "ipython3",
   "version": "3.10.12"
  }
 },
 "nbformat": 4,
 "nbformat_minor": 5
}
