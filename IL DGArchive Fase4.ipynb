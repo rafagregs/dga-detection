{
 "cells": [
  {
   "cell_type": "code",
   "execution_count": 1,
   "id": "4586c2a0-68ff-46ca-a4b4-7d0a68778f13",
   "metadata": {},
   "outputs": [
    {
     "name": "stderr",
     "output_type": "stream",
     "text": [
      "2024-01-16 09:34:07.666430: I tensorflow/core/util/port.cc:110] oneDNN custom operations are on. You may see slightly different numerical results due to floating-point round-off errors from different computation orders. To turn them off, set the environment variable `TF_ENABLE_ONEDNN_OPTS=0`.\n",
      "2024-01-16 09:34:07.697912: I tensorflow/core/platform/cpu_feature_guard.cc:182] This TensorFlow binary is optimized to use available CPU instructions in performance-critical operations.\n",
      "To enable the following instructions: AVX2 AVX512F AVX512_VNNI FMA, in other operations, rebuild TensorFlow with the appropriate compiler flags.\n",
      "2024-01-16 09:34:08.296106: W tensorflow/compiler/tf2tensorrt/utils/py_utils.cc:38] TF-TRT Warning: Could not find TensorRT\n"
     ]
    }
   ],
   "source": [
    "import pandas as pd\n",
    "import numpy as np\n",
    "import os\n",
    "import json\n",
    "import itertools as it\n",
    "import time\n",
    "import subprocess\n",
    "import matplotlib.pyplot as plt\n",
    "import seaborn as sns\n",
    "from sklearn.preprocessing import OneHotEncoder\n",
    "import tensorflow as tf\n",
    "from datetime import date, datetime, timedelta\n",
    "from tensorflow import keras\n",
    "from sklearn.metrics import confusion_matrix,classification_report,ConfusionMatrixDisplay\n",
    "from sklearn.metrics import accuracy_score, precision_score, recall_score, roc_auc_score, average_precision_score\n",
    "from tensorflow.keras import layers, losses\n",
    "from tensorflow.keras.models import Model\n",
    "import warnings\n",
    "warnings.filterwarnings(\"ignore\")"
   ]
  },
  {
   "cell_type": "code",
   "execution_count": 2,
   "id": "eb6b2375-6e3d-44c5-bfcd-8e2ee973e99f",
   "metadata": {},
   "outputs": [
    {
     "data": {
      "text/html": [
       "<div>\n",
       "<style scoped>\n",
       "    .dataframe tbody tr th:only-of-type {\n",
       "        vertical-align: middle;\n",
       "    }\n",
       "\n",
       "    .dataframe tbody tr th {\n",
       "        vertical-align: top;\n",
       "    }\n",
       "\n",
       "    .dataframe thead th {\n",
       "        text-align: right;\n",
       "    }\n",
       "</style>\n",
       "<table border=\"1\" class=\"dataframe\">\n",
       "  <thead>\n",
       "    <tr style=\"text-align: right;\">\n",
       "      <th></th>\n",
       "      <th>domain</th>\n",
       "      <th>label</th>\n",
       "      <th>2</th>\n",
       "      <th>3</th>\n",
       "      <th>4</th>\n",
       "      <th>5</th>\n",
       "      <th>6</th>\n",
       "      <th>7</th>\n",
       "      <th>8</th>\n",
       "      <th>9</th>\n",
       "      <th>...</th>\n",
       "      <th>62</th>\n",
       "      <th>63</th>\n",
       "      <th>64</th>\n",
       "      <th>65</th>\n",
       "      <th>66</th>\n",
       "      <th>67</th>\n",
       "      <th>68</th>\n",
       "      <th>69</th>\n",
       "      <th>70</th>\n",
       "      <th>71</th>\n",
       "    </tr>\n",
       "  </thead>\n",
       "  <tbody>\n",
       "    <tr>\n",
       "      <th>0</th>\n",
       "      <td>google.com</td>\n",
       "      <td>0</td>\n",
       "      <td>103</td>\n",
       "      <td>111</td>\n",
       "      <td>111</td>\n",
       "      <td>103</td>\n",
       "      <td>108</td>\n",
       "      <td>101</td>\n",
       "      <td>46</td>\n",
       "      <td>99</td>\n",
       "      <td>...</td>\n",
       "      <td>0</td>\n",
       "      <td>0</td>\n",
       "      <td>0</td>\n",
       "      <td>0</td>\n",
       "      <td>0</td>\n",
       "      <td>0</td>\n",
       "      <td>0</td>\n",
       "      <td>0</td>\n",
       "      <td>0</td>\n",
       "      <td>0</td>\n",
       "    </tr>\n",
       "    <tr>\n",
       "      <th>1</th>\n",
       "      <td>facebook.com</td>\n",
       "      <td>0</td>\n",
       "      <td>102</td>\n",
       "      <td>97</td>\n",
       "      <td>99</td>\n",
       "      <td>101</td>\n",
       "      <td>98</td>\n",
       "      <td>111</td>\n",
       "      <td>111</td>\n",
       "      <td>107</td>\n",
       "      <td>...</td>\n",
       "      <td>0</td>\n",
       "      <td>0</td>\n",
       "      <td>0</td>\n",
       "      <td>0</td>\n",
       "      <td>0</td>\n",
       "      <td>0</td>\n",
       "      <td>0</td>\n",
       "      <td>0</td>\n",
       "      <td>0</td>\n",
       "      <td>0</td>\n",
       "    </tr>\n",
       "    <tr>\n",
       "      <th>2</th>\n",
       "      <td>youtube.com</td>\n",
       "      <td>0</td>\n",
       "      <td>121</td>\n",
       "      <td>111</td>\n",
       "      <td>117</td>\n",
       "      <td>116</td>\n",
       "      <td>117</td>\n",
       "      <td>98</td>\n",
       "      <td>101</td>\n",
       "      <td>46</td>\n",
       "      <td>...</td>\n",
       "      <td>0</td>\n",
       "      <td>0</td>\n",
       "      <td>0</td>\n",
       "      <td>0</td>\n",
       "      <td>0</td>\n",
       "      <td>0</td>\n",
       "      <td>0</td>\n",
       "      <td>0</td>\n",
       "      <td>0</td>\n",
       "      <td>0</td>\n",
       "    </tr>\n",
       "    <tr>\n",
       "      <th>3</th>\n",
       "      <td>twitter.com</td>\n",
       "      <td>0</td>\n",
       "      <td>116</td>\n",
       "      <td>119</td>\n",
       "      <td>105</td>\n",
       "      <td>116</td>\n",
       "      <td>116</td>\n",
       "      <td>101</td>\n",
       "      <td>114</td>\n",
       "      <td>46</td>\n",
       "      <td>...</td>\n",
       "      <td>0</td>\n",
       "      <td>0</td>\n",
       "      <td>0</td>\n",
       "      <td>0</td>\n",
       "      <td>0</td>\n",
       "      <td>0</td>\n",
       "      <td>0</td>\n",
       "      <td>0</td>\n",
       "      <td>0</td>\n",
       "      <td>0</td>\n",
       "    </tr>\n",
       "    <tr>\n",
       "      <th>4</th>\n",
       "      <td>instagram.com</td>\n",
       "      <td>0</td>\n",
       "      <td>105</td>\n",
       "      <td>110</td>\n",
       "      <td>115</td>\n",
       "      <td>116</td>\n",
       "      <td>97</td>\n",
       "      <td>103</td>\n",
       "      <td>114</td>\n",
       "      <td>97</td>\n",
       "      <td>...</td>\n",
       "      <td>0</td>\n",
       "      <td>0</td>\n",
       "      <td>0</td>\n",
       "      <td>0</td>\n",
       "      <td>0</td>\n",
       "      <td>0</td>\n",
       "      <td>0</td>\n",
       "      <td>0</td>\n",
       "      <td>0</td>\n",
       "      <td>0</td>\n",
       "    </tr>\n",
       "    <tr>\n",
       "      <th>...</th>\n",
       "      <td>...</td>\n",
       "      <td>...</td>\n",
       "      <td>...</td>\n",
       "      <td>...</td>\n",
       "      <td>...</td>\n",
       "      <td>...</td>\n",
       "      <td>...</td>\n",
       "      <td>...</td>\n",
       "      <td>...</td>\n",
       "      <td>...</td>\n",
       "      <td>...</td>\n",
       "      <td>...</td>\n",
       "      <td>...</td>\n",
       "      <td>...</td>\n",
       "      <td>...</td>\n",
       "      <td>...</td>\n",
       "      <td>...</td>\n",
       "      <td>...</td>\n",
       "      <td>...</td>\n",
       "      <td>...</td>\n",
       "      <td>...</td>\n",
       "    </tr>\n",
       "    <tr>\n",
       "      <th>999995</th>\n",
       "      <td>fidgit.com</td>\n",
       "      <td>0</td>\n",
       "      <td>102</td>\n",
       "      <td>105</td>\n",
       "      <td>100</td>\n",
       "      <td>103</td>\n",
       "      <td>105</td>\n",
       "      <td>116</td>\n",
       "      <td>46</td>\n",
       "      <td>99</td>\n",
       "      <td>...</td>\n",
       "      <td>0</td>\n",
       "      <td>0</td>\n",
       "      <td>0</td>\n",
       "      <td>0</td>\n",
       "      <td>0</td>\n",
       "      <td>0</td>\n",
       "      <td>0</td>\n",
       "      <td>0</td>\n",
       "      <td>0</td>\n",
       "      <td>0</td>\n",
       "    </tr>\n",
       "    <tr>\n",
       "      <th>999996</th>\n",
       "      <td>fixwindows10connections.com</td>\n",
       "      <td>0</td>\n",
       "      <td>102</td>\n",
       "      <td>105</td>\n",
       "      <td>120</td>\n",
       "      <td>119</td>\n",
       "      <td>105</td>\n",
       "      <td>110</td>\n",
       "      <td>100</td>\n",
       "      <td>111</td>\n",
       "      <td>...</td>\n",
       "      <td>0</td>\n",
       "      <td>0</td>\n",
       "      <td>0</td>\n",
       "      <td>0</td>\n",
       "      <td>0</td>\n",
       "      <td>0</td>\n",
       "      <td>0</td>\n",
       "      <td>0</td>\n",
       "      <td>0</td>\n",
       "      <td>0</td>\n",
       "    </tr>\n",
       "    <tr>\n",
       "      <th>999997</th>\n",
       "      <td>flyerguide.com</td>\n",
       "      <td>0</td>\n",
       "      <td>102</td>\n",
       "      <td>108</td>\n",
       "      <td>121</td>\n",
       "      <td>101</td>\n",
       "      <td>114</td>\n",
       "      <td>103</td>\n",
       "      <td>117</td>\n",
       "      <td>105</td>\n",
       "      <td>...</td>\n",
       "      <td>0</td>\n",
       "      <td>0</td>\n",
       "      <td>0</td>\n",
       "      <td>0</td>\n",
       "      <td>0</td>\n",
       "      <td>0</td>\n",
       "      <td>0</td>\n",
       "      <td>0</td>\n",
       "      <td>0</td>\n",
       "      <td>0</td>\n",
       "    </tr>\n",
       "    <tr>\n",
       "      <th>999998</th>\n",
       "      <td>forwardpathway.com</td>\n",
       "      <td>0</td>\n",
       "      <td>102</td>\n",
       "      <td>111</td>\n",
       "      <td>114</td>\n",
       "      <td>119</td>\n",
       "      <td>97</td>\n",
       "      <td>114</td>\n",
       "      <td>100</td>\n",
       "      <td>112</td>\n",
       "      <td>...</td>\n",
       "      <td>0</td>\n",
       "      <td>0</td>\n",
       "      <td>0</td>\n",
       "      <td>0</td>\n",
       "      <td>0</td>\n",
       "      <td>0</td>\n",
       "      <td>0</td>\n",
       "      <td>0</td>\n",
       "      <td>0</td>\n",
       "      <td>0</td>\n",
       "    </tr>\n",
       "    <tr>\n",
       "      <th>999999</th>\n",
       "      <td>fostersmarket.com</td>\n",
       "      <td>0</td>\n",
       "      <td>102</td>\n",
       "      <td>111</td>\n",
       "      <td>115</td>\n",
       "      <td>116</td>\n",
       "      <td>101</td>\n",
       "      <td>114</td>\n",
       "      <td>115</td>\n",
       "      <td>109</td>\n",
       "      <td>...</td>\n",
       "      <td>0</td>\n",
       "      <td>0</td>\n",
       "      <td>0</td>\n",
       "      <td>0</td>\n",
       "      <td>0</td>\n",
       "      <td>0</td>\n",
       "      <td>0</td>\n",
       "      <td>0</td>\n",
       "      <td>0</td>\n",
       "      <td>0</td>\n",
       "    </tr>\n",
       "  </tbody>\n",
       "</table>\n",
       "<p>1000000 rows × 72 columns</p>\n",
       "</div>"
      ],
      "text/plain": [
       "                             domain  label    2    3    4    5    6    7    8  \\\n",
       "0                        google.com      0  103  111  111  103  108  101   46   \n",
       "1                      facebook.com      0  102   97   99  101   98  111  111   \n",
       "2                       youtube.com      0  121  111  117  116  117   98  101   \n",
       "3                       twitter.com      0  116  119  105  116  116  101  114   \n",
       "4                     instagram.com      0  105  110  115  116   97  103  114   \n",
       "...                             ...    ...  ...  ...  ...  ...  ...  ...  ...   \n",
       "999995                   fidgit.com      0  102  105  100  103  105  116   46   \n",
       "999996  fixwindows10connections.com      0  102  105  120  119  105  110  100   \n",
       "999997               flyerguide.com      0  102  108  121  101  114  103  117   \n",
       "999998           forwardpathway.com      0  102  111  114  119   97  114  100   \n",
       "999999            fostersmarket.com      0  102  111  115  116  101  114  115   \n",
       "\n",
       "          9  ...  62  63  64  65  66  67  68  69  70  71  \n",
       "0        99  ...   0   0   0   0   0   0   0   0   0   0  \n",
       "1       107  ...   0   0   0   0   0   0   0   0   0   0  \n",
       "2        46  ...   0   0   0   0   0   0   0   0   0   0  \n",
       "3        46  ...   0   0   0   0   0   0   0   0   0   0  \n",
       "4        97  ...   0   0   0   0   0   0   0   0   0   0  \n",
       "...     ...  ...  ..  ..  ..  ..  ..  ..  ..  ..  ..  ..  \n",
       "999995   99  ...   0   0   0   0   0   0   0   0   0   0  \n",
       "999996  111  ...   0   0   0   0   0   0   0   0   0   0  \n",
       "999997  105  ...   0   0   0   0   0   0   0   0   0   0  \n",
       "999998  112  ...   0   0   0   0   0   0   0   0   0   0  \n",
       "999999  109  ...   0   0   0   0   0   0   0   0   0   0  \n",
       "\n",
       "[1000000 rows x 72 columns]"
      ]
     },
     "execution_count": 2,
     "metadata": {},
     "output_type": "execute_result"
    }
   ],
   "source": [
    "majestic = pd.read_csv('./treino/majestic_ascii.csv')\n",
    "majestic['69'] = 0\n",
    "majestic['70'] = 0\n",
    "majestic['71'] = 0\n",
    "majestic"
   ]
  },
  {
   "cell_type": "code",
   "execution_count": 3,
   "id": "83a34923-b0fc-4a4f-aa8f-8a785e3658f0",
   "metadata": {},
   "outputs": [],
   "source": [
    "dga = pd.read_csv('./teste/df_teste3.csv')"
   ]
  },
  {
   "cell_type": "code",
   "execution_count": 4,
   "id": "6bea4f62-58b3-429b-b73a-0a552cd86318",
   "metadata": {},
   "outputs": [],
   "source": [
    "dga = dga.drop('family', axis = 1)"
   ]
  },
  {
   "cell_type": "code",
   "execution_count": 5,
   "id": "5c1036f4-fe25-459b-a096-a6f4a6fb441e",
   "metadata": {},
   "outputs": [],
   "source": [
    "dga.columns = majestic.columns"
   ]
  },
  {
   "cell_type": "code",
   "execution_count": 6,
   "id": "bd4f2b8c-ea35-415a-98b0-0ac6ee209c6f",
   "metadata": {},
   "outputs": [],
   "source": [
    "dga = dga.loc[~dga['domain'].isin(majestic['domain'])].reset_index(drop=True)"
   ]
  },
  {
   "cell_type": "code",
   "execution_count": 7,
   "id": "bf935954-36a4-4928-b67e-3328d84f6f23",
   "metadata": {},
   "outputs": [
    {
     "data": {
      "text/html": [
       "<div>\n",
       "<style scoped>\n",
       "    .dataframe tbody tr th:only-of-type {\n",
       "        vertical-align: middle;\n",
       "    }\n",
       "\n",
       "    .dataframe tbody tr th {\n",
       "        vertical-align: top;\n",
       "    }\n",
       "\n",
       "    .dataframe thead th {\n",
       "        text-align: right;\n",
       "    }\n",
       "</style>\n",
       "<table border=\"1\" class=\"dataframe\">\n",
       "  <thead>\n",
       "    <tr style=\"text-align: right;\">\n",
       "      <th></th>\n",
       "      <th>domain</th>\n",
       "      <th>label</th>\n",
       "      <th>2</th>\n",
       "      <th>3</th>\n",
       "      <th>4</th>\n",
       "      <th>5</th>\n",
       "      <th>6</th>\n",
       "      <th>7</th>\n",
       "      <th>8</th>\n",
       "      <th>9</th>\n",
       "      <th>...</th>\n",
       "      <th>62</th>\n",
       "      <th>63</th>\n",
       "      <th>64</th>\n",
       "      <th>65</th>\n",
       "      <th>66</th>\n",
       "      <th>67</th>\n",
       "      <th>68</th>\n",
       "      <th>69</th>\n",
       "      <th>70</th>\n",
       "      <th>71</th>\n",
       "    </tr>\n",
       "  </thead>\n",
       "  <tbody>\n",
       "    <tr>\n",
       "      <th>0</th>\n",
       "      <td>wwoof.fr</td>\n",
       "      <td>0</td>\n",
       "      <td>119</td>\n",
       "      <td>119</td>\n",
       "      <td>111</td>\n",
       "      <td>111</td>\n",
       "      <td>102</td>\n",
       "      <td>46</td>\n",
       "      <td>102</td>\n",
       "      <td>114</td>\n",
       "      <td>...</td>\n",
       "      <td>0</td>\n",
       "      <td>0</td>\n",
       "      <td>0</td>\n",
       "      <td>0</td>\n",
       "      <td>0</td>\n",
       "      <td>0</td>\n",
       "      <td>0</td>\n",
       "      <td>0</td>\n",
       "      <td>0</td>\n",
       "      <td>0</td>\n",
       "    </tr>\n",
       "    <tr>\n",
       "      <th>1</th>\n",
       "      <td>digimanthan.com</td>\n",
       "      <td>0</td>\n",
       "      <td>100</td>\n",
       "      <td>105</td>\n",
       "      <td>103</td>\n",
       "      <td>105</td>\n",
       "      <td>109</td>\n",
       "      <td>97</td>\n",
       "      <td>110</td>\n",
       "      <td>116</td>\n",
       "      <td>...</td>\n",
       "      <td>0</td>\n",
       "      <td>0</td>\n",
       "      <td>0</td>\n",
       "      <td>0</td>\n",
       "      <td>0</td>\n",
       "      <td>0</td>\n",
       "      <td>0</td>\n",
       "      <td>0</td>\n",
       "      <td>0</td>\n",
       "      <td>0</td>\n",
       "    </tr>\n",
       "    <tr>\n",
       "      <th>2</th>\n",
       "      <td>injo.com</td>\n",
       "      <td>0</td>\n",
       "      <td>105</td>\n",
       "      <td>110</td>\n",
       "      <td>106</td>\n",
       "      <td>111</td>\n",
       "      <td>46</td>\n",
       "      <td>99</td>\n",
       "      <td>111</td>\n",
       "      <td>109</td>\n",
       "      <td>...</td>\n",
       "      <td>0</td>\n",
       "      <td>0</td>\n",
       "      <td>0</td>\n",
       "      <td>0</td>\n",
       "      <td>0</td>\n",
       "      <td>0</td>\n",
       "      <td>0</td>\n",
       "      <td>0</td>\n",
       "      <td>0</td>\n",
       "      <td>0</td>\n",
       "    </tr>\n",
       "    <tr>\n",
       "      <th>3</th>\n",
       "      <td>aclanthology.info</td>\n",
       "      <td>0</td>\n",
       "      <td>97</td>\n",
       "      <td>99</td>\n",
       "      <td>108</td>\n",
       "      <td>97</td>\n",
       "      <td>110</td>\n",
       "      <td>116</td>\n",
       "      <td>104</td>\n",
       "      <td>111</td>\n",
       "      <td>...</td>\n",
       "      <td>0</td>\n",
       "      <td>0</td>\n",
       "      <td>0</td>\n",
       "      <td>0</td>\n",
       "      <td>0</td>\n",
       "      <td>0</td>\n",
       "      <td>0</td>\n",
       "      <td>0</td>\n",
       "      <td>0</td>\n",
       "      <td>0</td>\n",
       "    </tr>\n",
       "    <tr>\n",
       "      <th>4</th>\n",
       "      <td>aseabreeze.co.uk</td>\n",
       "      <td>0</td>\n",
       "      <td>97</td>\n",
       "      <td>115</td>\n",
       "      <td>101</td>\n",
       "      <td>97</td>\n",
       "      <td>98</td>\n",
       "      <td>114</td>\n",
       "      <td>101</td>\n",
       "      <td>101</td>\n",
       "      <td>...</td>\n",
       "      <td>0</td>\n",
       "      <td>0</td>\n",
       "      <td>0</td>\n",
       "      <td>0</td>\n",
       "      <td>0</td>\n",
       "      <td>0</td>\n",
       "      <td>0</td>\n",
       "      <td>0</td>\n",
       "      <td>0</td>\n",
       "      <td>0</td>\n",
       "    </tr>\n",
       "    <tr>\n",
       "      <th>...</th>\n",
       "      <td>...</td>\n",
       "      <td>...</td>\n",
       "      <td>...</td>\n",
       "      <td>...</td>\n",
       "      <td>...</td>\n",
       "      <td>...</td>\n",
       "      <td>...</td>\n",
       "      <td>...</td>\n",
       "      <td>...</td>\n",
       "      <td>...</td>\n",
       "      <td>...</td>\n",
       "      <td>...</td>\n",
       "      <td>...</td>\n",
       "      <td>...</td>\n",
       "      <td>...</td>\n",
       "      <td>...</td>\n",
       "      <td>...</td>\n",
       "      <td>...</td>\n",
       "      <td>...</td>\n",
       "      <td>...</td>\n",
       "      <td>...</td>\n",
       "    </tr>\n",
       "    <tr>\n",
       "      <th>1790941</th>\n",
       "      <td>faxaxcagrmhrosmflhpy.com</td>\n",
       "      <td>1</td>\n",
       "      <td>102</td>\n",
       "      <td>97</td>\n",
       "      <td>120</td>\n",
       "      <td>97</td>\n",
       "      <td>120</td>\n",
       "      <td>99</td>\n",
       "      <td>97</td>\n",
       "      <td>103</td>\n",
       "      <td>...</td>\n",
       "      <td>0</td>\n",
       "      <td>0</td>\n",
       "      <td>0</td>\n",
       "      <td>0</td>\n",
       "      <td>0</td>\n",
       "      <td>0</td>\n",
       "      <td>0</td>\n",
       "      <td>0</td>\n",
       "      <td>0</td>\n",
       "      <td>0</td>\n",
       "    </tr>\n",
       "    <tr>\n",
       "      <th>1790942</th>\n",
       "      <td>inuqmdcivsmhpwyuyqdt.com</td>\n",
       "      <td>1</td>\n",
       "      <td>105</td>\n",
       "      <td>110</td>\n",
       "      <td>117</td>\n",
       "      <td>113</td>\n",
       "      <td>109</td>\n",
       "      <td>100</td>\n",
       "      <td>99</td>\n",
       "      <td>105</td>\n",
       "      <td>...</td>\n",
       "      <td>0</td>\n",
       "      <td>0</td>\n",
       "      <td>0</td>\n",
       "      <td>0</td>\n",
       "      <td>0</td>\n",
       "      <td>0</td>\n",
       "      <td>0</td>\n",
       "      <td>0</td>\n",
       "      <td>0</td>\n",
       "      <td>0</td>\n",
       "    </tr>\n",
       "    <tr>\n",
       "      <th>1790943</th>\n",
       "      <td>suudcivklyhovfkiaqvr.com</td>\n",
       "      <td>1</td>\n",
       "      <td>115</td>\n",
       "      <td>117</td>\n",
       "      <td>117</td>\n",
       "      <td>100</td>\n",
       "      <td>99</td>\n",
       "      <td>105</td>\n",
       "      <td>118</td>\n",
       "      <td>107</td>\n",
       "      <td>...</td>\n",
       "      <td>0</td>\n",
       "      <td>0</td>\n",
       "      <td>0</td>\n",
       "      <td>0</td>\n",
       "      <td>0</td>\n",
       "      <td>0</td>\n",
       "      <td>0</td>\n",
       "      <td>0</td>\n",
       "      <td>0</td>\n",
       "      <td>0</td>\n",
       "    </tr>\n",
       "    <tr>\n",
       "      <th>1790944</th>\n",
       "      <td>xjcysntwmphvificccgx.com</td>\n",
       "      <td>1</td>\n",
       "      <td>120</td>\n",
       "      <td>106</td>\n",
       "      <td>99</td>\n",
       "      <td>121</td>\n",
       "      <td>115</td>\n",
       "      <td>110</td>\n",
       "      <td>116</td>\n",
       "      <td>119</td>\n",
       "      <td>...</td>\n",
       "      <td>0</td>\n",
       "      <td>0</td>\n",
       "      <td>0</td>\n",
       "      <td>0</td>\n",
       "      <td>0</td>\n",
       "      <td>0</td>\n",
       "      <td>0</td>\n",
       "      <td>0</td>\n",
       "      <td>0</td>\n",
       "      <td>0</td>\n",
       "    </tr>\n",
       "    <tr>\n",
       "      <th>1790945</th>\n",
       "      <td>mwtpvpasptrcurntnpew.com</td>\n",
       "      <td>1</td>\n",
       "      <td>109</td>\n",
       "      <td>119</td>\n",
       "      <td>116</td>\n",
       "      <td>112</td>\n",
       "      <td>118</td>\n",
       "      <td>112</td>\n",
       "      <td>97</td>\n",
       "      <td>115</td>\n",
       "      <td>...</td>\n",
       "      <td>0</td>\n",
       "      <td>0</td>\n",
       "      <td>0</td>\n",
       "      <td>0</td>\n",
       "      <td>0</td>\n",
       "      <td>0</td>\n",
       "      <td>0</td>\n",
       "      <td>0</td>\n",
       "      <td>0</td>\n",
       "      <td>0</td>\n",
       "    </tr>\n",
       "  </tbody>\n",
       "</table>\n",
       "<p>1790946 rows × 72 columns</p>\n",
       "</div>"
      ],
      "text/plain": [
       "                           domain  label    2    3    4    5    6    7    8  \\\n",
       "0                        wwoof.fr      0  119  119  111  111  102   46  102   \n",
       "1                 digimanthan.com      0  100  105  103  105  109   97  110   \n",
       "2                        injo.com      0  105  110  106  111   46   99  111   \n",
       "3               aclanthology.info      0   97   99  108   97  110  116  104   \n",
       "4                aseabreeze.co.uk      0   97  115  101   97   98  114  101   \n",
       "...                           ...    ...  ...  ...  ...  ...  ...  ...  ...   \n",
       "1790941  faxaxcagrmhrosmflhpy.com      1  102   97  120   97  120   99   97   \n",
       "1790942  inuqmdcivsmhpwyuyqdt.com      1  105  110  117  113  109  100   99   \n",
       "1790943  suudcivklyhovfkiaqvr.com      1  115  117  117  100   99  105  118   \n",
       "1790944  xjcysntwmphvificccgx.com      1  120  106   99  121  115  110  116   \n",
       "1790945  mwtpvpasptrcurntnpew.com      1  109  119  116  112  118  112   97   \n",
       "\n",
       "           9  ...  62  63  64  65  66  67  68  69  70  71  \n",
       "0        114  ...   0   0   0   0   0   0   0   0   0   0  \n",
       "1        116  ...   0   0   0   0   0   0   0   0   0   0  \n",
       "2        109  ...   0   0   0   0   0   0   0   0   0   0  \n",
       "3        111  ...   0   0   0   0   0   0   0   0   0   0  \n",
       "4        101  ...   0   0   0   0   0   0   0   0   0   0  \n",
       "...      ...  ...  ..  ..  ..  ..  ..  ..  ..  ..  ..  ..  \n",
       "1790941  103  ...   0   0   0   0   0   0   0   0   0   0  \n",
       "1790942  105  ...   0   0   0   0   0   0   0   0   0   0  \n",
       "1790943  107  ...   0   0   0   0   0   0   0   0   0   0  \n",
       "1790944  119  ...   0   0   0   0   0   0   0   0   0   0  \n",
       "1790945  115  ...   0   0   0   0   0   0   0   0   0   0  \n",
       "\n",
       "[1790946 rows x 72 columns]"
      ]
     },
     "execution_count": 7,
     "metadata": {},
     "output_type": "execute_result"
    }
   ],
   "source": [
    "df_treino = pd.concat([majestic.sample(500000, random_state=1),dga], axis = 0, ignore_index=True)\n",
    "df_treino"
   ]
  },
  {
   "cell_type": "code",
   "execution_count": 8,
   "id": "9b88b729-c918-4005-bfa8-a8ae74db10e1",
   "metadata": {},
   "outputs": [],
   "source": [
    "X_train = df_treino.drop(['domain','label'], axis = 1)\n",
    "y_train = df_treino['label']"
   ]
  },
  {
   "cell_type": "code",
   "execution_count": 9,
   "id": "8cbcfc0f-4480-468f-abf4-372651f4d0e2",
   "metadata": {},
   "outputs": [],
   "source": [
    "X_train = X_train.to_numpy()\n",
    "y_train = y_train.to_numpy()"
   ]
  },
  {
   "cell_type": "code",
   "execution_count": 10,
   "id": "910e5b4d-e8d6-46f9-979f-66628ace55b3",
   "metadata": {},
   "outputs": [
    {
     "data": {
      "text/plain": [
       "(1790946, 70)"
      ]
     },
     "execution_count": 10,
     "metadata": {},
     "output_type": "execute_result"
    }
   ],
   "source": [
    "X_train.shape"
   ]
  },
  {
   "cell_type": "code",
   "execution_count": 11,
   "id": "6939e7a1-2411-4716-be28-356bf73e646a",
   "metadata": {},
   "outputs": [
    {
     "name": "stderr",
     "output_type": "stream",
     "text": [
      "2024-01-16 09:34:14.858853: I tensorflow/compiler/xla/stream_executor/cuda/cuda_gpu_executor.cc:995] successful NUMA node read from SysFS had negative value (-1), but there must be at least one NUMA node, so returning NUMA node zero. See more at https://github.com/torvalds/linux/blob/v6.0/Documentation/ABI/testing/sysfs-bus-pci#L344-L355\n",
      "2024-01-16 09:34:14.904884: I tensorflow/compiler/xla/stream_executor/cuda/cuda_gpu_executor.cc:995] successful NUMA node read from SysFS had negative value (-1), but there must be at least one NUMA node, so returning NUMA node zero. See more at https://github.com/torvalds/linux/blob/v6.0/Documentation/ABI/testing/sysfs-bus-pci#L344-L355\n",
      "2024-01-16 09:34:14.905030: I tensorflow/compiler/xla/stream_executor/cuda/cuda_gpu_executor.cc:995] successful NUMA node read from SysFS had negative value (-1), but there must be at least one NUMA node, so returning NUMA node zero. See more at https://github.com/torvalds/linux/blob/v6.0/Documentation/ABI/testing/sysfs-bus-pci#L344-L355\n",
      "2024-01-16 09:34:14.906013: I tensorflow/compiler/xla/stream_executor/cuda/cuda_gpu_executor.cc:995] successful NUMA node read from SysFS had negative value (-1), but there must be at least one NUMA node, so returning NUMA node zero. See more at https://github.com/torvalds/linux/blob/v6.0/Documentation/ABI/testing/sysfs-bus-pci#L344-L355\n",
      "2024-01-16 09:34:14.906132: I tensorflow/compiler/xla/stream_executor/cuda/cuda_gpu_executor.cc:995] successful NUMA node read from SysFS had negative value (-1), but there must be at least one NUMA node, so returning NUMA node zero. See more at https://github.com/torvalds/linux/blob/v6.0/Documentation/ABI/testing/sysfs-bus-pci#L344-L355\n",
      "2024-01-16 09:34:14.906209: I tensorflow/compiler/xla/stream_executor/cuda/cuda_gpu_executor.cc:995] successful NUMA node read from SysFS had negative value (-1), but there must be at least one NUMA node, so returning NUMA node zero. See more at https://github.com/torvalds/linux/blob/v6.0/Documentation/ABI/testing/sysfs-bus-pci#L344-L355\n",
      "2024-01-16 09:34:15.162764: I tensorflow/compiler/xla/stream_executor/cuda/cuda_gpu_executor.cc:995] successful NUMA node read from SysFS had negative value (-1), but there must be at least one NUMA node, so returning NUMA node zero. See more at https://github.com/torvalds/linux/blob/v6.0/Documentation/ABI/testing/sysfs-bus-pci#L344-L355\n",
      "2024-01-16 09:34:15.162894: I tensorflow/compiler/xla/stream_executor/cuda/cuda_gpu_executor.cc:995] successful NUMA node read from SysFS had negative value (-1), but there must be at least one NUMA node, so returning NUMA node zero. See more at https://github.com/torvalds/linux/blob/v6.0/Documentation/ABI/testing/sysfs-bus-pci#L344-L355\n",
      "2024-01-16 09:34:15.162972: I tensorflow/compiler/xla/stream_executor/cuda/cuda_gpu_executor.cc:995] successful NUMA node read from SysFS had negative value (-1), but there must be at least one NUMA node, so returning NUMA node zero. See more at https://github.com/torvalds/linux/blob/v6.0/Documentation/ABI/testing/sysfs-bus-pci#L344-L355\n",
      "2024-01-16 09:34:15.163044: I tensorflow/core/common_runtime/gpu/gpu_device.cc:1639] Created device /job:localhost/replica:0/task:0/device:GPU:0 with 2082 MB memory:  -> device: 0, name: NVIDIA GeForce RTX 3050 Laptop GPU, pci bus id: 0000:01:00.0, compute capability: 8.6\n"
     ]
    }
   ],
   "source": [
    "model_bin = tf.keras.models.load_model('best_model_fase3')"
   ]
  },
  {
   "cell_type": "code",
   "execution_count": 12,
   "id": "a5a587ea-459f-4074-aee1-5b86c16f29c0",
   "metadata": {},
   "outputs": [],
   "source": [
    "best = tf.keras.callbacks.ModelCheckpoint(\n",
    "    filepath='best_model_fase4',\n",
    "    save_weights_only=False,\n",
    "    monitor='val_accuracy',\n",
    "    mode='max',\n",
    "    save_best_only=True)"
   ]
  },
  {
   "cell_type": "code",
   "execution_count": 13,
   "id": "eae6cfe2-a7f8-405b-b9a8-7e3edc307260",
   "metadata": {},
   "outputs": [],
   "source": [
    "# Ajustando uso de memoria RAM e GPU\n",
    "physical_devices = tf.config.list_physical_devices('GPU')\n",
    "try:\n",
    "  tf.config.experimental.set_memory_growth(physical_devices[0], True)\n",
    "except:\n",
    "  pass"
   ]
  },
  {
   "cell_type": "code",
   "execution_count": 14,
   "id": "2cdc9679-2e8c-43c2-b142-d652fae54e19",
   "metadata": {},
   "outputs": [
    {
     "name": "stdout",
     "output_type": "stream",
     "text": [
      "Epoch 1/5\n"
     ]
    },
    {
     "name": "stderr",
     "output_type": "stream",
     "text": [
      "2024-01-16 09:34:17.770993: I tensorflow/compiler/xla/stream_executor/cuda/cuda_dnn.cc:432] Loaded cuDNN version 8902\n",
      "2024-01-16 09:34:18.263436: I tensorflow/compiler/xla/stream_executor/cuda/cuda_blas.cc:606] TensorFloat-32 will be used for the matrix multiplication. This will only be logged once.\n",
      "2024-01-16 09:34:18.265750: I tensorflow/compiler/xla/service/service.cc:168] XLA service 0x7f291c015940 initialized for platform CUDA (this does not guarantee that XLA will be used). Devices:\n",
      "2024-01-16 09:34:18.265764: I tensorflow/compiler/xla/service/service.cc:176]   StreamExecutor device (0): NVIDIA GeForce RTX 3050 Laptop GPU, Compute Capability 8.6\n",
      "2024-01-16 09:34:18.269640: I tensorflow/compiler/mlir/tensorflow/utils/dump_mlir_util.cc:255] disabling MLIR crash reproducer, set env var `MLIR_CRASH_REPRODUCER_DIRECTORY` to enable.\n",
      "2024-01-16 09:34:18.351261: I ./tensorflow/compiler/jit/device_compiler.h:186] Compiled cluster using XLA!  This line is logged at most once for the lifetime of the process.\n"
     ]
    },
    {
     "name": "stdout",
     "output_type": "stream",
     "text": [
      "14328/14328 [==============================] - ETA: 0s - loss: 0.0312 - accuracy: 0.9895INFO:tensorflow:Assets written to: best_model_fase4/assets\n"
     ]
    },
    {
     "name": "stderr",
     "output_type": "stream",
     "text": [
      "INFO:tensorflow:Assets written to: best_model_fase4/assets\n"
     ]
    },
    {
     "name": "stdout",
     "output_type": "stream",
     "text": [
      "14328/14328 [==============================] - 347s 24ms/step - loss: 0.0312 - accuracy: 0.9895 - val_loss: 0.0493 - val_accuracy: 0.9810\n",
      "Epoch 2/5\n",
      "14328/14328 [==============================] - 321s 22ms/step - loss: 0.0249 - accuracy: 0.9917 - val_loss: 0.0551 - val_accuracy: 0.9796\n",
      "Epoch 3/5\n",
      "14328/14328 [==============================] - 321s 22ms/step - loss: 0.0206 - accuracy: 0.9934 - val_loss: 0.0793 - val_accuracy: 0.9703\n",
      "Epoch 4/5\n",
      "14328/14328 [==============================] - 323s 23ms/step - loss: 0.0175 - accuracy: 0.9945 - val_loss: 0.0702 - val_accuracy: 0.9758\n",
      "Epoch 5/5\n",
      "14328/14328 [==============================] - 322s 22ms/step - loss: 0.0148 - accuracy: 0.9955 - val_loss: 0.0666 - val_accuracy: 0.9781\n"
     ]
    },
    {
     "data": {
      "text/plain": [
       "<keras.src.callbacks.History at 0x7f2b01653340>"
      ]
     },
     "execution_count": 14,
     "metadata": {},
     "output_type": "execute_result"
    }
   ],
   "source": [
    "model_bin.fit(X_train, y_train,\n",
    "              epochs=5,\n",
    "              callbacks = [best],\n",
    "              validation_split = 0.2,\n",
    "              batch_size=100)"
   ]
  },
  {
   "cell_type": "code",
   "execution_count": 15,
   "id": "23e70b0a-eaa5-4905-ac95-d6fb65fc604e",
   "metadata": {},
   "outputs": [
    {
     "name": "stderr",
     "output_type": "stream",
     "text": [
      "2024-01-16 10:01:29.909663: W tensorflow/core/util/tensor_slice_reader.cc:97] Could not open best_model_fase4: FAILED_PRECONDITION: best_model_fase4; É um diretório: perhaps your file is in a different file format and you need to use a different restore operator?\n"
     ]
    },
    {
     "data": {
      "text/plain": [
       "<tensorflow.python.checkpoint.checkpoint.CheckpointLoadStatus at 0x7f2b01647130>"
      ]
     },
     "execution_count": 15,
     "metadata": {},
     "output_type": "execute_result"
    }
   ],
   "source": [
    "model_bin.load_weights('best_model_fase4')"
   ]
  },
  {
   "cell_type": "code",
   "execution_count": 16,
   "id": "8294504d-107b-4fd5-b2ce-b52a0e9342d8",
   "metadata": {},
   "outputs": [],
   "source": [
    "legit = majestic.loc[~majestic['domain'].isin(df_treino['domain'])].reset_index(drop=True)"
   ]
  },
  {
   "cell_type": "markdown",
   "id": "74fbe067-f571-4cd6-b1d9-72376e92114f",
   "metadata": {},
   "source": [
    "## Teste 4"
   ]
  },
  {
   "cell_type": "code",
   "execution_count": 17,
   "id": "fce88fd9-a33a-421a-826e-902ade07df74",
   "metadata": {},
   "outputs": [],
   "source": [
    "dga = pd.read_csv('./teste/df_teste4.csv')"
   ]
  },
  {
   "cell_type": "code",
   "execution_count": 18,
   "id": "05d95a70-3b43-4934-ae71-581a48d0df32",
   "metadata": {},
   "outputs": [],
   "source": [
    "dga = dga.drop('family', axis = 1)"
   ]
  },
  {
   "cell_type": "code",
   "execution_count": 19,
   "id": "7fcbd860-3eaf-4dd3-9b16-02674b3e6173",
   "metadata": {},
   "outputs": [],
   "source": [
    "dga.columns = legit.columns"
   ]
  },
  {
   "cell_type": "code",
   "execution_count": 20,
   "id": "bd30a747-b143-456e-9cd5-10095e1786b1",
   "metadata": {},
   "outputs": [],
   "source": [
    "df_teste = pd.concat([legit,dga], axis = 0, ignore_index=True)"
   ]
  },
  {
   "cell_type": "code",
   "execution_count": 21,
   "id": "1859b4ef-330c-4a5a-a390-eac9e8f1d833",
   "metadata": {},
   "outputs": [],
   "source": [
    "X_test = df_teste.drop(['domain','label'], axis = 1)\n",
    "y_test = df_teste['label']"
   ]
  },
  {
   "cell_type": "code",
   "execution_count": 22,
   "id": "738ef2b4-7d32-4714-9f50-edb0009370ef",
   "metadata": {},
   "outputs": [],
   "source": [
    "X_test = X_test.to_numpy()\n",
    "y_test = y_test.to_numpy()"
   ]
  },
  {
   "cell_type": "code",
   "execution_count": 23,
   "id": "4230f0a4-77e1-4fc6-9cbf-7245bd3b1ddf",
   "metadata": {},
   "outputs": [
    {
     "data": {
      "text/plain": [
       "(1961827, 70)"
      ]
     },
     "execution_count": 23,
     "metadata": {},
     "output_type": "execute_result"
    }
   ],
   "source": [
    "X_test.shape"
   ]
  },
  {
   "cell_type": "code",
   "execution_count": 24,
   "id": "dca43680-1b32-4c81-8e01-9341d1696e8b",
   "metadata": {},
   "outputs": [
    {
     "name": "stdout",
     "output_type": "stream",
     "text": [
      "61308/61308 [==============================] - 823s 13ms/step\n",
      "Matriz de Confusão\n",
      "[[ 485231   14769]\n",
      " [  37322 1424505]]\n",
      "Relatório de Classificação\n",
      "              precision    recall  f1-score   support\n",
      "\n",
      "           0     0.9286    0.9705    0.9491    500000\n",
      "           1     0.9897    0.9745    0.9820   1461827\n",
      "\n",
      "    accuracy                         0.9734   1961827\n",
      "   macro avg     0.9592    0.9725    0.9656   1961827\n",
      "weighted avg     0.9742    0.9734    0.9736   1961827\n",
      "\n"
     ]
    }
   ],
   "source": [
    "with tf.device('/cpu:0'):\n",
    "    predictions = model_bin.predict(X_test)\n",
    "    predictions = np.where(predictions > 0.5, 1, 0)\n",
    "    \n",
    "print('Matriz de Confusão')\n",
    "print(confusion_matrix(y_test,predictions))\n",
    "\n",
    "print('Relatório de Classificação')\n",
    "print(classification_report(y_test,predictions, digits=4))"
   ]
  },
  {
   "cell_type": "markdown",
   "id": "d00b5cad-adf5-4b87-b7f9-b0cdf3f56ec0",
   "metadata": {},
   "source": [
    "## Teste 5"
   ]
  },
  {
   "cell_type": "code",
   "execution_count": 25,
   "id": "b83b7b5a-12c2-4981-a319-fe038c48369f",
   "metadata": {},
   "outputs": [],
   "source": [
    "dga = pd.read_csv('./teste/df_teste5.csv')"
   ]
  },
  {
   "cell_type": "code",
   "execution_count": 26,
   "id": "6f0fbe51-6419-4ce7-9e7a-cf47386deb48",
   "metadata": {},
   "outputs": [],
   "source": [
    "dga = dga.drop('family', axis = 1)"
   ]
  },
  {
   "cell_type": "code",
   "execution_count": 27,
   "id": "151d077c-2920-4957-9ba0-3e052263413a",
   "metadata": {},
   "outputs": [],
   "source": [
    "dga.columns = legit.columns"
   ]
  },
  {
   "cell_type": "code",
   "execution_count": 28,
   "id": "502709f4-0ab8-4328-b740-2233a0724d1a",
   "metadata": {},
   "outputs": [],
   "source": [
    "df_teste = pd.concat([legit,dga], axis = 0, ignore_index=True)"
   ]
  },
  {
   "cell_type": "code",
   "execution_count": 29,
   "id": "920d9371-f393-4327-bfc5-72c81614418c",
   "metadata": {},
   "outputs": [],
   "source": [
    "X_test = df_teste.drop(['domain','label'], axis = 1)\n",
    "y_test = df_teste['label']"
   ]
  },
  {
   "cell_type": "code",
   "execution_count": 30,
   "id": "8fef0f02-6816-460e-aab4-886ab4793976",
   "metadata": {},
   "outputs": [],
   "source": [
    "X_test = X_test.to_numpy()\n",
    "y_test = y_test.to_numpy()"
   ]
  },
  {
   "cell_type": "code",
   "execution_count": 31,
   "id": "16cac70d-71df-45d9-825f-3799e2c66360",
   "metadata": {},
   "outputs": [
    {
     "data": {
      "text/plain": [
       "(1795392, 70)"
      ]
     },
     "execution_count": 31,
     "metadata": {},
     "output_type": "execute_result"
    }
   ],
   "source": [
    "X_test.shape"
   ]
  },
  {
   "cell_type": "code",
   "execution_count": 32,
   "id": "7b6afbb3-2a4e-49d1-9dad-2d0359ef9eb3",
   "metadata": {},
   "outputs": [
    {
     "name": "stdout",
     "output_type": "stream",
     "text": [
      "56106/56106 [==============================] - 694s 12ms/step\n",
      "Matriz de Confusão\n",
      "[[ 485231   14769]\n",
      " [  19834 1275558]]\n",
      "Relatório de Classificação\n",
      "              precision    recall  f1-score   support\n",
      "\n",
      "           0     0.9607    0.9705    0.9656    500000\n",
      "           1     0.9886    0.9847    0.9866   1295392\n",
      "\n",
      "    accuracy                         0.9807   1795392\n",
      "   macro avg     0.9746    0.9776    0.9761   1795392\n",
      "weighted avg     0.9808    0.9807    0.9808   1795392\n",
      "\n"
     ]
    }
   ],
   "source": [
    "with tf.device('/cpu:0'):\n",
    "    predictions = model_bin.predict(X_test)\n",
    "    predictions = np.where(predictions > 0.5, 1, 0)\n",
    "    \n",
    "print('Matriz de Confusão')\n",
    "print(confusion_matrix(y_test,predictions))\n",
    "\n",
    "print('Relatório de Classificação')\n",
    "print(classification_report(y_test,predictions, digits=4))"
   ]
  },
  {
   "cell_type": "markdown",
   "id": "1728afac-10a8-48a7-ac2e-92ad4a7ce127",
   "metadata": {},
   "source": [
    "## Teste 6"
   ]
  },
  {
   "cell_type": "code",
   "execution_count": 33,
   "id": "0c205fe9-8880-42fd-8fe5-79910fe2bccc",
   "metadata": {},
   "outputs": [],
   "source": [
    "dga = pd.read_csv('./teste/df_teste6.csv')"
   ]
  },
  {
   "cell_type": "code",
   "execution_count": 34,
   "id": "46e3d226-bf71-4af9-ab95-ce8728cf6566",
   "metadata": {},
   "outputs": [],
   "source": [
    "dga = dga.drop('family', axis = 1)"
   ]
  },
  {
   "cell_type": "code",
   "execution_count": 35,
   "id": "d5a53d3f-2247-4938-9711-3931e43f97f2",
   "metadata": {},
   "outputs": [],
   "source": [
    "dga.columns = legit.columns"
   ]
  },
  {
   "cell_type": "code",
   "execution_count": 36,
   "id": "15b740a3-b27a-4da4-86c2-9a1bb43568ea",
   "metadata": {},
   "outputs": [],
   "source": [
    "df_teste = pd.concat([legit,dga], axis = 0, ignore_index=True)"
   ]
  },
  {
   "cell_type": "code",
   "execution_count": 37,
   "id": "be3b8e7b-246b-4d52-8c16-c08753c35fe5",
   "metadata": {},
   "outputs": [],
   "source": [
    "X_test = df_teste.drop(['domain','label'], axis = 1)\n",
    "y_test = df_teste['label']"
   ]
  },
  {
   "cell_type": "code",
   "execution_count": 38,
   "id": "0a883ab5-84b6-4c2a-a96f-e89146652e2d",
   "metadata": {},
   "outputs": [],
   "source": [
    "X_test = X_test.to_numpy()\n",
    "y_test = y_test.to_numpy()"
   ]
  },
  {
   "cell_type": "code",
   "execution_count": 39,
   "id": "f31af003-aeb2-4ea2-a9f3-185629c1335f",
   "metadata": {},
   "outputs": [
    {
     "data": {
      "text/plain": [
       "(1946427, 70)"
      ]
     },
     "execution_count": 39,
     "metadata": {},
     "output_type": "execute_result"
    }
   ],
   "source": [
    "X_test.shape"
   ]
  },
  {
   "cell_type": "code",
   "execution_count": 40,
   "id": "1a844f01-15a7-43b3-9f56-23f0ad97accb",
   "metadata": {},
   "outputs": [
    {
     "name": "stdout",
     "output_type": "stream",
     "text": [
      "60826/60826 [==============================] - 733s 12ms/step\n",
      "Matriz de Confusão\n",
      "[[ 485231   14769]\n",
      " [  23129 1423298]]\n",
      "Relatório de Classificação\n",
      "              precision    recall  f1-score   support\n",
      "\n",
      "           0     0.9545    0.9705    0.9624    500000\n",
      "           1     0.9897    0.9840    0.9869   1446427\n",
      "\n",
      "    accuracy                         0.9805   1946427\n",
      "   macro avg     0.9721    0.9772    0.9746   1946427\n",
      "weighted avg     0.9807    0.9805    0.9806   1946427\n",
      "\n"
     ]
    }
   ],
   "source": [
    "with tf.device('/cpu:0'):\n",
    "    predictions = model_bin.predict(X_test)\n",
    "    predictions = np.where(predictions > 0.5, 1, 0)\n",
    "    \n",
    "print('Matriz de Confusão')\n",
    "print(confusion_matrix(y_test,predictions))\n",
    "\n",
    "print('Relatório de Classificação')\n",
    "print(classification_report(y_test,predictions, digits=4))"
   ]
  }
 ],
 "metadata": {
  "kernelspec": {
   "display_name": "Python 3 (ipykernel)",
   "language": "python",
   "name": "python3"
  },
  "language_info": {
   "codemirror_mode": {
    "name": "ipython",
    "version": 3
   },
   "file_extension": ".py",
   "mimetype": "text/x-python",
   "name": "python",
   "nbconvert_exporter": "python",
   "pygments_lexer": "ipython3",
   "version": "3.10.12"
  }
 },
 "nbformat": 4,
 "nbformat_minor": 5
}
