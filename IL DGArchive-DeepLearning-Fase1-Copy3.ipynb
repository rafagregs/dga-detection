{
 "cells": [
  {
   "cell_type": "code",
   "execution_count": 1,
   "id": "6d9813ff-3fce-4096-ba9b-14a32eb7f008",
   "metadata": {},
   "outputs": [
    {
     "name": "stderr",
     "output_type": "stream",
     "text": [
      "2024-01-24 08:19:08.112141: I tensorflow/core/util/port.cc:110] oneDNN custom operations are on. You may see slightly different numerical results due to floating-point round-off errors from different computation orders. To turn them off, set the environment variable `TF_ENABLE_ONEDNN_OPTS=0`.\n",
      "2024-01-24 08:19:08.360462: I tensorflow/core/platform/cpu_feature_guard.cc:182] This TensorFlow binary is optimized to use available CPU instructions in performance-critical operations.\n",
      "To enable the following instructions: AVX2 AVX512F AVX512_VNNI FMA, in other operations, rebuild TensorFlow with the appropriate compiler flags.\n",
      "2024-01-24 08:19:09.183317: W tensorflow/compiler/tf2tensorrt/utils/py_utils.cc:38] TF-TRT Warning: Could not find TensorRT\n"
     ]
    }
   ],
   "source": [
    "import pandas as pd\n",
    "import numpy as np\n",
    "import os\n",
    "import json\n",
    "import itertools as it\n",
    "import time\n",
    "import subprocess\n",
    "import matplotlib.pyplot as plt\n",
    "import seaborn as sns\n",
    "from sklearn.preprocessing import OneHotEncoder\n",
    "import tensorflow as tf\n",
    "from datetime import date, datetime, timedelta\n",
    "from tensorflow import keras\n",
    "from sklearn.metrics import confusion_matrix,classification_report,ConfusionMatrixDisplay\n",
    "from sklearn.metrics import accuracy_score, precision_score, recall_score, roc_auc_score, average_precision_score\n",
    "from tensorflow.keras import layers, losses\n",
    "from tensorflow.keras.models import Model\n",
    "import warnings\n",
    "warnings.filterwarnings(\"ignore\")"
   ]
  },
  {
   "cell_type": "code",
   "execution_count": 9,
   "id": "9ba3a040-0210-4876-b2ab-2884b11f3144",
   "metadata": {},
   "outputs": [
    {
     "data": {
      "text/html": [
       "<div>\n",
       "<style scoped>\n",
       "    .dataframe tbody tr th:only-of-type {\n",
       "        vertical-align: middle;\n",
       "    }\n",
       "\n",
       "    .dataframe tbody tr th {\n",
       "        vertical-align: top;\n",
       "    }\n",
       "\n",
       "    .dataframe thead th {\n",
       "        text-align: right;\n",
       "    }\n",
       "</style>\n",
       "<table border=\"1\" class=\"dataframe\">\n",
       "  <thead>\n",
       "    <tr style=\"text-align: right;\">\n",
       "      <th></th>\n",
       "      <th>domain</th>\n",
       "      <th>label</th>\n",
       "      <th>2</th>\n",
       "      <th>3</th>\n",
       "      <th>4</th>\n",
       "      <th>5</th>\n",
       "      <th>6</th>\n",
       "      <th>7</th>\n",
       "      <th>8</th>\n",
       "      <th>9</th>\n",
       "      <th>...</th>\n",
       "      <th>62</th>\n",
       "      <th>63</th>\n",
       "      <th>64</th>\n",
       "      <th>65</th>\n",
       "      <th>66</th>\n",
       "      <th>67</th>\n",
       "      <th>68</th>\n",
       "      <th>69</th>\n",
       "      <th>70</th>\n",
       "      <th>71</th>\n",
       "    </tr>\n",
       "  </thead>\n",
       "  <tbody>\n",
       "    <tr>\n",
       "      <th>0</th>\n",
       "      <td>google.com</td>\n",
       "      <td>0</td>\n",
       "      <td>103</td>\n",
       "      <td>111</td>\n",
       "      <td>111</td>\n",
       "      <td>103</td>\n",
       "      <td>108</td>\n",
       "      <td>101</td>\n",
       "      <td>46</td>\n",
       "      <td>99</td>\n",
       "      <td>...</td>\n",
       "      <td>0</td>\n",
       "      <td>0</td>\n",
       "      <td>0</td>\n",
       "      <td>0</td>\n",
       "      <td>0</td>\n",
       "      <td>0</td>\n",
       "      <td>0</td>\n",
       "      <td>0</td>\n",
       "      <td>0</td>\n",
       "      <td>0</td>\n",
       "    </tr>\n",
       "    <tr>\n",
       "      <th>1</th>\n",
       "      <td>facebook.com</td>\n",
       "      <td>0</td>\n",
       "      <td>102</td>\n",
       "      <td>97</td>\n",
       "      <td>99</td>\n",
       "      <td>101</td>\n",
       "      <td>98</td>\n",
       "      <td>111</td>\n",
       "      <td>111</td>\n",
       "      <td>107</td>\n",
       "      <td>...</td>\n",
       "      <td>0</td>\n",
       "      <td>0</td>\n",
       "      <td>0</td>\n",
       "      <td>0</td>\n",
       "      <td>0</td>\n",
       "      <td>0</td>\n",
       "      <td>0</td>\n",
       "      <td>0</td>\n",
       "      <td>0</td>\n",
       "      <td>0</td>\n",
       "    </tr>\n",
       "    <tr>\n",
       "      <th>2</th>\n",
       "      <td>youtube.com</td>\n",
       "      <td>0</td>\n",
       "      <td>121</td>\n",
       "      <td>111</td>\n",
       "      <td>117</td>\n",
       "      <td>116</td>\n",
       "      <td>117</td>\n",
       "      <td>98</td>\n",
       "      <td>101</td>\n",
       "      <td>46</td>\n",
       "      <td>...</td>\n",
       "      <td>0</td>\n",
       "      <td>0</td>\n",
       "      <td>0</td>\n",
       "      <td>0</td>\n",
       "      <td>0</td>\n",
       "      <td>0</td>\n",
       "      <td>0</td>\n",
       "      <td>0</td>\n",
       "      <td>0</td>\n",
       "      <td>0</td>\n",
       "    </tr>\n",
       "    <tr>\n",
       "      <th>3</th>\n",
       "      <td>twitter.com</td>\n",
       "      <td>0</td>\n",
       "      <td>116</td>\n",
       "      <td>119</td>\n",
       "      <td>105</td>\n",
       "      <td>116</td>\n",
       "      <td>116</td>\n",
       "      <td>101</td>\n",
       "      <td>114</td>\n",
       "      <td>46</td>\n",
       "      <td>...</td>\n",
       "      <td>0</td>\n",
       "      <td>0</td>\n",
       "      <td>0</td>\n",
       "      <td>0</td>\n",
       "      <td>0</td>\n",
       "      <td>0</td>\n",
       "      <td>0</td>\n",
       "      <td>0</td>\n",
       "      <td>0</td>\n",
       "      <td>0</td>\n",
       "    </tr>\n",
       "    <tr>\n",
       "      <th>4</th>\n",
       "      <td>instagram.com</td>\n",
       "      <td>0</td>\n",
       "      <td>105</td>\n",
       "      <td>110</td>\n",
       "      <td>115</td>\n",
       "      <td>116</td>\n",
       "      <td>97</td>\n",
       "      <td>103</td>\n",
       "      <td>114</td>\n",
       "      <td>97</td>\n",
       "      <td>...</td>\n",
       "      <td>0</td>\n",
       "      <td>0</td>\n",
       "      <td>0</td>\n",
       "      <td>0</td>\n",
       "      <td>0</td>\n",
       "      <td>0</td>\n",
       "      <td>0</td>\n",
       "      <td>0</td>\n",
       "      <td>0</td>\n",
       "      <td>0</td>\n",
       "    </tr>\n",
       "    <tr>\n",
       "      <th>...</th>\n",
       "      <td>...</td>\n",
       "      <td>...</td>\n",
       "      <td>...</td>\n",
       "      <td>...</td>\n",
       "      <td>...</td>\n",
       "      <td>...</td>\n",
       "      <td>...</td>\n",
       "      <td>...</td>\n",
       "      <td>...</td>\n",
       "      <td>...</td>\n",
       "      <td>...</td>\n",
       "      <td>...</td>\n",
       "      <td>...</td>\n",
       "      <td>...</td>\n",
       "      <td>...</td>\n",
       "      <td>...</td>\n",
       "      <td>...</td>\n",
       "      <td>...</td>\n",
       "      <td>...</td>\n",
       "      <td>...</td>\n",
       "      <td>...</td>\n",
       "    </tr>\n",
       "    <tr>\n",
       "      <th>999995</th>\n",
       "      <td>fidgit.com</td>\n",
       "      <td>0</td>\n",
       "      <td>102</td>\n",
       "      <td>105</td>\n",
       "      <td>100</td>\n",
       "      <td>103</td>\n",
       "      <td>105</td>\n",
       "      <td>116</td>\n",
       "      <td>46</td>\n",
       "      <td>99</td>\n",
       "      <td>...</td>\n",
       "      <td>0</td>\n",
       "      <td>0</td>\n",
       "      <td>0</td>\n",
       "      <td>0</td>\n",
       "      <td>0</td>\n",
       "      <td>0</td>\n",
       "      <td>0</td>\n",
       "      <td>0</td>\n",
       "      <td>0</td>\n",
       "      <td>0</td>\n",
       "    </tr>\n",
       "    <tr>\n",
       "      <th>999996</th>\n",
       "      <td>fixwindows10connections.com</td>\n",
       "      <td>0</td>\n",
       "      <td>102</td>\n",
       "      <td>105</td>\n",
       "      <td>120</td>\n",
       "      <td>119</td>\n",
       "      <td>105</td>\n",
       "      <td>110</td>\n",
       "      <td>100</td>\n",
       "      <td>111</td>\n",
       "      <td>...</td>\n",
       "      <td>0</td>\n",
       "      <td>0</td>\n",
       "      <td>0</td>\n",
       "      <td>0</td>\n",
       "      <td>0</td>\n",
       "      <td>0</td>\n",
       "      <td>0</td>\n",
       "      <td>0</td>\n",
       "      <td>0</td>\n",
       "      <td>0</td>\n",
       "    </tr>\n",
       "    <tr>\n",
       "      <th>999997</th>\n",
       "      <td>flyerguide.com</td>\n",
       "      <td>0</td>\n",
       "      <td>102</td>\n",
       "      <td>108</td>\n",
       "      <td>121</td>\n",
       "      <td>101</td>\n",
       "      <td>114</td>\n",
       "      <td>103</td>\n",
       "      <td>117</td>\n",
       "      <td>105</td>\n",
       "      <td>...</td>\n",
       "      <td>0</td>\n",
       "      <td>0</td>\n",
       "      <td>0</td>\n",
       "      <td>0</td>\n",
       "      <td>0</td>\n",
       "      <td>0</td>\n",
       "      <td>0</td>\n",
       "      <td>0</td>\n",
       "      <td>0</td>\n",
       "      <td>0</td>\n",
       "    </tr>\n",
       "    <tr>\n",
       "      <th>999998</th>\n",
       "      <td>forwardpathway.com</td>\n",
       "      <td>0</td>\n",
       "      <td>102</td>\n",
       "      <td>111</td>\n",
       "      <td>114</td>\n",
       "      <td>119</td>\n",
       "      <td>97</td>\n",
       "      <td>114</td>\n",
       "      <td>100</td>\n",
       "      <td>112</td>\n",
       "      <td>...</td>\n",
       "      <td>0</td>\n",
       "      <td>0</td>\n",
       "      <td>0</td>\n",
       "      <td>0</td>\n",
       "      <td>0</td>\n",
       "      <td>0</td>\n",
       "      <td>0</td>\n",
       "      <td>0</td>\n",
       "      <td>0</td>\n",
       "      <td>0</td>\n",
       "    </tr>\n",
       "    <tr>\n",
       "      <th>999999</th>\n",
       "      <td>fostersmarket.com</td>\n",
       "      <td>0</td>\n",
       "      <td>102</td>\n",
       "      <td>111</td>\n",
       "      <td>115</td>\n",
       "      <td>116</td>\n",
       "      <td>101</td>\n",
       "      <td>114</td>\n",
       "      <td>115</td>\n",
       "      <td>109</td>\n",
       "      <td>...</td>\n",
       "      <td>0</td>\n",
       "      <td>0</td>\n",
       "      <td>0</td>\n",
       "      <td>0</td>\n",
       "      <td>0</td>\n",
       "      <td>0</td>\n",
       "      <td>0</td>\n",
       "      <td>0</td>\n",
       "      <td>0</td>\n",
       "      <td>0</td>\n",
       "    </tr>\n",
       "  </tbody>\n",
       "</table>\n",
       "<p>1000000 rows × 72 columns</p>\n",
       "</div>"
      ],
      "text/plain": [
       "                             domain  label    2    3    4    5    6    7    8  \\\n",
       "0                        google.com      0  103  111  111  103  108  101   46   \n",
       "1                      facebook.com      0  102   97   99  101   98  111  111   \n",
       "2                       youtube.com      0  121  111  117  116  117   98  101   \n",
       "3                       twitter.com      0  116  119  105  116  116  101  114   \n",
       "4                     instagram.com      0  105  110  115  116   97  103  114   \n",
       "...                             ...    ...  ...  ...  ...  ...  ...  ...  ...   \n",
       "999995                   fidgit.com      0  102  105  100  103  105  116   46   \n",
       "999996  fixwindows10connections.com      0  102  105  120  119  105  110  100   \n",
       "999997               flyerguide.com      0  102  108  121  101  114  103  117   \n",
       "999998           forwardpathway.com      0  102  111  114  119   97  114  100   \n",
       "999999            fostersmarket.com      0  102  111  115  116  101  114  115   \n",
       "\n",
       "          9  ...  62  63  64  65  66  67  68  69  70  71  \n",
       "0        99  ...   0   0   0   0   0   0   0   0   0   0  \n",
       "1       107  ...   0   0   0   0   0   0   0   0   0   0  \n",
       "2        46  ...   0   0   0   0   0   0   0   0   0   0  \n",
       "3        46  ...   0   0   0   0   0   0   0   0   0   0  \n",
       "4        97  ...   0   0   0   0   0   0   0   0   0   0  \n",
       "...     ...  ...  ..  ..  ..  ..  ..  ..  ..  ..  ..  ..  \n",
       "999995   99  ...   0   0   0   0   0   0   0   0   0   0  \n",
       "999996  111  ...   0   0   0   0   0   0   0   0   0   0  \n",
       "999997  105  ...   0   0   0   0   0   0   0   0   0   0  \n",
       "999998  112  ...   0   0   0   0   0   0   0   0   0   0  \n",
       "999999  109  ...   0   0   0   0   0   0   0   0   0   0  \n",
       "\n",
       "[1000000 rows x 72 columns]"
      ]
     },
     "execution_count": 9,
     "metadata": {},
     "output_type": "execute_result"
    }
   ],
   "source": [
    "majestic = pd.read_csv('./treino/majestic_ascii.csv')\n",
    "majestic['69'] = 0\n",
    "majestic['70'] = 0\n",
    "majestic['71'] = 0\n",
    "majestic"
   ]
  },
  {
   "cell_type": "code",
   "execution_count": 10,
   "id": "c781d7a2-3096-43e3-b5e9-4c4943ae4958",
   "metadata": {},
   "outputs": [
    {
     "data": {
      "text/html": [
       "<div>\n",
       "<style scoped>\n",
       "    .dataframe tbody tr th:only-of-type {\n",
       "        vertical-align: middle;\n",
       "    }\n",
       "\n",
       "    .dataframe tbody tr th {\n",
       "        vertical-align: top;\n",
       "    }\n",
       "\n",
       "    .dataframe thead th {\n",
       "        text-align: right;\n",
       "    }\n",
       "</style>\n",
       "<table border=\"1\" class=\"dataframe\">\n",
       "  <thead>\n",
       "    <tr style=\"text-align: right;\">\n",
       "      <th></th>\n",
       "      <th>domain</th>\n",
       "      <th>label</th>\n",
       "      <th>3</th>\n",
       "      <th>4</th>\n",
       "      <th>5</th>\n",
       "      <th>6</th>\n",
       "      <th>7</th>\n",
       "      <th>8</th>\n",
       "      <th>9</th>\n",
       "      <th>10</th>\n",
       "      <th>...</th>\n",
       "      <th>63</th>\n",
       "      <th>64</th>\n",
       "      <th>65</th>\n",
       "      <th>66</th>\n",
       "      <th>67</th>\n",
       "      <th>68</th>\n",
       "      <th>69</th>\n",
       "      <th>70</th>\n",
       "      <th>71</th>\n",
       "      <th>72</th>\n",
       "    </tr>\n",
       "  </thead>\n",
       "  <tbody>\n",
       "    <tr>\n",
       "      <th>0</th>\n",
       "      <td>uzwdmrlhr.tk</td>\n",
       "      <td>1</td>\n",
       "      <td>117</td>\n",
       "      <td>122</td>\n",
       "      <td>119</td>\n",
       "      <td>100</td>\n",
       "      <td>109</td>\n",
       "      <td>114</td>\n",
       "      <td>108</td>\n",
       "      <td>104</td>\n",
       "      <td>...</td>\n",
       "      <td>0</td>\n",
       "      <td>0</td>\n",
       "      <td>0</td>\n",
       "      <td>0</td>\n",
       "      <td>0</td>\n",
       "      <td>0</td>\n",
       "      <td>0</td>\n",
       "      <td>0</td>\n",
       "      <td>0</td>\n",
       "      <td>0</td>\n",
       "    </tr>\n",
       "    <tr>\n",
       "      <th>1</th>\n",
       "      <td>uzwdmrlhr.com</td>\n",
       "      <td>1</td>\n",
       "      <td>117</td>\n",
       "      <td>122</td>\n",
       "      <td>119</td>\n",
       "      <td>100</td>\n",
       "      <td>109</td>\n",
       "      <td>114</td>\n",
       "      <td>108</td>\n",
       "      <td>104</td>\n",
       "      <td>...</td>\n",
       "      <td>0</td>\n",
       "      <td>0</td>\n",
       "      <td>0</td>\n",
       "      <td>0</td>\n",
       "      <td>0</td>\n",
       "      <td>0</td>\n",
       "      <td>0</td>\n",
       "      <td>0</td>\n",
       "      <td>0</td>\n",
       "      <td>0</td>\n",
       "    </tr>\n",
       "    <tr>\n",
       "      <th>2</th>\n",
       "      <td>uzwdmrlhr.pages.dev</td>\n",
       "      <td>1</td>\n",
       "      <td>117</td>\n",
       "      <td>122</td>\n",
       "      <td>119</td>\n",
       "      <td>100</td>\n",
       "      <td>109</td>\n",
       "      <td>114</td>\n",
       "      <td>108</td>\n",
       "      <td>104</td>\n",
       "      <td>...</td>\n",
       "      <td>0</td>\n",
       "      <td>0</td>\n",
       "      <td>0</td>\n",
       "      <td>0</td>\n",
       "      <td>0</td>\n",
       "      <td>0</td>\n",
       "      <td>0</td>\n",
       "      <td>0</td>\n",
       "      <td>0</td>\n",
       "      <td>0</td>\n",
       "    </tr>\n",
       "    <tr>\n",
       "      <th>3</th>\n",
       "      <td>rhrlwdumz.tk</td>\n",
       "      <td>1</td>\n",
       "      <td>114</td>\n",
       "      <td>104</td>\n",
       "      <td>114</td>\n",
       "      <td>108</td>\n",
       "      <td>119</td>\n",
       "      <td>100</td>\n",
       "      <td>117</td>\n",
       "      <td>109</td>\n",
       "      <td>...</td>\n",
       "      <td>0</td>\n",
       "      <td>0</td>\n",
       "      <td>0</td>\n",
       "      <td>0</td>\n",
       "      <td>0</td>\n",
       "      <td>0</td>\n",
       "      <td>0</td>\n",
       "      <td>0</td>\n",
       "      <td>0</td>\n",
       "      <td>0</td>\n",
       "    </tr>\n",
       "    <tr>\n",
       "      <th>4</th>\n",
       "      <td>rhrlwdumz.com</td>\n",
       "      <td>1</td>\n",
       "      <td>114</td>\n",
       "      <td>104</td>\n",
       "      <td>114</td>\n",
       "      <td>108</td>\n",
       "      <td>119</td>\n",
       "      <td>100</td>\n",
       "      <td>117</td>\n",
       "      <td>109</td>\n",
       "      <td>...</td>\n",
       "      <td>0</td>\n",
       "      <td>0</td>\n",
       "      <td>0</td>\n",
       "      <td>0</td>\n",
       "      <td>0</td>\n",
       "      <td>0</td>\n",
       "      <td>0</td>\n",
       "      <td>0</td>\n",
       "      <td>0</td>\n",
       "      <td>0</td>\n",
       "    </tr>\n",
       "    <tr>\n",
       "      <th>...</th>\n",
       "      <td>...</td>\n",
       "      <td>...</td>\n",
       "      <td>...</td>\n",
       "      <td>...</td>\n",
       "      <td>...</td>\n",
       "      <td>...</td>\n",
       "      <td>...</td>\n",
       "      <td>...</td>\n",
       "      <td>...</td>\n",
       "      <td>...</td>\n",
       "      <td>...</td>\n",
       "      <td>...</td>\n",
       "      <td>...</td>\n",
       "      <td>...</td>\n",
       "      <td>...</td>\n",
       "      <td>...</td>\n",
       "      <td>...</td>\n",
       "      <td>...</td>\n",
       "      <td>...</td>\n",
       "      <td>...</td>\n",
       "      <td>...</td>\n",
       "    </tr>\n",
       "    <tr>\n",
       "      <th>1352254</th>\n",
       "      <td>kwgjjpbcaaanbivklyxx.com</td>\n",
       "      <td>1</td>\n",
       "      <td>107</td>\n",
       "      <td>119</td>\n",
       "      <td>103</td>\n",
       "      <td>106</td>\n",
       "      <td>106</td>\n",
       "      <td>112</td>\n",
       "      <td>98</td>\n",
       "      <td>99</td>\n",
       "      <td>...</td>\n",
       "      <td>0</td>\n",
       "      <td>0</td>\n",
       "      <td>0</td>\n",
       "      <td>0</td>\n",
       "      <td>0</td>\n",
       "      <td>0</td>\n",
       "      <td>0</td>\n",
       "      <td>0</td>\n",
       "      <td>0</td>\n",
       "      <td>0</td>\n",
       "    </tr>\n",
       "    <tr>\n",
       "      <th>1352255</th>\n",
       "      <td>vxijfvgvihjnfvofxmyc.com</td>\n",
       "      <td>1</td>\n",
       "      <td>118</td>\n",
       "      <td>120</td>\n",
       "      <td>105</td>\n",
       "      <td>106</td>\n",
       "      <td>102</td>\n",
       "      <td>118</td>\n",
       "      <td>103</td>\n",
       "      <td>118</td>\n",
       "      <td>...</td>\n",
       "      <td>0</td>\n",
       "      <td>0</td>\n",
       "      <td>0</td>\n",
       "      <td>0</td>\n",
       "      <td>0</td>\n",
       "      <td>0</td>\n",
       "      <td>0</td>\n",
       "      <td>0</td>\n",
       "      <td>0</td>\n",
       "      <td>0</td>\n",
       "    </tr>\n",
       "    <tr>\n",
       "      <th>1352256</th>\n",
       "      <td>cepswmbgtknhtkhlsecg.com</td>\n",
       "      <td>1</td>\n",
       "      <td>99</td>\n",
       "      <td>101</td>\n",
       "      <td>112</td>\n",
       "      <td>115</td>\n",
       "      <td>119</td>\n",
       "      <td>109</td>\n",
       "      <td>98</td>\n",
       "      <td>103</td>\n",
       "      <td>...</td>\n",
       "      <td>0</td>\n",
       "      <td>0</td>\n",
       "      <td>0</td>\n",
       "      <td>0</td>\n",
       "      <td>0</td>\n",
       "      <td>0</td>\n",
       "      <td>0</td>\n",
       "      <td>0</td>\n",
       "      <td>0</td>\n",
       "      <td>0</td>\n",
       "    </tr>\n",
       "    <tr>\n",
       "      <th>1352257</th>\n",
       "      <td>tifjhjtouqmdlbkfnuow.com</td>\n",
       "      <td>1</td>\n",
       "      <td>116</td>\n",
       "      <td>105</td>\n",
       "      <td>102</td>\n",
       "      <td>106</td>\n",
       "      <td>104</td>\n",
       "      <td>106</td>\n",
       "      <td>116</td>\n",
       "      <td>111</td>\n",
       "      <td>...</td>\n",
       "      <td>0</td>\n",
       "      <td>0</td>\n",
       "      <td>0</td>\n",
       "      <td>0</td>\n",
       "      <td>0</td>\n",
       "      <td>0</td>\n",
       "      <td>0</td>\n",
       "      <td>0</td>\n",
       "      <td>0</td>\n",
       "      <td>0</td>\n",
       "    </tr>\n",
       "    <tr>\n",
       "      <th>1352258</th>\n",
       "      <td>gjrykbribvusoskfnuow.com</td>\n",
       "      <td>1</td>\n",
       "      <td>103</td>\n",
       "      <td>106</td>\n",
       "      <td>114</td>\n",
       "      <td>121</td>\n",
       "      <td>107</td>\n",
       "      <td>98</td>\n",
       "      <td>114</td>\n",
       "      <td>105</td>\n",
       "      <td>...</td>\n",
       "      <td>0</td>\n",
       "      <td>0</td>\n",
       "      <td>0</td>\n",
       "      <td>0</td>\n",
       "      <td>0</td>\n",
       "      <td>0</td>\n",
       "      <td>0</td>\n",
       "      <td>0</td>\n",
       "      <td>0</td>\n",
       "      <td>0</td>\n",
       "    </tr>\n",
       "  </tbody>\n",
       "</table>\n",
       "<p>1352259 rows × 72 columns</p>\n",
       "</div>"
      ],
      "text/plain": [
       "                           domain  label    3    4    5    6    7    8    9  \\\n",
       "0                    uzwdmrlhr.tk      1  117  122  119  100  109  114  108   \n",
       "1                   uzwdmrlhr.com      1  117  122  119  100  109  114  108   \n",
       "2             uzwdmrlhr.pages.dev      1  117  122  119  100  109  114  108   \n",
       "3                    rhrlwdumz.tk      1  114  104  114  108  119  100  117   \n",
       "4                   rhrlwdumz.com      1  114  104  114  108  119  100  117   \n",
       "...                           ...    ...  ...  ...  ...  ...  ...  ...  ...   \n",
       "1352254  kwgjjpbcaaanbivklyxx.com      1  107  119  103  106  106  112   98   \n",
       "1352255  vxijfvgvihjnfvofxmyc.com      1  118  120  105  106  102  118  103   \n",
       "1352256  cepswmbgtknhtkhlsecg.com      1   99  101  112  115  119  109   98   \n",
       "1352257  tifjhjtouqmdlbkfnuow.com      1  116  105  102  106  104  106  116   \n",
       "1352258  gjrykbribvusoskfnuow.com      1  103  106  114  121  107   98  114   \n",
       "\n",
       "          10  ...  63  64  65  66  67  68  69  70  71  72  \n",
       "0        104  ...   0   0   0   0   0   0   0   0   0   0  \n",
       "1        104  ...   0   0   0   0   0   0   0   0   0   0  \n",
       "2        104  ...   0   0   0   0   0   0   0   0   0   0  \n",
       "3        109  ...   0   0   0   0   0   0   0   0   0   0  \n",
       "4        109  ...   0   0   0   0   0   0   0   0   0   0  \n",
       "...      ...  ...  ..  ..  ..  ..  ..  ..  ..  ..  ..  ..  \n",
       "1352254   99  ...   0   0   0   0   0   0   0   0   0   0  \n",
       "1352255  118  ...   0   0   0   0   0   0   0   0   0   0  \n",
       "1352256  103  ...   0   0   0   0   0   0   0   0   0   0  \n",
       "1352257  111  ...   0   0   0   0   0   0   0   0   0   0  \n",
       "1352258  105  ...   0   0   0   0   0   0   0   0   0   0  \n",
       "\n",
       "[1352259 rows x 72 columns]"
      ]
     },
     "execution_count": 10,
     "metadata": {},
     "output_type": "execute_result"
    }
   ],
   "source": [
    "dga = pd.read_csv('./treino/df_train.csv')\n",
    "dga = dga.drop('family', axis = 1)\n",
    "dga"
   ]
  },
  {
   "cell_type": "code",
   "execution_count": 11,
   "id": "5676e746-4851-453d-8369-c5e57648d0d8",
   "metadata": {},
   "outputs": [],
   "source": [
    "dga.columns = majestic.columns"
   ]
  },
  {
   "cell_type": "code",
   "execution_count": 12,
   "id": "e163dad2-01d6-4a82-8adf-4c0a32760000",
   "metadata": {},
   "outputs": [],
   "source": [
    "dga = dga.loc[~dga['domain'].isin(majestic['domain'])].reset_index(drop=True)"
   ]
  },
  {
   "cell_type": "code",
   "execution_count": 13,
   "id": "5a7034d5-83a1-4a07-845c-59afb8afcee9",
   "metadata": {},
   "outputs": [
    {
     "data": {
      "text/html": [
       "<div>\n",
       "<style scoped>\n",
       "    .dataframe tbody tr th:only-of-type {\n",
       "        vertical-align: middle;\n",
       "    }\n",
       "\n",
       "    .dataframe tbody tr th {\n",
       "        vertical-align: top;\n",
       "    }\n",
       "\n",
       "    .dataframe thead th {\n",
       "        text-align: right;\n",
       "    }\n",
       "</style>\n",
       "<table border=\"1\" class=\"dataframe\">\n",
       "  <thead>\n",
       "    <tr style=\"text-align: right;\">\n",
       "      <th></th>\n",
       "      <th>domain</th>\n",
       "      <th>label</th>\n",
       "      <th>2</th>\n",
       "      <th>3</th>\n",
       "      <th>4</th>\n",
       "      <th>5</th>\n",
       "      <th>6</th>\n",
       "      <th>7</th>\n",
       "      <th>8</th>\n",
       "      <th>9</th>\n",
       "      <th>...</th>\n",
       "      <th>62</th>\n",
       "      <th>63</th>\n",
       "      <th>64</th>\n",
       "      <th>65</th>\n",
       "      <th>66</th>\n",
       "      <th>67</th>\n",
       "      <th>68</th>\n",
       "      <th>69</th>\n",
       "      <th>70</th>\n",
       "      <th>71</th>\n",
       "    </tr>\n",
       "  </thead>\n",
       "  <tbody>\n",
       "    <tr>\n",
       "      <th>0</th>\n",
       "      <td>wwoof.fr</td>\n",
       "      <td>0</td>\n",
       "      <td>119</td>\n",
       "      <td>119</td>\n",
       "      <td>111</td>\n",
       "      <td>111</td>\n",
       "      <td>102</td>\n",
       "      <td>46</td>\n",
       "      <td>102</td>\n",
       "      <td>114</td>\n",
       "      <td>...</td>\n",
       "      <td>0</td>\n",
       "      <td>0</td>\n",
       "      <td>0</td>\n",
       "      <td>0</td>\n",
       "      <td>0</td>\n",
       "      <td>0</td>\n",
       "      <td>0</td>\n",
       "      <td>0</td>\n",
       "      <td>0</td>\n",
       "      <td>0</td>\n",
       "    </tr>\n",
       "    <tr>\n",
       "      <th>1</th>\n",
       "      <td>digimanthan.com</td>\n",
       "      <td>0</td>\n",
       "      <td>100</td>\n",
       "      <td>105</td>\n",
       "      <td>103</td>\n",
       "      <td>105</td>\n",
       "      <td>109</td>\n",
       "      <td>97</td>\n",
       "      <td>110</td>\n",
       "      <td>116</td>\n",
       "      <td>...</td>\n",
       "      <td>0</td>\n",
       "      <td>0</td>\n",
       "      <td>0</td>\n",
       "      <td>0</td>\n",
       "      <td>0</td>\n",
       "      <td>0</td>\n",
       "      <td>0</td>\n",
       "      <td>0</td>\n",
       "      <td>0</td>\n",
       "      <td>0</td>\n",
       "    </tr>\n",
       "    <tr>\n",
       "      <th>2</th>\n",
       "      <td>injo.com</td>\n",
       "      <td>0</td>\n",
       "      <td>105</td>\n",
       "      <td>110</td>\n",
       "      <td>106</td>\n",
       "      <td>111</td>\n",
       "      <td>46</td>\n",
       "      <td>99</td>\n",
       "      <td>111</td>\n",
       "      <td>109</td>\n",
       "      <td>...</td>\n",
       "      <td>0</td>\n",
       "      <td>0</td>\n",
       "      <td>0</td>\n",
       "      <td>0</td>\n",
       "      <td>0</td>\n",
       "      <td>0</td>\n",
       "      <td>0</td>\n",
       "      <td>0</td>\n",
       "      <td>0</td>\n",
       "      <td>0</td>\n",
       "    </tr>\n",
       "    <tr>\n",
       "      <th>3</th>\n",
       "      <td>aclanthology.info</td>\n",
       "      <td>0</td>\n",
       "      <td>97</td>\n",
       "      <td>99</td>\n",
       "      <td>108</td>\n",
       "      <td>97</td>\n",
       "      <td>110</td>\n",
       "      <td>116</td>\n",
       "      <td>104</td>\n",
       "      <td>111</td>\n",
       "      <td>...</td>\n",
       "      <td>0</td>\n",
       "      <td>0</td>\n",
       "      <td>0</td>\n",
       "      <td>0</td>\n",
       "      <td>0</td>\n",
       "      <td>0</td>\n",
       "      <td>0</td>\n",
       "      <td>0</td>\n",
       "      <td>0</td>\n",
       "      <td>0</td>\n",
       "    </tr>\n",
       "    <tr>\n",
       "      <th>4</th>\n",
       "      <td>aseabreeze.co.uk</td>\n",
       "      <td>0</td>\n",
       "      <td>97</td>\n",
       "      <td>115</td>\n",
       "      <td>101</td>\n",
       "      <td>97</td>\n",
       "      <td>98</td>\n",
       "      <td>114</td>\n",
       "      <td>101</td>\n",
       "      <td>101</td>\n",
       "      <td>...</td>\n",
       "      <td>0</td>\n",
       "      <td>0</td>\n",
       "      <td>0</td>\n",
       "      <td>0</td>\n",
       "      <td>0</td>\n",
       "      <td>0</td>\n",
       "      <td>0</td>\n",
       "      <td>0</td>\n",
       "      <td>0</td>\n",
       "      <td>0</td>\n",
       "    </tr>\n",
       "    <tr>\n",
       "      <th>...</th>\n",
       "      <td>...</td>\n",
       "      <td>...</td>\n",
       "      <td>...</td>\n",
       "      <td>...</td>\n",
       "      <td>...</td>\n",
       "      <td>...</td>\n",
       "      <td>...</td>\n",
       "      <td>...</td>\n",
       "      <td>...</td>\n",
       "      <td>...</td>\n",
       "      <td>...</td>\n",
       "      <td>...</td>\n",
       "      <td>...</td>\n",
       "      <td>...</td>\n",
       "      <td>...</td>\n",
       "      <td>...</td>\n",
       "      <td>...</td>\n",
       "      <td>...</td>\n",
       "      <td>...</td>\n",
       "      <td>...</td>\n",
       "      <td>...</td>\n",
       "    </tr>\n",
       "    <tr>\n",
       "      <th>999995</th>\n",
       "      <td>h12cz81gp9t9s222dpro2n8la.com</td>\n",
       "      <td>1</td>\n",
       "      <td>104</td>\n",
       "      <td>49</td>\n",
       "      <td>50</td>\n",
       "      <td>99</td>\n",
       "      <td>122</td>\n",
       "      <td>56</td>\n",
       "      <td>49</td>\n",
       "      <td>103</td>\n",
       "      <td>...</td>\n",
       "      <td>0</td>\n",
       "      <td>0</td>\n",
       "      <td>0</td>\n",
       "      <td>0</td>\n",
       "      <td>0</td>\n",
       "      <td>0</td>\n",
       "      <td>0</td>\n",
       "      <td>0</td>\n",
       "      <td>0</td>\n",
       "      <td>0</td>\n",
       "    </tr>\n",
       "    <tr>\n",
       "      <th>999996</th>\n",
       "      <td>ykokieyqwseggkeq.xyz</td>\n",
       "      <td>1</td>\n",
       "      <td>121</td>\n",
       "      <td>107</td>\n",
       "      <td>111</td>\n",
       "      <td>107</td>\n",
       "      <td>105</td>\n",
       "      <td>101</td>\n",
       "      <td>121</td>\n",
       "      <td>113</td>\n",
       "      <td>...</td>\n",
       "      <td>0</td>\n",
       "      <td>0</td>\n",
       "      <td>0</td>\n",
       "      <td>0</td>\n",
       "      <td>0</td>\n",
       "      <td>0</td>\n",
       "      <td>0</td>\n",
       "      <td>0</td>\n",
       "      <td>0</td>\n",
       "      <td>0</td>\n",
       "    </tr>\n",
       "    <tr>\n",
       "      <th>999997</th>\n",
       "      <td>aefhjmajhhjr.bazar</td>\n",
       "      <td>1</td>\n",
       "      <td>97</td>\n",
       "      <td>101</td>\n",
       "      <td>102</td>\n",
       "      <td>104</td>\n",
       "      <td>106</td>\n",
       "      <td>109</td>\n",
       "      <td>97</td>\n",
       "      <td>106</td>\n",
       "      <td>...</td>\n",
       "      <td>0</td>\n",
       "      <td>0</td>\n",
       "      <td>0</td>\n",
       "      <td>0</td>\n",
       "      <td>0</td>\n",
       "      <td>0</td>\n",
       "      <td>0</td>\n",
       "      <td>0</td>\n",
       "      <td>0</td>\n",
       "      <td>0</td>\n",
       "    </tr>\n",
       "    <tr>\n",
       "      <th>999998</th>\n",
       "      <td>pkrgsrfiskhg.com</td>\n",
       "      <td>1</td>\n",
       "      <td>112</td>\n",
       "      <td>107</td>\n",
       "      <td>114</td>\n",
       "      <td>103</td>\n",
       "      <td>115</td>\n",
       "      <td>114</td>\n",
       "      <td>102</td>\n",
       "      <td>105</td>\n",
       "      <td>...</td>\n",
       "      <td>0</td>\n",
       "      <td>0</td>\n",
       "      <td>0</td>\n",
       "      <td>0</td>\n",
       "      <td>0</td>\n",
       "      <td>0</td>\n",
       "      <td>0</td>\n",
       "      <td>0</td>\n",
       "      <td>0</td>\n",
       "      <td>0</td>\n",
       "    </tr>\n",
       "    <tr>\n",
       "      <th>999999</th>\n",
       "      <td>b95b3f599edb663bdf9357a982f0a1e337.so</td>\n",
       "      <td>1</td>\n",
       "      <td>98</td>\n",
       "      <td>57</td>\n",
       "      <td>53</td>\n",
       "      <td>98</td>\n",
       "      <td>51</td>\n",
       "      <td>102</td>\n",
       "      <td>53</td>\n",
       "      <td>57</td>\n",
       "      <td>...</td>\n",
       "      <td>0</td>\n",
       "      <td>0</td>\n",
       "      <td>0</td>\n",
       "      <td>0</td>\n",
       "      <td>0</td>\n",
       "      <td>0</td>\n",
       "      <td>0</td>\n",
       "      <td>0</td>\n",
       "      <td>0</td>\n",
       "      <td>0</td>\n",
       "    </tr>\n",
       "  </tbody>\n",
       "</table>\n",
       "<p>1000000 rows × 72 columns</p>\n",
       "</div>"
      ],
      "text/plain": [
       "                                       domain  label    2    3    4    5    6  \\\n",
       "0                                    wwoof.fr      0  119  119  111  111  102   \n",
       "1                             digimanthan.com      0  100  105  103  105  109   \n",
       "2                                    injo.com      0  105  110  106  111   46   \n",
       "3                           aclanthology.info      0   97   99  108   97  110   \n",
       "4                            aseabreeze.co.uk      0   97  115  101   97   98   \n",
       "...                                       ...    ...  ...  ...  ...  ...  ...   \n",
       "999995          h12cz81gp9t9s222dpro2n8la.com      1  104   49   50   99  122   \n",
       "999996                   ykokieyqwseggkeq.xyz      1  121  107  111  107  105   \n",
       "999997                     aefhjmajhhjr.bazar      1   97  101  102  104  106   \n",
       "999998                       pkrgsrfiskhg.com      1  112  107  114  103  115   \n",
       "999999  b95b3f599edb663bdf9357a982f0a1e337.so      1   98   57   53   98   51   \n",
       "\n",
       "          7    8    9  ...  62  63  64  65  66  67  68  69  70  71  \n",
       "0        46  102  114  ...   0   0   0   0   0   0   0   0   0   0  \n",
       "1        97  110  116  ...   0   0   0   0   0   0   0   0   0   0  \n",
       "2        99  111  109  ...   0   0   0   0   0   0   0   0   0   0  \n",
       "3       116  104  111  ...   0   0   0   0   0   0   0   0   0   0  \n",
       "4       114  101  101  ...   0   0   0   0   0   0   0   0   0   0  \n",
       "...     ...  ...  ...  ...  ..  ..  ..  ..  ..  ..  ..  ..  ..  ..  \n",
       "999995   56   49  103  ...   0   0   0   0   0   0   0   0   0   0  \n",
       "999996  101  121  113  ...   0   0   0   0   0   0   0   0   0   0  \n",
       "999997  109   97  106  ...   0   0   0   0   0   0   0   0   0   0  \n",
       "999998  114  102  105  ...   0   0   0   0   0   0   0   0   0   0  \n",
       "999999  102   53   57  ...   0   0   0   0   0   0   0   0   0   0  \n",
       "\n",
       "[1000000 rows x 72 columns]"
      ]
     },
     "execution_count": 13,
     "metadata": {},
     "output_type": "execute_result"
    }
   ],
   "source": [
    "df_treino = pd.concat([majestic.sample(500000, random_state=1),dga.sample(500000, random_state = 1)], axis = 0, ignore_index=True)\n",
    "df_treino"
   ]
  },
  {
   "cell_type": "code",
   "execution_count": 14,
   "id": "94f6b43c-2654-4f8a-a87f-89fa44381693",
   "metadata": {},
   "outputs": [],
   "source": [
    "X_train = df_treino.drop(['domain','label'], axis = 1)\n",
    "y_train = df_treino['label']"
   ]
  },
  {
   "cell_type": "code",
   "execution_count": 15,
   "id": "654d8a89-38de-49b0-8624-f1657e8d6e49",
   "metadata": {},
   "outputs": [],
   "source": [
    "X_train = X_train.to_numpy()\n",
    "y_train = y_train.to_numpy()"
   ]
  },
  {
   "cell_type": "code",
   "execution_count": 16,
   "id": "79c31399-2610-462f-afc6-1b9a5567765a",
   "metadata": {},
   "outputs": [
    {
     "data": {
      "text/plain": [
       "(1000000, 70)"
      ]
     },
     "execution_count": 16,
     "metadata": {},
     "output_type": "execute_result"
    }
   ],
   "source": [
    "X_train.shape"
   ]
  },
  {
   "cell_type": "code",
   "execution_count": 17,
   "id": "ea436f37-3304-4f6f-a606-7306acf8818e",
   "metadata": {},
   "outputs": [],
   "source": [
    "#Carregando hyperparâmetros de regularizadores, otimizador e função de ativação\n",
    "l1l2 = keras.regularizers.l1_l2(l1=0.00001, l2=0.0001)\n",
    "opt = keras.optimizers.Adam(learning_rate=0.0001)\n",
    "fx = \"relu\""
   ]
  },
  {
   "cell_type": "code",
   "execution_count": 18,
   "id": "c4159eaf-763d-4461-831d-1363f7bffcb1",
   "metadata": {
    "scrolled": true
   },
   "outputs": [
    {
     "name": "stdout",
     "output_type": "stream",
     "text": [
      "Model: \"sequential\"\n",
      "_________________________________________________________________\n",
      " Layer (type)                Output Shape              Param #   \n",
      "=================================================================\n",
      " embedding (Embedding)       (None, 70, 60)            15360     \n",
      "                                                                 \n",
      " conv1d (Conv1D)             (None, 70, 500)           210500    \n",
      "                                                                 \n",
      " re_lu (ReLU)                (None, 70, 500)           0         \n",
      "                                                                 \n",
      " conv1d_1 (Conv1D)           (None, 70, 250)           750250    \n",
      "                                                                 \n",
      " re_lu_1 (ReLU)              (None, 70, 250)           0         \n",
      "                                                                 \n",
      " max_pooling1d (MaxPooling1  (None, 70, 250)           0         \n",
      " D)                                                              \n",
      "                                                                 \n",
      " conv1d_2 (Conv1D)           (None, 70, 120)           150120    \n",
      "                                                                 \n",
      " re_lu_2 (ReLU)              (None, 70, 120)           0         \n",
      "                                                                 \n",
      " conv1d_3 (Conv1D)           (None, 70, 60)            36060     \n",
      "                                                                 \n",
      " re_lu_3 (ReLU)              (None, 70, 60)            0         \n",
      "                                                                 \n",
      " max_pooling1d_1 (MaxPoolin  (None, 70, 60)            0         \n",
      " g1D)                                                            \n",
      "                                                                 \n",
      " conv1d_4 (Conv1D)           (None, 70, 30)            7230      \n",
      "                                                                 \n",
      " re_lu_4 (ReLU)              (None, 70, 30)            0         \n",
      "                                                                 \n",
      " conv1d_5 (Conv1D)           (None, 70, 30)            2730      \n",
      "                                                                 \n",
      " re_lu_5 (ReLU)              (None, 70, 30)            0         \n",
      "                                                                 \n",
      " max_pooling1d_2 (MaxPoolin  (None, 70, 30)            0         \n",
      " g1D)                                                            \n",
      "                                                                 \n",
      " flatten (Flatten)           (None, 2100)              0         \n",
      "                                                                 \n",
      " dense (Dense)               (None, 15)                31515     \n",
      "                                                                 \n",
      " dense_1 (Dense)             (None, 1)                 16        \n",
      "                                                                 \n",
      "=================================================================\n",
      "Total params: 1203781 (4.59 MB)\n",
      "Trainable params: 1203781 (4.59 MB)\n",
      "Non-trainable params: 0 (0.00 Byte)\n",
      "_________________________________________________________________\n"
     ]
    }
   ],
   "source": [
    "#Estrutura do modelo convolucional profundo\n",
    "model_bin = tf.keras.Sequential([\n",
    "      \n",
    "        layers.Embedding(input_dim=256,output_dim=60,input_length=70),\n",
    "    \n",
    "        layers.Conv1D(500, 7, activation=fx, activity_regularizer=l1l2, padding='same'),\n",
    "        layers.ReLU(),\n",
    "            \n",
    "        layers.Conv1D(250, 6, activation=fx, activity_regularizer=l1l2, padding='same'),\n",
    "        layers.ReLU(),\n",
    "        layers.MaxPooling1D(pool_size=6, strides=1, padding='same'),\n",
    "    \n",
    "        layers.Conv1D(120, 5, activation=fx, activity_regularizer=l1l2, padding='same'),\n",
    "        layers.ReLU(),\n",
    "    \n",
    "        layers.Conv1D(60, 5, activation=fx, activity_regularizer=l1l2, padding='same'),\n",
    "        layers.ReLU(),\n",
    "        layers.MaxPooling1D(pool_size=4, strides=1, padding='same'),\n",
    "    \n",
    "        layers.Conv1D(30, 4, activation=fx, activity_regularizer=l1l2, padding='same'),\n",
    "        layers.ReLU(),\n",
    "    \n",
    "        layers.Conv1D(30, 3, activation=fx, activity_regularizer=l1l2, padding='same'),\n",
    "        layers.ReLU(),\n",
    "        layers.MaxPooling1D(pool_size=3, strides=1, padding='same'),\n",
    "    \n",
    "        layers.Flatten(),\n",
    "        layers.Dense(15, activation=fx, activity_regularizer=l1l2),\n",
    "        layers.Dense(1, activation='sigmoid')])\n",
    "\n",
    "model_bin.compile(optimizer = opt, loss = 'binary_crossentropy', metrics='accuracy')\n",
    "model_bin.summary()"
   ]
  },
  {
   "cell_type": "code",
   "execution_count": 19,
   "id": "d9f0a8ad-d1a5-4bce-b4f8-231f9ea84a9c",
   "metadata": {},
   "outputs": [],
   "source": [
    "best = tf.keras.callbacks.ModelCheckpoint(\n",
    "    filepath='best_model_acc_balance',\n",
    "    save_weights_only=False,\n",
    "    monitor='accuracy',\n",
    "    mode='max',\n",
    "    save_best_only=True)"
   ]
  },
  {
   "cell_type": "code",
   "execution_count": 20,
   "id": "459b7eea-c733-41de-bf90-224511faae52",
   "metadata": {},
   "outputs": [],
   "source": [
    "# Ajustando uso de memoria RAM e GPU\n",
    "physical_devices = tf.config.list_physical_devices('GPU')\n",
    "try:\n",
    "  tf.config.experimental.set_memory_growth(physical_devices[0], True)\n",
    "except:\n",
    "  pass"
   ]
  },
  {
   "cell_type": "code",
   "execution_count": 21,
   "id": "749df9b4-1f90-46f1-9dc9-541e264473e2",
   "metadata": {},
   "outputs": [
    {
     "name": "stdout",
     "output_type": "stream",
     "text": [
      "Epoch 1/10\n",
      "3999/4000 [============================>.] - ETA: 0s - loss: 0.1246 - accuracy: 0.9548INFO:tensorflow:Assets written to: best_model_acc_balance/assets\n"
     ]
    },
    {
     "name": "stderr",
     "output_type": "stream",
     "text": [
      "INFO:tensorflow:Assets written to: best_model_acc_balance/assets\n"
     ]
    },
    {
     "name": "stdout",
     "output_type": "stream",
     "text": [
      "4000/4000 [==============================] - 164s 41ms/step - loss: 0.1246 - accuracy: 0.9548 - val_loss: 0.1063 - val_accuracy: 0.9615\n",
      "Epoch 2/10\n",
      "3999/4000 [============================>.] - ETA: 0s - loss: 0.0697 - accuracy: 0.9765INFO:tensorflow:Assets written to: best_model_acc_balance/assets\n"
     ]
    },
    {
     "name": "stderr",
     "output_type": "stream",
     "text": [
      "INFO:tensorflow:Assets written to: best_model_acc_balance/assets\n"
     ]
    },
    {
     "name": "stdout",
     "output_type": "stream",
     "text": [
      "4000/4000 [==============================] - 162s 41ms/step - loss: 0.0697 - accuracy: 0.9765 - val_loss: 0.0830 - val_accuracy: 0.9712\n",
      "Epoch 3/10\n",
      "3999/4000 [============================>.] - ETA: 0s - loss: 0.0549 - accuracy: 0.9816INFO:tensorflow:Assets written to: best_model_acc_balance/assets\n"
     ]
    },
    {
     "name": "stderr",
     "output_type": "stream",
     "text": [
      "INFO:tensorflow:Assets written to: best_model_acc_balance/assets\n"
     ]
    },
    {
     "name": "stdout",
     "output_type": "stream",
     "text": [
      "4000/4000 [==============================] - 162s 40ms/step - loss: 0.0549 - accuracy: 0.9816 - val_loss: 0.0905 - val_accuracy: 0.9697\n",
      "Epoch 4/10\n",
      "3999/4000 [============================>.] - ETA: 0s - loss: 0.0450 - accuracy: 0.9852INFO:tensorflow:Assets written to: best_model_acc_balance/assets\n"
     ]
    },
    {
     "name": "stderr",
     "output_type": "stream",
     "text": [
      "INFO:tensorflow:Assets written to: best_model_acc_balance/assets\n"
     ]
    },
    {
     "name": "stdout",
     "output_type": "stream",
     "text": [
      "4000/4000 [==============================] - 161s 40ms/step - loss: 0.0450 - accuracy: 0.9852 - val_loss: 0.1059 - val_accuracy: 0.9632\n",
      "Epoch 5/10\n",
      "3999/4000 [============================>.] - ETA: 0s - loss: 0.0365 - accuracy: 0.9883INFO:tensorflow:Assets written to: best_model_acc_balance/assets\n"
     ]
    },
    {
     "name": "stderr",
     "output_type": "stream",
     "text": [
      "INFO:tensorflow:Assets written to: best_model_acc_balance/assets\n"
     ]
    },
    {
     "name": "stdout",
     "output_type": "stream",
     "text": [
      "4000/4000 [==============================] - 162s 40ms/step - loss: 0.0365 - accuracy: 0.9883 - val_loss: 0.0746 - val_accuracy: 0.9751\n",
      "Epoch 6/10\n",
      "3999/4000 [============================>.] - ETA: 0s - loss: 0.0301 - accuracy: 0.9907INFO:tensorflow:Assets written to: best_model_acc_balance/assets\n"
     ]
    },
    {
     "name": "stderr",
     "output_type": "stream",
     "text": [
      "INFO:tensorflow:Assets written to: best_model_acc_balance/assets\n"
     ]
    },
    {
     "name": "stdout",
     "output_type": "stream",
     "text": [
      "4000/4000 [==============================] - 162s 40ms/step - loss: 0.0301 - accuracy: 0.9907 - val_loss: 0.0751 - val_accuracy: 0.9776\n",
      "Epoch 7/10\n",
      "3999/4000 [============================>.] - ETA: 0s - loss: 0.0249 - accuracy: 0.9925INFO:tensorflow:Assets written to: best_model_acc_balance/assets\n"
     ]
    },
    {
     "name": "stderr",
     "output_type": "stream",
     "text": [
      "INFO:tensorflow:Assets written to: best_model_acc_balance/assets\n"
     ]
    },
    {
     "name": "stdout",
     "output_type": "stream",
     "text": [
      "4000/4000 [==============================] - 162s 40ms/step - loss: 0.0249 - accuracy: 0.9925 - val_loss: 0.1265 - val_accuracy: 0.9616\n",
      "Epoch 8/10\n",
      "3999/4000 [============================>.] - ETA: 0s - loss: 0.0207 - accuracy: 0.9938INFO:tensorflow:Assets written to: best_model_acc_balance/assets\n"
     ]
    },
    {
     "name": "stderr",
     "output_type": "stream",
     "text": [
      "INFO:tensorflow:Assets written to: best_model_acc_balance/assets\n"
     ]
    },
    {
     "name": "stdout",
     "output_type": "stream",
     "text": [
      "4000/4000 [==============================] - 162s 41ms/step - loss: 0.0207 - accuracy: 0.9938 - val_loss: 0.1170 - val_accuracy: 0.9671\n",
      "Epoch 9/10\n",
      "3999/4000 [============================>.] - ETA: 0s - loss: 0.0177 - accuracy: 0.9949INFO:tensorflow:Assets written to: best_model_acc_balance/assets\n"
     ]
    },
    {
     "name": "stderr",
     "output_type": "stream",
     "text": [
      "INFO:tensorflow:Assets written to: best_model_acc_balance/assets\n"
     ]
    },
    {
     "name": "stdout",
     "output_type": "stream",
     "text": [
      "4000/4000 [==============================] - 162s 40ms/step - loss: 0.0177 - accuracy: 0.9949 - val_loss: 0.1373 - val_accuracy: 0.9630\n",
      "Epoch 10/10\n",
      "3999/4000 [============================>.] - ETA: 0s - loss: 0.0154 - accuracy: 0.9955INFO:tensorflow:Assets written to: best_model_acc_balance/assets\n"
     ]
    },
    {
     "name": "stderr",
     "output_type": "stream",
     "text": [
      "INFO:tensorflow:Assets written to: best_model_acc_balance/assets\n"
     ]
    },
    {
     "name": "stdout",
     "output_type": "stream",
     "text": [
      "4000/4000 [==============================] - 162s 40ms/step - loss: 0.0154 - accuracy: 0.9955 - val_loss: 0.1158 - val_accuracy: 0.9688\n"
     ]
    },
    {
     "data": {
      "text/plain": [
       "<keras.src.callbacks.History at 0x7f7581e69db0>"
      ]
     },
     "execution_count": 21,
     "metadata": {},
     "output_type": "execute_result"
    }
   ],
   "source": [
    "model_bin.fit(X_train, y_train,\n",
    "              epochs=10,\n",
    "              callbacks = [best],\n",
    "              validation_split = 0.2,\n",
    "              batch_size=200)"
   ]
  },
  {
   "cell_type": "code",
   "execution_count": 16,
   "id": "5354dd27-3843-4374-8aca-5b5d7e859f8d",
   "metadata": {},
   "outputs": [
    {
     "name": "stderr",
     "output_type": "stream",
     "text": [
      "2024-01-22 16:52:40.854717: W tensorflow/core/util/tensor_slice_reader.cc:97] Could not open best_model_acc: FAILED_PRECONDITION: best_model_acc; É um diretório: perhaps your file is in a different file format and you need to use a different restore operator?\n"
     ]
    },
    {
     "data": {
      "text/plain": [
       "<tensorflow.python.checkpoint.checkpoint.CheckpointLoadStatus at 0x7f320c2b2920>"
      ]
     },
     "execution_count": 16,
     "metadata": {},
     "output_type": "execute_result"
    }
   ],
   "source": [
    "model_bin.load_weights('best_model_acc_balance')"
   ]
  },
  {
   "cell_type": "code",
   "execution_count": 22,
   "id": "19bdafb8-1475-4b68-bcb3-077daaf1a938",
   "metadata": {},
   "outputs": [],
   "source": [
    "model_bin = tf.keras.models.load_model('best_model_acc_balance')"
   ]
  },
  {
   "cell_type": "code",
   "execution_count": 23,
   "id": "60c69042-9776-4bba-a526-8bfb87795758",
   "metadata": {},
   "outputs": [],
   "source": [
    "legit = majestic.loc[~majestic['domain'].isin(df_treino['domain'])].reset_index(drop=True)"
   ]
  },
  {
   "cell_type": "markdown",
   "id": "70ee22b4-82d7-4c68-8f7a-8cab94db2e5f",
   "metadata": {},
   "source": [
    "## Testes Treinamento Inicial"
   ]
  },
  {
   "cell_type": "code",
   "execution_count": 25,
   "id": "e72a3e5f-e1e1-45bf-b796-f42c84191518",
   "metadata": {},
   "outputs": [
    {
     "name": "stdout",
     "output_type": "stream",
     "text": [
      "31250/31250 [==============================] - 385s 12ms/step\n",
      "Matriz de Confusão Teste:  0\n",
      "[[490650   9350]\n",
      " [ 15423 484577]]\n",
      "Relatório de Classificação\n",
      "              precision    recall  f1-score   support\n",
      "\n",
      "           0     0.9695    0.9813    0.9754    500000\n",
      "           1     0.9811    0.9692    0.9751    500000\n",
      "\n",
      "    accuracy                         0.9752   1000000\n",
      "   macro avg     0.9753    0.9752    0.9752   1000000\n",
      "weighted avg     0.9753    0.9752    0.9752   1000000\n",
      "\n",
      "____________________\n",
      "31250/31250 [==============================] - 385s 12ms/step\n",
      "Matriz de Confusão Teste:  1\n",
      "[[490650   9350]\n",
      " [ 17071 482929]]\n",
      "Relatório de Classificação\n",
      "              precision    recall  f1-score   support\n",
      "\n",
      "           0     0.9664    0.9813    0.9738    500000\n",
      "           1     0.9810    0.9659    0.9734    500000\n",
      "\n",
      "    accuracy                         0.9736   1000000\n",
      "   macro avg     0.9737    0.9736    0.9736   1000000\n",
      "weighted avg     0.9737    0.9736    0.9736   1000000\n",
      "\n",
      "____________________\n",
      "31250/31250 [==============================] - 400s 13ms/step\n",
      "Matriz de Confusão Teste:  2\n",
      "[[490650   9350]\n",
      " [ 16343 483657]]\n",
      "Relatório de Classificação\n",
      "              precision    recall  f1-score   support\n",
      "\n",
      "           0     0.9678    0.9813    0.9745    500000\n",
      "           1     0.9810    0.9673    0.9741    500000\n",
      "\n",
      "    accuracy                         0.9743   1000000\n",
      "   macro avg     0.9744    0.9743    0.9743   1000000\n",
      "weighted avg     0.9744    0.9743    0.9743   1000000\n",
      "\n",
      "____________________\n",
      "31250/31250 [==============================] - 402s 13ms/step\n",
      "Matriz de Confusão Teste:  3\n",
      "[[490650   9350]\n",
      " [ 17880 482120]]\n",
      "Relatório de Classificação\n",
      "              precision    recall  f1-score   support\n",
      "\n",
      "           0     0.9648    0.9813    0.9730    500000\n",
      "           1     0.9810    0.9642    0.9725    500000\n",
      "\n",
      "    accuracy                         0.9728   1000000\n",
      "   macro avg     0.9729    0.9728    0.9728   1000000\n",
      "weighted avg     0.9729    0.9728    0.9728   1000000\n",
      "\n",
      "____________________\n",
      "31250/31250 [==============================] - 403s 13ms/step\n",
      "Matriz de Confusão Teste:  4\n",
      "[[490650   9350]\n",
      " [ 17046 482954]]\n",
      "Relatório de Classificação\n",
      "              precision    recall  f1-score   support\n",
      "\n",
      "           0     0.9664    0.9813    0.9738    500000\n",
      "           1     0.9810    0.9659    0.9734    500000\n",
      "\n",
      "    accuracy                         0.9736   1000000\n",
      "   macro avg     0.9737    0.9736    0.9736   1000000\n",
      "weighted avg     0.9737    0.9736    0.9736   1000000\n",
      "\n",
      "____________________\n",
      "31250/31250 [==============================] - 405s 13ms/step\n",
      "Matriz de Confusão Teste:  5\n",
      "[[490650   9350]\n",
      " [ 16045 483955]]\n",
      "Relatório de Classificação\n",
      "              precision    recall  f1-score   support\n",
      "\n",
      "           0     0.9683    0.9813    0.9748    500000\n",
      "           1     0.9810    0.9679    0.9744    500000\n",
      "\n",
      "    accuracy                         0.9746   1000000\n",
      "   macro avg     0.9747    0.9746    0.9746   1000000\n",
      "weighted avg     0.9747    0.9746    0.9746   1000000\n",
      "\n",
      "____________________\n",
      "31250/31250 [==============================] - 402s 13ms/step\n",
      "Matriz de Confusão Teste:  6\n",
      "[[490650   9350]\n",
      " [ 15974 484026]]\n",
      "Relatório de Classificação\n",
      "              precision    recall  f1-score   support\n",
      "\n",
      "           0     0.9685    0.9813    0.9748    500000\n",
      "           1     0.9810    0.9681    0.9745    500000\n",
      "\n",
      "    accuracy                         0.9747   1000000\n",
      "   macro avg     0.9748    0.9747    0.9747   1000000\n",
      "weighted avg     0.9748    0.9747    0.9747   1000000\n",
      "\n",
      "____________________\n",
      "31250/31250 [==============================] - 405s 13ms/step\n",
      "Matriz de Confusão Teste:  7\n",
      "[[490650   9350]\n",
      " [ 18501 481499]]\n",
      "Relatório de Classificação\n",
      "              precision    recall  f1-score   support\n",
      "\n",
      "           0     0.9637    0.9813    0.9724    500000\n",
      "           1     0.9810    0.9630    0.9719    500000\n",
      "\n",
      "    accuracy                         0.9721   1000000\n",
      "   macro avg     0.9723    0.9721    0.9721   1000000\n",
      "weighted avg     0.9723    0.9721    0.9721   1000000\n",
      "\n",
      "____________________\n",
      "31250/31250 [==============================] - 406s 13ms/step\n",
      "Matriz de Confusão Teste:  8\n",
      "[[490650   9350]\n",
      " [ 17119 482881]]\n",
      "Relatório de Classificação\n",
      "              precision    recall  f1-score   support\n",
      "\n",
      "           0     0.9663    0.9813    0.9737    500000\n",
      "           1     0.9810    0.9658    0.9733    500000\n",
      "\n",
      "    accuracy                         0.9735   1000000\n",
      "   macro avg     0.9736    0.9735    0.9735   1000000\n",
      "weighted avg     0.9736    0.9735    0.9735   1000000\n",
      "\n",
      "____________________\n",
      "31250/31250 [==============================] - 401s 13ms/step\n",
      "Matriz de Confusão Teste:  9\n",
      "[[490650   9350]\n",
      " [ 18291 481709]]\n",
      "Relatório de Classificação\n",
      "              precision    recall  f1-score   support\n",
      "\n",
      "           0     0.9641    0.9813    0.9726    500000\n",
      "           1     0.9810    0.9634    0.9721    500000\n",
      "\n",
      "    accuracy                         0.9724   1000000\n",
      "   macro avg     0.9725    0.9724    0.9724   1000000\n",
      "weighted avg     0.9725    0.9724    0.9724   1000000\n",
      "\n",
      "____________________\n",
      "31250/31250 [==============================] - 399s 13ms/step\n",
      "Matriz de Confusão Teste:  10\n",
      "[[490650   9350]\n",
      " [ 16416 483584]]\n",
      "Relatório de Classificação\n",
      "              precision    recall  f1-score   support\n",
      "\n",
      "           0     0.9676    0.9813    0.9744    500000\n",
      "           1     0.9810    0.9672    0.9741    500000\n",
      "\n",
      "    accuracy                         0.9742   1000000\n",
      "   macro avg     0.9743    0.9742    0.9742   1000000\n",
      "weighted avg     0.9743    0.9742    0.9742   1000000\n",
      "\n",
      "____________________\n",
      "31250/31250 [==============================] - 397s 13ms/step\n",
      "Matriz de Confusão Teste:  11\n",
      "[[490650   9350]\n",
      " [ 16276 483724]]\n",
      "Relatório de Classificação\n",
      "              precision    recall  f1-score   support\n",
      "\n",
      "           0     0.9679    0.9813    0.9746    500000\n",
      "           1     0.9810    0.9674    0.9742    500000\n",
      "\n",
      "    accuracy                         0.9744   1000000\n",
      "   macro avg     0.9745    0.9744    0.9744   1000000\n",
      "weighted avg     0.9745    0.9744    0.9744   1000000\n",
      "\n",
      "____________________\n"
     ]
    }
   ],
   "source": [
    "model_bin = tf.keras.models.load_model('best_model_acc_balance')\n",
    "\n",
    "for i in range (0,12):\n",
    "    dga = pd.read_csv('./teste/df_teste'+str(i)+'.csv')\n",
    "    dga = dga.drop('family', axis = 1)\n",
    "    dga = dga.loc[~dga['domain'].isin(majestic['domain'])].reset_index(drop=True)\n",
    "\n",
    "    dga.columns = legit.columns\n",
    "    df_teste = pd.concat([legit,dga.sample(500000, random_state = 1)], axis = 0, ignore_index=True)\n",
    "\n",
    "    X_test = df_teste.drop(['domain','label'], axis = 1)\n",
    "    y_test = df_teste['label']\n",
    "\n",
    "    X_test = X_test.to_numpy()\n",
    "    y_test = y_test.to_numpy()\n",
    "\n",
    "    with tf.device('/cpu:0'):\n",
    "        predictions = model_bin.predict(X_test)\n",
    "        predictions = np.where(predictions > 0.5, 1, 0)\n",
    "    \n",
    "    print('Matriz de Confusão Teste: ', str(i))\n",
    "    print(confusion_matrix(y_test,predictions))\n",
    "\n",
    "    print('Relatório de Classificação')\n",
    "    print(classification_report(y_test,predictions, digits=4))\n",
    "    print('____________________')"
   ]
  },
  {
   "cell_type": "markdown",
   "id": "8066481e-0abc-4ac4-9c7c-844a85610ece",
   "metadata": {},
   "source": [
    "## Teste Primeiro Treinamento Incremental"
   ]
  },
  {
   "cell_type": "code",
   "execution_count": 26,
   "id": "95d49cac-50e9-48e0-be8f-9d83344a2a99",
   "metadata": {},
   "outputs": [
    {
     "name": "stdout",
     "output_type": "stream",
     "text": [
      "Epoch 1/10\n",
      "4000/4000 [==============================] - ETA: 0s - loss: 0.0396 - accuracy: 0.9875INFO:tensorflow:Assets written to: best_model_acc_fase0_balance/assets\n"
     ]
    },
    {
     "name": "stderr",
     "output_type": "stream",
     "text": [
      "INFO:tensorflow:Assets written to: best_model_acc_fase0_balance/assets\n"
     ]
    },
    {
     "name": "stdout",
     "output_type": "stream",
     "text": [
      "4000/4000 [==============================] - 164s 41ms/step - loss: 0.0396 - accuracy: 0.9875 - val_loss: 0.0786 - val_accuracy: 0.9720\n",
      "Epoch 2/10\n",
      "4000/4000 [==============================] - ETA: 0s - loss: 0.0277 - accuracy: 0.9917INFO:tensorflow:Assets written to: best_model_acc_fase0_balance/assets\n"
     ]
    },
    {
     "name": "stderr",
     "output_type": "stream",
     "text": [
      "INFO:tensorflow:Assets written to: best_model_acc_fase0_balance/assets\n"
     ]
    },
    {
     "name": "stdout",
     "output_type": "stream",
     "text": [
      "4000/4000 [==============================] - 162s 41ms/step - loss: 0.0277 - accuracy: 0.9917 - val_loss: 0.0708 - val_accuracy: 0.9757\n",
      "Epoch 3/10\n",
      "3999/4000 [============================>.] - ETA: 0s - loss: 0.0213 - accuracy: 0.9938INFO:tensorflow:Assets written to: best_model_acc_fase0_balance/assets\n"
     ]
    },
    {
     "name": "stderr",
     "output_type": "stream",
     "text": [
      "INFO:tensorflow:Assets written to: best_model_acc_fase0_balance/assets\n"
     ]
    },
    {
     "name": "stdout",
     "output_type": "stream",
     "text": [
      "4000/4000 [==============================] - 161s 40ms/step - loss: 0.0213 - accuracy: 0.9938 - val_loss: 0.0643 - val_accuracy: 0.9793\n",
      "Epoch 4/10\n",
      "3999/4000 [============================>.] - ETA: 0s - loss: 0.0172 - accuracy: 0.9951INFO:tensorflow:Assets written to: best_model_acc_fase0_balance/assets\n"
     ]
    },
    {
     "name": "stderr",
     "output_type": "stream",
     "text": [
      "INFO:tensorflow:Assets written to: best_model_acc_fase0_balance/assets\n"
     ]
    },
    {
     "name": "stdout",
     "output_type": "stream",
     "text": [
      "4000/4000 [==============================] - 161s 40ms/step - loss: 0.0172 - accuracy: 0.9951 - val_loss: 0.1074 - val_accuracy: 0.9684\n",
      "Epoch 5/10\n",
      "3999/4000 [============================>.] - ETA: 0s - loss: 0.0143 - accuracy: 0.9961INFO:tensorflow:Assets written to: best_model_acc_fase0_balance/assets\n"
     ]
    },
    {
     "name": "stderr",
     "output_type": "stream",
     "text": [
      "INFO:tensorflow:Assets written to: best_model_acc_fase0_balance/assets\n"
     ]
    },
    {
     "name": "stdout",
     "output_type": "stream",
     "text": [
      "4000/4000 [==============================] - 161s 40ms/step - loss: 0.0143 - accuracy: 0.9961 - val_loss: 0.0875 - val_accuracy: 0.9768\n",
      "Epoch 6/10\n",
      "3999/4000 [============================>.] - ETA: 0s - loss: 0.0125 - accuracy: 0.9966INFO:tensorflow:Assets written to: best_model_acc_fase0_balance/assets\n"
     ]
    },
    {
     "name": "stderr",
     "output_type": "stream",
     "text": [
      "INFO:tensorflow:Assets written to: best_model_acc_fase0_balance/assets\n"
     ]
    },
    {
     "name": "stdout",
     "output_type": "stream",
     "text": [
      "4000/4000 [==============================] - 161s 40ms/step - loss: 0.0125 - accuracy: 0.9966 - val_loss: 0.0741 - val_accuracy: 0.9804\n",
      "Epoch 7/10\n",
      "3999/4000 [============================>.] - ETA: 0s - loss: 0.0111 - accuracy: 0.9970INFO:tensorflow:Assets written to: best_model_acc_fase0_balance/assets\n"
     ]
    },
    {
     "name": "stderr",
     "output_type": "stream",
     "text": [
      "INFO:tensorflow:Assets written to: best_model_acc_fase0_balance/assets\n"
     ]
    },
    {
     "name": "stdout",
     "output_type": "stream",
     "text": [
      "4000/4000 [==============================] - 161s 40ms/step - loss: 0.0111 - accuracy: 0.9970 - val_loss: 0.1113 - val_accuracy: 0.9711\n",
      "Epoch 8/10\n",
      "3999/4000 [============================>.] - ETA: 0s - loss: 0.0102 - accuracy: 0.9973INFO:tensorflow:Assets written to: best_model_acc_fase0_balance/assets\n"
     ]
    },
    {
     "name": "stderr",
     "output_type": "stream",
     "text": [
      "INFO:tensorflow:Assets written to: best_model_acc_fase0_balance/assets\n"
     ]
    },
    {
     "name": "stdout",
     "output_type": "stream",
     "text": [
      "4000/4000 [==============================] - 161s 40ms/step - loss: 0.0102 - accuracy: 0.9973 - val_loss: 0.0922 - val_accuracy: 0.9774\n",
      "Epoch 9/10\n",
      "3999/4000 [============================>.] - ETA: 0s - loss: 0.0091 - accuracy: 0.9976INFO:tensorflow:Assets written to: best_model_acc_fase0_balance/assets\n"
     ]
    },
    {
     "name": "stderr",
     "output_type": "stream",
     "text": [
      "INFO:tensorflow:Assets written to: best_model_acc_fase0_balance/assets\n"
     ]
    },
    {
     "name": "stdout",
     "output_type": "stream",
     "text": [
      "4000/4000 [==============================] - 161s 40ms/step - loss: 0.0091 - accuracy: 0.9976 - val_loss: 0.1491 - val_accuracy: 0.9654\n",
      "Epoch 10/10\n",
      "3999/4000 [============================>.] - ETA: 0s - loss: 0.0086 - accuracy: 0.9977INFO:tensorflow:Assets written to: best_model_acc_fase0_balance/assets\n"
     ]
    },
    {
     "name": "stderr",
     "output_type": "stream",
     "text": [
      "INFO:tensorflow:Assets written to: best_model_acc_fase0_balance/assets\n"
     ]
    },
    {
     "name": "stdout",
     "output_type": "stream",
     "text": [
      "4000/4000 [==============================] - 161s 40ms/step - loss: 0.0086 - accuracy: 0.9977 - val_loss: 0.1169 - val_accuracy: 0.9721\n"
     ]
    },
    {
     "data": {
      "text/plain": [
       "<keras.src.callbacks.History at 0x7f77b01be290>"
      ]
     },
     "execution_count": 26,
     "metadata": {},
     "output_type": "execute_result"
    }
   ],
   "source": [
    "model_bin = tf.keras.models.load_model('best_model_acc_balance')\n",
    "\n",
    "majestic = pd.read_csv('./treino/majestic_ascii.csv')\n",
    "majestic['69'] = 0\n",
    "majestic['70'] = 0\n",
    "majestic['71'] = 0\n",
    "\n",
    "dga = pd.read_csv('./teste/df_teste0.csv')\n",
    "dga = dga.drop('family', axis = 1)\n",
    "\n",
    "dga.columns = majestic.columns\n",
    "dga = dga.loc[~dga['domain'].isin(majestic['domain'])].reset_index(drop=True)\n",
    "\n",
    "df_treino = pd.concat([majestic.sample(500000, random_state=1),dga.sample(500000, random_state=1)], axis = 0, ignore_index=True)\n",
    "\n",
    "X_train = df_treino.drop(['domain','label'], axis = 1)\n",
    "y_train = df_treino['label']\n",
    "\n",
    "X_train = X_train.to_numpy()\n",
    "y_train = y_train.to_numpy()\n",
    "\n",
    "best = tf.keras.callbacks.ModelCheckpoint(\n",
    "    filepath='best_model_acc_fase0_balance',\n",
    "    save_weights_only=False,\n",
    "    monitor='accuracy',\n",
    "    mode='max',\n",
    "    save_best_only=True)\n",
    "\n",
    "model_bin.fit(X_train, y_train,\n",
    "              epochs=10,\n",
    "              callbacks = [best],\n",
    "              validation_split = 0.2,\n",
    "              batch_size=200)"
   ]
  },
  {
   "cell_type": "code",
   "execution_count": 28,
   "id": "d97e1ffc-cbb0-48ce-bc4a-c2d6e441fd80",
   "metadata": {},
   "outputs": [
    {
     "name": "stdout",
     "output_type": "stream",
     "text": [
      "31250/31250 [==============================] - 390s 12ms/step\n",
      "Matriz de Confusão Teste:  1\n",
      "[[490819   9181]\n",
      " [ 14206 485794]]\n",
      "Relatório de Classificação\n",
      "              precision    recall  f1-score   support\n",
      "\n",
      "           0     0.9719    0.9816    0.9767    500000\n",
      "           1     0.9815    0.9716    0.9765    500000\n",
      "\n",
      "    accuracy                         0.9766   1000000\n",
      "   macro avg     0.9767    0.9766    0.9766   1000000\n",
      "weighted avg     0.9767    0.9766    0.9766   1000000\n",
      "\n",
      "____________________\n",
      "31250/31250 [==============================] - 396s 13ms/step\n",
      "Matriz de Confusão Teste:  2\n",
      "[[490819   9181]\n",
      " [ 14663 485337]]\n",
      "Relatório de Classificação\n",
      "              precision    recall  f1-score   support\n",
      "\n",
      "           0     0.9710    0.9816    0.9763    500000\n",
      "           1     0.9814    0.9707    0.9760    500000\n",
      "\n",
      "    accuracy                         0.9762   1000000\n",
      "   macro avg     0.9762    0.9762    0.9762   1000000\n",
      "weighted avg     0.9762    0.9762    0.9762   1000000\n",
      "\n",
      "____________________\n",
      "31250/31250 [==============================] - 397s 13ms/step\n",
      "Matriz de Confusão Teste:  3\n",
      "[[490819   9181]\n",
      " [ 16762 483238]]\n",
      "Relatório de Classificação\n",
      "              precision    recall  f1-score   support\n",
      "\n",
      "           0     0.9670    0.9816    0.9743    500000\n",
      "           1     0.9814    0.9665    0.9739    500000\n",
      "\n",
      "    accuracy                         0.9741   1000000\n",
      "   macro avg     0.9742    0.9741    0.9741   1000000\n",
      "weighted avg     0.9742    0.9741    0.9741   1000000\n",
      "\n",
      "____________________\n",
      "31250/31250 [==============================] - 394s 13ms/step\n",
      "Matriz de Confusão Teste:  4\n",
      "[[490819   9181]\n",
      " [ 15801 484199]]\n",
      "Relatório de Classificação\n",
      "              precision    recall  f1-score   support\n",
      "\n",
      "           0     0.9688    0.9816    0.9752    500000\n",
      "           1     0.9814    0.9684    0.9749    500000\n",
      "\n",
      "    accuracy                         0.9750   1000000\n",
      "   macro avg     0.9751    0.9750    0.9750   1000000\n",
      "weighted avg     0.9751    0.9750    0.9750   1000000\n",
      "\n",
      "____________________\n",
      "31250/31250 [==============================] - 399s 13ms/step\n",
      "Matriz de Confusão Teste:  5\n",
      "[[490819   9181]\n",
      " [ 15870 484130]]\n",
      "Relatório de Classificação\n",
      "              precision    recall  f1-score   support\n",
      "\n",
      "           0     0.9687    0.9816    0.9751    500000\n",
      "           1     0.9814    0.9683    0.9748    500000\n",
      "\n",
      "    accuracy                         0.9749   1000000\n",
      "   macro avg     0.9750    0.9749    0.9749   1000000\n",
      "weighted avg     0.9750    0.9749    0.9749   1000000\n",
      "\n",
      "____________________\n",
      "31250/31250 [==============================] - 393s 13ms/step\n",
      "Matriz de Confusão Teste:  6\n",
      "[[490819   9181]\n",
      " [ 14883 485117]]\n",
      "Relatório de Classificação\n",
      "              precision    recall  f1-score   support\n",
      "\n",
      "           0     0.9706    0.9816    0.9761    500000\n",
      "           1     0.9814    0.9702    0.9758    500000\n",
      "\n",
      "    accuracy                         0.9759   1000000\n",
      "   macro avg     0.9760    0.9759    0.9759   1000000\n",
      "weighted avg     0.9760    0.9759    0.9759   1000000\n",
      "\n",
      "____________________\n",
      "31250/31250 [==============================] - 395s 13ms/step\n",
      "Matriz de Confusão Teste:  7\n",
      "[[490819   9181]\n",
      " [ 15854 484146]]\n",
      "Relatório de Classificação\n",
      "              precision    recall  f1-score   support\n",
      "\n",
      "           0     0.9687    0.9816    0.9751    500000\n",
      "           1     0.9814    0.9683    0.9748    500000\n",
      "\n",
      "    accuracy                         0.9750   1000000\n",
      "   macro avg     0.9750    0.9750    0.9750   1000000\n",
      "weighted avg     0.9750    0.9750    0.9750   1000000\n",
      "\n",
      "____________________\n",
      "31250/31250 [==============================] - 393s 13ms/step\n",
      "Matriz de Confusão Teste:  8\n",
      "[[490819   9181]\n",
      " [ 15650 484350]]\n",
      "Relatório de Classificação\n",
      "              precision    recall  f1-score   support\n",
      "\n",
      "           0     0.9691    0.9816    0.9753    500000\n",
      "           1     0.9814    0.9687    0.9750    500000\n",
      "\n",
      "    accuracy                         0.9752   1000000\n",
      "   macro avg     0.9752    0.9752    0.9752   1000000\n",
      "weighted avg     0.9752    0.9752    0.9752   1000000\n",
      "\n",
      "____________________\n",
      "31250/31250 [==============================] - 398s 13ms/step\n",
      "Matriz de Confusão Teste:  9\n",
      "[[490819   9181]\n",
      " [ 16963 483037]]\n",
      "Relatório de Classificação\n",
      "              precision    recall  f1-score   support\n",
      "\n",
      "           0     0.9666    0.9816    0.9741    500000\n",
      "           1     0.9813    0.9661    0.9737    500000\n",
      "\n",
      "    accuracy                         0.9739   1000000\n",
      "   macro avg     0.9740    0.9739    0.9739   1000000\n",
      "weighted avg     0.9740    0.9739    0.9739   1000000\n",
      "\n",
      "____________________\n",
      "31250/31250 [==============================] - 398s 13ms/step\n",
      "Matriz de Confusão Teste:  10\n",
      "[[490819   9181]\n",
      " [ 14603 485397]]\n",
      "Relatório de Classificação\n",
      "              precision    recall  f1-score   support\n",
      "\n",
      "           0     0.9711    0.9816    0.9763    500000\n",
      "           1     0.9814    0.9708    0.9761    500000\n",
      "\n",
      "    accuracy                         0.9762   1000000\n",
      "   macro avg     0.9763    0.9762    0.9762   1000000\n",
      "weighted avg     0.9763    0.9762    0.9762   1000000\n",
      "\n",
      "____________________\n",
      "31250/31250 [==============================] - 399s 13ms/step\n",
      "Matriz de Confusão Teste:  11\n",
      "[[490819   9181]\n",
      " [ 14918 485082]]\n",
      "Relatório de Classificação\n",
      "              precision    recall  f1-score   support\n",
      "\n",
      "           0     0.9705    0.9816    0.9760    500000\n",
      "           1     0.9814    0.9702    0.9758    500000\n",
      "\n",
      "    accuracy                         0.9759   1000000\n",
      "   macro avg     0.9760    0.9759    0.9759   1000000\n",
      "weighted avg     0.9760    0.9759    0.9759   1000000\n",
      "\n",
      "____________________\n"
     ]
    }
   ],
   "source": [
    "model_bin = tf.keras.models.load_model('best_model_acc_fase0_balance')\n",
    "legit = majestic.loc[~majestic['domain'].isin(df_treino['domain'])].reset_index(drop=True)\n",
    "\n",
    "for i in range (1,12):\n",
    "    dga = pd.read_csv('./teste/df_teste'+str(i)+'.csv')\n",
    "    dga = dga.drop('family', axis = 1)\n",
    "    dga = dga.loc[~dga['domain'].isin(majestic['domain'])].reset_index(drop=True)\n",
    "\n",
    "    dga.columns = legit.columns\n",
    "    df_teste = pd.concat([legit,dga.sample(500000, random_state=1)], axis = 0, ignore_index=True)\n",
    "\n",
    "    X_test = df_teste.drop(['domain','label'], axis = 1)\n",
    "    y_test = df_teste['label']\n",
    "\n",
    "    X_test = X_test.to_numpy()\n",
    "    y_test = y_test.to_numpy()\n",
    "\n",
    "    with tf.device('/cpu:0'):\n",
    "        predictions = model_bin.predict(X_test)\n",
    "        predictions = np.where(predictions > 0.5, 1, 0)\n",
    "    \n",
    "    print('Matriz de Confusão Teste: ', str(i))\n",
    "    print(confusion_matrix(y_test,predictions))\n",
    "\n",
    "    print('Relatório de Classificação')\n",
    "    print(classification_report(y_test,predictions, digits=4))\n",
    "    print('____________________')"
   ]
  },
  {
   "cell_type": "markdown",
   "id": "b79b9713-b7e7-435d-aa7b-239bab868952",
   "metadata": {},
   "source": [
    "## Teste Segundo Treinamento Incremental"
   ]
  },
  {
   "cell_type": "code",
   "execution_count": 29,
   "id": "7d97f7d8-a582-4dbf-b934-452b67bf8139",
   "metadata": {},
   "outputs": [
    {
     "name": "stdout",
     "output_type": "stream",
     "text": [
      "Epoch 1/10\n",
      "3999/4000 [============================>.] - ETA: 0s - loss: 0.0326 - accuracy: 0.9902INFO:tensorflow:Assets written to: best_model_acc_fase1_balance/assets\n"
     ]
    },
    {
     "name": "stderr",
     "output_type": "stream",
     "text": [
      "INFO:tensorflow:Assets written to: best_model_acc_fase1_balance/assets\n"
     ]
    },
    {
     "name": "stdout",
     "output_type": "stream",
     "text": [
      "4000/4000 [==============================] - 165s 41ms/step - loss: 0.0326 - accuracy: 0.9902 - val_loss: 0.0552 - val_accuracy: 0.9810\n",
      "Epoch 2/10\n",
      "3999/4000 [============================>.] - ETA: 0s - loss: 0.0215 - accuracy: 0.9940INFO:tensorflow:Assets written to: best_model_acc_fase1_balance/assets\n"
     ]
    },
    {
     "name": "stderr",
     "output_type": "stream",
     "text": [
      "INFO:tensorflow:Assets written to: best_model_acc_fase1_balance/assets\n"
     ]
    },
    {
     "name": "stdout",
     "output_type": "stream",
     "text": [
      "4000/4000 [==============================] - 162s 40ms/step - loss: 0.0215 - accuracy: 0.9940 - val_loss: 0.0480 - val_accuracy: 0.9860\n",
      "Epoch 3/10\n",
      "3999/4000 [============================>.] - ETA: 0s - loss: 0.0161 - accuracy: 0.9957INFO:tensorflow:Assets written to: best_model_acc_fase1_balance/assets\n"
     ]
    },
    {
     "name": "stderr",
     "output_type": "stream",
     "text": [
      "INFO:tensorflow:Assets written to: best_model_acc_fase1_balance/assets\n"
     ]
    },
    {
     "name": "stdout",
     "output_type": "stream",
     "text": [
      "4000/4000 [==============================] - 162s 40ms/step - loss: 0.0161 - accuracy: 0.9957 - val_loss: 0.0690 - val_accuracy: 0.9796\n",
      "Epoch 4/10\n",
      "3999/4000 [============================>.] - ETA: 0s - loss: 0.0127 - accuracy: 0.9967INFO:tensorflow:Assets written to: best_model_acc_fase1_balance/assets\n"
     ]
    },
    {
     "name": "stderr",
     "output_type": "stream",
     "text": [
      "INFO:tensorflow:Assets written to: best_model_acc_fase1_balance/assets\n"
     ]
    },
    {
     "name": "stdout",
     "output_type": "stream",
     "text": [
      "4000/4000 [==============================] - 162s 40ms/step - loss: 0.0127 - accuracy: 0.9967 - val_loss: 0.0708 - val_accuracy: 0.9815\n",
      "Epoch 5/10\n",
      "3999/4000 [============================>.] - ETA: 0s - loss: 0.0109 - accuracy: 0.9971INFO:tensorflow:Assets written to: best_model_acc_fase1_balance/assets\n"
     ]
    },
    {
     "name": "stderr",
     "output_type": "stream",
     "text": [
      "INFO:tensorflow:Assets written to: best_model_acc_fase1_balance/assets\n"
     ]
    },
    {
     "name": "stdout",
     "output_type": "stream",
     "text": [
      "4000/4000 [==============================] - 162s 41ms/step - loss: 0.0109 - accuracy: 0.9971 - val_loss: 0.0730 - val_accuracy: 0.9815\n",
      "Epoch 6/10\n",
      "3999/4000 [============================>.] - ETA: 0s - loss: 0.0096 - accuracy: 0.9975INFO:tensorflow:Assets written to: best_model_acc_fase1_balance/assets\n"
     ]
    },
    {
     "name": "stderr",
     "output_type": "stream",
     "text": [
      "INFO:tensorflow:Assets written to: best_model_acc_fase1_balance/assets\n"
     ]
    },
    {
     "name": "stdout",
     "output_type": "stream",
     "text": [
      "4000/4000 [==============================] - 162s 41ms/step - loss: 0.0096 - accuracy: 0.9975 - val_loss: 0.0968 - val_accuracy: 0.9766\n",
      "Epoch 7/10\n",
      "3999/4000 [============================>.] - ETA: 0s - loss: 0.0085 - accuracy: 0.9978INFO:tensorflow:Assets written to: best_model_acc_fase1_balance/assets\n"
     ]
    },
    {
     "name": "stderr",
     "output_type": "stream",
     "text": [
      "INFO:tensorflow:Assets written to: best_model_acc_fase1_balance/assets\n"
     ]
    },
    {
     "name": "stdout",
     "output_type": "stream",
     "text": [
      "4000/4000 [==============================] - 163s 41ms/step - loss: 0.0085 - accuracy: 0.9978 - val_loss: 0.0825 - val_accuracy: 0.9815\n",
      "Epoch 8/10\n",
      "3999/4000 [============================>.] - ETA: 0s - loss: 0.0078 - accuracy: 0.9980INFO:tensorflow:Assets written to: best_model_acc_fase1_balance/assets\n"
     ]
    },
    {
     "name": "stderr",
     "output_type": "stream",
     "text": [
      "INFO:tensorflow:Assets written to: best_model_acc_fase1_balance/assets\n"
     ]
    },
    {
     "name": "stdout",
     "output_type": "stream",
     "text": [
      "4000/4000 [==============================] - 163s 41ms/step - loss: 0.0078 - accuracy: 0.9980 - val_loss: 0.1112 - val_accuracy: 0.9747\n",
      "Epoch 9/10\n",
      "3999/4000 [============================>.] - ETA: 0s - loss: 0.0072 - accuracy: 0.9982INFO:tensorflow:Assets written to: best_model_acc_fase1_balance/assets\n"
     ]
    },
    {
     "name": "stderr",
     "output_type": "stream",
     "text": [
      "INFO:tensorflow:Assets written to: best_model_acc_fase1_balance/assets\n"
     ]
    },
    {
     "name": "stdout",
     "output_type": "stream",
     "text": [
      "4000/4000 [==============================] - 163s 41ms/step - loss: 0.0072 - accuracy: 0.9982 - val_loss: 0.0995 - val_accuracy: 0.9767\n",
      "Epoch 10/10\n",
      "3999/4000 [============================>.] - ETA: 0s - loss: 0.0069 - accuracy: 0.9983INFO:tensorflow:Assets written to: best_model_acc_fase1_balance/assets\n"
     ]
    },
    {
     "name": "stderr",
     "output_type": "stream",
     "text": [
      "INFO:tensorflow:Assets written to: best_model_acc_fase1_balance/assets\n"
     ]
    },
    {
     "name": "stdout",
     "output_type": "stream",
     "text": [
      "4000/4000 [==============================] - 162s 40ms/step - loss: 0.0069 - accuracy: 0.9983 - val_loss: 0.1237 - val_accuracy: 0.9731\n"
     ]
    },
    {
     "data": {
      "text/plain": [
       "<keras.src.callbacks.History at 0x7f75c5dc4310>"
      ]
     },
     "execution_count": 29,
     "metadata": {},
     "output_type": "execute_result"
    }
   ],
   "source": [
    "model_bin = tf.keras.models.load_model('best_model_acc_fase0_balance')\n",
    "\n",
    "majestic = pd.read_csv('./treino/majestic_ascii.csv')\n",
    "majestic['69'] = 0\n",
    "majestic['70'] = 0\n",
    "majestic['71'] = 0\n",
    "\n",
    "dga = pd.read_csv('./teste/df_teste1.csv')\n",
    "dga = dga.drop('family', axis = 1)\n",
    "\n",
    "dga.columns = majestic.columns\n",
    "dga = dga.loc[~dga['domain'].isin(majestic['domain'])].reset_index(drop=True)\n",
    "\n",
    "df_treino = pd.concat([majestic.sample(500000, random_state=1),dga.sample(500000, random_state=1)], axis = 0, ignore_index=True)\n",
    "\n",
    "X_train = df_treino.drop(['domain','label'], axis = 1)\n",
    "y_train = df_treino['label']\n",
    "\n",
    "X_train = X_train.to_numpy()\n",
    "y_train = y_train.to_numpy()\n",
    "\n",
    "best = tf.keras.callbacks.ModelCheckpoint(\n",
    "    filepath='best_model_acc_fase1_balance',\n",
    "    save_weights_only=False,\n",
    "    monitor='accuracy',\n",
    "    mode='max',\n",
    "    save_best_only=True)\n",
    "\n",
    "model_bin.fit(X_train, y_train,\n",
    "              epochs=10,\n",
    "              callbacks = [best],\n",
    "              validation_split = 0.2,\n",
    "              batch_size=200)"
   ]
  },
  {
   "cell_type": "code",
   "execution_count": 30,
   "id": "67eb6334-ee55-4143-839d-5fee07b6f72e",
   "metadata": {},
   "outputs": [
    {
     "name": "stdout",
     "output_type": "stream",
     "text": [
      "31250/31250 [==============================] - 397s 13ms/step\n",
      "Matriz de Confusão Teste:  2\n",
      "[[491372   8628]\n",
      " [ 13315 486685]]\n",
      "Relatório de Classificação\n",
      "              precision    recall  f1-score   support\n",
      "\n",
      "           0     0.9736    0.9827    0.9782    500000\n",
      "           1     0.9826    0.9734    0.9780    500000\n",
      "\n",
      "    accuracy                         0.9781   1000000\n",
      "   macro avg     0.9781    0.9781    0.9781   1000000\n",
      "weighted avg     0.9781    0.9781    0.9781   1000000\n",
      "\n",
      "____________________\n",
      "31250/31250 [==============================] - 381s 12ms/step\n",
      "Matriz de Confusão Teste:  3\n",
      "[[491372   8628]\n",
      " [ 15811 484189]]\n",
      "Relatório de Classificação\n",
      "              precision    recall  f1-score   support\n",
      "\n",
      "           0     0.9688    0.9827    0.9757    500000\n",
      "           1     0.9825    0.9684    0.9754    500000\n",
      "\n",
      "    accuracy                         0.9756   1000000\n",
      "   macro avg     0.9757    0.9756    0.9756   1000000\n",
      "weighted avg     0.9757    0.9756    0.9756   1000000\n",
      "\n",
      "____________________\n",
      "31250/31250 [==============================] - 380s 12ms/step\n",
      "Matriz de Confusão Teste:  4\n",
      "[[491372   8628]\n",
      " [ 15102 484898]]\n",
      "Relatório de Classificação\n",
      "              precision    recall  f1-score   support\n",
      "\n",
      "           0     0.9702    0.9827    0.9764    500000\n",
      "           1     0.9825    0.9698    0.9761    500000\n",
      "\n",
      "    accuracy                         0.9763   1000000\n",
      "   macro avg     0.9763    0.9763    0.9763   1000000\n",
      "weighted avg     0.9763    0.9763    0.9763   1000000\n",
      "\n",
      "____________________\n",
      "31250/31250 [==============================] - 387s 12ms/step\n",
      "Matriz de Confusão Teste:  5\n",
      "[[491372   8628]\n",
      " [ 15824 484176]]\n",
      "Relatório de Classificação\n",
      "              precision    recall  f1-score   support\n",
      "\n",
      "           0     0.9688    0.9827    0.9757    500000\n",
      "           1     0.9825    0.9684    0.9754    500000\n",
      "\n",
      "    accuracy                         0.9755   1000000\n",
      "   macro avg     0.9756    0.9755    0.9755   1000000\n",
      "weighted avg     0.9756    0.9755    0.9755   1000000\n",
      "\n",
      "____________________\n",
      "31250/31250 [==============================] - 382s 12ms/step\n",
      "Matriz de Confusão Teste:  6\n",
      "[[491372   8628]\n",
      " [ 14629 485371]]\n",
      "Relatório de Classificação\n",
      "              precision    recall  f1-score   support\n",
      "\n",
      "           0     0.9711    0.9827    0.9769    500000\n",
      "           1     0.9825    0.9707    0.9766    500000\n",
      "\n",
      "    accuracy                         0.9767   1000000\n",
      "   macro avg     0.9768    0.9767    0.9767   1000000\n",
      "weighted avg     0.9768    0.9767    0.9767   1000000\n",
      "\n",
      "____________________\n",
      "31250/31250 [==============================] - 383s 12ms/step\n",
      "Matriz de Confusão Teste:  7\n",
      "[[491372   8628]\n",
      " [ 15164 484836]]\n",
      "Relatório de Classificação\n",
      "              precision    recall  f1-score   support\n",
      "\n",
      "           0     0.9701    0.9827    0.9764    500000\n",
      "           1     0.9825    0.9697    0.9761    500000\n",
      "\n",
      "    accuracy                         0.9762   1000000\n",
      "   macro avg     0.9763    0.9762    0.9762   1000000\n",
      "weighted avg     0.9763    0.9762    0.9762   1000000\n",
      "\n",
      "____________________\n",
      "31250/31250 [==============================] - 389s 12ms/step\n",
      "Matriz de Confusão Teste:  8\n",
      "[[491372   8628]\n",
      " [ 14588 485412]]\n",
      "Relatório de Classificação\n",
      "              precision    recall  f1-score   support\n",
      "\n",
      "           0     0.9712    0.9827    0.9769    500000\n",
      "           1     0.9825    0.9708    0.9766    500000\n",
      "\n",
      "    accuracy                         0.9768   1000000\n",
      "   macro avg     0.9769    0.9768    0.9768   1000000\n",
      "weighted avg     0.9769    0.9768    0.9768   1000000\n",
      "\n",
      "____________________\n",
      "31250/31250 [==============================] - 390s 12ms/step\n",
      "Matriz de Confusão Teste:  9\n",
      "[[491372   8628]\n",
      " [ 16002 483998]]\n",
      "Relatório de Classificação\n",
      "              precision    recall  f1-score   support\n",
      "\n",
      "           0     0.9685    0.9827    0.9756    500000\n",
      "           1     0.9825    0.9680    0.9752    500000\n",
      "\n",
      "    accuracy                         0.9754   1000000\n",
      "   macro avg     0.9755    0.9754    0.9754   1000000\n",
      "weighted avg     0.9755    0.9754    0.9754   1000000\n",
      "\n",
      "____________________\n",
      "31250/31250 [==============================] - 394s 13ms/step\n",
      "Matriz de Confusão Teste:  10\n",
      "[[491372   8628]\n",
      " [ 13926 486074]]\n",
      "Relatório de Classificação\n",
      "              precision    recall  f1-score   support\n",
      "\n",
      "           0     0.9724    0.9827    0.9776    500000\n",
      "           1     0.9826    0.9721    0.9773    500000\n",
      "\n",
      "    accuracy                         0.9774   1000000\n",
      "   macro avg     0.9775    0.9774    0.9774   1000000\n",
      "weighted avg     0.9775    0.9774    0.9774   1000000\n",
      "\n",
      "____________________\n",
      "31250/31250 [==============================] - 406s 13ms/step\n",
      "Matriz de Confusão Teste:  11\n",
      "[[491372   8628]\n",
      " [ 14342 485658]]\n",
      "Relatório de Classificação\n",
      "              precision    recall  f1-score   support\n",
      "\n",
      "           0     0.9716    0.9827    0.9772    500000\n",
      "           1     0.9825    0.9713    0.9769    500000\n",
      "\n",
      "    accuracy                         0.9770   1000000\n",
      "   macro avg     0.9771    0.9770    0.9770   1000000\n",
      "weighted avg     0.9771    0.9770    0.9770   1000000\n",
      "\n",
      "____________________\n"
     ]
    }
   ],
   "source": [
    "model_bin = tf.keras.models.load_model('best_model_acc_fase1_balance')\n",
    "legit = majestic.loc[~majestic['domain'].isin(df_treino['domain'])].reset_index(drop=True)\n",
    "\n",
    "for i in range (2,12):\n",
    "    dga = pd.read_csv('./teste/df_teste'+str(i)+'.csv')\n",
    "    dga = dga.drop('family', axis = 1)\n",
    "    dga = dga.loc[~dga['domain'].isin(majestic['domain'])].reset_index(drop=True)\n",
    "\n",
    "    dga.columns = legit.columns\n",
    "    df_teste = pd.concat([legit,dga.sample(500000, random_state=1)], axis = 0, ignore_index=True)\n",
    "\n",
    "    X_test = df_teste.drop(['domain','label'], axis = 1)\n",
    "    y_test = df_teste['label']\n",
    "\n",
    "    X_test = X_test.to_numpy()\n",
    "    y_test = y_test.to_numpy()\n",
    "\n",
    "    with tf.device('/cpu:0'):\n",
    "        predictions = model_bin.predict(X_test)\n",
    "        predictions = np.where(predictions > 0.5, 1, 0)\n",
    "    \n",
    "    print('Matriz de Confusão Teste: ', str(i))\n",
    "    print(confusion_matrix(y_test,predictions))\n",
    "\n",
    "    print('Relatório de Classificação')\n",
    "    print(classification_report(y_test,predictions, digits=4))\n",
    "    print('____________________')"
   ]
  },
  {
   "cell_type": "markdown",
   "id": "f82f071a-68de-4c98-948d-13428437627d",
   "metadata": {},
   "source": [
    "## Teste Terceiro Treino Incremental"
   ]
  },
  {
   "cell_type": "code",
   "execution_count": 31,
   "id": "ccf3f4ca-1f25-4acb-bdb7-fab7999c731b",
   "metadata": {},
   "outputs": [
    {
     "name": "stdout",
     "output_type": "stream",
     "text": [
      "Epoch 1/10\n",
      "4000/4000 [==============================] - ETA: 0s - loss: 0.0278 - accuracy: 0.9920INFO:tensorflow:Assets written to: best_model_acc_fase2_balance/assets\n"
     ]
    },
    {
     "name": "stderr",
     "output_type": "stream",
     "text": [
      "INFO:tensorflow:Assets written to: best_model_acc_fase2_balance/assets\n"
     ]
    },
    {
     "name": "stdout",
     "output_type": "stream",
     "text": [
      "4000/4000 [==============================] - 165s 41ms/step - loss: 0.0278 - accuracy: 0.9920 - val_loss: 0.0485 - val_accuracy: 0.9840\n",
      "Epoch 2/10\n",
      "3999/4000 [============================>.] - ETA: 0s - loss: 0.0172 - accuracy: 0.9955INFO:tensorflow:Assets written to: best_model_acc_fase2_balance/assets\n"
     ]
    },
    {
     "name": "stderr",
     "output_type": "stream",
     "text": [
      "INFO:tensorflow:Assets written to: best_model_acc_fase2_balance/assets\n"
     ]
    },
    {
     "name": "stdout",
     "output_type": "stream",
     "text": [
      "4000/4000 [==============================] - 161s 40ms/step - loss: 0.0172 - accuracy: 0.9955 - val_loss: 0.0582 - val_accuracy: 0.9834\n",
      "Epoch 3/10\n",
      "4000/4000 [==============================] - ETA: 0s - loss: 0.0123 - accuracy: 0.9969INFO:tensorflow:Assets written to: best_model_acc_fase2_balance/assets\n"
     ]
    },
    {
     "name": "stderr",
     "output_type": "stream",
     "text": [
      "INFO:tensorflow:Assets written to: best_model_acc_fase2_balance/assets\n"
     ]
    },
    {
     "name": "stdout",
     "output_type": "stream",
     "text": [
      "4000/4000 [==============================] - 162s 40ms/step - loss: 0.0123 - accuracy: 0.9969 - val_loss: 0.0547 - val_accuracy: 0.9853\n",
      "Epoch 4/10\n",
      "4000/4000 [==============================] - ETA: 0s - loss: 0.0100 - accuracy: 0.9975INFO:tensorflow:Assets written to: best_model_acc_fase2_balance/assets\n"
     ]
    },
    {
     "name": "stderr",
     "output_type": "stream",
     "text": [
      "INFO:tensorflow:Assets written to: best_model_acc_fase2_balance/assets\n"
     ]
    },
    {
     "name": "stdout",
     "output_type": "stream",
     "text": [
      "4000/4000 [==============================] - 162s 41ms/step - loss: 0.0100 - accuracy: 0.9975 - val_loss: 0.0787 - val_accuracy: 0.9810\n",
      "Epoch 5/10\n",
      "3999/4000 [============================>.] - ETA: 0s - loss: 0.0085 - accuracy: 0.9979INFO:tensorflow:Assets written to: best_model_acc_fase2_balance/assets\n"
     ]
    },
    {
     "name": "stderr",
     "output_type": "stream",
     "text": [
      "INFO:tensorflow:Assets written to: best_model_acc_fase2_balance/assets\n"
     ]
    },
    {
     "name": "stdout",
     "output_type": "stream",
     "text": [
      "4000/4000 [==============================] - 162s 41ms/step - loss: 0.0086 - accuracy: 0.9979 - val_loss: 0.0704 - val_accuracy: 0.9828\n",
      "Epoch 6/10\n",
      "3999/4000 [============================>.] - ETA: 0s - loss: 0.0074 - accuracy: 0.9982INFO:tensorflow:Assets written to: best_model_acc_fase2_balance/assets\n"
     ]
    },
    {
     "name": "stderr",
     "output_type": "stream",
     "text": [
      "INFO:tensorflow:Assets written to: best_model_acc_fase2_balance/assets\n"
     ]
    },
    {
     "name": "stdout",
     "output_type": "stream",
     "text": [
      "4000/4000 [==============================] - 162s 41ms/step - loss: 0.0074 - accuracy: 0.9982 - val_loss: 0.1035 - val_accuracy: 0.9770\n",
      "Epoch 7/10\n",
      "3999/4000 [============================>.] - ETA: 0s - loss: 0.0066 - accuracy: 0.9984INFO:tensorflow:Assets written to: best_model_acc_fase2_balance/assets\n"
     ]
    },
    {
     "name": "stderr",
     "output_type": "stream",
     "text": [
      "INFO:tensorflow:Assets written to: best_model_acc_fase2_balance/assets\n"
     ]
    },
    {
     "name": "stdout",
     "output_type": "stream",
     "text": [
      "4000/4000 [==============================] - 163s 41ms/step - loss: 0.0066 - accuracy: 0.9984 - val_loss: 0.1021 - val_accuracy: 0.9784\n",
      "Epoch 8/10\n",
      "3999/4000 [============================>.] - ETA: 0s - loss: 0.0063 - accuracy: 0.9984INFO:tensorflow:Assets written to: best_model_acc_fase2_balance/assets\n"
     ]
    },
    {
     "name": "stderr",
     "output_type": "stream",
     "text": [
      "INFO:tensorflow:Assets written to: best_model_acc_fase2_balance/assets\n"
     ]
    },
    {
     "name": "stdout",
     "output_type": "stream",
     "text": [
      "4000/4000 [==============================] - 163s 41ms/step - loss: 0.0063 - accuracy: 0.9984 - val_loss: 0.1014 - val_accuracy: 0.9789\n",
      "Epoch 9/10\n",
      "3999/4000 [============================>.] - ETA: 0s - loss: 0.0059 - accuracy: 0.9986INFO:tensorflow:Assets written to: best_model_acc_fase2_balance/assets\n"
     ]
    },
    {
     "name": "stderr",
     "output_type": "stream",
     "text": [
      "INFO:tensorflow:Assets written to: best_model_acc_fase2_balance/assets\n"
     ]
    },
    {
     "name": "stdout",
     "output_type": "stream",
     "text": [
      "4000/4000 [==============================] - 162s 41ms/step - loss: 0.0059 - accuracy: 0.9986 - val_loss: 0.0980 - val_accuracy: 0.9796\n",
      "Epoch 10/10\n",
      "3999/4000 [============================>.] - ETA: 0s - loss: 0.0056 - accuracy: 0.9987INFO:tensorflow:Assets written to: best_model_acc_fase2_balance/assets\n"
     ]
    },
    {
     "name": "stderr",
     "output_type": "stream",
     "text": [
      "INFO:tensorflow:Assets written to: best_model_acc_fase2_balance/assets\n"
     ]
    },
    {
     "name": "stdout",
     "output_type": "stream",
     "text": [
      "4000/4000 [==============================] - 162s 41ms/step - loss: 0.0056 - accuracy: 0.9987 - val_loss: 0.1362 - val_accuracy: 0.9735\n"
     ]
    },
    {
     "data": {
      "text/plain": [
       "<keras.src.callbacks.History at 0x7f7586065ff0>"
      ]
     },
     "execution_count": 31,
     "metadata": {},
     "output_type": "execute_result"
    }
   ],
   "source": [
    "model_bin = tf.keras.models.load_model('best_model_acc_fase1_balance')\n",
    "\n",
    "majestic = pd.read_csv('./treino/majestic_ascii.csv')\n",
    "majestic['69'] = 0\n",
    "majestic['70'] = 0\n",
    "majestic['71'] = 0\n",
    "\n",
    "dga = pd.read_csv('./teste/df_teste2.csv')\n",
    "dga = dga.drop('family', axis = 1)\n",
    "\n",
    "dga.columns = majestic.columns\n",
    "dga = dga.loc[~dga['domain'].isin(majestic['domain'])].reset_index(drop=True)\n",
    "\n",
    "df_treino = pd.concat([majestic.sample(500000, random_state=1),dga.sample(500000, random_state=1)], axis = 0, ignore_index=True)\n",
    "\n",
    "X_train = df_treino.drop(['domain','label'], axis = 1)\n",
    "y_train = df_treino['label']\n",
    "\n",
    "X_train = X_train.to_numpy()\n",
    "y_train = y_train.to_numpy()\n",
    "\n",
    "best = tf.keras.callbacks.ModelCheckpoint(\n",
    "    filepath='best_model_acc_fase2_balance',\n",
    "    save_weights_only=False,\n",
    "    monitor='accuracy',\n",
    "    mode='max',\n",
    "    save_best_only=True)\n",
    "\n",
    "model_bin.fit(X_train, y_train,\n",
    "              epochs=10,\n",
    "              callbacks = [best],\n",
    "              validation_split = 0.2,\n",
    "              batch_size=200)"
   ]
  },
  {
   "cell_type": "code",
   "execution_count": 32,
   "id": "e7b93fbe-70a3-40ce-b247-87920908e7c9",
   "metadata": {},
   "outputs": [
    {
     "name": "stdout",
     "output_type": "stream",
     "text": [
      "31250/31250 [==============================] - 398s 13ms/step\n",
      "Matriz de Confusão Teste:  3\n",
      "[[491458   8542]\n",
      " [ 15065 484935]]\n",
      "Relatório de Classificação\n",
      "              precision    recall  f1-score   support\n",
      "\n",
      "           0     0.9703    0.9829    0.9765    500000\n",
      "           1     0.9827    0.9699    0.9762    500000\n",
      "\n",
      "    accuracy                         0.9764   1000000\n",
      "   macro avg     0.9765    0.9764    0.9764   1000000\n",
      "weighted avg     0.9765    0.9764    0.9764   1000000\n",
      "\n",
      "____________________\n",
      "31250/31250 [==============================] - 382s 12ms/step\n",
      "Matriz de Confusão Teste:  4\n",
      "[[491458   8542]\n",
      " [ 15141 484859]]\n",
      "Relatório de Classificação\n",
      "              precision    recall  f1-score   support\n",
      "\n",
      "           0     0.9701    0.9829    0.9765    500000\n",
      "           1     0.9827    0.9697    0.9762    500000\n",
      "\n",
      "    accuracy                         0.9763   1000000\n",
      "   macro avg     0.9764    0.9763    0.9763   1000000\n",
      "weighted avg     0.9764    0.9763    0.9763   1000000\n",
      "\n",
      "____________________\n",
      "31250/31250 [==============================] - 380s 12ms/step\n",
      "Matriz de Confusão Teste:  5\n",
      "[[491458   8542]\n",
      " [ 16218 483782]]\n",
      "Relatório de Classificação\n",
      "              precision    recall  f1-score   support\n",
      "\n",
      "           0     0.9681    0.9829    0.9754    500000\n",
      "           1     0.9826    0.9676    0.9750    500000\n",
      "\n",
      "    accuracy                         0.9752   1000000\n",
      "   macro avg     0.9754    0.9752    0.9752   1000000\n",
      "weighted avg     0.9754    0.9752    0.9752   1000000\n",
      "\n",
      "____________________\n",
      "31250/31250 [==============================] - 381s 12ms/step\n",
      "Matriz de Confusão Teste:  6\n",
      "[[491458   8542]\n",
      " [ 15090 484910]]\n",
      "Relatório de Classificação\n",
      "              precision    recall  f1-score   support\n",
      "\n",
      "           0     0.9702    0.9829    0.9765    500000\n",
      "           1     0.9827    0.9698    0.9762    500000\n",
      "\n",
      "    accuracy                         0.9764   1000000\n",
      "   macro avg     0.9764    0.9764    0.9764   1000000\n",
      "weighted avg     0.9764    0.9764    0.9764   1000000\n",
      "\n",
      "____________________\n",
      "31250/31250 [==============================] - 395s 13ms/step\n",
      "Matriz de Confusão Teste:  7\n",
      "[[491458   8542]\n",
      " [ 16024 483976]]\n",
      "Relatório de Classificação\n",
      "              precision    recall  f1-score   support\n",
      "\n",
      "           0     0.9684    0.9829    0.9756    500000\n",
      "           1     0.9827    0.9680    0.9752    500000\n",
      "\n",
      "    accuracy                         0.9754   1000000\n",
      "   macro avg     0.9755    0.9754    0.9754   1000000\n",
      "weighted avg     0.9755    0.9754    0.9754   1000000\n",
      "\n",
      "____________________\n",
      "31250/31250 [==============================] - 395s 13ms/step\n",
      "Matriz de Confusão Teste:  8\n",
      "[[491458   8542]\n",
      " [ 14612 485388]]\n",
      "Relatório de Classificação\n",
      "              precision    recall  f1-score   support\n",
      "\n",
      "           0     0.9711    0.9829    0.9770    500000\n",
      "           1     0.9827    0.9708    0.9767    500000\n",
      "\n",
      "    accuracy                         0.9768   1000000\n",
      "   macro avg     0.9769    0.9768    0.9768   1000000\n",
      "weighted avg     0.9769    0.9768    0.9768   1000000\n",
      "\n",
      "____________________\n",
      "31250/31250 [==============================] - 420s 13ms/step\n",
      "Matriz de Confusão Teste:  9\n",
      "[[491458   8542]\n",
      " [ 15624 484376]]\n",
      "Relatório de Classificação\n",
      "              precision    recall  f1-score   support\n",
      "\n",
      "           0     0.9692    0.9829    0.9760    500000\n",
      "           1     0.9827    0.9688    0.9757    500000\n",
      "\n",
      "    accuracy                         0.9758   1000000\n",
      "   macro avg     0.9759    0.9758    0.9758   1000000\n",
      "weighted avg     0.9759    0.9758    0.9758   1000000\n",
      "\n",
      "____________________\n",
      "31250/31250 [==============================] - 404s 13ms/step\n",
      "Matriz de Confusão Teste:  10\n",
      "[[491458   8542]\n",
      " [ 14118 485882]]\n",
      "Relatório de Classificação\n",
      "              precision    recall  f1-score   support\n",
      "\n",
      "           0     0.9721    0.9829    0.9775    500000\n",
      "           1     0.9827    0.9718    0.9772    500000\n",
      "\n",
      "    accuracy                         0.9773   1000000\n",
      "   macro avg     0.9774    0.9773    0.9773   1000000\n",
      "weighted avg     0.9774    0.9773    0.9773   1000000\n",
      "\n",
      "____________________\n",
      "31250/31250 [==============================] - 401s 13ms/step\n",
      "Matriz de Confusão Teste:  11\n",
      "[[491458   8542]\n",
      " [ 14782 485218]]\n",
      "Relatório de Classificação\n",
      "              precision    recall  f1-score   support\n",
      "\n",
      "           0     0.9708    0.9829    0.9768    500000\n",
      "           1     0.9827    0.9704    0.9765    500000\n",
      "\n",
      "    accuracy                         0.9767   1000000\n",
      "   macro avg     0.9768    0.9767    0.9767   1000000\n",
      "weighted avg     0.9768    0.9767    0.9767   1000000\n",
      "\n",
      "____________________\n"
     ]
    }
   ],
   "source": [
    "model_bin = tf.keras.models.load_model('best_model_acc_fase2_balance')\n",
    "legit = majestic.loc[~majestic['domain'].isin(df_treino['domain'])].reset_index(drop=True)\n",
    "\n",
    "for i in range (3,12):\n",
    "    dga = pd.read_csv('./teste/df_teste'+str(i)+'.csv')\n",
    "    dga = dga.drop('family', axis = 1)\n",
    "    dga = dga.loc[~dga['domain'].isin(majestic['domain'])].reset_index(drop=True)\n",
    "\n",
    "    dga.columns = legit.columns\n",
    "    df_teste = pd.concat([legit,dga.sample(500000, random_state=1)], axis = 0, ignore_index=True)\n",
    "\n",
    "    X_test = df_teste.drop(['domain','label'], axis = 1)\n",
    "    y_test = df_teste['label']\n",
    "\n",
    "    X_test = X_test.to_numpy()\n",
    "    y_test = y_test.to_numpy()\n",
    "\n",
    "    with tf.device('/cpu:0'):\n",
    "        predictions = model_bin.predict(X_test)\n",
    "        predictions = np.where(predictions > 0.5, 1, 0)\n",
    "    \n",
    "    print('Matriz de Confusão Teste: ', str(i))\n",
    "    print(confusion_matrix(y_test,predictions))\n",
    "\n",
    "    print('Relatório de Classificação')\n",
    "    print(classification_report(y_test,predictions, digits=4))\n",
    "    print('____________________')"
   ]
  },
  {
   "cell_type": "markdown",
   "id": "43e19bcc-4ba3-4d38-bf45-b2c3b5551520",
   "metadata": {},
   "source": [
    "## Teste Quarto Treino Incremental"
   ]
  },
  {
   "cell_type": "code",
   "execution_count": 34,
   "id": "c324d0b4-3023-4d1e-aa49-ae9cb8c24614",
   "metadata": {},
   "outputs": [
    {
     "name": "stdout",
     "output_type": "stream",
     "text": [
      "Epoch 1/10\n",
      "3999/4000 [============================>.] - ETA: 0s - loss: 0.0275 - accuracy: 0.9922INFO:tensorflow:Assets written to: best_model_acc_fase3_balance/assets\n"
     ]
    },
    {
     "name": "stderr",
     "output_type": "stream",
     "text": [
      "INFO:tensorflow:Assets written to: best_model_acc_fase3_balance/assets\n"
     ]
    },
    {
     "name": "stdout",
     "output_type": "stream",
     "text": [
      "4000/4000 [==============================] - 164s 41ms/step - loss: 0.0275 - accuracy: 0.9922 - val_loss: 0.0425 - val_accuracy: 0.9859\n",
      "Epoch 2/10\n",
      "4000/4000 [==============================] - ETA: 0s - loss: 0.0162 - accuracy: 0.9959INFO:tensorflow:Assets written to: best_model_acc_fase3_balance/assets\n"
     ]
    },
    {
     "name": "stderr",
     "output_type": "stream",
     "text": [
      "INFO:tensorflow:Assets written to: best_model_acc_fase3_balance/assets\n"
     ]
    },
    {
     "name": "stdout",
     "output_type": "stream",
     "text": [
      "4000/4000 [==============================] - 162s 40ms/step - loss: 0.0162 - accuracy: 0.9959 - val_loss: 0.0457 - val_accuracy: 0.9863\n",
      "Epoch 3/10\n",
      "3999/4000 [============================>.] - ETA: 0s - loss: 0.0117 - accuracy: 0.9971INFO:tensorflow:Assets written to: best_model_acc_fase3_balance/assets\n"
     ]
    },
    {
     "name": "stderr",
     "output_type": "stream",
     "text": [
      "INFO:tensorflow:Assets written to: best_model_acc_fase3_balance/assets\n"
     ]
    },
    {
     "name": "stdout",
     "output_type": "stream",
     "text": [
      "4000/4000 [==============================] - 161s 40ms/step - loss: 0.0117 - accuracy: 0.9971 - val_loss: 0.0484 - val_accuracy: 0.9873\n",
      "Epoch 4/10\n",
      "4000/4000 [==============================] - ETA: 0s - loss: 0.0093 - accuracy: 0.9977INFO:tensorflow:Assets written to: best_model_acc_fase3_balance/assets\n"
     ]
    },
    {
     "name": "stderr",
     "output_type": "stream",
     "text": [
      "INFO:tensorflow:Assets written to: best_model_acc_fase3_balance/assets\n"
     ]
    },
    {
     "name": "stdout",
     "output_type": "stream",
     "text": [
      "4000/4000 [==============================] - 161s 40ms/step - loss: 0.0093 - accuracy: 0.9977 - val_loss: 0.0643 - val_accuracy: 0.9841\n",
      "Epoch 5/10\n",
      "3999/4000 [============================>.] - ETA: 0s - loss: 0.0078 - accuracy: 0.9981INFO:tensorflow:Assets written to: best_model_acc_fase3_balance/assets\n"
     ]
    },
    {
     "name": "stderr",
     "output_type": "stream",
     "text": [
      "INFO:tensorflow:Assets written to: best_model_acc_fase3_balance/assets\n"
     ]
    },
    {
     "name": "stdout",
     "output_type": "stream",
     "text": [
      "4000/4000 [==============================] - 160s 40ms/step - loss: 0.0078 - accuracy: 0.9981 - val_loss: 0.0828 - val_accuracy: 0.9814\n",
      "Epoch 6/10\n",
      "3999/4000 [============================>.] - ETA: 0s - loss: 0.0068 - accuracy: 0.9983INFO:tensorflow:Assets written to: best_model_acc_fase3_balance/assets\n"
     ]
    },
    {
     "name": "stderr",
     "output_type": "stream",
     "text": [
      "INFO:tensorflow:Assets written to: best_model_acc_fase3_balance/assets\n"
     ]
    },
    {
     "name": "stdout",
     "output_type": "stream",
     "text": [
      "4000/4000 [==============================] - 161s 40ms/step - loss: 0.0068 - accuracy: 0.9983 - val_loss: 0.0817 - val_accuracy: 0.9825\n",
      "Epoch 7/10\n",
      "3999/4000 [============================>.] - ETA: 0s - loss: 0.0064 - accuracy: 0.9984INFO:tensorflow:Assets written to: best_model_acc_fase3_balance/assets\n"
     ]
    },
    {
     "name": "stderr",
     "output_type": "stream",
     "text": [
      "INFO:tensorflow:Assets written to: best_model_acc_fase3_balance/assets\n"
     ]
    },
    {
     "name": "stdout",
     "output_type": "stream",
     "text": [
      "4000/4000 [==============================] - 161s 40ms/step - loss: 0.0064 - accuracy: 0.9984 - val_loss: 0.0739 - val_accuracy: 0.9843\n",
      "Epoch 8/10\n",
      "3999/4000 [============================>.] - ETA: 0s - loss: 0.0059 - accuracy: 0.9986INFO:tensorflow:Assets written to: best_model_acc_fase3_balance/assets\n"
     ]
    },
    {
     "name": "stderr",
     "output_type": "stream",
     "text": [
      "INFO:tensorflow:Assets written to: best_model_acc_fase3_balance/assets\n"
     ]
    },
    {
     "name": "stdout",
     "output_type": "stream",
     "text": [
      "4000/4000 [==============================] - 161s 40ms/step - loss: 0.0059 - accuracy: 0.9986 - val_loss: 0.0770 - val_accuracy: 0.9836\n",
      "Epoch 9/10\n",
      "3999/4000 [============================>.] - ETA: 0s - loss: 0.0054 - accuracy: 0.9987INFO:tensorflow:Assets written to: best_model_acc_fase3_balance/assets\n"
     ]
    },
    {
     "name": "stderr",
     "output_type": "stream",
     "text": [
      "INFO:tensorflow:Assets written to: best_model_acc_fase3_balance/assets\n"
     ]
    },
    {
     "name": "stdout",
     "output_type": "stream",
     "text": [
      "4000/4000 [==============================] - 161s 40ms/step - loss: 0.0054 - accuracy: 0.9987 - val_loss: 0.0866 - val_accuracy: 0.9816\n",
      "Epoch 10/10\n",
      "3999/4000 [============================>.] - ETA: 0s - loss: 0.0052 - accuracy: 0.9988INFO:tensorflow:Assets written to: best_model_acc_fase3_balance/assets\n"
     ]
    },
    {
     "name": "stderr",
     "output_type": "stream",
     "text": [
      "INFO:tensorflow:Assets written to: best_model_acc_fase3_balance/assets\n"
     ]
    },
    {
     "name": "stdout",
     "output_type": "stream",
     "text": [
      "4000/4000 [==============================] - 162s 40ms/step - loss: 0.0052 - accuracy: 0.9988 - val_loss: 0.0859 - val_accuracy: 0.9815\n"
     ]
    },
    {
     "data": {
      "text/plain": [
       "<keras.src.callbacks.History at 0x7f752cdf2d10>"
      ]
     },
     "execution_count": 34,
     "metadata": {},
     "output_type": "execute_result"
    }
   ],
   "source": [
    "model_bin = tf.keras.models.load_model('best_model_acc_fase2_balance')\n",
    "\n",
    "del(majestic)\n",
    "majestic = pd.read_csv('./treino/majestic_ascii.csv')\n",
    "majestic['69'] = 0\n",
    "majestic['70'] = 0\n",
    "majestic['71'] = 0\n",
    "del(dga)\n",
    "dga = pd.read_csv('./teste/df_teste3.csv')\n",
    "dga = dga.drop('family', axis = 1)\n",
    "\n",
    "dga.columns = majestic.columns\n",
    "dga = dga.loc[~dga['domain'].isin(majestic['domain'])].reset_index(drop=True)\n",
    "\n",
    "del(df_treino)\n",
    "df_treino = pd.concat([majestic.sample(500000, random_state=1),dga.sample(500000, random_state=1)], axis = 0, ignore_index=True)\n",
    "\n",
    "X_train = df_treino.drop(['domain','label'], axis = 1)\n",
    "y_train = df_treino['label']\n",
    "\n",
    "X_train = X_train.to_numpy()\n",
    "y_train = y_train.to_numpy()\n",
    "\n",
    "best = tf.keras.callbacks.ModelCheckpoint(\n",
    "    filepath='best_model_acc_fase3_balance',\n",
    "    save_weights_only=False,\n",
    "    monitor='accuracy',\n",
    "    mode='max',\n",
    "    save_best_only=True)\n",
    "\n",
    "model_bin.fit(X_train, y_train,\n",
    "              epochs=10,\n",
    "              callbacks = [best],\n",
    "              validation_split = 0.2,\n",
    "              batch_size=200)"
   ]
  },
  {
   "cell_type": "code",
   "execution_count": 35,
   "id": "2642d198-7ed0-458d-8318-19e8a3c1a6ad",
   "metadata": {},
   "outputs": [
    {
     "name": "stdout",
     "output_type": "stream",
     "text": [
      "31250/31250 [==============================] - 397s 13ms/step\n",
      "Matriz de Confusão Teste:  4\n",
      "[[487104  12896]\n",
      " [  9728 490272]]\n",
      "Relatório de Classificação\n",
      "              precision    recall  f1-score   support\n",
      "\n",
      "           0     0.9804    0.9742    0.9773    500000\n",
      "           1     0.9744    0.9805    0.9774    500000\n",
      "\n",
      "    accuracy                         0.9774   1000000\n",
      "   macro avg     0.9774    0.9774    0.9774   1000000\n",
      "weighted avg     0.9774    0.9774    0.9774   1000000\n",
      "\n",
      "____________________\n",
      "31250/31250 [==============================] - 384s 12ms/step\n",
      "Matriz de Confusão Teste:  5\n",
      "[[487104  12896]\n",
      " [ 10574 489426]]\n",
      "Relatório de Classificação\n",
      "              precision    recall  f1-score   support\n",
      "\n",
      "           0     0.9788    0.9742    0.9765    500000\n",
      "           1     0.9743    0.9789    0.9766    500000\n",
      "\n",
      "    accuracy                         0.9765   1000000\n",
      "   macro avg     0.9765    0.9765    0.9765   1000000\n",
      "weighted avg     0.9765    0.9765    0.9765   1000000\n",
      "\n",
      "____________________\n",
      "31250/31250 [==============================] - 383s 12ms/step\n",
      "Matriz de Confusão Teste:  6\n",
      "[[487104  12896]\n",
      " [ 10415 489585]]\n",
      "Relatório de Classificação\n",
      "              precision    recall  f1-score   support\n",
      "\n",
      "           0     0.9791    0.9742    0.9766    500000\n",
      "           1     0.9743    0.9792    0.9767    500000\n",
      "\n",
      "    accuracy                         0.9767   1000000\n",
      "   macro avg     0.9767    0.9767    0.9767   1000000\n",
      "weighted avg     0.9767    0.9767    0.9767   1000000\n",
      "\n",
      "____________________\n",
      "31250/31250 [==============================] - 384s 12ms/step\n",
      "Matriz de Confusão Teste:  7\n",
      "[[487104  12896]\n",
      " [ 10895 489105]]\n",
      "Relatório de Classificação\n",
      "              precision    recall  f1-score   support\n",
      "\n",
      "           0     0.9781    0.9742    0.9762    500000\n",
      "           1     0.9743    0.9782    0.9763    500000\n",
      "\n",
      "    accuracy                         0.9762   1000000\n",
      "   macro avg     0.9762    0.9762    0.9762   1000000\n",
      "weighted avg     0.9762    0.9762    0.9762   1000000\n",
      "\n",
      "____________________\n",
      "31250/31250 [==============================] - 384s 12ms/step\n",
      "Matriz de Confusão Teste:  8\n",
      "[[487104  12896]\n",
      " [  9465 490535]]\n",
      "Relatório de Classificação\n",
      "              precision    recall  f1-score   support\n",
      "\n",
      "           0     0.9809    0.9742    0.9776    500000\n",
      "           1     0.9744    0.9811    0.9777    500000\n",
      "\n",
      "    accuracy                         0.9776   1000000\n",
      "   macro avg     0.9777    0.9776    0.9776   1000000\n",
      "weighted avg     0.9777    0.9776    0.9776   1000000\n",
      "\n",
      "____________________\n",
      "31250/31250 [==============================] - 384s 12ms/step\n",
      "Matriz de Confusão Teste:  9\n",
      "[[487104  12896]\n",
      " [ 10939 489061]]\n",
      "Relatório de Classificação\n",
      "              precision    recall  f1-score   support\n",
      "\n",
      "           0     0.9780    0.9742    0.9761    500000\n",
      "           1     0.9743    0.9781    0.9762    500000\n",
      "\n",
      "    accuracy                         0.9762   1000000\n",
      "   macro avg     0.9762    0.9762    0.9762   1000000\n",
      "weighted avg     0.9762    0.9762    0.9762   1000000\n",
      "\n",
      "____________________\n",
      "31250/31250 [==============================] - 385s 12ms/step\n",
      "Matriz de Confusão Teste:  10\n",
      "[[487104  12896]\n",
      " [  8996 491004]]\n",
      "Relatório de Classificação\n",
      "              precision    recall  f1-score   support\n",
      "\n",
      "           0     0.9819    0.9742    0.9780    500000\n",
      "           1     0.9744    0.9820    0.9782    500000\n",
      "\n",
      "    accuracy                         0.9781   1000000\n",
      "   macro avg     0.9781    0.9781    0.9781   1000000\n",
      "weighted avg     0.9781    0.9781    0.9781   1000000\n",
      "\n",
      "____________________\n",
      "31250/31250 [==============================] - 386s 12ms/step\n",
      "Matriz de Confusão Teste:  11\n",
      "[[487104  12896]\n",
      " [  9960 490040]]\n",
      "Relatório de Classificação\n",
      "              precision    recall  f1-score   support\n",
      "\n",
      "           0     0.9800    0.9742    0.9771    500000\n",
      "           1     0.9744    0.9801    0.9772    500000\n",
      "\n",
      "    accuracy                         0.9771   1000000\n",
      "   macro avg     0.9772    0.9771    0.9771   1000000\n",
      "weighted avg     0.9772    0.9771    0.9771   1000000\n",
      "\n",
      "____________________\n"
     ]
    }
   ],
   "source": [
    "model_bin = tf.keras.models.load_model('best_model_acc_fase3_balance')\n",
    "legit = majestic.loc[~majestic['domain'].isin(df_treino['domain'])].reset_index(drop=True)\n",
    "\n",
    "for i in range (4,12):\n",
    "    del(dga)\n",
    "    dga = pd.read_csv('./teste/df_teste'+str(i)+'.csv')\n",
    "    dga = dga.drop('family', axis = 1)\n",
    "    dga = dga.loc[~dga['domain'].isin(majestic['domain'])].reset_index(drop=True)\n",
    "\n",
    "    dga.columns = legit.columns\n",
    "    \n",
    "    del(df_teste)\n",
    "    df_teste = pd.concat([legit,dga.sample(500000, random_state=1)], axis = 0, ignore_index=True)\n",
    "\n",
    "    X_test = df_teste.drop(['domain','label'], axis = 1)\n",
    "    y_test = df_teste['label']\n",
    "\n",
    "    X_test = X_test.to_numpy()\n",
    "    y_test = y_test.to_numpy()\n",
    "\n",
    "    with tf.device('/cpu:0'):\n",
    "        predictions = model_bin.predict(X_test)\n",
    "        predictions = np.where(predictions > 0.5, 1, 0)\n",
    "    \n",
    "    print('Matriz de Confusão Teste: ', str(i))\n",
    "    print(confusion_matrix(y_test,predictions))\n",
    "\n",
    "    print('Relatório de Classificação')\n",
    "    print(classification_report(y_test,predictions, digits=4))\n",
    "    print('____________________')"
   ]
  },
  {
   "cell_type": "markdown",
   "id": "c85e6c94-a218-421e-8cd9-898648120d3f",
   "metadata": {},
   "source": [
    "## Teste Quinto Treino Incremental"
   ]
  },
  {
   "cell_type": "code",
   "execution_count": 36,
   "id": "e63f6d4c-46da-4abb-b486-d62a8ebe31da",
   "metadata": {},
   "outputs": [
    {
     "name": "stdout",
     "output_type": "stream",
     "text": [
      "Epoch 1/10\n",
      "3999/4000 [============================>.] - ETA: 0s - loss: 0.0242 - accuracy: 0.9933INFO:tensorflow:Assets written to: best_model_acc_fase4_balance/assets\n"
     ]
    },
    {
     "name": "stderr",
     "output_type": "stream",
     "text": [
      "INFO:tensorflow:Assets written to: best_model_acc_fase4_balance/assets\n"
     ]
    },
    {
     "name": "stdout",
     "output_type": "stream",
     "text": [
      "4000/4000 [==============================] - 164s 41ms/step - loss: 0.0242 - accuracy: 0.9933 - val_loss: 0.0405 - val_accuracy: 0.9869\n",
      "Epoch 2/10\n",
      "3999/4000 [============================>.] - ETA: 0s - loss: 0.0141 - accuracy: 0.9966INFO:tensorflow:Assets written to: best_model_acc_fase4_balance/assets\n"
     ]
    },
    {
     "name": "stderr",
     "output_type": "stream",
     "text": [
      "INFO:tensorflow:Assets written to: best_model_acc_fase4_balance/assets\n"
     ]
    },
    {
     "name": "stdout",
     "output_type": "stream",
     "text": [
      "4000/4000 [==============================] - 161s 40ms/step - loss: 0.0141 - accuracy: 0.9966 - val_loss: 0.0457 - val_accuracy: 0.9877\n",
      "Epoch 3/10\n",
      "3999/4000 [============================>.] - ETA: 0s - loss: 0.0099 - accuracy: 0.9977INFO:tensorflow:Assets written to: best_model_acc_fase4_balance/assets\n"
     ]
    },
    {
     "name": "stderr",
     "output_type": "stream",
     "text": [
      "INFO:tensorflow:Assets written to: best_model_acc_fase4_balance/assets\n"
     ]
    },
    {
     "name": "stdout",
     "output_type": "stream",
     "text": [
      "4000/4000 [==============================] - 161s 40ms/step - loss: 0.0099 - accuracy: 0.9977 - val_loss: 0.0520 - val_accuracy: 0.9868\n",
      "Epoch 4/10\n",
      "3999/4000 [============================>.] - ETA: 0s - loss: 0.0078 - accuracy: 0.9981INFO:tensorflow:Assets written to: best_model_acc_fase4_balance/assets\n"
     ]
    },
    {
     "name": "stderr",
     "output_type": "stream",
     "text": [
      "INFO:tensorflow:Assets written to: best_model_acc_fase4_balance/assets\n"
     ]
    },
    {
     "name": "stdout",
     "output_type": "stream",
     "text": [
      "4000/4000 [==============================] - 162s 40ms/step - loss: 0.0078 - accuracy: 0.9981 - val_loss: 0.0669 - val_accuracy: 0.9845\n",
      "Epoch 5/10\n",
      "3999/4000 [============================>.] - ETA: 0s - loss: 0.0066 - accuracy: 0.9984INFO:tensorflow:Assets written to: best_model_acc_fase4_balance/assets\n"
     ]
    },
    {
     "name": "stderr",
     "output_type": "stream",
     "text": [
      "INFO:tensorflow:Assets written to: best_model_acc_fase4_balance/assets\n"
     ]
    },
    {
     "name": "stdout",
     "output_type": "stream",
     "text": [
      "4000/4000 [==============================] - 161s 40ms/step - loss: 0.0066 - accuracy: 0.9984 - val_loss: 0.0632 - val_accuracy: 0.9864\n",
      "Epoch 6/10\n",
      "3999/4000 [============================>.] - ETA: 0s - loss: 0.0059 - accuracy: 0.9986INFO:tensorflow:Assets written to: best_model_acc_fase4_balance/assets\n"
     ]
    },
    {
     "name": "stderr",
     "output_type": "stream",
     "text": [
      "INFO:tensorflow:Assets written to: best_model_acc_fase4_balance/assets\n"
     ]
    },
    {
     "name": "stdout",
     "output_type": "stream",
     "text": [
      "4000/4000 [==============================] - 162s 40ms/step - loss: 0.0059 - accuracy: 0.9986 - val_loss: 0.0851 - val_accuracy: 0.9824\n",
      "Epoch 7/10\n",
      "3999/4000 [============================>.] - ETA: 0s - loss: 0.0054 - accuracy: 0.9988INFO:tensorflow:Assets written to: best_model_acc_fase4_balance/assets\n"
     ]
    },
    {
     "name": "stderr",
     "output_type": "stream",
     "text": [
      "INFO:tensorflow:Assets written to: best_model_acc_fase4_balance/assets\n"
     ]
    },
    {
     "name": "stdout",
     "output_type": "stream",
     "text": [
      "4000/4000 [==============================] - 162s 40ms/step - loss: 0.0054 - accuracy: 0.9988 - val_loss: 0.0707 - val_accuracy: 0.9852\n",
      "Epoch 8/10\n",
      "3999/4000 [============================>.] - ETA: 0s - loss: 0.0052 - accuracy: 0.9988INFO:tensorflow:Assets written to: best_model_acc_fase4_balance/assets\n"
     ]
    },
    {
     "name": "stderr",
     "output_type": "stream",
     "text": [
      "INFO:tensorflow:Assets written to: best_model_acc_fase4_balance/assets\n"
     ]
    },
    {
     "name": "stdout",
     "output_type": "stream",
     "text": [
      "4000/4000 [==============================] - 161s 40ms/step - loss: 0.0052 - accuracy: 0.9988 - val_loss: 0.0852 - val_accuracy: 0.9827\n",
      "Epoch 9/10\n",
      "3999/4000 [============================>.] - ETA: 0s - loss: 0.0047 - accuracy: 0.9990INFO:tensorflow:Assets written to: best_model_acc_fase4_balance/assets\n"
     ]
    },
    {
     "name": "stderr",
     "output_type": "stream",
     "text": [
      "INFO:tensorflow:Assets written to: best_model_acc_fase4_balance/assets\n"
     ]
    },
    {
     "name": "stdout",
     "output_type": "stream",
     "text": [
      "4000/4000 [==============================] - 162s 41ms/step - loss: 0.0047 - accuracy: 0.9990 - val_loss: 0.0910 - val_accuracy: 0.9822\n",
      "Epoch 10/10\n",
      "3999/4000 [============================>.] - ETA: 0s - loss: 0.0047 - accuracy: 0.9990INFO:tensorflow:Assets written to: best_model_acc_fase4_balance/assets\n"
     ]
    },
    {
     "name": "stderr",
     "output_type": "stream",
     "text": [
      "INFO:tensorflow:Assets written to: best_model_acc_fase4_balance/assets\n"
     ]
    },
    {
     "name": "stdout",
     "output_type": "stream",
     "text": [
      "4000/4000 [==============================] - 162s 40ms/step - loss: 0.0047 - accuracy: 0.9990 - val_loss: 0.0873 - val_accuracy: 0.9829\n"
     ]
    },
    {
     "data": {
      "text/plain": [
       "<keras.src.callbacks.History at 0x7f75cc1fa860>"
      ]
     },
     "execution_count": 36,
     "metadata": {},
     "output_type": "execute_result"
    }
   ],
   "source": [
    "model_bin = tf.keras.models.load_model('best_model_acc_fase3_balance')\n",
    "del(majestic)\n",
    "majestic = pd.read_csv('./treino/majestic_ascii.csv')\n",
    "majestic['69'] = 0\n",
    "majestic['70'] = 0\n",
    "majestic['71'] = 0\n",
    "\n",
    "del(dga)\n",
    "dga = pd.read_csv('./teste/df_teste4.csv')\n",
    "dga = dga.drop('family', axis = 1)\n",
    "\n",
    "dga.columns = majestic.columns\n",
    "dga = dga.loc[~dga['domain'].isin(majestic['domain'])].reset_index(drop=True)\n",
    "\n",
    "del(df_treino)\n",
    "df_treino = pd.concat([majestic.sample(500000, random_state=1),dga.sample(500000, random_state=1)], axis = 0, ignore_index=True)\n",
    "\n",
    "X_train = df_treino.drop(['domain','label'], axis = 1)\n",
    "y_train = df_treino['label']\n",
    "\n",
    "X_train = X_train.to_numpy()\n",
    "y_train = y_train.to_numpy()\n",
    "\n",
    "best = tf.keras.callbacks.ModelCheckpoint(\n",
    "    filepath='best_model_acc_fase4_balance',\n",
    "    save_weights_only=False,\n",
    "    monitor='accuracy',\n",
    "    mode='max',\n",
    "    save_best_only=True)\n",
    "\n",
    "model_bin.fit(X_train, y_train,\n",
    "              epochs=10,\n",
    "              callbacks = [best],\n",
    "              validation_split = 0.2,\n",
    "              batch_size=200)"
   ]
  },
  {
   "cell_type": "code",
   "execution_count": 37,
   "id": "cc0b02cc-e6af-43ec-97fc-ad65380ae567",
   "metadata": {},
   "outputs": [
    {
     "name": "stdout",
     "output_type": "stream",
     "text": [
      "31250/31250 [==============================] - 400s 13ms/step\n",
      "Matriz de Confusão Teste:  5\n",
      "[[487617  12383]\n",
      " [ 10104 489896]]\n",
      "Relatório de Classificação\n",
      "              precision    recall  f1-score   support\n",
      "\n",
      "           0     0.9797    0.9752    0.9775    500000\n",
      "           1     0.9753    0.9798    0.9776    500000\n",
      "\n",
      "    accuracy                         0.9775   1000000\n",
      "   macro avg     0.9775    0.9775    0.9775   1000000\n",
      "weighted avg     0.9775    0.9775    0.9775   1000000\n",
      "\n",
      "____________________\n",
      "31250/31250 [==============================] - 380s 12ms/step\n",
      "Matriz de Confusão Teste:  6\n",
      "[[487617  12383]\n",
      " [  9861 490139]]\n",
      "Relatório de Classificação\n",
      "              precision    recall  f1-score   support\n",
      "\n",
      "           0     0.9802    0.9752    0.9777    500000\n",
      "           1     0.9754    0.9803    0.9778    500000\n",
      "\n",
      "    accuracy                         0.9778   1000000\n",
      "   macro avg     0.9778    0.9778    0.9778   1000000\n",
      "weighted avg     0.9778    0.9778    0.9778   1000000\n",
      "\n",
      "____________________\n",
      "31250/31250 [==============================] - 381s 12ms/step\n",
      "Matriz de Confusão Teste:  7\n",
      "[[487617  12383]\n",
      " [ 10371 489629]]\n",
      "Relatório de Classificação\n",
      "              precision    recall  f1-score   support\n",
      "\n",
      "           0     0.9792    0.9752    0.9772    500000\n",
      "           1     0.9753    0.9793    0.9773    500000\n",
      "\n",
      "    accuracy                         0.9772   1000000\n",
      "   macro avg     0.9773    0.9772    0.9772   1000000\n",
      "weighted avg     0.9773    0.9772    0.9772   1000000\n",
      "\n",
      "____________________\n",
      "31250/31250 [==============================] - 381s 12ms/step\n",
      "Matriz de Confusão Teste:  8\n",
      "[[487617  12383]\n",
      " [  9529 490471]]\n",
      "Relatório de Classificação\n",
      "              precision    recall  f1-score   support\n",
      "\n",
      "           0     0.9808    0.9752    0.9780    500000\n",
      "           1     0.9754    0.9809    0.9782    500000\n",
      "\n",
      "    accuracy                         0.9781   1000000\n",
      "   macro avg     0.9781    0.9781    0.9781   1000000\n",
      "weighted avg     0.9781    0.9781    0.9781   1000000\n",
      "\n",
      "____________________\n",
      "31250/31250 [==============================] - 383s 12ms/step\n",
      "Matriz de Confusão Teste:  9\n",
      "[[487617  12383]\n",
      " [ 10380 489620]]\n",
      "Relatório de Classificação\n",
      "              precision    recall  f1-score   support\n",
      "\n",
      "           0     0.9792    0.9752    0.9772    500000\n",
      "           1     0.9753    0.9792    0.9773    500000\n",
      "\n",
      "    accuracy                         0.9772   1000000\n",
      "   macro avg     0.9772    0.9772    0.9772   1000000\n",
      "weighted avg     0.9772    0.9772    0.9772   1000000\n",
      "\n",
      "____________________\n",
      "31250/31250 [==============================] - 383s 12ms/step\n",
      "Matriz de Confusão Teste:  10\n",
      "[[487617  12383]\n",
      " [  8880 491120]]\n",
      "Relatório de Classificação\n",
      "              precision    recall  f1-score   support\n",
      "\n",
      "           0     0.9821    0.9752    0.9787    500000\n",
      "           1     0.9754    0.9822    0.9788    500000\n",
      "\n",
      "    accuracy                         0.9787   1000000\n",
      "   macro avg     0.9788    0.9787    0.9787   1000000\n",
      "weighted avg     0.9788    0.9787    0.9787   1000000\n",
      "\n",
      "____________________\n",
      "31250/31250 [==============================] - 383s 12ms/step\n",
      "Matriz de Confusão Teste:  11\n",
      "[[487617  12383]\n",
      " [ 10082 489918]]\n",
      "Relatório de Classificação\n",
      "              precision    recall  f1-score   support\n",
      "\n",
      "           0     0.9797    0.9752    0.9775    500000\n",
      "           1     0.9753    0.9798    0.9776    500000\n",
      "\n",
      "    accuracy                         0.9775   1000000\n",
      "   macro avg     0.9775    0.9775    0.9775   1000000\n",
      "weighted avg     0.9775    0.9775    0.9775   1000000\n",
      "\n",
      "____________________\n"
     ]
    }
   ],
   "source": [
    "model_bin = tf.keras.models.load_model('best_model_acc_fase4_balance')\n",
    "legit = majestic.loc[~majestic['domain'].isin(df_treino['domain'])].reset_index(drop=True)\n",
    "\n",
    "for i in range (5,12):\n",
    "    del(dga)\n",
    "    dga = pd.read_csv('./teste/df_teste'+str(i)+'.csv')\n",
    "    dga = dga.drop('family', axis = 1)\n",
    "    dga = dga.loc[~dga['domain'].isin(majestic['domain'])].reset_index(drop=True)\n",
    "\n",
    "    dga.columns = legit.columns\n",
    "\n",
    "    del(df_teste)\n",
    "    df_teste = pd.concat([legit,dga.sample(500000, random_state=1)], axis = 0, ignore_index=True)\n",
    "\n",
    "    X_test = df_teste.drop(['domain','label'], axis = 1)\n",
    "    y_test = df_teste['label']\n",
    "\n",
    "    X_test = X_test.to_numpy()\n",
    "    y_test = y_test.to_numpy()\n",
    "\n",
    "    with tf.device('/cpu:0'):\n",
    "        predictions = model_bin.predict(X_test)\n",
    "        predictions = np.where(predictions > 0.5, 1, 0)\n",
    "    \n",
    "    print('Matriz de Confusão Teste: ', str(i))\n",
    "    print(confusion_matrix(y_test,predictions))\n",
    "\n",
    "    print('Relatório de Classificação')\n",
    "    print(classification_report(y_test,predictions, digits=4))\n",
    "    print('____________________')"
   ]
  },
  {
   "cell_type": "markdown",
   "id": "683da8ce-cf78-4a91-96e2-3a8a83339c67",
   "metadata": {},
   "source": [
    "## Teste Sexto Treino Incremental"
   ]
  },
  {
   "cell_type": "code",
   "execution_count": 38,
   "id": "fd66232a-ec1a-4de3-941a-a1b3b016df95",
   "metadata": {},
   "outputs": [
    {
     "name": "stdout",
     "output_type": "stream",
     "text": [
      "Epoch 1/10\n",
      "4000/4000 [==============================] - ETA: 0s - loss: 0.0242 - accuracy: 0.9935INFO:tensorflow:Assets written to: best_model_acc_fase5_balance/assets\n"
     ]
    },
    {
     "name": "stderr",
     "output_type": "stream",
     "text": [
      "INFO:tensorflow:Assets written to: best_model_acc_fase5_balance/assets\n"
     ]
    },
    {
     "name": "stdout",
     "output_type": "stream",
     "text": [
      "4000/4000 [==============================] - 164s 41ms/step - loss: 0.0242 - accuracy: 0.9935 - val_loss: 0.0437 - val_accuracy: 0.9862\n",
      "Epoch 2/10\n",
      "3999/4000 [============================>.] - ETA: 0s - loss: 0.0143 - accuracy: 0.9966INFO:tensorflow:Assets written to: best_model_acc_fase5_balance/assets\n"
     ]
    },
    {
     "name": "stderr",
     "output_type": "stream",
     "text": [
      "INFO:tensorflow:Assets written to: best_model_acc_fase5_balance/assets\n"
     ]
    },
    {
     "name": "stdout",
     "output_type": "stream",
     "text": [
      "4000/4000 [==============================] - 161s 40ms/step - loss: 0.0143 - accuracy: 0.9966 - val_loss: 0.0502 - val_accuracy: 0.9856\n",
      "Epoch 3/10\n",
      "3999/4000 [============================>.] - ETA: 0s - loss: 0.0102 - accuracy: 0.9976INFO:tensorflow:Assets written to: best_model_acc_fase5_balance/assets\n"
     ]
    },
    {
     "name": "stderr",
     "output_type": "stream",
     "text": [
      "INFO:tensorflow:Assets written to: best_model_acc_fase5_balance/assets\n"
     ]
    },
    {
     "name": "stdout",
     "output_type": "stream",
     "text": [
      "4000/4000 [==============================] - 161s 40ms/step - loss: 0.0102 - accuracy: 0.9976 - val_loss: 0.0554 - val_accuracy: 0.9856\n",
      "Epoch 4/10\n",
      "3999/4000 [============================>.] - ETA: 0s - loss: 0.0080 - accuracy: 0.9981INFO:tensorflow:Assets written to: best_model_acc_fase5_balance/assets\n"
     ]
    },
    {
     "name": "stderr",
     "output_type": "stream",
     "text": [
      "INFO:tensorflow:Assets written to: best_model_acc_fase5_balance/assets\n"
     ]
    },
    {
     "name": "stdout",
     "output_type": "stream",
     "text": [
      "4000/4000 [==============================] - 161s 40ms/step - loss: 0.0080 - accuracy: 0.9981 - val_loss: 0.0685 - val_accuracy: 0.9844\n",
      "Epoch 5/10\n",
      "3999/4000 [============================>.] - ETA: 0s - loss: 0.0069 - accuracy: 0.9984INFO:tensorflow:Assets written to: best_model_acc_fase5_balance/assets\n"
     ]
    },
    {
     "name": "stderr",
     "output_type": "stream",
     "text": [
      "INFO:tensorflow:Assets written to: best_model_acc_fase5_balance/assets\n"
     ]
    },
    {
     "name": "stdout",
     "output_type": "stream",
     "text": [
      "4000/4000 [==============================] - 162s 40ms/step - loss: 0.0069 - accuracy: 0.9984 - val_loss: 0.0674 - val_accuracy: 0.9846\n",
      "Epoch 6/10\n",
      "3999/4000 [============================>.] - ETA: 0s - loss: 0.0059 - accuracy: 0.9986INFO:tensorflow:Assets written to: best_model_acc_fase5_balance/assets\n"
     ]
    },
    {
     "name": "stderr",
     "output_type": "stream",
     "text": [
      "INFO:tensorflow:Assets written to: best_model_acc_fase5_balance/assets\n"
     ]
    },
    {
     "name": "stdout",
     "output_type": "stream",
     "text": [
      "4000/4000 [==============================] - 161s 40ms/step - loss: 0.0059 - accuracy: 0.9986 - val_loss: 0.0750 - val_accuracy: 0.9836\n",
      "Epoch 7/10\n",
      "3999/4000 [============================>.] - ETA: 0s - loss: 0.0053 - accuracy: 0.9988INFO:tensorflow:Assets written to: best_model_acc_fase5_balance/assets\n"
     ]
    },
    {
     "name": "stderr",
     "output_type": "stream",
     "text": [
      "INFO:tensorflow:Assets written to: best_model_acc_fase5_balance/assets\n"
     ]
    },
    {
     "name": "stdout",
     "output_type": "stream",
     "text": [
      "4000/4000 [==============================] - 161s 40ms/step - loss: 0.0053 - accuracy: 0.9988 - val_loss: 0.0849 - val_accuracy: 0.9823\n",
      "Epoch 8/10\n",
      "4000/4000 [==============================] - 160s 40ms/step - loss: 0.0053 - accuracy: 0.9988 - val_loss: 0.0682 - val_accuracy: 0.9852\n",
      "Epoch 9/10\n",
      "3999/4000 [============================>.] - ETA: 0s - loss: 0.0047 - accuracy: 0.9989INFO:tensorflow:Assets written to: best_model_acc_fase5_balance/assets\n"
     ]
    },
    {
     "name": "stderr",
     "output_type": "stream",
     "text": [
      "INFO:tensorflow:Assets written to: best_model_acc_fase5_balance/assets\n"
     ]
    },
    {
     "name": "stdout",
     "output_type": "stream",
     "text": [
      "4000/4000 [==============================] - 162s 40ms/step - loss: 0.0047 - accuracy: 0.9989 - val_loss: 0.0857 - val_accuracy: 0.9834\n",
      "Epoch 10/10\n",
      "3999/4000 [============================>.] - ETA: 0s - loss: 0.0045 - accuracy: 0.9990INFO:tensorflow:Assets written to: best_model_acc_fase5_balance/assets\n"
     ]
    },
    {
     "name": "stderr",
     "output_type": "stream",
     "text": [
      "INFO:tensorflow:Assets written to: best_model_acc_fase5_balance/assets\n"
     ]
    },
    {
     "name": "stdout",
     "output_type": "stream",
     "text": [
      "4000/4000 [==============================] - 161s 40ms/step - loss: 0.0045 - accuracy: 0.9990 - val_loss: 0.0965 - val_accuracy: 0.9820\n"
     ]
    },
    {
     "data": {
      "text/plain": [
       "<keras.src.callbacks.History at 0x7f74ad49ad70>"
      ]
     },
     "execution_count": 38,
     "metadata": {},
     "output_type": "execute_result"
    }
   ],
   "source": [
    "model_bin = tf.keras.models.load_model('best_model_acc_fase4_balance')\n",
    "del(majestic)\n",
    "majestic = pd.read_csv('./treino/majestic_ascii.csv')\n",
    "majestic['69'] = 0\n",
    "majestic['70'] = 0\n",
    "majestic['71'] = 0\n",
    "\n",
    "del(dga)\n",
    "dga = pd.read_csv('./teste/df_teste5.csv')\n",
    "dga = dga.drop('family', axis = 1)\n",
    "\n",
    "dga.columns = majestic.columns\n",
    "dga = dga.loc[~dga['domain'].isin(majestic['domain'])].reset_index(drop=True)\n",
    "\n",
    "del(df_treino)\n",
    "df_treino = pd.concat([majestic.sample(500000, random_state=1),dga.sample(500000, random_state=1)], axis = 0, ignore_index=True)\n",
    "\n",
    "X_train = df_treino.drop(['domain','label'], axis = 1)\n",
    "y_train = df_treino['label']\n",
    "\n",
    "X_train = X_train.to_numpy()\n",
    "y_train = y_train.to_numpy()\n",
    "\n",
    "best = tf.keras.callbacks.ModelCheckpoint(\n",
    "    filepath='best_model_acc_fase5_balance',\n",
    "    save_weights_only=False,\n",
    "    monitor='accuracy',\n",
    "    mode='max',\n",
    "    save_best_only=True)\n",
    "\n",
    "model_bin.fit(X_train, y_train,\n",
    "              epochs=10,\n",
    "              callbacks = [best],\n",
    "              validation_split = 0.2,\n",
    "              batch_size=200)"
   ]
  },
  {
   "cell_type": "code",
   "execution_count": 39,
   "id": "c4b61a53-1444-4a2f-9346-da4a5cb39542",
   "metadata": {},
   "outputs": [
    {
     "name": "stdout",
     "output_type": "stream",
     "text": [
      "31250/31250 [==============================] - 396s 13ms/step\n",
      "Matriz de Confusão Teste:  6\n",
      "[[487722  12278]\n",
      " [  8793 491207]]\n",
      "Relatório de Classificação\n",
      "              precision    recall  f1-score   support\n",
      "\n",
      "           0     0.9823    0.9754    0.9789    500000\n",
      "           1     0.9756    0.9824    0.9790    500000\n",
      "\n",
      "    accuracy                         0.9789   1000000\n",
      "   macro avg     0.9790    0.9789    0.9789   1000000\n",
      "weighted avg     0.9790    0.9789    0.9789   1000000\n",
      "\n",
      "____________________\n",
      "31250/31250 [==============================] - 378s 12ms/step\n",
      "Matriz de Confusão Teste:  7\n",
      "[[487722  12278]\n",
      " [  9986 490014]]\n",
      "Relatório de Classificação\n",
      "              precision    recall  f1-score   support\n",
      "\n",
      "           0     0.9799    0.9754    0.9777    500000\n",
      "           1     0.9756    0.9800    0.9778    500000\n",
      "\n",
      "    accuracy                         0.9777   1000000\n",
      "   macro avg     0.9777    0.9777    0.9777   1000000\n",
      "weighted avg     0.9777    0.9777    0.9777   1000000\n",
      "\n",
      "____________________\n",
      "31250/31250 [==============================] - 378s 12ms/step\n",
      "Matriz de Confusão Teste:  8\n",
      "[[487722  12278]\n",
      " [  9170 490830]]\n",
      "Relatório de Classificação\n",
      "              precision    recall  f1-score   support\n",
      "\n",
      "           0     0.9815    0.9754    0.9785    500000\n",
      "           1     0.9756    0.9817    0.9786    500000\n",
      "\n",
      "    accuracy                         0.9786   1000000\n",
      "   macro avg     0.9786    0.9786    0.9786   1000000\n",
      "weighted avg     0.9786    0.9786    0.9786   1000000\n",
      "\n",
      "____________________\n",
      "31250/31250 [==============================] - 379s 12ms/step\n",
      "Matriz de Confusão Teste:  9\n",
      "[[487722  12278]\n",
      " [ 10301 489699]]\n",
      "Relatório de Classificação\n",
      "              precision    recall  f1-score   support\n",
      "\n",
      "           0     0.9793    0.9754    0.9774    500000\n",
      "           1     0.9755    0.9794    0.9775    500000\n",
      "\n",
      "    accuracy                         0.9774   1000000\n",
      "   macro avg     0.9774    0.9774    0.9774   1000000\n",
      "weighted avg     0.9774    0.9774    0.9774   1000000\n",
      "\n",
      "____________________\n",
      "31250/31250 [==============================] - 379s 12ms/step\n",
      "Matriz de Confusão Teste:  10\n",
      "[[487722  12278]\n",
      " [  9552 490448]]\n",
      "Relatório de Classificação\n",
      "              precision    recall  f1-score   support\n",
      "\n",
      "           0     0.9808    0.9754    0.9781    500000\n",
      "           1     0.9756    0.9809    0.9782    500000\n",
      "\n",
      "    accuracy                         0.9782   1000000\n",
      "   macro avg     0.9782    0.9782    0.9782   1000000\n",
      "weighted avg     0.9782    0.9782    0.9782   1000000\n",
      "\n",
      "____________________\n",
      "31250/31250 [==============================] - 380s 12ms/step\n",
      "Matriz de Confusão Teste:  11\n",
      "[[487722  12278]\n",
      " [  9728 490272]]\n",
      "Relatório de Classificação\n",
      "              precision    recall  f1-score   support\n",
      "\n",
      "           0     0.9804    0.9754    0.9779    500000\n",
      "           1     0.9756    0.9805    0.9780    500000\n",
      "\n",
      "    accuracy                         0.9780   1000000\n",
      "   macro avg     0.9780    0.9780    0.9780   1000000\n",
      "weighted avg     0.9780    0.9780    0.9780   1000000\n",
      "\n",
      "____________________\n"
     ]
    }
   ],
   "source": [
    "model_bin = tf.keras.models.load_model('best_model_acc_fase5_balance')\n",
    "legit = majestic.loc[~majestic['domain'].isin(df_treino['domain'])].reset_index(drop=True)\n",
    "\n",
    "for i in range (6,12):\n",
    "    del(dga)\n",
    "    dga = pd.read_csv('./teste/df_teste'+str(i)+'.csv')\n",
    "    dga = dga.drop('family', axis = 1)\n",
    "    dga = dga.loc[~dga['domain'].isin(majestic['domain'])].reset_index(drop=True)\n",
    "\n",
    "    dga.columns = legit.columns\n",
    "\n",
    "    del(df_teste)\n",
    "    df_teste = pd.concat([legit,dga.sample(500000, random_state=1)], axis = 0, ignore_index=True)\n",
    "\n",
    "    X_test = df_teste.drop(['domain','label'], axis = 1)\n",
    "    y_test = df_teste['label']\n",
    "\n",
    "    X_test = X_test.to_numpy()\n",
    "    y_test = y_test.to_numpy()\n",
    "\n",
    "    with tf.device('/cpu:0'):\n",
    "        predictions = model_bin.predict(X_test)\n",
    "        predictions = np.where(predictions > 0.5, 1, 0)\n",
    "    \n",
    "    print('Matriz de Confusão Teste: ', str(i))\n",
    "    print(confusion_matrix(y_test,predictions))\n",
    "\n",
    "    print('Relatório de Classificação')\n",
    "    print(classification_report(y_test,predictions, digits=4))\n",
    "    print('____________________')"
   ]
  },
  {
   "cell_type": "markdown",
   "id": "b3342a28-c63f-4532-936e-927cb2748e0f",
   "metadata": {},
   "source": [
    "## Sétimo Treino Incremental"
   ]
  },
  {
   "cell_type": "code",
   "execution_count": 40,
   "id": "fcf52166-f11c-409f-8033-d7044a3ad5aa",
   "metadata": {},
   "outputs": [
    {
     "name": "stdout",
     "output_type": "stream",
     "text": [
      "Epoch 1/10\n",
      "3999/4000 [============================>.] - ETA: 0s - loss: 0.0216 - accuracy: 0.9944INFO:tensorflow:Assets written to: best_model_acc_fase6_balance/assets\n"
     ]
    },
    {
     "name": "stderr",
     "output_type": "stream",
     "text": [
      "INFO:tensorflow:Assets written to: best_model_acc_fase6_balance/assets\n"
     ]
    },
    {
     "name": "stdout",
     "output_type": "stream",
     "text": [
      "4000/4000 [==============================] - 164s 40ms/step - loss: 0.0216 - accuracy: 0.9944 - val_loss: 0.0414 - val_accuracy: 0.9882\n",
      "Epoch 2/10\n",
      "4000/4000 [==============================] - ETA: 0s - loss: 0.0126 - accuracy: 0.9971INFO:tensorflow:Assets written to: best_model_acc_fase6_balance/assets\n"
     ]
    },
    {
     "name": "stderr",
     "output_type": "stream",
     "text": [
      "INFO:tensorflow:Assets written to: best_model_acc_fase6_balance/assets\n"
     ]
    },
    {
     "name": "stdout",
     "output_type": "stream",
     "text": [
      "4000/4000 [==============================] - 161s 40ms/step - loss: 0.0126 - accuracy: 0.9971 - val_loss: 0.0441 - val_accuracy: 0.9881\n",
      "Epoch 3/10\n",
      "3999/4000 [============================>.] - ETA: 0s - loss: 0.0093 - accuracy: 0.9979INFO:tensorflow:Assets written to: best_model_acc_fase6_balance/assets\n"
     ]
    },
    {
     "name": "stderr",
     "output_type": "stream",
     "text": [
      "INFO:tensorflow:Assets written to: best_model_acc_fase6_balance/assets\n"
     ]
    },
    {
     "name": "stdout",
     "output_type": "stream",
     "text": [
      "4000/4000 [==============================] - 161s 40ms/step - loss: 0.0093 - accuracy: 0.9979 - val_loss: 0.0508 - val_accuracy: 0.9869\n",
      "Epoch 4/10\n",
      "3999/4000 [============================>.] - ETA: 0s - loss: 0.0073 - accuracy: 0.9984INFO:tensorflow:Assets written to: best_model_acc_fase6_balance/assets\n"
     ]
    },
    {
     "name": "stderr",
     "output_type": "stream",
     "text": [
      "INFO:tensorflow:Assets written to: best_model_acc_fase6_balance/assets\n"
     ]
    },
    {
     "name": "stdout",
     "output_type": "stream",
     "text": [
      "4000/4000 [==============================] - 161s 40ms/step - loss: 0.0073 - accuracy: 0.9984 - val_loss: 0.0571 - val_accuracy: 0.9867\n",
      "Epoch 5/10\n",
      "3999/4000 [============================>.] - ETA: 0s - loss: 0.0062 - accuracy: 0.9986INFO:tensorflow:Assets written to: best_model_acc_fase6_balance/assets\n"
     ]
    },
    {
     "name": "stderr",
     "output_type": "stream",
     "text": [
      "INFO:tensorflow:Assets written to: best_model_acc_fase6_balance/assets\n"
     ]
    },
    {
     "name": "stdout",
     "output_type": "stream",
     "text": [
      "4000/4000 [==============================] - 161s 40ms/step - loss: 0.0062 - accuracy: 0.9986 - val_loss: 0.0544 - val_accuracy: 0.9878\n",
      "Epoch 6/10\n",
      "3999/4000 [============================>.] - ETA: 0s - loss: 0.0054 - accuracy: 0.9988INFO:tensorflow:Assets written to: best_model_acc_fase6_balance/assets\n"
     ]
    },
    {
     "name": "stderr",
     "output_type": "stream",
     "text": [
      "INFO:tensorflow:Assets written to: best_model_acc_fase6_balance/assets\n"
     ]
    },
    {
     "name": "stdout",
     "output_type": "stream",
     "text": [
      "4000/4000 [==============================] - 161s 40ms/step - loss: 0.0054 - accuracy: 0.9988 - val_loss: 0.0770 - val_accuracy: 0.9849\n",
      "Epoch 7/10\n",
      "3999/4000 [============================>.] - ETA: 0s - loss: 0.0049 - accuracy: 0.9989INFO:tensorflow:Assets written to: best_model_acc_fase6_balance/assets\n"
     ]
    },
    {
     "name": "stderr",
     "output_type": "stream",
     "text": [
      "INFO:tensorflow:Assets written to: best_model_acc_fase6_balance/assets\n"
     ]
    },
    {
     "name": "stdout",
     "output_type": "stream",
     "text": [
      "4000/4000 [==============================] - 161s 40ms/step - loss: 0.0049 - accuracy: 0.9989 - val_loss: 0.0733 - val_accuracy: 0.9860\n",
      "Epoch 8/10\n",
      "3999/4000 [============================>.] - ETA: 0s - loss: 0.0045 - accuracy: 0.9990INFO:tensorflow:Assets written to: best_model_acc_fase6_balance/assets\n"
     ]
    },
    {
     "name": "stderr",
     "output_type": "stream",
     "text": [
      "INFO:tensorflow:Assets written to: best_model_acc_fase6_balance/assets\n"
     ]
    },
    {
     "name": "stdout",
     "output_type": "stream",
     "text": [
      "4000/4000 [==============================] - 161s 40ms/step - loss: 0.0045 - accuracy: 0.9990 - val_loss: 0.0856 - val_accuracy: 0.9844\n",
      "Epoch 9/10\n",
      "4000/4000 [==============================] - ETA: 0s - loss: 0.0043 - accuracy: 0.9991INFO:tensorflow:Assets written to: best_model_acc_fase6_balance/assets\n"
     ]
    },
    {
     "name": "stderr",
     "output_type": "stream",
     "text": [
      "INFO:tensorflow:Assets written to: best_model_acc_fase6_balance/assets\n"
     ]
    },
    {
     "name": "stdout",
     "output_type": "stream",
     "text": [
      "4000/4000 [==============================] - 161s 40ms/step - loss: 0.0043 - accuracy: 0.9991 - val_loss: 0.0906 - val_accuracy: 0.9833\n",
      "Epoch 10/10\n",
      "3999/4000 [============================>.] - ETA: 0s - loss: 0.0041 - accuracy: 0.9991INFO:tensorflow:Assets written to: best_model_acc_fase6_balance/assets\n"
     ]
    },
    {
     "name": "stderr",
     "output_type": "stream",
     "text": [
      "INFO:tensorflow:Assets written to: best_model_acc_fase6_balance/assets\n"
     ]
    },
    {
     "name": "stdout",
     "output_type": "stream",
     "text": [
      "4000/4000 [==============================] - 162s 40ms/step - loss: 0.0041 - accuracy: 0.9991 - val_loss: 0.0883 - val_accuracy: 0.9838\n"
     ]
    },
    {
     "data": {
      "text/plain": [
       "<keras.src.callbacks.History at 0x7f74d68f67a0>"
      ]
     },
     "execution_count": 40,
     "metadata": {},
     "output_type": "execute_result"
    }
   ],
   "source": [
    "model_bin = tf.keras.models.load_model('best_model_acc_fase5_balance')\n",
    "del(majestic)\n",
    "majestic = pd.read_csv('./treino/majestic_ascii.csv')\n",
    "majestic['69'] = 0\n",
    "majestic['70'] = 0\n",
    "majestic['71'] = 0\n",
    "\n",
    "del(dga)\n",
    "dga = pd.read_csv('./teste/df_teste6.csv')\n",
    "dga = dga.drop('family', axis = 1)\n",
    "\n",
    "dga.columns = majestic.columns\n",
    "dga = dga.loc[~dga['domain'].isin(majestic['domain'])].reset_index(drop=True)\n",
    "\n",
    "del(df_treino)\n",
    "df_treino = pd.concat([majestic.sample(500000, random_state=1),dga.sample(500000, random_state=1)], axis = 0, ignore_index=True)\n",
    "\n",
    "X_train = df_treino.drop(['domain','label'], axis = 1)\n",
    "y_train = df_treino['label']\n",
    "\n",
    "X_train = X_train.to_numpy()\n",
    "y_train = y_train.to_numpy()\n",
    "\n",
    "best = tf.keras.callbacks.ModelCheckpoint(\n",
    "    filepath='best_model_acc_fase6_balance',\n",
    "    save_weights_only=False,\n",
    "    monitor='accuracy',\n",
    "    mode='max',\n",
    "    save_best_only=True)\n",
    "\n",
    "model_bin.fit(X_train, y_train,\n",
    "              epochs=10,\n",
    "              callbacks = [best],\n",
    "              validation_split = 0.2,\n",
    "              batch_size=200)"
   ]
  },
  {
   "cell_type": "code",
   "execution_count": 41,
   "id": "f81abf25-3233-4bdb-9576-e2deea0a0958",
   "metadata": {},
   "outputs": [
    {
     "name": "stdout",
     "output_type": "stream",
     "text": [
      "31250/31250 [==============================] - 391s 13ms/step\n",
      "Matriz de Confusão Teste:  7\n",
      "[[487019  12981]\n",
      " [  8725 491275]]\n",
      "Relatório de Classificação\n",
      "              precision    recall  f1-score   support\n",
      "\n",
      "           0     0.9824    0.9740    0.9782    500000\n",
      "           1     0.9743    0.9826    0.9784    500000\n",
      "\n",
      "    accuracy                         0.9783   1000000\n",
      "   macro avg     0.9783    0.9783    0.9783   1000000\n",
      "weighted avg     0.9783    0.9783    0.9783   1000000\n",
      "\n",
      "____________________\n",
      "31250/31250 [==============================] - 376s 12ms/step\n",
      "Matriz de Confusão Teste:  8\n",
      "[[487019  12981]\n",
      " [  8590 491410]]\n",
      "Relatório de Classificação\n",
      "              precision    recall  f1-score   support\n",
      "\n",
      "           0     0.9827    0.9740    0.9783    500000\n",
      "           1     0.9743    0.9828    0.9785    500000\n",
      "\n",
      "    accuracy                         0.9784   1000000\n",
      "   macro avg     0.9785    0.9784    0.9784   1000000\n",
      "weighted avg     0.9785    0.9784    0.9784   1000000\n",
      "\n",
      "____________________\n",
      "31250/31250 [==============================] - 375s 12ms/step\n",
      "Matriz de Confusão Teste:  9\n",
      "[[487019  12981]\n",
      " [  9585 490415]]\n",
      "Relatório de Classificação\n",
      "              precision    recall  f1-score   support\n",
      "\n",
      "           0     0.9807    0.9740    0.9774    500000\n",
      "           1     0.9742    0.9808    0.9775    500000\n",
      "\n",
      "    accuracy                         0.9774   1000000\n",
      "   macro avg     0.9775    0.9774    0.9774   1000000\n",
      "weighted avg     0.9775    0.9774    0.9774   1000000\n",
      "\n",
      "____________________\n",
      "31250/31250 [==============================] - 376s 12ms/step\n",
      "Matriz de Confusão Teste:  10\n",
      "[[487019  12981]\n",
      " [  9187 490813]]\n",
      "Relatório de Classificação\n",
      "              precision    recall  f1-score   support\n",
      "\n",
      "           0     0.9815    0.9740    0.9777    500000\n",
      "           1     0.9742    0.9816    0.9779    500000\n",
      "\n",
      "    accuracy                         0.9778   1000000\n",
      "   macro avg     0.9779    0.9778    0.9778   1000000\n",
      "weighted avg     0.9779    0.9778    0.9778   1000000\n",
      "\n",
      "____________________\n",
      "31250/31250 [==============================] - 377s 12ms/step\n",
      "Matriz de Confusão Teste:  11\n",
      "[[487019  12981]\n",
      " [  9210 490790]]\n",
      "Relatório de Classificação\n",
      "              precision    recall  f1-score   support\n",
      "\n",
      "           0     0.9814    0.9740    0.9777    500000\n",
      "           1     0.9742    0.9816    0.9779    500000\n",
      "\n",
      "    accuracy                         0.9778   1000000\n",
      "   macro avg     0.9778    0.9778    0.9778   1000000\n",
      "weighted avg     0.9778    0.9778    0.9778   1000000\n",
      "\n",
      "____________________\n"
     ]
    }
   ],
   "source": [
    "model_bin = tf.keras.models.load_model('best_model_acc_fase6_balance')\n",
    "legit = majestic.loc[~majestic['domain'].isin(df_treino['domain'])].reset_index(drop=True)\n",
    "\n",
    "for i in range (7,12):\n",
    "    del(dga)\n",
    "    dga = pd.read_csv('./teste/df_teste'+str(i)+'.csv')\n",
    "    dga = dga.drop('family', axis = 1)\n",
    "    dga = dga.loc[~dga['domain'].isin(majestic['domain'])].reset_index(drop=True)\n",
    "\n",
    "    dga.columns = legit.columns\n",
    "\n",
    "    del(df_teste)\n",
    "    df_teste = pd.concat([legit,dga.sample(500000, random_state=1)], axis = 0, ignore_index=True)\n",
    "\n",
    "    X_test = df_teste.drop(['domain','label'], axis = 1)\n",
    "    y_test = df_teste['label']\n",
    "\n",
    "    X_test = X_test.to_numpy()\n",
    "    y_test = y_test.to_numpy()\n",
    "\n",
    "    with tf.device('/cpu:0'):\n",
    "        predictions = model_bin.predict(X_test)\n",
    "        predictions = np.where(predictions > 0.5, 1, 0)\n",
    "    \n",
    "    print('Matriz de Confusão Teste: ', str(i))\n",
    "    print(confusion_matrix(y_test,predictions))\n",
    "\n",
    "    print('Relatório de Classificação')\n",
    "    print(classification_report(y_test,predictions, digits=4))\n",
    "    print('____________________')"
   ]
  },
  {
   "cell_type": "markdown",
   "id": "e19b3c2f-a7af-4282-93bc-ad9930bdc596",
   "metadata": {},
   "source": [
    "## Oitavo Treino Incremental"
   ]
  },
  {
   "cell_type": "code",
   "execution_count": 42,
   "id": "0f177375-803c-40ce-a933-55aba8121117",
   "metadata": {},
   "outputs": [
    {
     "name": "stdout",
     "output_type": "stream",
     "text": [
      "Epoch 1/10\n",
      "3999/4000 [============================>.] - ETA: 0s - loss: 0.0220 - accuracy: 0.9942INFO:tensorflow:Assets written to: best_model_acc_fase7_balance/assets\n"
     ]
    },
    {
     "name": "stderr",
     "output_type": "stream",
     "text": [
      "INFO:tensorflow:Assets written to: best_model_acc_fase7_balance/assets\n"
     ]
    },
    {
     "name": "stdout",
     "output_type": "stream",
     "text": [
      "4000/4000 [==============================] - 164s 41ms/step - loss: 0.0220 - accuracy: 0.9942 - val_loss: 0.0344 - val_accuracy: 0.9897\n",
      "Epoch 2/10\n",
      "3999/4000 [============================>.] - ETA: 0s - loss: 0.0130 - accuracy: 0.9969INFO:tensorflow:Assets written to: best_model_acc_fase7_balance/assets\n"
     ]
    },
    {
     "name": "stderr",
     "output_type": "stream",
     "text": [
      "INFO:tensorflow:Assets written to: best_model_acc_fase7_balance/assets\n"
     ]
    },
    {
     "name": "stdout",
     "output_type": "stream",
     "text": [
      "4000/4000 [==============================] - 161s 40ms/step - loss: 0.0130 - accuracy: 0.9969 - val_loss: 0.0346 - val_accuracy: 0.9900\n",
      "Epoch 3/10\n",
      "3999/4000 [============================>.] - ETA: 0s - loss: 0.0090 - accuracy: 0.9980INFO:tensorflow:Assets written to: best_model_acc_fase7_balance/assets\n"
     ]
    },
    {
     "name": "stderr",
     "output_type": "stream",
     "text": [
      "INFO:tensorflow:Assets written to: best_model_acc_fase7_balance/assets\n"
     ]
    },
    {
     "name": "stdout",
     "output_type": "stream",
     "text": [
      "4000/4000 [==============================] - 161s 40ms/step - loss: 0.0090 - accuracy: 0.9980 - val_loss: 0.0568 - val_accuracy: 0.9858\n",
      "Epoch 4/10\n",
      "3999/4000 [============================>.] - ETA: 0s - loss: 0.0071 - accuracy: 0.9984INFO:tensorflow:Assets written to: best_model_acc_fase7_balance/assets\n"
     ]
    },
    {
     "name": "stderr",
     "output_type": "stream",
     "text": [
      "INFO:tensorflow:Assets written to: best_model_acc_fase7_balance/assets\n"
     ]
    },
    {
     "name": "stdout",
     "output_type": "stream",
     "text": [
      "4000/4000 [==============================] - 162s 40ms/step - loss: 0.0071 - accuracy: 0.9984 - val_loss: 0.0598 - val_accuracy: 0.9862\n",
      "Epoch 5/10\n",
      "3999/4000 [============================>.] - ETA: 0s - loss: 0.0058 - accuracy: 0.9987INFO:tensorflow:Assets written to: best_model_acc_fase7_balance/assets\n"
     ]
    },
    {
     "name": "stderr",
     "output_type": "stream",
     "text": [
      "INFO:tensorflow:Assets written to: best_model_acc_fase7_balance/assets\n"
     ]
    },
    {
     "name": "stdout",
     "output_type": "stream",
     "text": [
      "4000/4000 [==============================] - 162s 40ms/step - loss: 0.0058 - accuracy: 0.9987 - val_loss: 0.0595 - val_accuracy: 0.9873\n",
      "Epoch 6/10\n",
      "3999/4000 [============================>.] - ETA: 0s - loss: 0.0053 - accuracy: 0.9988INFO:tensorflow:Assets written to: best_model_acc_fase7_balance/assets\n"
     ]
    },
    {
     "name": "stderr",
     "output_type": "stream",
     "text": [
      "INFO:tensorflow:Assets written to: best_model_acc_fase7_balance/assets\n"
     ]
    },
    {
     "name": "stdout",
     "output_type": "stream",
     "text": [
      "4000/4000 [==============================] - 161s 40ms/step - loss: 0.0053 - accuracy: 0.9988 - val_loss: 0.0569 - val_accuracy: 0.9884\n",
      "Epoch 7/10\n",
      "3999/4000 [============================>.] - ETA: 0s - loss: 0.0049 - accuracy: 0.9989INFO:tensorflow:Assets written to: best_model_acc_fase7_balance/assets\n"
     ]
    },
    {
     "name": "stderr",
     "output_type": "stream",
     "text": [
      "INFO:tensorflow:Assets written to: best_model_acc_fase7_balance/assets\n"
     ]
    },
    {
     "name": "stdout",
     "output_type": "stream",
     "text": [
      "4000/4000 [==============================] - 162s 40ms/step - loss: 0.0049 - accuracy: 0.9989 - val_loss: 0.0602 - val_accuracy: 0.9881\n",
      "Epoch 8/10\n",
      "3999/4000 [============================>.] - ETA: 0s - loss: 0.0044 - accuracy: 0.9991INFO:tensorflow:Assets written to: best_model_acc_fase7_balance/assets\n"
     ]
    },
    {
     "name": "stderr",
     "output_type": "stream",
     "text": [
      "INFO:tensorflow:Assets written to: best_model_acc_fase7_balance/assets\n"
     ]
    },
    {
     "name": "stdout",
     "output_type": "stream",
     "text": [
      "4000/4000 [==============================] - 162s 41ms/step - loss: 0.0044 - accuracy: 0.9991 - val_loss: 0.0663 - val_accuracy: 0.9868\n",
      "Epoch 9/10\n",
      "4000/4000 [==============================] - ETA: 0s - loss: 0.0042 - accuracy: 0.9991INFO:tensorflow:Assets written to: best_model_acc_fase7_balance/assets\n"
     ]
    },
    {
     "name": "stderr",
     "output_type": "stream",
     "text": [
      "INFO:tensorflow:Assets written to: best_model_acc_fase7_balance/assets\n"
     ]
    },
    {
     "name": "stdout",
     "output_type": "stream",
     "text": [
      "4000/4000 [==============================] - 162s 40ms/step - loss: 0.0042 - accuracy: 0.9991 - val_loss: 0.0714 - val_accuracy: 0.9862\n",
      "Epoch 10/10\n",
      "3999/4000 [============================>.] - ETA: 0s - loss: 0.0040 - accuracy: 0.9992INFO:tensorflow:Assets written to: best_model_acc_fase7_balance/assets\n"
     ]
    },
    {
     "name": "stderr",
     "output_type": "stream",
     "text": [
      "INFO:tensorflow:Assets written to: best_model_acc_fase7_balance/assets\n"
     ]
    },
    {
     "name": "stdout",
     "output_type": "stream",
     "text": [
      "4000/4000 [==============================] - 162s 40ms/step - loss: 0.0040 - accuracy: 0.9992 - val_loss: 0.0962 - val_accuracy: 0.9824\n"
     ]
    },
    {
     "data": {
      "text/plain": [
       "<keras.src.callbacks.History at 0x7f74d69d0bb0>"
      ]
     },
     "execution_count": 42,
     "metadata": {},
     "output_type": "execute_result"
    }
   ],
   "source": [
    "model_bin = tf.keras.models.load_model('best_model_acc_fase6_balance')\n",
    "del(majestic)\n",
    "majestic = pd.read_csv('./treino/majestic_ascii.csv')\n",
    "majestic['69'] = 0\n",
    "majestic['70'] = 0\n",
    "majestic['71'] = 0\n",
    "\n",
    "del(dga)\n",
    "dga = pd.read_csv('./teste/df_teste7.csv')\n",
    "dga = dga.drop('family', axis = 1)\n",
    "\n",
    "dga.columns = majestic.columns\n",
    "dga = dga.loc[~dga['domain'].isin(majestic['domain'])].reset_index(drop=True)\n",
    "\n",
    "del(df_treino)\n",
    "df_treino = pd.concat([majestic.sample(500000, random_state=1),dga.sample(500000, random_state=1)], axis = 0, ignore_index=True)\n",
    "\n",
    "X_train = df_treino.drop(['domain','label'], axis = 1)\n",
    "y_train = df_treino['label']\n",
    "\n",
    "X_train = X_train.to_numpy()\n",
    "y_train = y_train.to_numpy()\n",
    "\n",
    "best = tf.keras.callbacks.ModelCheckpoint(\n",
    "    filepath='best_model_acc_fase7_balance',\n",
    "    save_weights_only=False,\n",
    "    monitor='accuracy',\n",
    "    mode='max',\n",
    "    save_best_only=True)\n",
    "\n",
    "model_bin.fit(X_train, y_train,\n",
    "              epochs=10,\n",
    "              callbacks = [best],\n",
    "              validation_split = 0.2,\n",
    "              batch_size=200)"
   ]
  },
  {
   "cell_type": "code",
   "execution_count": 43,
   "id": "eb10b18a-35fe-4358-aec1-66cb54acd47f",
   "metadata": {},
   "outputs": [
    {
     "name": "stdout",
     "output_type": "stream",
     "text": [
      "31250/31250 [==============================] - 400s 13ms/step\n",
      "Matriz de Confusão Teste:  8\n",
      "[[488145  11855]\n",
      " [  8879 491121]]\n",
      "Relatório de Classificação\n",
      "              precision    recall  f1-score   support\n",
      "\n",
      "           0     0.9821    0.9763    0.9792    500000\n",
      "           1     0.9764    0.9822    0.9793    500000\n",
      "\n",
      "    accuracy                         0.9793   1000000\n",
      "   macro avg     0.9793    0.9793    0.9793   1000000\n",
      "weighted avg     0.9793    0.9793    0.9793   1000000\n",
      "\n",
      "____________________\n",
      "31250/31250 [==============================] - 385s 12ms/step\n",
      "Matriz de Confusão Teste:  9\n",
      "[[488145  11855]\n",
      " [ 10357 489643]]\n",
      "Relatório de Classificação\n",
      "              precision    recall  f1-score   support\n",
      "\n",
      "           0     0.9792    0.9763    0.9778    500000\n",
      "           1     0.9764    0.9793    0.9778    500000\n",
      "\n",
      "    accuracy                         0.9778   1000000\n",
      "   macro avg     0.9778    0.9778    0.9778   1000000\n",
      "weighted avg     0.9778    0.9778    0.9778   1000000\n",
      "\n",
      "____________________\n",
      "31250/31250 [==============================] - 385s 12ms/step\n",
      "Matriz de Confusão Teste:  10\n",
      "[[488145  11855]\n",
      " [  9885 490115]]\n",
      "Relatório de Classificação\n",
      "              precision    recall  f1-score   support\n",
      "\n",
      "           0     0.9802    0.9763    0.9782    500000\n",
      "           1     0.9764    0.9802    0.9783    500000\n",
      "\n",
      "    accuracy                         0.9783   1000000\n",
      "   macro avg     0.9783    0.9783    0.9783   1000000\n",
      "weighted avg     0.9783    0.9783    0.9783   1000000\n",
      "\n",
      "____________________\n",
      "31250/31250 [==============================] - 385s 12ms/step\n",
      "Matriz de Confusão Teste:  11\n",
      "[[488145  11855]\n",
      " [ 10391 489609]]\n",
      "Relatório de Classificação\n",
      "              precision    recall  f1-score   support\n",
      "\n",
      "           0     0.9792    0.9763    0.9777    500000\n",
      "           1     0.9764    0.9792    0.9778    500000\n",
      "\n",
      "    accuracy                         0.9778   1000000\n",
      "   macro avg     0.9778    0.9778    0.9778   1000000\n",
      "weighted avg     0.9778    0.9778    0.9778   1000000\n",
      "\n",
      "____________________\n"
     ]
    }
   ],
   "source": [
    "model_bin = tf.keras.models.load_model('best_model_acc_fase7_balance')\n",
    "legit = majestic.loc[~majestic['domain'].isin(df_treino['domain'])].reset_index(drop=True)\n",
    "\n",
    "for i in range (8,12):\n",
    "    del(dga)\n",
    "    dga = pd.read_csv('./teste/df_teste'+str(i)+'.csv')\n",
    "    dga = dga.drop('family', axis = 1)\n",
    "    dga = dga.loc[~dga['domain'].isin(majestic['domain'])].reset_index(drop=True)\n",
    "\n",
    "    dga.columns = legit.columns\n",
    "\n",
    "    del(df_teste)\n",
    "    df_teste = pd.concat([legit,dga.sample(500000, random_state=1)], axis = 0, ignore_index=True)\n",
    "\n",
    "    X_test = df_teste.drop(['domain','label'], axis = 1)\n",
    "    y_test = df_teste['label']\n",
    "\n",
    "    X_test = X_test.to_numpy()\n",
    "    y_test = y_test.to_numpy()\n",
    "\n",
    "    with tf.device('/cpu:0'):\n",
    "        predictions = model_bin.predict(X_test)\n",
    "        predictions = np.where(predictions > 0.5, 1, 0)\n",
    "    \n",
    "    print('Matriz de Confusão Teste: ', str(i))\n",
    "    print(confusion_matrix(y_test,predictions))\n",
    "\n",
    "    print('Relatório de Classificação')\n",
    "    print(classification_report(y_test,predictions, digits=4))\n",
    "    print('____________________')"
   ]
  },
  {
   "cell_type": "markdown",
   "id": "503f205d-2314-4232-b22d-a70f80896d54",
   "metadata": {},
   "source": [
    "## Nono Treino Incremental"
   ]
  },
  {
   "cell_type": "code",
   "execution_count": 44,
   "id": "7df56021-e58e-47f3-a9ee-42d2473db293",
   "metadata": {},
   "outputs": [
    {
     "name": "stdout",
     "output_type": "stream",
     "text": [
      "Epoch 1/10\n",
      "4000/4000 [==============================] - ETA: 0s - loss: 0.0202 - accuracy: 0.9948INFO:tensorflow:Assets written to: best_model_acc_fase8_balance/assets\n"
     ]
    },
    {
     "name": "stderr",
     "output_type": "stream",
     "text": [
      "INFO:tensorflow:Assets written to: best_model_acc_fase8_balance/assets\n"
     ]
    },
    {
     "name": "stdout",
     "output_type": "stream",
     "text": [
      "4000/4000 [==============================] - 164s 41ms/step - loss: 0.0202 - accuracy: 0.9948 - val_loss: 0.0347 - val_accuracy: 0.9903\n",
      "Epoch 2/10\n",
      "3999/4000 [============================>.] - ETA: 0s - loss: 0.0115 - accuracy: 0.9974INFO:tensorflow:Assets written to: best_model_acc_fase8_balance/assets\n"
     ]
    },
    {
     "name": "stderr",
     "output_type": "stream",
     "text": [
      "INFO:tensorflow:Assets written to: best_model_acc_fase8_balance/assets\n"
     ]
    },
    {
     "name": "stdout",
     "output_type": "stream",
     "text": [
      "4000/4000 [==============================] - 161s 40ms/step - loss: 0.0115 - accuracy: 0.9974 - val_loss: 0.0504 - val_accuracy: 0.9872\n",
      "Epoch 3/10\n",
      "3999/4000 [============================>.] - ETA: 0s - loss: 0.0083 - accuracy: 0.9982INFO:tensorflow:Assets written to: best_model_acc_fase8_balance/assets\n"
     ]
    },
    {
     "name": "stderr",
     "output_type": "stream",
     "text": [
      "INFO:tensorflow:Assets written to: best_model_acc_fase8_balance/assets\n"
     ]
    },
    {
     "name": "stdout",
     "output_type": "stream",
     "text": [
      "4000/4000 [==============================] - 161s 40ms/step - loss: 0.0083 - accuracy: 0.9982 - val_loss: 0.0513 - val_accuracy: 0.9874\n",
      "Epoch 4/10\n",
      "3999/4000 [============================>.] - ETA: 0s - loss: 0.0065 - accuracy: 0.9986INFO:tensorflow:Assets written to: best_model_acc_fase8_balance/assets\n"
     ]
    },
    {
     "name": "stderr",
     "output_type": "stream",
     "text": [
      "INFO:tensorflow:Assets written to: best_model_acc_fase8_balance/assets\n"
     ]
    },
    {
     "name": "stdout",
     "output_type": "stream",
     "text": [
      "4000/4000 [==============================] - 161s 40ms/step - loss: 0.0065 - accuracy: 0.9986 - val_loss: 0.0554 - val_accuracy: 0.9879\n",
      "Epoch 5/10\n",
      "3999/4000 [============================>.] - ETA: 0s - loss: 0.0054 - accuracy: 0.9988INFO:tensorflow:Assets written to: best_model_acc_fase8_balance/assets\n"
     ]
    },
    {
     "name": "stderr",
     "output_type": "stream",
     "text": [
      "INFO:tensorflow:Assets written to: best_model_acc_fase8_balance/assets\n"
     ]
    },
    {
     "name": "stdout",
     "output_type": "stream",
     "text": [
      "4000/4000 [==============================] - 161s 40ms/step - loss: 0.0054 - accuracy: 0.9988 - val_loss: 0.0666 - val_accuracy: 0.9863\n",
      "Epoch 6/10\n",
      "3999/4000 [============================>.] - ETA: 0s - loss: 0.0048 - accuracy: 0.9990INFO:tensorflow:Assets written to: best_model_acc_fase8_balance/assets\n"
     ]
    },
    {
     "name": "stderr",
     "output_type": "stream",
     "text": [
      "INFO:tensorflow:Assets written to: best_model_acc_fase8_balance/assets\n"
     ]
    },
    {
     "name": "stdout",
     "output_type": "stream",
     "text": [
      "4000/4000 [==============================] - 161s 40ms/step - loss: 0.0048 - accuracy: 0.9990 - val_loss: 0.0778 - val_accuracy: 0.9851\n",
      "Epoch 7/10\n",
      "3999/4000 [============================>.] - ETA: 0s - loss: 0.0044 - accuracy: 0.9991INFO:tensorflow:Assets written to: best_model_acc_fase8_balance/assets\n"
     ]
    },
    {
     "name": "stderr",
     "output_type": "stream",
     "text": [
      "INFO:tensorflow:Assets written to: best_model_acc_fase8_balance/assets\n"
     ]
    },
    {
     "name": "stdout",
     "output_type": "stream",
     "text": [
      "4000/4000 [==============================] - 162s 40ms/step - loss: 0.0044 - accuracy: 0.9991 - val_loss: 0.0837 - val_accuracy: 0.9841\n",
      "Epoch 8/10\n",
      "3999/4000 [============================>.] - ETA: 0s - loss: 0.0040 - accuracy: 0.9992INFO:tensorflow:Assets written to: best_model_acc_fase8_balance/assets\n"
     ]
    },
    {
     "name": "stderr",
     "output_type": "stream",
     "text": [
      "INFO:tensorflow:Assets written to: best_model_acc_fase8_balance/assets\n"
     ]
    },
    {
     "name": "stdout",
     "output_type": "stream",
     "text": [
      "4000/4000 [==============================] - 161s 40ms/step - loss: 0.0040 - accuracy: 0.9992 - val_loss: 0.0665 - val_accuracy: 0.9875\n",
      "Epoch 9/10\n",
      "4000/4000 [==============================] - ETA: 0s - loss: 0.0039 - accuracy: 0.9992INFO:tensorflow:Assets written to: best_model_acc_fase8_balance/assets\n"
     ]
    },
    {
     "name": "stderr",
     "output_type": "stream",
     "text": [
      "INFO:tensorflow:Assets written to: best_model_acc_fase8_balance/assets\n"
     ]
    },
    {
     "name": "stdout",
     "output_type": "stream",
     "text": [
      "4000/4000 [==============================] - 161s 40ms/step - loss: 0.0039 - accuracy: 0.9992 - val_loss: 0.0737 - val_accuracy: 0.9868\n",
      "Epoch 10/10\n",
      "3999/4000 [============================>.] - ETA: 0s - loss: 0.0038 - accuracy: 0.9993INFO:tensorflow:Assets written to: best_model_acc_fase8_balance/assets\n"
     ]
    },
    {
     "name": "stderr",
     "output_type": "stream",
     "text": [
      "INFO:tensorflow:Assets written to: best_model_acc_fase8_balance/assets\n"
     ]
    },
    {
     "name": "stdout",
     "output_type": "stream",
     "text": [
      "4000/4000 [==============================] - 161s 40ms/step - loss: 0.0038 - accuracy: 0.9993 - val_loss: 0.0787 - val_accuracy: 0.9864\n"
     ]
    },
    {
     "data": {
      "text/plain": [
       "<keras.src.callbacks.History at 0x7f74d3ee3be0>"
      ]
     },
     "execution_count": 44,
     "metadata": {},
     "output_type": "execute_result"
    }
   ],
   "source": [
    "model_bin = tf.keras.models.load_model('best_model_acc_fase7_balance')\n",
    "del(majestic)\n",
    "majestic = pd.read_csv('./treino/majestic_ascii.csv')\n",
    "majestic['69'] = 0\n",
    "majestic['70'] = 0\n",
    "majestic['71'] = 0\n",
    "\n",
    "del(dga)\n",
    "dga = pd.read_csv('./teste/df_teste8.csv')\n",
    "dga = dga.drop('family', axis = 1)\n",
    "\n",
    "dga.columns = majestic.columns\n",
    "dga = dga.loc[~dga['domain'].isin(majestic['domain'])].reset_index(drop=True)\n",
    "\n",
    "del(df_treino)\n",
    "df_treino = pd.concat([majestic.sample(500000, random_state=1),dga.sample(500000, random_state=1)], axis = 0, ignore_index=True)\n",
    "\n",
    "X_train = df_treino.drop(['domain','label'], axis = 1)\n",
    "y_train = df_treino['label']\n",
    "\n",
    "X_train = X_train.to_numpy()\n",
    "y_train = y_train.to_numpy()\n",
    "\n",
    "best = tf.keras.callbacks.ModelCheckpoint(\n",
    "    filepath='best_model_acc_fase8_balance',\n",
    "    save_weights_only=False,\n",
    "    monitor='accuracy',\n",
    "    mode='max',\n",
    "    save_best_only=True)\n",
    "\n",
    "model_bin.fit(X_train, y_train,\n",
    "              epochs=10,\n",
    "              callbacks = [best],\n",
    "              validation_split = 0.2,\n",
    "              batch_size=200)"
   ]
  },
  {
   "cell_type": "code",
   "execution_count": 45,
   "id": "b16d5b29-d441-403d-aff3-1b01bb1b31ad",
   "metadata": {},
   "outputs": [
    {
     "name": "stdout",
     "output_type": "stream",
     "text": [
      "31250/31250 [==============================] - 400s 13ms/step\n",
      "Matriz de Confusão Teste:  9\n",
      "[[485970  14030]\n",
      " [  7694 492306]]\n",
      "Relatório de Classificação\n",
      "              precision    recall  f1-score   support\n",
      "\n",
      "           0     0.9844    0.9719    0.9781    500000\n",
      "           1     0.9723    0.9846    0.9784    500000\n",
      "\n",
      "    accuracy                         0.9783   1000000\n",
      "   macro avg     0.9784    0.9783    0.9783   1000000\n",
      "weighted avg     0.9784    0.9783    0.9783   1000000\n",
      "\n",
      "____________________\n",
      "31250/31250 [==============================] - 384s 12ms/step\n",
      "Matriz de Confusão Teste:  10\n",
      "[[485970  14030]\n",
      " [  8259 491741]]\n",
      "Relatório de Classificação\n",
      "              precision    recall  f1-score   support\n",
      "\n",
      "           0     0.9833    0.9719    0.9776    500000\n",
      "           1     0.9723    0.9835    0.9778    500000\n",
      "\n",
      "    accuracy                         0.9777   1000000\n",
      "   macro avg     0.9778    0.9777    0.9777   1000000\n",
      "weighted avg     0.9778    0.9777    0.9777   1000000\n",
      "\n",
      "____________________\n",
      "31250/31250 [==============================] - 383s 12ms/step\n",
      "Matriz de Confusão Teste:  11\n",
      "[[485970  14030]\n",
      " [  8534 491466]]\n",
      "Relatório de Classificação\n",
      "              precision    recall  f1-score   support\n",
      "\n",
      "           0     0.9827    0.9719    0.9773    500000\n",
      "           1     0.9722    0.9829    0.9776    500000\n",
      "\n",
      "    accuracy                         0.9774   1000000\n",
      "   macro avg     0.9775    0.9774    0.9774   1000000\n",
      "weighted avg     0.9775    0.9774    0.9774   1000000\n",
      "\n",
      "____________________\n"
     ]
    }
   ],
   "source": [
    "model_bin = tf.keras.models.load_model('best_model_acc_fase8_balance')\n",
    "legit = majestic.loc[~majestic['domain'].isin(df_treino['domain'])].reset_index(drop=True)\n",
    "\n",
    "for i in range (9,12):\n",
    "    del(dga)\n",
    "    dga = pd.read_csv('./teste/df_teste'+str(i)+'.csv')\n",
    "    dga = dga.drop('family', axis = 1)\n",
    "    dga = dga.loc[~dga['domain'].isin(majestic['domain'])].reset_index(drop=True)\n",
    "\n",
    "    dga.columns = legit.columns\n",
    "\n",
    "    del(df_teste)\n",
    "    df_teste = pd.concat([legit,dga.sample(500000, random_state=1)], axis = 0, ignore_index=True)\n",
    "\n",
    "    X_test = df_teste.drop(['domain','label'], axis = 1)\n",
    "    y_test = df_teste['label']\n",
    "\n",
    "    X_test = X_test.to_numpy()\n",
    "    y_test = y_test.to_numpy()\n",
    "\n",
    "    with tf.device('/cpu:0'):\n",
    "        predictions = model_bin.predict(X_test)\n",
    "        predictions = np.where(predictions > 0.5, 1, 0)\n",
    "    \n",
    "    print('Matriz de Confusão Teste: ', str(i))\n",
    "    print(confusion_matrix(y_test,predictions))\n",
    "\n",
    "    print('Relatório de Classificação')\n",
    "    print(classification_report(y_test,predictions, digits=4))\n",
    "    print('____________________')"
   ]
  },
  {
   "cell_type": "markdown",
   "id": "00d640ea-d5c5-4ba3-8fe7-7f28727a1142",
   "metadata": {},
   "source": [
    "## Décimo treino Incremental"
   ]
  },
  {
   "cell_type": "code",
   "execution_count": 46,
   "id": "ceff66d4-0188-4446-aec5-dcac3f5ae064",
   "metadata": {},
   "outputs": [
    {
     "name": "stdout",
     "output_type": "stream",
     "text": [
      "Epoch 1/10\n",
      "4000/4000 [==============================] - ETA: 0s - loss: 0.0202 - accuracy: 0.9948INFO:tensorflow:Assets written to: best_model_acc_fase9_balance/assets\n"
     ]
    },
    {
     "name": "stderr",
     "output_type": "stream",
     "text": [
      "INFO:tensorflow:Assets written to: best_model_acc_fase9_balance/assets\n"
     ]
    },
    {
     "name": "stdout",
     "output_type": "stream",
     "text": [
      "4000/4000 [==============================] - 164s 41ms/step - loss: 0.0202 - accuracy: 0.9948 - val_loss: 0.0419 - val_accuracy: 0.9872\n",
      "Epoch 2/10\n",
      "3999/4000 [============================>.] - ETA: 0s - loss: 0.0115 - accuracy: 0.9974INFO:tensorflow:Assets written to: best_model_acc_fase9_balance/assets\n"
     ]
    },
    {
     "name": "stderr",
     "output_type": "stream",
     "text": [
      "INFO:tensorflow:Assets written to: best_model_acc_fase9_balance/assets\n"
     ]
    },
    {
     "name": "stdout",
     "output_type": "stream",
     "text": [
      "4000/4000 [==============================] - 161s 40ms/step - loss: 0.0115 - accuracy: 0.9974 - val_loss: 0.0471 - val_accuracy: 0.9877\n",
      "Epoch 3/10\n",
      "3999/4000 [============================>.] - ETA: 0s - loss: 0.0083 - accuracy: 0.9982INFO:tensorflow:Assets written to: best_model_acc_fase9_balance/assets\n"
     ]
    },
    {
     "name": "stderr",
     "output_type": "stream",
     "text": [
      "INFO:tensorflow:Assets written to: best_model_acc_fase9_balance/assets\n"
     ]
    },
    {
     "name": "stdout",
     "output_type": "stream",
     "text": [
      "4000/4000 [==============================] - 161s 40ms/step - loss: 0.0083 - accuracy: 0.9982 - val_loss: 0.0455 - val_accuracy: 0.9891\n",
      "Epoch 4/10\n",
      "3999/4000 [============================>.] - ETA: 0s - loss: 0.0063 - accuracy: 0.9987INFO:tensorflow:Assets written to: best_model_acc_fase9_balance/assets\n"
     ]
    },
    {
     "name": "stderr",
     "output_type": "stream",
     "text": [
      "INFO:tensorflow:Assets written to: best_model_acc_fase9_balance/assets\n"
     ]
    },
    {
     "name": "stdout",
     "output_type": "stream",
     "text": [
      "4000/4000 [==============================] - 162s 40ms/step - loss: 0.0063 - accuracy: 0.9987 - val_loss: 0.0537 - val_accuracy: 0.9880\n",
      "Epoch 5/10\n",
      "3999/4000 [============================>.] - ETA: 0s - loss: 0.0055 - accuracy: 0.9988INFO:tensorflow:Assets written to: best_model_acc_fase9_balance/assets\n"
     ]
    },
    {
     "name": "stderr",
     "output_type": "stream",
     "text": [
      "INFO:tensorflow:Assets written to: best_model_acc_fase9_balance/assets\n"
     ]
    },
    {
     "name": "stdout",
     "output_type": "stream",
     "text": [
      "4000/4000 [==============================] - 161s 40ms/step - loss: 0.0055 - accuracy: 0.9988 - val_loss: 0.0675 - val_accuracy: 0.9856\n",
      "Epoch 6/10\n",
      "3999/4000 [============================>.] - ETA: 0s - loss: 0.0047 - accuracy: 0.9990INFO:tensorflow:Assets written to: best_model_acc_fase9_balance/assets\n"
     ]
    },
    {
     "name": "stderr",
     "output_type": "stream",
     "text": [
      "INFO:tensorflow:Assets written to: best_model_acc_fase9_balance/assets\n"
     ]
    },
    {
     "name": "stdout",
     "output_type": "stream",
     "text": [
      "4000/4000 [==============================] - 161s 40ms/step - loss: 0.0047 - accuracy: 0.9990 - val_loss: 0.0673 - val_accuracy: 0.9870\n",
      "Epoch 7/10\n",
      "3999/4000 [============================>.] - ETA: 0s - loss: 0.0043 - accuracy: 0.9991INFO:tensorflow:Assets written to: best_model_acc_fase9_balance/assets\n"
     ]
    },
    {
     "name": "stderr",
     "output_type": "stream",
     "text": [
      "INFO:tensorflow:Assets written to: best_model_acc_fase9_balance/assets\n"
     ]
    },
    {
     "name": "stdout",
     "output_type": "stream",
     "text": [
      "4000/4000 [==============================] - 161s 40ms/step - loss: 0.0043 - accuracy: 0.9991 - val_loss: 0.0609 - val_accuracy: 0.9885\n",
      "Epoch 8/10\n",
      "3999/4000 [============================>.] - ETA: 0s - loss: 0.0041 - accuracy: 0.9992INFO:tensorflow:Assets written to: best_model_acc_fase9_balance/assets\n"
     ]
    },
    {
     "name": "stderr",
     "output_type": "stream",
     "text": [
      "INFO:tensorflow:Assets written to: best_model_acc_fase9_balance/assets\n"
     ]
    },
    {
     "name": "stdout",
     "output_type": "stream",
     "text": [
      "4000/4000 [==============================] - 161s 40ms/step - loss: 0.0041 - accuracy: 0.9992 - val_loss: 0.0651 - val_accuracy: 0.9877\n",
      "Epoch 9/10\n",
      "3999/4000 [============================>.] - ETA: 0s - loss: 0.0039 - accuracy: 0.9992INFO:tensorflow:Assets written to: best_model_acc_fase9_balance/assets\n"
     ]
    },
    {
     "name": "stderr",
     "output_type": "stream",
     "text": [
      "INFO:tensorflow:Assets written to: best_model_acc_fase9_balance/assets\n"
     ]
    },
    {
     "name": "stdout",
     "output_type": "stream",
     "text": [
      "4000/4000 [==============================] - 161s 40ms/step - loss: 0.0039 - accuracy: 0.9992 - val_loss: 0.0724 - val_accuracy: 0.9866\n",
      "Epoch 10/10\n",
      "3999/4000 [============================>.] - ETA: 0s - loss: 0.0039 - accuracy: 0.9992INFO:tensorflow:Assets written to: best_model_acc_fase9_balance/assets\n"
     ]
    },
    {
     "name": "stderr",
     "output_type": "stream",
     "text": [
      "INFO:tensorflow:Assets written to: best_model_acc_fase9_balance/assets\n"
     ]
    },
    {
     "name": "stdout",
     "output_type": "stream",
     "text": [
      "4000/4000 [==============================] - 162s 40ms/step - loss: 0.0039 - accuracy: 0.9992 - val_loss: 0.0933 - val_accuracy: 0.9828\n"
     ]
    },
    {
     "data": {
      "text/plain": [
       "<keras.src.callbacks.History at 0x7f74cbd4a4d0>"
      ]
     },
     "execution_count": 46,
     "metadata": {},
     "output_type": "execute_result"
    }
   ],
   "source": [
    "model_bin = tf.keras.models.load_model('best_model_acc_fase8_balance')\n",
    "del(majestic)\n",
    "majestic = pd.read_csv('./treino/majestic_ascii.csv')\n",
    "majestic['69'] = 0\n",
    "majestic['70'] = 0\n",
    "majestic['71'] = 0\n",
    "\n",
    "del(dga)\n",
    "dga = pd.read_csv('./teste/df_teste9.csv')\n",
    "dga = dga.drop('family', axis = 1)\n",
    "\n",
    "dga.columns = majestic.columns\n",
    "dga = dga.loc[~dga['domain'].isin(majestic['domain'])].reset_index(drop=True)\n",
    "\n",
    "del(df_treino)\n",
    "df_treino = pd.concat([majestic.sample(500000, random_state=1),dga.sample(500000, random_state=1)], axis = 0, ignore_index=True)\n",
    "\n",
    "X_train = df_treino.drop(['domain','label'], axis = 1)\n",
    "y_train = df_treino['label']\n",
    "\n",
    "X_train = X_train.to_numpy()\n",
    "y_train = y_train.to_numpy()\n",
    "\n",
    "best = tf.keras.callbacks.ModelCheckpoint(\n",
    "    filepath='best_model_acc_fase9_balance',\n",
    "    save_weights_only=False,\n",
    "    monitor='accuracy',\n",
    "    mode='max',\n",
    "    save_best_only=True)\n",
    "\n",
    "model_bin.fit(X_train, y_train,\n",
    "              epochs=10,\n",
    "              callbacks = [best],\n",
    "              validation_split = 0.2,\n",
    "              batch_size=200)"
   ]
  },
  {
   "cell_type": "code",
   "execution_count": 47,
   "id": "c16fbd0a-9545-4f4f-9ad8-117a56419f2e",
   "metadata": {},
   "outputs": [
    {
     "name": "stdout",
     "output_type": "stream",
     "text": [
      "31250/31250 [==============================] - 391s 13ms/step\n",
      "Matriz de Confusão Teste:  10\n",
      "[[487646  12354]\n",
      " [  8942 491058]]\n",
      "Relatório de Classificação\n",
      "              precision    recall  f1-score   support\n",
      "\n",
      "           0     0.9820    0.9753    0.9786    500000\n",
      "           1     0.9755    0.9821    0.9788    500000\n",
      "\n",
      "    accuracy                         0.9787   1000000\n",
      "   macro avg     0.9787    0.9787    0.9787   1000000\n",
      "weighted avg     0.9787    0.9787    0.9787   1000000\n",
      "\n",
      "____________________\n",
      "31250/31250 [==============================] - 376s 12ms/step\n",
      "Matriz de Confusão Teste:  11\n",
      "[[487646  12354]\n",
      " [  9827 490173]]\n",
      "Relatório de Classificação\n",
      "              precision    recall  f1-score   support\n",
      "\n",
      "           0     0.9802    0.9753    0.9778    500000\n",
      "           1     0.9754    0.9803    0.9779    500000\n",
      "\n",
      "    accuracy                         0.9778   1000000\n",
      "   macro avg     0.9778    0.9778    0.9778   1000000\n",
      "weighted avg     0.9778    0.9778    0.9778   1000000\n",
      "\n",
      "____________________\n"
     ]
    }
   ],
   "source": [
    "model_bin = tf.keras.models.load_model('best_model_acc_fase9_balance')\n",
    "legit = majestic.loc[~majestic['domain'].isin(df_treino['domain'])].reset_index(drop=True)\n",
    "\n",
    "for i in range (10,12):\n",
    "    del(dga)\n",
    "    dga = pd.read_csv('./teste/df_teste'+str(i)+'.csv')\n",
    "    dga = dga.drop('family', axis = 1)\n",
    "    dga = dga.loc[~dga['domain'].isin(majestic['domain'])].reset_index(drop=True)\n",
    "\n",
    "    dga.columns = legit.columns\n",
    "\n",
    "    del(df_teste)\n",
    "    df_teste = pd.concat([legit,dga.sample(500000, random_state=1)], axis = 0, ignore_index=True)\n",
    "\n",
    "    X_test = df_teste.drop(['domain','label'], axis = 1)\n",
    "    y_test = df_teste['label']\n",
    "\n",
    "    X_test = X_test.to_numpy()\n",
    "    y_test = y_test.to_numpy()\n",
    "\n",
    "    with tf.device('/cpu:0'):\n",
    "        predictions = model_bin.predict(X_test)\n",
    "        predictions = np.where(predictions > 0.5, 1, 0)\n",
    "    \n",
    "    print('Matriz de Confusão Teste: ', str(i))\n",
    "    print(confusion_matrix(y_test,predictions))\n",
    "\n",
    "    print('Relatório de Classificação')\n",
    "    print(classification_report(y_test,predictions, digits=4))\n",
    "    print('____________________')"
   ]
  },
  {
   "cell_type": "markdown",
   "id": "edc326ad-d3b5-452b-9790-1c0864234088",
   "metadata": {},
   "source": [
    "## Décimo primeiro treino Incremental"
   ]
  },
  {
   "cell_type": "code",
   "execution_count": 48,
   "id": "a59cc855-17d6-4f6d-894d-f9e618d7bacc",
   "metadata": {},
   "outputs": [
    {
     "name": "stdout",
     "output_type": "stream",
     "text": [
      "Epoch 1/10\n",
      "4000/4000 [==============================] - ETA: 0s - loss: 0.0193 - accuracy: 0.9951INFO:tensorflow:Assets written to: best_model_acc_fase10_balance/assets\n"
     ]
    },
    {
     "name": "stderr",
     "output_type": "stream",
     "text": [
      "INFO:tensorflow:Assets written to: best_model_acc_fase10_balance/assets\n"
     ]
    },
    {
     "name": "stdout",
     "output_type": "stream",
     "text": [
      "4000/4000 [==============================] - 164s 41ms/step - loss: 0.0193 - accuracy: 0.9951 - val_loss: 0.0319 - val_accuracy: 0.9902\n",
      "Epoch 2/10\n",
      "3999/4000 [============================>.] - ETA: 0s - loss: 0.0106 - accuracy: 0.9977INFO:tensorflow:Assets written to: best_model_acc_fase10_balance/assets\n"
     ]
    },
    {
     "name": "stderr",
     "output_type": "stream",
     "text": [
      "INFO:tensorflow:Assets written to: best_model_acc_fase10_balance/assets\n"
     ]
    },
    {
     "name": "stdout",
     "output_type": "stream",
     "text": [
      "4000/4000 [==============================] - 161s 40ms/step - loss: 0.0106 - accuracy: 0.9977 - val_loss: 0.0506 - val_accuracy: 0.9873\n",
      "Epoch 3/10\n",
      "3999/4000 [============================>.] - ETA: 0s - loss: 0.0075 - accuracy: 0.9984INFO:tensorflow:Assets written to: best_model_acc_fase10_balance/assets\n"
     ]
    },
    {
     "name": "stderr",
     "output_type": "stream",
     "text": [
      "INFO:tensorflow:Assets written to: best_model_acc_fase10_balance/assets\n"
     ]
    },
    {
     "name": "stdout",
     "output_type": "stream",
     "text": [
      "4000/4000 [==============================] - 161s 40ms/step - loss: 0.0075 - accuracy: 0.9984 - val_loss: 0.0386 - val_accuracy: 0.9908\n",
      "Epoch 4/10\n",
      "3999/4000 [============================>.] - ETA: 0s - loss: 0.0060 - accuracy: 0.9987INFO:tensorflow:Assets written to: best_model_acc_fase10_balance/assets\n"
     ]
    },
    {
     "name": "stderr",
     "output_type": "stream",
     "text": [
      "INFO:tensorflow:Assets written to: best_model_acc_fase10_balance/assets\n"
     ]
    },
    {
     "name": "stdout",
     "output_type": "stream",
     "text": [
      "4000/4000 [==============================] - 161s 40ms/step - loss: 0.0060 - accuracy: 0.9987 - val_loss: 0.0594 - val_accuracy: 0.9868\n",
      "Epoch 5/10\n",
      "3999/4000 [============================>.] - ETA: 0s - loss: 0.0050 - accuracy: 0.9990INFO:tensorflow:Assets written to: best_model_acc_fase10_balance/assets\n"
     ]
    },
    {
     "name": "stderr",
     "output_type": "stream",
     "text": [
      "INFO:tensorflow:Assets written to: best_model_acc_fase10_balance/assets\n"
     ]
    },
    {
     "name": "stdout",
     "output_type": "stream",
     "text": [
      "4000/4000 [==============================] - 161s 40ms/step - loss: 0.0050 - accuracy: 0.9990 - val_loss: 0.0509 - val_accuracy: 0.9894\n",
      "Epoch 6/10\n",
      "3999/4000 [============================>.] - ETA: 0s - loss: 0.0044 - accuracy: 0.9991INFO:tensorflow:Assets written to: best_model_acc_fase10_balance/assets\n"
     ]
    },
    {
     "name": "stderr",
     "output_type": "stream",
     "text": [
      "INFO:tensorflow:Assets written to: best_model_acc_fase10_balance/assets\n"
     ]
    },
    {
     "name": "stdout",
     "output_type": "stream",
     "text": [
      "4000/4000 [==============================] - 161s 40ms/step - loss: 0.0044 - accuracy: 0.9991 - val_loss: 0.0579 - val_accuracy: 0.9887\n",
      "Epoch 7/10\n",
      "3999/4000 [============================>.] - ETA: 0s - loss: 0.0039 - accuracy: 0.9992INFO:tensorflow:Assets written to: best_model_acc_fase10_balance/assets\n"
     ]
    },
    {
     "name": "stderr",
     "output_type": "stream",
     "text": [
      "INFO:tensorflow:Assets written to: best_model_acc_fase10_balance/assets\n"
     ]
    },
    {
     "name": "stdout",
     "output_type": "stream",
     "text": [
      "4000/4000 [==============================] - 162s 40ms/step - loss: 0.0039 - accuracy: 0.9992 - val_loss: 0.0703 - val_accuracy: 0.9876\n",
      "Epoch 8/10\n",
      "4000/4000 [==============================] - 160s 40ms/step - loss: 0.0039 - accuracy: 0.9992 - val_loss: 0.0767 - val_accuracy: 0.9865\n",
      "Epoch 9/10\n",
      "3999/4000 [============================>.] - ETA: 0s - loss: 0.0037 - accuracy: 0.9993INFO:tensorflow:Assets written to: best_model_acc_fase10_balance/assets\n"
     ]
    },
    {
     "name": "stderr",
     "output_type": "stream",
     "text": [
      "INFO:tensorflow:Assets written to: best_model_acc_fase10_balance/assets\n"
     ]
    },
    {
     "name": "stdout",
     "output_type": "stream",
     "text": [
      "4000/4000 [==============================] - 162s 41ms/step - loss: 0.0037 - accuracy: 0.9993 - val_loss: 0.0855 - val_accuracy: 0.9850\n",
      "Epoch 10/10\n",
      "3999/4000 [============================>.] - ETA: 0s - loss: 0.0035 - accuracy: 0.9993INFO:tensorflow:Assets written to: best_model_acc_fase10_balance/assets\n"
     ]
    },
    {
     "name": "stderr",
     "output_type": "stream",
     "text": [
      "INFO:tensorflow:Assets written to: best_model_acc_fase10_balance/assets\n"
     ]
    },
    {
     "name": "stdout",
     "output_type": "stream",
     "text": [
      "4000/4000 [==============================] - 161s 40ms/step - loss: 0.0035 - accuracy: 0.9993 - val_loss: 0.0847 - val_accuracy: 0.9846\n"
     ]
    },
    {
     "data": {
      "text/plain": [
       "<keras.src.callbacks.History at 0x7f74c3373520>"
      ]
     },
     "execution_count": 48,
     "metadata": {},
     "output_type": "execute_result"
    }
   ],
   "source": [
    "model_bin = tf.keras.models.load_model('best_model_acc_fase9_balance')\n",
    "del(majestic)\n",
    "majestic = pd.read_csv('./treino/majestic_ascii.csv')\n",
    "majestic['69'] = 0\n",
    "majestic['70'] = 0\n",
    "majestic['71'] = 0\n",
    "\n",
    "del(dga)\n",
    "dga = pd.read_csv('./teste/df_teste10.csv')\n",
    "dga = dga.drop('family', axis = 1)\n",
    "\n",
    "dga.columns = majestic.columns\n",
    "dga = dga.loc[~dga['domain'].isin(majestic['domain'])].reset_index(drop=True)\n",
    "\n",
    "del(df_treino)\n",
    "df_treino = pd.concat([majestic.sample(500000, random_state=1),dga.sample(500000, random_state=1)], axis = 0, ignore_index=True)\n",
    "\n",
    "X_train = df_treino.drop(['domain','label'], axis = 1)\n",
    "y_train = df_treino['label']\n",
    "\n",
    "X_train = X_train.to_numpy()\n",
    "y_train = y_train.to_numpy()\n",
    "\n",
    "best = tf.keras.callbacks.ModelCheckpoint(\n",
    "    filepath='best_model_acc_fase10_balance',\n",
    "    save_weights_only=False,\n",
    "    monitor='accuracy',\n",
    "    mode='max',\n",
    "    save_best_only=True)\n",
    "\n",
    "model_bin.fit(X_train, y_train,\n",
    "              epochs=10,\n",
    "              callbacks = [best],\n",
    "              validation_split = 0.2,\n",
    "              batch_size=200)"
   ]
  },
  {
   "cell_type": "code",
   "execution_count": 49,
   "id": "06c532af-5289-4cad-bde1-71d11ede4c14",
   "metadata": {
    "slideshow": {
     "slide_type": ""
    },
    "tags": []
   },
   "outputs": [
    {
     "name": "stdout",
     "output_type": "stream",
     "text": [
      "31250/31250 [==============================] - 393s 13ms/step\n",
      "Matriz de Confusão Teste:  11\n",
      "[[487087  12913]\n",
      " [  8211 491789]]\n",
      "Relatório de Classificação\n",
      "              precision    recall  f1-score   support\n",
      "\n",
      "           0     0.9834    0.9742    0.9788    500000\n",
      "           1     0.9744    0.9836    0.9790    500000\n",
      "\n",
      "    accuracy                         0.9789   1000000\n",
      "   macro avg     0.9789    0.9789    0.9789   1000000\n",
      "weighted avg     0.9789    0.9789    0.9789   1000000\n",
      "\n",
      "____________________\n"
     ]
    }
   ],
   "source": [
    "model_bin = tf.keras.models.load_model('best_model_acc_fase10_balance')\n",
    "legit = majestic.loc[~majestic['domain'].isin(df_treino['domain'])].reset_index(drop=True)\n",
    "\n",
    "for i in range (11,12):\n",
    "    del(dga)\n",
    "    dga = pd.read_csv('./teste/df_teste'+str(i)+'.csv')\n",
    "    dga = dga.drop('family', axis = 1)\n",
    "    dga = dga.loc[~dga['domain'].isin(majestic['domain'])].reset_index(drop=True)\n",
    "\n",
    "    dga.columns = legit.columns\n",
    "\n",
    "    del(df_teste)\n",
    "    df_teste = pd.concat([legit,dga.sample(500000, random_state=1)], axis = 0, ignore_index=True)\n",
    "\n",
    "    X_test = df_teste.drop(['domain','label'], axis = 1)\n",
    "    y_test = df_teste['label']\n",
    "\n",
    "    X_test = X_test.to_numpy()\n",
    "    y_test = y_test.to_numpy()\n",
    "\n",
    "    with tf.device('/cpu:0'):\n",
    "        predictions = model_bin.predict(X_test)\n",
    "        predictions = np.where(predictions > 0.5, 1, 0)\n",
    "    \n",
    "    print('Matriz de Confusão Teste: ', str(i))\n",
    "    print(confusion_matrix(y_test,predictions))\n",
    "\n",
    "    print('Relatório de Classificação')\n",
    "    print(classification_report(y_test,predictions, digits=4))\n",
    "    print('____________________')"
   ]
  }
 ],
 "metadata": {
  "kernelspec": {
   "display_name": "Python 3 (ipykernel)",
   "language": "python",
   "name": "python3"
  },
  "language_info": {
   "codemirror_mode": {
    "name": "ipython",
    "version": 3
   },
   "file_extension": ".py",
   "mimetype": "text/x-python",
   "name": "python",
   "nbconvert_exporter": "python",
   "pygments_lexer": "ipython3",
   "version": "3.10.12"
  }
 },
 "nbformat": 4,
 "nbformat_minor": 5
}
